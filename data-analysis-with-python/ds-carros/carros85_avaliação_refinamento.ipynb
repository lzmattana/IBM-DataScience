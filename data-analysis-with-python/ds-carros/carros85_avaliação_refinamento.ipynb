{
 "cells": [
  {
   "cell_type": "markdown",
   "id": "4dad8809",
   "metadata": {},
   "source": [
    "# Avaliação e Refinamento do Modelo."
   ]
  },
  {
   "cell_type": "code",
   "execution_count": 1,
   "id": "18da866f",
   "metadata": {},
   "outputs": [],
   "source": [
    "# Instalar bibliotecas.\n",
    "#%pip install pandas matplotlib scipy scikit-learn seaborn ipywidgets"
   ]
  },
  {
   "cell_type": "markdown",
   "id": "09eb8c80",
   "metadata": {},
   "source": [
    "Este conjunto de dados foi hospedado no objeto IBM Cloud. Clique <a href=\"https://cocl.us/DA101EN_object_storage\">AQUI</a> para armazenamento gratuito.\n"
   ]
  },
  {
   "cell_type": "code",
   "execution_count": 41,
   "id": "600c8189",
   "metadata": {},
   "outputs": [],
   "source": [
    "import pandas as pd\n",
    "import numpy as np\n",
    "from ipywidgets import interact, interactive, fixed, interact_manual\n",
    "from sklearn.model_selection import train_test_split\n",
    "from sklearn.linear_model import LinearRegression\n",
    "from sklearn.model_selection import cross_val_score\n",
    "from sklearn.model_selection import cross_val_predict"
   ]
  },
  {
   "cell_type": "code",
   "execution_count": 2,
   "id": "da16c328",
   "metadata": {},
   "outputs": [],
   "source": [
    "# Importanto os dados limpos.\n",
    "path = 'https://cf-courses-data.s3.us.cloud-object-storage.appdomain.cloud/IBMDeveloperSkillsNetwork-DA0101EN-SkillsNetwork/labs/Data%20files/module_5_auto.csv'\n",
    "df = pd.read_csv(path)"
   ]
  },
  {
   "cell_type": "markdown",
   "id": "71184c87",
   "metadata": {},
   "source": [
    "#### Dropando colunas e traduzindo."
   ]
  },
  {
   "cell_type": "code",
   "execution_count": 3,
   "id": "fdfbff17",
   "metadata": {},
   "outputs": [
    {
     "data": {
      "text/html": [
       "<div>\n",
       "<style scoped>\n",
       "    .dataframe tbody tr th:only-of-type {\n",
       "        vertical-align: middle;\n",
       "    }\n",
       "\n",
       "    .dataframe tbody tr th {\n",
       "        vertical-align: top;\n",
       "    }\n",
       "\n",
       "    .dataframe thead th {\n",
       "        text-align: right;\n",
       "    }\n",
       "</style>\n",
       "<table border=\"1\" class=\"dataframe\">\n",
       "  <thead>\n",
       "    <tr style=\"text-align: right;\">\n",
       "      <th></th>\n",
       "      <th>classificação</th>\n",
       "      <th>perdas-normalizadas</th>\n",
       "      <th>fabricante</th>\n",
       "      <th>aspiraçao</th>\n",
       "      <th>num-de-portas</th>\n",
       "      <th>estilo-de-carro</th>\n",
       "      <th>tracao</th>\n",
       "      <th>localizacao-do-motor</th>\n",
       "      <th>distancia-entre-eixos</th>\n",
       "      <th>comprimento</th>\n",
       "      <th>...</th>\n",
       "      <th>taxa-de-compressao</th>\n",
       "      <th>potencia</th>\n",
       "      <th>rpm-pico</th>\n",
       "      <th>consumo-na-cidade</th>\n",
       "      <th>consumo-na-estrada</th>\n",
       "      <th>preco</th>\n",
       "      <th>consumo-na-cidade-L/100km</th>\n",
       "      <th>potencia-categorizada</th>\n",
       "      <th>diesel</th>\n",
       "      <th>gasolina</th>\n",
       "    </tr>\n",
       "  </thead>\n",
       "  <tbody>\n",
       "    <tr>\n",
       "      <th>0</th>\n",
       "      <td>3</td>\n",
       "      <td>122</td>\n",
       "      <td>alfa-romero</td>\n",
       "      <td>std</td>\n",
       "      <td>two</td>\n",
       "      <td>convertible</td>\n",
       "      <td>rwd</td>\n",
       "      <td>front</td>\n",
       "      <td>88.6</td>\n",
       "      <td>0.811148</td>\n",
       "      <td>...</td>\n",
       "      <td>9.0</td>\n",
       "      <td>111.0</td>\n",
       "      <td>5000.0</td>\n",
       "      <td>21</td>\n",
       "      <td>27</td>\n",
       "      <td>13495.0</td>\n",
       "      <td>11.190476</td>\n",
       "      <td>Medium</td>\n",
       "      <td>0</td>\n",
       "      <td>1</td>\n",
       "    </tr>\n",
       "    <tr>\n",
       "      <th>1</th>\n",
       "      <td>3</td>\n",
       "      <td>122</td>\n",
       "      <td>alfa-romero</td>\n",
       "      <td>std</td>\n",
       "      <td>two</td>\n",
       "      <td>convertible</td>\n",
       "      <td>rwd</td>\n",
       "      <td>front</td>\n",
       "      <td>88.6</td>\n",
       "      <td>0.811148</td>\n",
       "      <td>...</td>\n",
       "      <td>9.0</td>\n",
       "      <td>111.0</td>\n",
       "      <td>5000.0</td>\n",
       "      <td>21</td>\n",
       "      <td>27</td>\n",
       "      <td>16500.0</td>\n",
       "      <td>11.190476</td>\n",
       "      <td>Medium</td>\n",
       "      <td>0</td>\n",
       "      <td>1</td>\n",
       "    </tr>\n",
       "    <tr>\n",
       "      <th>2</th>\n",
       "      <td>1</td>\n",
       "      <td>122</td>\n",
       "      <td>alfa-romero</td>\n",
       "      <td>std</td>\n",
       "      <td>two</td>\n",
       "      <td>hatchback</td>\n",
       "      <td>rwd</td>\n",
       "      <td>front</td>\n",
       "      <td>94.5</td>\n",
       "      <td>0.822681</td>\n",
       "      <td>...</td>\n",
       "      <td>9.0</td>\n",
       "      <td>154.0</td>\n",
       "      <td>5000.0</td>\n",
       "      <td>19</td>\n",
       "      <td>26</td>\n",
       "      <td>16500.0</td>\n",
       "      <td>12.368421</td>\n",
       "      <td>Medium</td>\n",
       "      <td>0</td>\n",
       "      <td>1</td>\n",
       "    </tr>\n",
       "    <tr>\n",
       "      <th>3</th>\n",
       "      <td>2</td>\n",
       "      <td>164</td>\n",
       "      <td>audi</td>\n",
       "      <td>std</td>\n",
       "      <td>four</td>\n",
       "      <td>sedan</td>\n",
       "      <td>fwd</td>\n",
       "      <td>front</td>\n",
       "      <td>99.8</td>\n",
       "      <td>0.848630</td>\n",
       "      <td>...</td>\n",
       "      <td>10.0</td>\n",
       "      <td>102.0</td>\n",
       "      <td>5500.0</td>\n",
       "      <td>24</td>\n",
       "      <td>30</td>\n",
       "      <td>13950.0</td>\n",
       "      <td>9.791667</td>\n",
       "      <td>Medium</td>\n",
       "      <td>0</td>\n",
       "      <td>1</td>\n",
       "    </tr>\n",
       "    <tr>\n",
       "      <th>4</th>\n",
       "      <td>2</td>\n",
       "      <td>164</td>\n",
       "      <td>audi</td>\n",
       "      <td>std</td>\n",
       "      <td>four</td>\n",
       "      <td>sedan</td>\n",
       "      <td>4wd</td>\n",
       "      <td>front</td>\n",
       "      <td>99.4</td>\n",
       "      <td>0.848630</td>\n",
       "      <td>...</td>\n",
       "      <td>8.0</td>\n",
       "      <td>115.0</td>\n",
       "      <td>5500.0</td>\n",
       "      <td>18</td>\n",
       "      <td>22</td>\n",
       "      <td>17450.0</td>\n",
       "      <td>13.055556</td>\n",
       "      <td>Medium</td>\n",
       "      <td>0</td>\n",
       "      <td>1</td>\n",
       "    </tr>\n",
       "  </tbody>\n",
       "</table>\n",
       "<p>5 rows × 29 columns</p>\n",
       "</div>"
      ],
      "text/plain": [
       "   classificação  perdas-normalizadas   fabricante aspiraçao num-de-portas  \\\n",
       "0              3                  122  alfa-romero       std           two   \n",
       "1              3                  122  alfa-romero       std           two   \n",
       "2              1                  122  alfa-romero       std           two   \n",
       "3              2                  164         audi       std          four   \n",
       "4              2                  164         audi       std          four   \n",
       "\n",
       "  estilo-de-carro tracao localizacao-do-motor  distancia-entre-eixos  \\\n",
       "0     convertible    rwd                front                   88.6   \n",
       "1     convertible    rwd                front                   88.6   \n",
       "2       hatchback    rwd                front                   94.5   \n",
       "3           sedan    fwd                front                   99.8   \n",
       "4           sedan    4wd                front                   99.4   \n",
       "\n",
       "   comprimento  ...  taxa-de-compressao  potencia  rpm-pico consumo-na-cidade  \\\n",
       "0     0.811148  ...                 9.0     111.0    5000.0                21   \n",
       "1     0.811148  ...                 9.0     111.0    5000.0                21   \n",
       "2     0.822681  ...                 9.0     154.0    5000.0                19   \n",
       "3     0.848630  ...                10.0     102.0    5500.0                24   \n",
       "4     0.848630  ...                 8.0     115.0    5500.0                18   \n",
       "\n",
       "  consumo-na-estrada    preco consumo-na-cidade-L/100km  \\\n",
       "0                 27  13495.0                 11.190476   \n",
       "1                 27  16500.0                 11.190476   \n",
       "2                 26  16500.0                 12.368421   \n",
       "3                 30  13950.0                  9.791667   \n",
       "4                 22  17450.0                 13.055556   \n",
       "\n",
       "   potencia-categorizada  diesel  gasolina  \n",
       "0                 Medium       0         1  \n",
       "1                 Medium       0         1  \n",
       "2                 Medium       0         1  \n",
       "3                 Medium       0         1  \n",
       "4                 Medium       0         1  \n",
       "\n",
       "[5 rows x 29 columns]"
      ]
     },
     "execution_count": 3,
     "metadata": {},
     "output_type": "execute_result"
    }
   ],
   "source": [
    "df.drop(['Unnamed: 0', 'Unnamed: 0.1'], axis=1, inplace=True)\n",
    "termos_traduzidos = [\n",
    "    'classificação', 'perdas-normalizadas', 'fabricante', 'aspiraçao', 'num-de-portas',\n",
    "    'estilo-de-carro', 'tracao', 'localizacao-do-motor', 'distancia-entre-eixos', 'comprimento',\n",
    "    'largura', 'altura', 'peso-do-meio-fio', 'tipo-de-motor', 'num-de-cilindros',\n",
    "    'tamanho-do-motor', 'sistema-de-combustível', 'diametro-do-cilindro', 'curso-do-pistao', 'taxa-de-compressao',\n",
    "    'potencia', 'rpm-pico', 'consumo-na-cidade', 'consumo-na-estrada', 'preco',\n",
    "    'consumo-na-cidade-L/100km', 'potencia-categorizada', 'diesel', 'gasolina'\n",
    "]\n",
    "df.columns = termos_traduzidos\n",
    "df.head()"
   ]
  },
  {
   "cell_type": "code",
   "execution_count": 4,
   "id": "c502b432",
   "metadata": {},
   "outputs": [],
   "source": [
    "df.to_csv('carros85_clean.csv')"
   ]
  },
  {
   "cell_type": "markdown",
   "id": "1346dd9f",
   "metadata": {},
   "source": [
    "Primeiro iremos usar somente os dados numericos"
   ]
  },
  {
   "cell_type": "code",
   "execution_count": 5,
   "id": "c19587b2",
   "metadata": {},
   "outputs": [
    {
     "data": {
      "text/html": [
       "<div>\n",
       "<style scoped>\n",
       "    .dataframe tbody tr th:only-of-type {\n",
       "        vertical-align: middle;\n",
       "    }\n",
       "\n",
       "    .dataframe tbody tr th {\n",
       "        vertical-align: top;\n",
       "    }\n",
       "\n",
       "    .dataframe thead th {\n",
       "        text-align: right;\n",
       "    }\n",
       "</style>\n",
       "<table border=\"1\" class=\"dataframe\">\n",
       "  <thead>\n",
       "    <tr style=\"text-align: right;\">\n",
       "      <th></th>\n",
       "      <th>classificação</th>\n",
       "      <th>perdas-normalizadas</th>\n",
       "      <th>distancia-entre-eixos</th>\n",
       "      <th>comprimento</th>\n",
       "      <th>largura</th>\n",
       "      <th>altura</th>\n",
       "      <th>peso-do-meio-fio</th>\n",
       "      <th>tamanho-do-motor</th>\n",
       "      <th>diametro-do-cilindro</th>\n",
       "      <th>curso-do-pistao</th>\n",
       "      <th>taxa-de-compressao</th>\n",
       "      <th>potencia</th>\n",
       "      <th>rpm-pico</th>\n",
       "      <th>consumo-na-cidade</th>\n",
       "      <th>consumo-na-estrada</th>\n",
       "      <th>preco</th>\n",
       "      <th>consumo-na-cidade-L/100km</th>\n",
       "      <th>diesel</th>\n",
       "      <th>gasolina</th>\n",
       "    </tr>\n",
       "  </thead>\n",
       "  <tbody>\n",
       "    <tr>\n",
       "      <th>0</th>\n",
       "      <td>3</td>\n",
       "      <td>122</td>\n",
       "      <td>88.6</td>\n",
       "      <td>0.811148</td>\n",
       "      <td>0.890278</td>\n",
       "      <td>48.8</td>\n",
       "      <td>2548</td>\n",
       "      <td>130</td>\n",
       "      <td>3.47</td>\n",
       "      <td>2.68</td>\n",
       "      <td>9.0</td>\n",
       "      <td>111.0</td>\n",
       "      <td>5000.0</td>\n",
       "      <td>21</td>\n",
       "      <td>27</td>\n",
       "      <td>13495.0</td>\n",
       "      <td>11.190476</td>\n",
       "      <td>0</td>\n",
       "      <td>1</td>\n",
       "    </tr>\n",
       "    <tr>\n",
       "      <th>1</th>\n",
       "      <td>3</td>\n",
       "      <td>122</td>\n",
       "      <td>88.6</td>\n",
       "      <td>0.811148</td>\n",
       "      <td>0.890278</td>\n",
       "      <td>48.8</td>\n",
       "      <td>2548</td>\n",
       "      <td>130</td>\n",
       "      <td>3.47</td>\n",
       "      <td>2.68</td>\n",
       "      <td>9.0</td>\n",
       "      <td>111.0</td>\n",
       "      <td>5000.0</td>\n",
       "      <td>21</td>\n",
       "      <td>27</td>\n",
       "      <td>16500.0</td>\n",
       "      <td>11.190476</td>\n",
       "      <td>0</td>\n",
       "      <td>1</td>\n",
       "    </tr>\n",
       "    <tr>\n",
       "      <th>2</th>\n",
       "      <td>1</td>\n",
       "      <td>122</td>\n",
       "      <td>94.5</td>\n",
       "      <td>0.822681</td>\n",
       "      <td>0.909722</td>\n",
       "      <td>52.4</td>\n",
       "      <td>2823</td>\n",
       "      <td>152</td>\n",
       "      <td>2.68</td>\n",
       "      <td>3.47</td>\n",
       "      <td>9.0</td>\n",
       "      <td>154.0</td>\n",
       "      <td>5000.0</td>\n",
       "      <td>19</td>\n",
       "      <td>26</td>\n",
       "      <td>16500.0</td>\n",
       "      <td>12.368421</td>\n",
       "      <td>0</td>\n",
       "      <td>1</td>\n",
       "    </tr>\n",
       "    <tr>\n",
       "      <th>3</th>\n",
       "      <td>2</td>\n",
       "      <td>164</td>\n",
       "      <td>99.8</td>\n",
       "      <td>0.848630</td>\n",
       "      <td>0.919444</td>\n",
       "      <td>54.3</td>\n",
       "      <td>2337</td>\n",
       "      <td>109</td>\n",
       "      <td>3.19</td>\n",
       "      <td>3.40</td>\n",
       "      <td>10.0</td>\n",
       "      <td>102.0</td>\n",
       "      <td>5500.0</td>\n",
       "      <td>24</td>\n",
       "      <td>30</td>\n",
       "      <td>13950.0</td>\n",
       "      <td>9.791667</td>\n",
       "      <td>0</td>\n",
       "      <td>1</td>\n",
       "    </tr>\n",
       "    <tr>\n",
       "      <th>4</th>\n",
       "      <td>2</td>\n",
       "      <td>164</td>\n",
       "      <td>99.4</td>\n",
       "      <td>0.848630</td>\n",
       "      <td>0.922222</td>\n",
       "      <td>54.3</td>\n",
       "      <td>2824</td>\n",
       "      <td>136</td>\n",
       "      <td>3.19</td>\n",
       "      <td>3.40</td>\n",
       "      <td>8.0</td>\n",
       "      <td>115.0</td>\n",
       "      <td>5500.0</td>\n",
       "      <td>18</td>\n",
       "      <td>22</td>\n",
       "      <td>17450.0</td>\n",
       "      <td>13.055556</td>\n",
       "      <td>0</td>\n",
       "      <td>1</td>\n",
       "    </tr>\n",
       "  </tbody>\n",
       "</table>\n",
       "</div>"
      ],
      "text/plain": [
       "   classificação  perdas-normalizadas  distancia-entre-eixos  comprimento  \\\n",
       "0              3                  122                   88.6     0.811148   \n",
       "1              3                  122                   88.6     0.811148   \n",
       "2              1                  122                   94.5     0.822681   \n",
       "3              2                  164                   99.8     0.848630   \n",
       "4              2                  164                   99.4     0.848630   \n",
       "\n",
       "    largura  altura  peso-do-meio-fio  tamanho-do-motor  diametro-do-cilindro  \\\n",
       "0  0.890278    48.8              2548               130                  3.47   \n",
       "1  0.890278    48.8              2548               130                  3.47   \n",
       "2  0.909722    52.4              2823               152                  2.68   \n",
       "3  0.919444    54.3              2337               109                  3.19   \n",
       "4  0.922222    54.3              2824               136                  3.19   \n",
       "\n",
       "   curso-do-pistao  taxa-de-compressao  potencia  rpm-pico  consumo-na-cidade  \\\n",
       "0             2.68                 9.0     111.0    5000.0                 21   \n",
       "1             2.68                 9.0     111.0    5000.0                 21   \n",
       "2             3.47                 9.0     154.0    5000.0                 19   \n",
       "3             3.40                10.0     102.0    5500.0                 24   \n",
       "4             3.40                 8.0     115.0    5500.0                 18   \n",
       "\n",
       "   consumo-na-estrada    preco  consumo-na-cidade-L/100km  diesel  gasolina  \n",
       "0                  27  13495.0                  11.190476       0         1  \n",
       "1                  27  16500.0                  11.190476       0         1  \n",
       "2                  26  16500.0                  12.368421       0         1  \n",
       "3                  30  13950.0                   9.791667       0         1  \n",
       "4                  22  17450.0                  13.055556       0         1  "
      ]
     },
     "execution_count": 5,
     "metadata": {},
     "output_type": "execute_result"
    }
   ],
   "source": [
    "df=df._get_numeric_data()\n",
    "df.head()"
   ]
  },
  {
   "cell_type": "markdown",
   "id": "96a3503e",
   "metadata": {},
   "source": [
    "### Funções para gráficos."
   ]
  },
  {
   "cell_type": "code",
   "execution_count": 10,
   "id": "cfdee415",
   "metadata": {},
   "outputs": [],
   "source": [
    "def DistributionPlot(FuncaoVermelha, FuncaoAzul, NomeVermelho, NomeAzul, Titulo):\n",
    "    largura = 12\n",
    "    altura = 10\n",
    "    plt.figure(figsize=(largura, altura))\n",
    "\n",
    "    ax1 = sns.kdeplot(FuncaoVermelha, color=\"r\", label=NomeVermelho)\n",
    "    ax2 = sns.kdeplot(FuncaoAzul, color=\"b\", label=NomeAzul, ax=ax1)\n",
    "\n",
    "    plt.title(Titulo)\n",
    "    plt.xlabel('Preco em U$')\n",
    "    plt.ylabel('Proporção de Carros')\n",
    "    plt.show()\n",
    "    plt.close()"
   ]
  },
  {
   "cell_type": "code",
   "execution_count": 11,
   "id": "34471001",
   "metadata": {},
   "outputs": [],
   "source": [
    "def PollyPlot(xtreino, xteste, y_treino, y_teste, lr,poly_transform):\n",
    "    largura = 12\n",
    "    altura = 10\n",
    "    plt.figure(figsize=(largura, altura))\n",
    "    \n",
    "    \n",
    "    #training data \n",
    "    #testing data \n",
    "    # lr:  linear regression object \n",
    "    #poly_transform:  polynomial transformation object \n",
    " \n",
    "    xmax=max([xtreino.values.max(), xteste.values.max()])\n",
    "\n",
    "    xmin=min([xtreino.values.min(), xteste.values.min()])\n",
    "\n",
    "    x=np.arange(xmin, xmax, 0.1)\n",
    "\n",
    "\n",
    "    plt.plot(xtreino, y_treino, 'ro', label='Dados de Treinamento')\n",
    "    plt.plot(xteste, y_teste, 'go', label='Dados de Teste')\n",
    "    plt.plot(x, lr.predict(poly_transform.fit_transform(x.reshape(-1, 1))), label='Função de Previsão')\n",
    "    plt.ylim([-10000, 60000])\n",
    "    plt.ylabel('Preço')\n",
    "    plt.legend()"
   ]
  },
  {
   "cell_type": "markdown",
   "id": "01791432",
   "metadata": {},
   "source": [
    "## Treino e Teste."
   ]
  },
  {
   "cell_type": "code",
   "execution_count": 12,
   "id": "2a04dce6",
   "metadata": {},
   "outputs": [],
   "source": [
    "# dados com o target\n",
    "y_data = df['preco']"
   ]
  },
  {
   "cell_type": "code",
   "execution_count": 14,
   "id": "990c8ad7",
   "metadata": {},
   "outputs": [],
   "source": [
    "x_data=df.drop('preco',axis=1)"
   ]
  },
  {
   "cell_type": "code",
   "execution_count": 18,
   "id": "2a83a9d6",
   "metadata": {},
   "outputs": [
    {
     "name": "stdout",
     "output_type": "stream",
     "text": [
      "Numero de amostras de teste:  21\n",
      "Numero de amostras de treino:  180\n"
     ]
    }
   ],
   "source": [
    "x_treino, x_teste, y_treino, y_teste = train_test_split(x_data, y_data, test_size=0.10, random_state=1)\n",
    "\n",
    "print(\"Numero de amostras de teste: \", x_teste.shape[0])\n",
    "print(\"Numero de amostras de treino: \",x_treino.shape[0])\n"
   ]
  },
  {
   "cell_type": "code",
   "execution_count": 19,
   "id": "b7b317d9",
   "metadata": {},
   "outputs": [
    {
     "name": "stdout",
     "output_type": "stream",
     "text": [
      "Numero de amostras de teste:  81\n",
      "Numero de amostras de treino:  120\n"
     ]
    }
   ],
   "source": [
    "# Novo conjunto de testes\n",
    "x_treino1, x_teste1, y_treino1, y_teste1 = train_test_split(x_data, y_data, test_size=0.40, random_state=0)\n",
    "\n",
    "print(\"Numero de amostras de teste: \", x_teste1.shape[0])\n",
    "print(\"Numero de amostras de treino: \",x_treino1.shape[0])\n"
   ]
  },
  {
   "cell_type": "markdown",
   "id": "c839eac6",
   "metadata": {},
   "source": [
    "Ajustamos o modelo usando o recurso “potência”:"
   ]
  },
  {
   "cell_type": "code",
   "execution_count": 23,
   "id": "629707fc",
   "metadata": {},
   "outputs": [
    {
     "data": {
      "text/html": [
       "<style>#sk-container-id-1 {color: black;}#sk-container-id-1 pre{padding: 0;}#sk-container-id-1 div.sk-toggleable {background-color: white;}#sk-container-id-1 label.sk-toggleable__label {cursor: pointer;display: block;width: 100%;margin-bottom: 0;padding: 0.3em;box-sizing: border-box;text-align: center;}#sk-container-id-1 label.sk-toggleable__label-arrow:before {content: \"▸\";float: left;margin-right: 0.25em;color: #696969;}#sk-container-id-1 label.sk-toggleable__label-arrow:hover:before {color: black;}#sk-container-id-1 div.sk-estimator:hover label.sk-toggleable__label-arrow:before {color: black;}#sk-container-id-1 div.sk-toggleable__content {max-height: 0;max-width: 0;overflow: hidden;text-align: left;background-color: #f0f8ff;}#sk-container-id-1 div.sk-toggleable__content pre {margin: 0.2em;color: black;border-radius: 0.25em;background-color: #f0f8ff;}#sk-container-id-1 input.sk-toggleable__control:checked~div.sk-toggleable__content {max-height: 200px;max-width: 100%;overflow: auto;}#sk-container-id-1 input.sk-toggleable__control:checked~label.sk-toggleable__label-arrow:before {content: \"▾\";}#sk-container-id-1 div.sk-estimator input.sk-toggleable__control:checked~label.sk-toggleable__label {background-color: #d4ebff;}#sk-container-id-1 div.sk-label input.sk-toggleable__control:checked~label.sk-toggleable__label {background-color: #d4ebff;}#sk-container-id-1 input.sk-hidden--visually {border: 0;clip: rect(1px 1px 1px 1px);clip: rect(1px, 1px, 1px, 1px);height: 1px;margin: -1px;overflow: hidden;padding: 0;position: absolute;width: 1px;}#sk-container-id-1 div.sk-estimator {font-family: monospace;background-color: #f0f8ff;border: 1px dotted black;border-radius: 0.25em;box-sizing: border-box;margin-bottom: 0.5em;}#sk-container-id-1 div.sk-estimator:hover {background-color: #d4ebff;}#sk-container-id-1 div.sk-parallel-item::after {content: \"\";width: 100%;border-bottom: 1px solid gray;flex-grow: 1;}#sk-container-id-1 div.sk-label:hover label.sk-toggleable__label {background-color: #d4ebff;}#sk-container-id-1 div.sk-serial::before {content: \"\";position: absolute;border-left: 1px solid gray;box-sizing: border-box;top: 0;bottom: 0;left: 50%;z-index: 0;}#sk-container-id-1 div.sk-serial {display: flex;flex-direction: column;align-items: center;background-color: white;padding-right: 0.2em;padding-left: 0.2em;position: relative;}#sk-container-id-1 div.sk-item {position: relative;z-index: 1;}#sk-container-id-1 div.sk-parallel {display: flex;align-items: stretch;justify-content: center;background-color: white;position: relative;}#sk-container-id-1 div.sk-item::before, #sk-container-id-1 div.sk-parallel-item::before {content: \"\";position: absolute;border-left: 1px solid gray;box-sizing: border-box;top: 0;bottom: 0;left: 50%;z-index: -1;}#sk-container-id-1 div.sk-parallel-item {display: flex;flex-direction: column;z-index: 1;position: relative;background-color: white;}#sk-container-id-1 div.sk-parallel-item:first-child::after {align-self: flex-end;width: 50%;}#sk-container-id-1 div.sk-parallel-item:last-child::after {align-self: flex-start;width: 50%;}#sk-container-id-1 div.sk-parallel-item:only-child::after {width: 0;}#sk-container-id-1 div.sk-dashed-wrapped {border: 1px dashed gray;margin: 0 0.4em 0.5em 0.4em;box-sizing: border-box;padding-bottom: 0.4em;background-color: white;}#sk-container-id-1 div.sk-label label {font-family: monospace;font-weight: bold;display: inline-block;line-height: 1.2em;}#sk-container-id-1 div.sk-label-container {text-align: center;}#sk-container-id-1 div.sk-container {/* jupyter's `normalize.less` sets `[hidden] { display: none; }` but bootstrap.min.css set `[hidden] { display: none !important; }` so we also need the `!important` here to be able to override the default hidden behavior on the sphinx rendered scikit-learn.org. See: https://github.com/scikit-learn/scikit-learn/issues/21755 */display: inline-block !important;position: relative;}#sk-container-id-1 div.sk-text-repr-fallback {display: none;}</style><div id=\"sk-container-id-1\" class=\"sk-top-container\"><div class=\"sk-text-repr-fallback\"><pre>LinearRegression()</pre><b>In a Jupyter environment, please rerun this cell to show the HTML representation or trust the notebook. <br />On GitHub, the HTML representation is unable to render, please try loading this page with nbviewer.org.</b></div><div class=\"sk-container\" hidden><div class=\"sk-item\"><div class=\"sk-estimator sk-toggleable\"><input class=\"sk-toggleable__control sk-hidden--visually\" id=\"sk-estimator-id-1\" type=\"checkbox\" checked><label for=\"sk-estimator-id-1\" class=\"sk-toggleable__label sk-toggleable__label-arrow\">LinearRegression</label><div class=\"sk-toggleable__content\"><pre>LinearRegression()</pre></div></div></div></div></div>"
      ],
      "text/plain": [
       "LinearRegression()"
      ]
     },
     "execution_count": 23,
     "metadata": {},
     "output_type": "execute_result"
    }
   ],
   "source": [
    "lre=LinearRegression()\n",
    "lre.fit(x_treino[['potencia']], y_treino)"
   ]
  },
  {
   "cell_type": "code",
   "execution_count": 26,
   "id": "59175749",
   "metadata": {},
   "outputs": [
    {
     "name": "stdout",
     "output_type": "stream",
     "text": [
      "O coeficiente de determinação: 0.3635875575078824\n"
     ]
    }
   ],
   "source": [
    "print('O coeficiente de determinação:', lre.score(x_teste[['potencia']], y_teste))"
   ]
  },
  {
   "cell_type": "code",
   "execution_count": 27,
   "id": "86eb2ded",
   "metadata": {},
   "outputs": [
    {
     "name": "stdout",
     "output_type": "stream",
     "text": [
      "O coeficiente de determinação: 0.6619724197515103\n"
     ]
    }
   ],
   "source": [
    "print('O coeficiente de determinação:',lre.score(x_treino[['potencia']], y_treino))"
   ]
  },
  {
   "cell_type": "markdown",
   "id": "17a2fd2a",
   "metadata": {},
   "source": [
    "Podemos perceber que o coeficiente de determinação \"R²\", é muito menor utilizando as amostras de teste comparadas com as de treino."
   ]
  },
  {
   "cell_type": "code",
   "execution_count": 30,
   "id": "ca2b1d07",
   "metadata": {},
   "outputs": [
    {
     "name": "stdout",
     "output_type": "stream",
     "text": [
      "O coeficiente de de determinação:  0.7139364665406974\n"
     ]
    }
   ],
   "source": [
    "lre.fit(x_treino1[['potencia']],y_treino1)\n",
    "print('O coeficiente de de determinação: ', lre.score(x_teste1[['potencia']],y_teste1))"
   ]
  },
  {
   "cell_type": "markdown",
   "id": "385e6ce3",
   "metadata": {},
   "source": [
    "Para o modelo utilizando 40% do dataset o coeficiente ja sobe, ~0.71."
   ]
  },
  {
   "cell_type": "markdown",
   "id": "ea4d7e44",
   "metadata": {},
   "source": [
    "<h2>Cross-Validation Score</h2>\n"
   ]
  },
  {
   "cell_type": "markdown",
   "id": "b71f7051",
   "metadata": {},
   "source": [
    "Inserimos o objeto, o recurso (\"potencia\") e os dados de destino (y_data). O parâmetro 'cv' determina o número de dobras. Neste caso, é 4."
   ]
  },
  {
   "cell_type": "code",
   "execution_count": 36,
   "id": "398e0868",
   "metadata": {},
   "outputs": [
    {
     "data": {
      "text/plain": [
       "array([0.7746232 , 0.51716687, 0.74785353, 0.04839605])"
      ]
     },
     "execution_count": 36,
     "metadata": {},
     "output_type": "execute_result"
    }
   ],
   "source": [
    "Rcross = cross_val_score(lre, x_data[['potencia']], y_data, cv=4)\n",
    "Rcross"
   ]
  },
  {
   "cell_type": "code",
   "execution_count": 37,
   "id": "634ee1de",
   "metadata": {},
   "outputs": [
    {
     "name": "stdout",
     "output_type": "stream",
     "text": [
      "A média das dobras  0.522009915042119 e o desvio padrão  0.2911839444756029\n"
     ]
    }
   ],
   "source": [
    "print(\"A média das dobras \", Rcross.mean(), \"e o desvio padrão \" , Rcross.std())"
   ]
  },
  {
   "cell_type": "markdown",
   "id": "04f10e1a",
   "metadata": {},
   "source": [
    "Podemos usar o erro quadrático negativo como pontuação definindo a métrica do parâmetro 'pontuação' como 'neg_mean_squared_error'."
   ]
  },
  {
   "cell_type": "code",
   "execution_count": 38,
   "id": "29359d34",
   "metadata": {},
   "outputs": [
    {
     "data": {
      "text/plain": [
       "array([20254142.84026704, 43745493.26505169, 12539630.34014931,\n",
       "       17561927.72247591])"
      ]
     },
     "execution_count": 38,
     "metadata": {},
     "output_type": "execute_result"
    }
   ],
   "source": [
    "-1 * cross_val_score(lre,x_data[['potencia']], y_data,cv=4,scoring='neg_mean_squared_error')"
   ]
  },
  {
   "cell_type": "markdown",
   "id": "74ec03a7",
   "metadata": {},
   "source": [
    "Agora um teste usando só 2 dobras."
   ]
  },
  {
   "cell_type": "code",
   "execution_count": 39,
   "id": "d206cd11",
   "metadata": {},
   "outputs": [
    {
     "data": {
      "text/plain": [
       "0.5166761697127431"
      ]
     },
     "execution_count": 39,
     "metadata": {},
     "output_type": "execute_result"
    }
   ],
   "source": [
    "Rc=cross_val_score(lre,x_data[['potencia']], y_data,cv=2)\n",
    "Rc.mean()"
   ]
  },
  {
   "cell_type": "code",
   "execution_count": 40,
   "id": "f176a9bb",
   "metadata": {},
   "outputs": [
    {
     "name": "stdout",
     "output_type": "stream",
     "text": [
      "A média das dobras  0.5166761697127431 e o desvio padrão  0.07348004195771368\n"
     ]
    }
   ],
   "source": [
    "print(\"A média das dobras \", Rc.mean(), \"e o desvio padrão \" , Rc.std())"
   ]
  },
  {
   "cell_type": "markdown",
   "id": "65fc07e2",
   "metadata": {},
   "source": [
    "Usar a função 'cross_val_predict' para prever a saída. A função divide os dados em um número especificado de dobras, com uma dobra para teste e as outras dobras são usadas para treinamento. "
   ]
  },
  {
   "cell_type": "code",
   "execution_count": 42,
   "id": "b755776b",
   "metadata": {},
   "outputs": [
    {
     "data": {
      "text/plain": [
       "array([14141.63807508, 14141.63807508, 20814.29423473, 12745.03562306,\n",
       "       14762.35027598])"
      ]
     },
     "execution_count": 42,
     "metadata": {},
     "output_type": "execute_result"
    }
   ],
   "source": [
    "yhat = cross_val_predict(lre,x_data[['potencia']], y_data,cv=4)\n",
    "yhat[0:5]"
   ]
  },
  {
   "cell_type": "markdown",
   "id": "edb924e2",
   "metadata": {},
   "source": [
    "## Overfitting, Underfitting e Seleção de Modelo"
   ]
  },
  {
   "cell_type": "markdown",
   "id": "2fd92ec3",
   "metadata": {},
   "source": [
    "Acontece que os dados de teste, às vezes chamados de \"dados fora da amostra\", são uma medida muito melhor do desempenho do seu modelo no mundo real. Uma razão para isso é o overfitting.\n",
    "\n",
    "Vejamos alguns exemplos. Acontece que essas diferenças são mais aparentes na regressão linear múltipla e na regressão polinomial, portanto exploraremos o sobreajuste nesse contexto."
   ]
  },
  {
   "cell_type": "markdown",
   "id": "0486b2de",
   "metadata": {},
   "source": [
    "Múltiplos objetos de regressão linear e treinar o modelo usando 'cavalo-vapor', 'peso-meio-fio', 'tamanho do motor' e 'rodovia-mpg' como recursos."
   ]
  },
  {
   "cell_type": "code",
   "execution_count": 44,
   "id": "b4852b45",
   "metadata": {},
   "outputs": [
    {
     "data": {
      "text/html": [
       "<style>#sk-container-id-2 {color: black;}#sk-container-id-2 pre{padding: 0;}#sk-container-id-2 div.sk-toggleable {background-color: white;}#sk-container-id-2 label.sk-toggleable__label {cursor: pointer;display: block;width: 100%;margin-bottom: 0;padding: 0.3em;box-sizing: border-box;text-align: center;}#sk-container-id-2 label.sk-toggleable__label-arrow:before {content: \"▸\";float: left;margin-right: 0.25em;color: #696969;}#sk-container-id-2 label.sk-toggleable__label-arrow:hover:before {color: black;}#sk-container-id-2 div.sk-estimator:hover label.sk-toggleable__label-arrow:before {color: black;}#sk-container-id-2 div.sk-toggleable__content {max-height: 0;max-width: 0;overflow: hidden;text-align: left;background-color: #f0f8ff;}#sk-container-id-2 div.sk-toggleable__content pre {margin: 0.2em;color: black;border-radius: 0.25em;background-color: #f0f8ff;}#sk-container-id-2 input.sk-toggleable__control:checked~div.sk-toggleable__content {max-height: 200px;max-width: 100%;overflow: auto;}#sk-container-id-2 input.sk-toggleable__control:checked~label.sk-toggleable__label-arrow:before {content: \"▾\";}#sk-container-id-2 div.sk-estimator input.sk-toggleable__control:checked~label.sk-toggleable__label {background-color: #d4ebff;}#sk-container-id-2 div.sk-label input.sk-toggleable__control:checked~label.sk-toggleable__label {background-color: #d4ebff;}#sk-container-id-2 input.sk-hidden--visually {border: 0;clip: rect(1px 1px 1px 1px);clip: rect(1px, 1px, 1px, 1px);height: 1px;margin: -1px;overflow: hidden;padding: 0;position: absolute;width: 1px;}#sk-container-id-2 div.sk-estimator {font-family: monospace;background-color: #f0f8ff;border: 1px dotted black;border-radius: 0.25em;box-sizing: border-box;margin-bottom: 0.5em;}#sk-container-id-2 div.sk-estimator:hover {background-color: #d4ebff;}#sk-container-id-2 div.sk-parallel-item::after {content: \"\";width: 100%;border-bottom: 1px solid gray;flex-grow: 1;}#sk-container-id-2 div.sk-label:hover label.sk-toggleable__label {background-color: #d4ebff;}#sk-container-id-2 div.sk-serial::before {content: \"\";position: absolute;border-left: 1px solid gray;box-sizing: border-box;top: 0;bottom: 0;left: 50%;z-index: 0;}#sk-container-id-2 div.sk-serial {display: flex;flex-direction: column;align-items: center;background-color: white;padding-right: 0.2em;padding-left: 0.2em;position: relative;}#sk-container-id-2 div.sk-item {position: relative;z-index: 1;}#sk-container-id-2 div.sk-parallel {display: flex;align-items: stretch;justify-content: center;background-color: white;position: relative;}#sk-container-id-2 div.sk-item::before, #sk-container-id-2 div.sk-parallel-item::before {content: \"\";position: absolute;border-left: 1px solid gray;box-sizing: border-box;top: 0;bottom: 0;left: 50%;z-index: -1;}#sk-container-id-2 div.sk-parallel-item {display: flex;flex-direction: column;z-index: 1;position: relative;background-color: white;}#sk-container-id-2 div.sk-parallel-item:first-child::after {align-self: flex-end;width: 50%;}#sk-container-id-2 div.sk-parallel-item:last-child::after {align-self: flex-start;width: 50%;}#sk-container-id-2 div.sk-parallel-item:only-child::after {width: 0;}#sk-container-id-2 div.sk-dashed-wrapped {border: 1px dashed gray;margin: 0 0.4em 0.5em 0.4em;box-sizing: border-box;padding-bottom: 0.4em;background-color: white;}#sk-container-id-2 div.sk-label label {font-family: monospace;font-weight: bold;display: inline-block;line-height: 1.2em;}#sk-container-id-2 div.sk-label-container {text-align: center;}#sk-container-id-2 div.sk-container {/* jupyter's `normalize.less` sets `[hidden] { display: none; }` but bootstrap.min.css set `[hidden] { display: none !important; }` so we also need the `!important` here to be able to override the default hidden behavior on the sphinx rendered scikit-learn.org. See: https://github.com/scikit-learn/scikit-learn/issues/21755 */display: inline-block !important;position: relative;}#sk-container-id-2 div.sk-text-repr-fallback {display: none;}</style><div id=\"sk-container-id-2\" class=\"sk-top-container\"><div class=\"sk-text-repr-fallback\"><pre>LinearRegression()</pre><b>In a Jupyter environment, please rerun this cell to show the HTML representation or trust the notebook. <br />On GitHub, the HTML representation is unable to render, please try loading this page with nbviewer.org.</b></div><div class=\"sk-container\" hidden><div class=\"sk-item\"><div class=\"sk-estimator sk-toggleable\"><input class=\"sk-toggleable__control sk-hidden--visually\" id=\"sk-estimator-id-2\" type=\"checkbox\" checked><label for=\"sk-estimator-id-2\" class=\"sk-toggleable__label sk-toggleable__label-arrow\">LinearRegression</label><div class=\"sk-toggleable__content\"><pre>LinearRegression()</pre></div></div></div></div></div>"
      ],
      "text/plain": [
       "LinearRegression()"
      ]
     },
     "execution_count": 44,
     "metadata": {},
     "output_type": "execute_result"
    }
   ],
   "source": [
    "lr = LinearRegression()\n",
    "lr.fit(x_treino[['potencia', 'peso-do-meio-fio', 'tamanho-do-motor', 'consumo-na-estrada']], y_treino)"
   ]
  },
  {
   "cell_type": "markdown",
   "id": "b55edd3c",
   "metadata": {},
   "source": [
    "Previsão usando dados de treinamento:"
   ]
  },
  {
   "cell_type": "code",
   "execution_count": 46,
   "id": "4945b5a3",
   "metadata": {},
   "outputs": [
    {
     "data": {
      "text/plain": [
       "array([ 7426.6731551 , 28323.75090803, 14213.38819709,  4052.34146983,\n",
       "       34500.19124244])"
      ]
     },
     "execution_count": 46,
     "metadata": {},
     "output_type": "execute_result"
    }
   ],
   "source": [
    "yhat_treino = lr.predict(x_treino[['potencia', 'peso-do-meio-fio', 'tamanho-do-motor', 'consumo-na-estrada']])\n",
    "yhat_treino[0:5]"
   ]
  },
  {
   "cell_type": "markdown",
   "id": "e78773bc",
   "metadata": {},
   "source": [
    "Previsão usando dados de teste:"
   ]
  },
  {
   "cell_type": "code",
   "execution_count": 48,
   "id": "62949744",
   "metadata": {},
   "outputs": [
    {
     "data": {
      "text/plain": [
       "array([11349.35089149,  5884.11059106, 11208.6928275 ,  6641.07786278,\n",
       "       15565.79920282])"
      ]
     },
     "execution_count": 48,
     "metadata": {},
     "output_type": "execute_result"
    }
   ],
   "source": [
    "yhat_teste = lr.predict(x_teste[['potencia', 'peso-do-meio-fio', 'tamanho-do-motor', 'consumo-na-estrada']])\n",
    "yhat_teste[0:5]"
   ]
  },
  {
   "cell_type": "code",
   "execution_count": 49,
   "id": "26f9c1a6",
   "metadata": {},
   "outputs": [],
   "source": [
    "import matplotlib.pyplot as plt\n",
    "%matplotlib inline\n",
    "import seaborn as sns"
   ]
  },
  {
   "cell_type": "code",
   "execution_count": 53,
   "id": "36605111",
   "metadata": {},
   "outputs": [
    {
     "data": {
      "image/png": "[encoded data removed]",
      "text/plain": [
       "<Figure size 1200x1000 with 1 Axes>"
      ]
     },
     "metadata": {},
     "output_type": "display_data"
    }
   ],
   "source": [
    "Title = 'Gráfico de distribuição do valor previsto usando dados de treinamento versus distribuição de dados de treinamento'\n",
    "DistributionPlot(y_treino, yhat_treino, \"Valores Atuais (Treino)\", \"Valores Previstos (Treino)\", Title)"
   ]
  },
  {
   "cell_type": "markdown",
   "id": "63877819",
   "metadata": {},
   "source": [
    "Comparação com os valores reais dos dados de treinamento."
   ]
  },
  {
   "cell_type": "code",
   "execution_count": null,
   "id": "b8e51cf6",
   "metadata": {},
   "outputs": [],
   "source": []
  }
 ],
 "metadata": {
  "kernelspec": {
   "display_name": "Python 3 (ipykernel)",
   "language": "python",
   "name": "python3"
  },
  "language_info": {
   "codemirror_mode": {
    "name": "ipython",
    "version": 3
   },
   "file_extension": ".py",
   "mimetype": "text/x-python",
   "name": "python",
   "nbconvert_exporter": "python",
   "pygments_lexer": "ipython3",
   "version": "3.10.12"
  }
 },
 "nbformat": 4,
 "nbformat_minor": 5
}
