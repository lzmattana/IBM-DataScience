{
 "cells": [
  {
   "cell_type": "markdown",
   "id": "34f1c520-2c64-4540-82a3-2186d93e84b8",
   "metadata": {},
   "source": [
    "<p style=\"text-align:center\">\n",
    "    <a href=\"https://skills.network\" target=\"_blank\">\n",
    "    <img src=\"https://cf-courses-data.s3.us.cloud-object-storage.appdomain.cloud/assets/logos/SN_web_lightmode.png\" width=\"300\" alt=\"Skills Network Logo\">\n",
    "    </a>\n",
    "</p>\n",
    "\n",
    "\n",
    "# Data Wrangling\n",
    "\n",
    "\n",
    "Estimated time needed: **30** minutes\n",
    "    \n",
    "\n",
    "## Objectives\n",
    "\n",
    "After completing this lab you will be able to:\n",
    "\n",
    "* Handle missing values\n",
    "* Correct data formatting\n",
    "* Standardize and normalize data\n"
   ]
  },
  {
   "cell_type": "markdown",
   "id": "6c794c9f-4fd1-460f-bc05-d3413230fabf",
   "metadata": {},
   "source": [
    "<h2>Table of Contents</h2>\n",
    "\n",
    "<div class=\"alert alert-block alert-info\" style=\"margin-top: 20px\">\n",
    "<ul>\n",
    "    <li><a href=\"#identify_handle_missing_values\">Identify and handle missing values</a>\n",
    "        <ul>\n",
    "            <li><a href=\"#identify_missing_values\">Identify missing values</a></li>\n",
    "            <li><a href=\"#deal_missing_values\">Deal with missing values</a></li>\n",
    "            <li><a href=\"#correct_data_format\">Correct data format</a></li>\n",
    "        </ul>\n",
    "    </li>\n",
    "    <li><a href=\"#data_standardization\">Data standardization</a></li>\n",
    "    <li><a href=\"#data_normalization\">Data normalization (centering/scaling)</a></li>\n",
    "    <li><a href=\"#binning\">Binning</a></li>\n",
    "    <li><a href=\"#indicator\">Indicator variable</a></li>\n",
    "</ul>\n",
    "    \n",
    "</div>\n",
    " \n",
    "<hr>\n"
   ]
  },
  {
   "cell_type": "markdown",
   "id": "cd8f519d-462c-454e-9505-f20b55434e35",
   "metadata": {},
   "source": [
    "<h2>What is the purpose of data wrangling?</h2>\n"
   ]
  },
  {
   "cell_type": "markdown",
   "id": "2f531722-b986-48f3-ab86-2ec99312f635",
   "metadata": {},
   "source": [
    "You use data wrangling to convert data from an initial format to a format that may be better for analysis.\n"
   ]
  },
  {
   "cell_type": "markdown",
   "id": "a0ab7d47-923c-48e6-88b5-7f400b55115d",
   "metadata": {},
   "source": [
    "<h3>What is the fuel consumption (L/100k) rate for the diesel car?</h3>\n"
   ]
  },
  {
   "cell_type": "markdown",
   "id": "669e72cf-54a8-41c4-92b7-9ef0335c0a7e",
   "metadata": {},
   "source": [
    "<h3>Import data</h3>\n",
    "<p>\n",
    "You can find the \"Automobile Dataset\" from the following link: <a href=\"https://archive.ics.uci.edu/ml/machine-learning-databases/autos/imports-85.data\">https://archive.ics.uci.edu/ml/machine-learning-databases/autos/imports-85.data</a>. \n",
    "You will be using this data set throughout this course.\n",
    "</p>\n"
   ]
  },
  {
   "cell_type": "markdown",
   "id": "49e0d525-2871-4762-ad2c-40b9a41dda93",
   "metadata": {},
   "source": [
    "<h4>Import pandas</h4> \n"
   ]
  },
  {
   "cell_type": "code",
   "execution_count": null,
   "id": "cbeb480e-0b95-4b3c-b00e-bb7daa48b46f",
   "metadata": {},
   "outputs": [],
   "source": [
    "#install specific version of libraries used in lab\n",
    "#! mamba install pandas==1.3.3\n",
    "#! mamba install numpy=1.21.2\n"
   ]
  },
  {
   "cell_type": "code",
   "execution_count": null,
   "id": "810dc863-e1f2-48e5-9d63-12241bdeed0d",
   "metadata": {},
   "outputs": [],
   "source": [
    "import pandas as pd\n",
    "import matplotlib.pylab as plt"
   ]
  },
  {
   "cell_type": "markdown",
   "id": "d7090be5-aea4-4e34-9677-9dd61fa3351a",
   "metadata": {},
   "source": [
    "<h2>Reading the dataset from the URL and adding the related headers</h2>\n"
   ]
  },
  {
   "cell_type": "markdown",
   "id": "ee8db7fb-2baa-48f2-9a3a-4943ad7ee1c7",
   "metadata": {},
   "source": [
    "First, assign the URL of the data set to \"filename\".\n"
   ]
  },
  {
   "cell_type": "markdown",
   "id": "8f1aec95-4091-460f-86a9-5a91ac41fc65",
   "metadata": {},
   "source": [
    "This dataset was hosted on IBM Cloud object. Click <a href=\"https://cocl.us/corsera_da0101en_notebook_bottom\">HERE</a> for free storage.\n"
   ]
  },
  {
   "cell_type": "code",
   "execution_count": null,
   "id": "8a01cd3f-4219-47dd-884b-f6ddd5c8fa74",
   "metadata": {},
   "outputs": [],
   "source": [
    "filename = \"https://cf-courses-data.s3.us.cloud-object-storage.appdomain.cloud/IBMDeveloperSkillsNetwork-DA0101EN-SkillsNetwork/labs/Data%20files/auto.csv\""
   ]
  },
  {
   "cell_type": "markdown",
   "id": "0ff66939-ff8d-461c-a58e-df72d42435a9",
   "metadata": {},
   "source": [
    "Then, create a Python list <b>headers</b> containing name of headers.\n"
   ]
  },
  {
   "cell_type": "code",
   "execution_count": null,
   "id": "0cc22900-2541-46c7-8ecb-c059d77b7eee",
   "metadata": {},
   "outputs": [],
   "source": [
    "headers = [\"symboling\",\"normalized-losses\",\"make\",\"fuel-type\",\"aspiration\", \"num-of-doors\",\"body-style\",\n",
    "         \"drive-wheels\",\"engine-location\",\"wheel-base\", \"length\",\"width\",\"height\",\"curb-weight\",\"engine-type\",\n",
    "         \"num-of-cylinders\", \"engine-size\",\"fuel-system\",\"bore\",\"stroke\",\"compression-ratio\",\"horsepower\",\n",
    "         \"peak-rpm\",\"city-mpg\",\"highway-mpg\",\"price\"]"
   ]
  },
  {
   "cell_type": "markdown",
   "id": "a11ae0ea-4a0e-4b3e-819f-dda89c773856",
   "metadata": {},
   "source": [
    "Use the Pandas method <b>read_csv()</b> to load the data from the web address. Set the parameter  \"names\" equal to the Python list \"headers\".\n"
   ]
  },
  {
   "cell_type": "code",
   "execution_count": null,
   "id": "5e909056-99fc-4a6d-8607-a2cd706b192c",
   "metadata": {},
   "outputs": [],
   "source": [
    "df = pd.read_csv(filename, names = headers)"
   ]
  },
  {
   "cell_type": "markdown",
   "id": "3132bc07-64df-43b2-a7c3-1c01a1ec0631",
   "metadata": {},
   "source": [
    " Use the method <b>head()</b> to display the first five rows of the dataframe. \n"
   ]
  },
  {
   "cell_type": "code",
   "execution_count": null,
   "id": "72f12a87-73a5-40e1-af0f-63c94b5eb523",
   "metadata": {},
   "outputs": [],
   "source": [
    "# To see what the data set looks like, we'll use the head() method.\n",
    "df.head()"
   ]
  },
  {
   "cell_type": "markdown",
   "id": "45750989-5e72-47dc-8b35-8b41ad33aab4",
   "metadata": {},
   "source": [
    "As you can see, several question marks appeared in the data frame; those missing values may hinder further analysis. \n",
    "<div>So, how do we identify all those missing values and deal with them?</div> \n",
    "\n",
    "\n",
    "<b>How to work with missing data?</b>\n",
    "\n",
    "Steps for working with missing data:\n",
    "<ol>\n",
    "    <li>Identify missing data</li>\n",
    "    <li>Deal with missing data</li>\n",
    "    <li>Correct data format</li>\n",
    "</ol>\n"
   ]
  },
  {
   "cell_type": "markdown",
   "id": "8f428d1b-44fc-462c-911c-02d99f972a66",
   "metadata": {},
   "source": [
    "<h2 id=\"identify_handle_missing_values\">Identify and handle missing values</h2>\n",
    "\n",
    "\n",
    "<h3 id=\"identify_missing_values\">Identify missing values</h3>\n",
    "<h4>Convert \"?\" to NaN</h4>\n",
    "In the car data set, missing data comes with the question mark \"?\".\n",
    "We replace \"?\" with NaN (Not a Number), Python's default missing value marker for reasons of computational speed and convenience. Use the function: \n",
    " <pre>.replace(A, B, inplace = True) </pre>\n",
    "to replace A by B.\n"
   ]
  },
  {
   "cell_type": "code",
   "execution_count": null,
   "id": "366dd726-47dc-44fc-82a0-d1b33acf2cc6",
   "metadata": {},
   "outputs": [],
   "source": [
    "import numpy as np\n",
    "\n",
    "# replace \"?\" to NaN\n",
    "df.replace(\"?\", np.nan, inplace = True)\n",
    "df.head(5)"
   ]
  },
  {
   "cell_type": "markdown",
   "id": "0e1cf278-0148-485b-af8f-7945e83c9852",
   "metadata": {},
   "source": [
    "<h4>Evaluating for Missing Data</h4>\n",
    "\n",
    "The missing values are converted by default. Use the following functions to identify these missing values. You can use two methods to detect missing data:\n",
    "<ol>\n",
    "    <li><b>.isnull()</b></li>\n",
    "    <li><b>.notnull()</b></li>\n",
    "</ol>\n",
    "The output is a boolean value indicating whether the value that is passed into the argument is in fact missing data.\n"
   ]
  },
  {
   "cell_type": "code",
   "execution_count": null,
   "id": "9f08b988-88ab-43ee-b4fa-c99c92e9d49e",
   "metadata": {},
   "outputs": [],
   "source": [
    "missing_data = df.isnull()\n",
    "missing_data.head(5)"
   ]
  },
  {
   "cell_type": "markdown",
   "id": "2c0a4dcd-8381-4cc7-947b-c83370fe3701",
   "metadata": {},
   "source": [
    "\"True\" means the value is a missing value while \"False\" means the value is not a missing value.\n"
   ]
  },
  {
   "cell_type": "markdown",
   "id": "ddee0cfb-e0a5-4213-bf5d-ab5da68eae54",
   "metadata": {},
   "source": [
    "<h4>Count missing values in each column</h4>\n",
    "<p>\n",
    "Using a for loop in Python, you can quickly figure out the number of missing values in each column. As mentioned above, \"True\" represents a missing value and \"False\" means the value is present in the data set.  In the body of the for loop the method \".value_counts()\" counts the number of \"True\" values. \n",
    "</p>\n"
   ]
  },
  {
   "cell_type": "code",
   "execution_count": null,
   "id": "8b0f93a1-c58d-4e1a-9f71-51a7fcf82233",
   "metadata": {},
   "outputs": [],
   "source": [
    "for column in missing_data.columns.values.tolist():\n",
    "    print(column)\n",
    "    print (missing_data[column].value_counts())\n",
    "    print(\"\")    "
   ]
  },
  {
   "cell_type": "markdown",
   "id": "411b00ac-a926-4baf-a0a4-6bec9398f946",
   "metadata": {},
   "source": [
    "Based on the summary above, each column has 205 rows of data and seven of the columns containing missing data:\n",
    "<ol>\n",
    "    <li>\"normalized-losses\": 41 missing data</li>\n",
    "    <li>\"num-of-doors\": 2 missing data</li>\n",
    "    <li>\"bore\": 4 missing data</li>\n",
    "    <li>\"stroke\" : 4 missing data</li>\n",
    "    <li>\"horsepower\": 2 missing data</li>\n",
    "    <li>\"peak-rpm\": 2 missing data</li>\n",
    "    <li>\"price\": 4 missing data</li>\n",
    "</ol>\n"
   ]
  },
  {
   "cell_type": "markdown",
   "id": "f87c15f7-4042-419f-9910-cdfe2b1b7dbd",
   "metadata": {},
   "source": [
    "<h3 id=\"deal_missing_values\">Deal with missing data</h3>\n",
    "<b>How should you deal with missing data?</b>\n",
    "\n",
    "<ol>\n",
    "    <li>Drop data<br>\n",
    "        a. Drop the whole row<br>\n",
    "        b. Drop the whole column\n",
    "    </li>\n",
    "    <li>Replace data<br>\n",
    "        a. Replace it by mean<br>\n",
    "        b. Replace it by frequency<br>\n",
    "        c. Replace it based on other functions\n",
    "    </li>\n",
    "</ol>\n"
   ]
  },
  {
   "cell_type": "markdown",
   "id": "465916e8-bfd8-404c-adde-4662c49aaf74",
   "metadata": {},
   "source": [
    "You should only drop whole columns if most entries in the column are empty. In the data set, none of the columns are empty enough to drop entirely.\n",
    "You have some freedom in choosing which method to replace data; however, some methods may seem more reasonable than others. Apply each method to different columns:\n",
    "\n",
    "<b>Replace by mean:</b>\n",
    "<ul>\n",
    "    <li>\"normalized-losses\": 41 missing data, replace them with mean</li>\n",
    "    <li>\"stroke\": 4 missing data, replace them with mean</li>\n",
    "    <li>\"bore\": 4 missing data, replace them with mean</li>\n",
    "    <li>\"horsepower\": 2 missing data, replace them with mean</li>\n",
    "    <li>\"peak-rpm\": 2 missing data, replace them with mean</li>\n",
    "</ul>\n",
    "\n",
    "<b>Replace by frequency:</b>\n",
    "<ul>\n",
    "    <li>\"num-of-doors\": 2 missing data, replace them with \"four\". \n",
    "        <ul>\n",
    "            <li>Reason: 84% sedans are four doors. Since four doors is most frequent, it is most likely to occur</li>\n",
    "        </ul>\n",
    "    </li>\n",
    "</ul>\n",
    "\n",
    "<b>Drop the whole row:</b>\n",
    "<ul>\n",
    "    <li>\"price\": 4 missing data, simply delete the whole row\n",
    "        <ul>\n",
    "            <li>Reason: You want to predict price. You cannot use any data entry without price data for prediction; therefore any row now without price data is not useful to you.</li>\n",
    "        </ul>\n",
    "    </li>\n",
    "</ul>\n"
   ]
  },
  {
   "cell_type": "markdown",
   "id": "107e2be8-1a91-4678-92e8-78cd4d16a683",
   "metadata": {},
   "source": [
    "<h4>Calculate the mean value for the \"normalized-losses\" column </h4>\n"
   ]
  },
  {
   "cell_type": "code",
   "execution_count": null,
   "id": "ebff3e61-0574-49e9-b315-45695e011cd5",
   "metadata": {},
   "outputs": [],
   "source": [
    "avg_norm_loss = df[\"normalized-losses\"].astype(\"float\").mean(axis=0)\n",
    "print(\"Average of normalized-losses:\", avg_norm_loss)"
   ]
  },
  {
   "cell_type": "markdown",
   "id": "e0fd8b2a-6e86-416f-88bc-53569b062dce",
   "metadata": {},
   "source": [
    "<h4>Replace \"NaN\" with mean value in \"normalized-losses\" column</h4>\n"
   ]
  },
  {
   "cell_type": "code",
   "execution_count": null,
   "id": "c8b9c17f-2bed-48f7-b7bf-3d9bae20b6e3",
   "metadata": {},
   "outputs": [],
   "source": [
    "df[\"normalized-losses\"].replace(np.nan, avg_norm_loss, inplace=True)"
   ]
  },
  {
   "cell_type": "markdown",
   "id": "bca6f9dc-1d19-47eb-805d-358ec2c76cbc",
   "metadata": {},
   "source": [
    "<h4>Calculate the mean value for the \"bore\" column</h4>\n"
   ]
  },
  {
   "cell_type": "code",
   "execution_count": null,
   "id": "d3b87edf-ce70-44db-b775-d212386bfceb",
   "metadata": {},
   "outputs": [],
   "source": [
    "avg_bore=df['bore'].astype('float').mean(axis=0)\n",
    "print(\"Average of bore:\", avg_bore)"
   ]
  },
  {
   "cell_type": "markdown",
   "id": "009d64ab-6d7d-405b-9c84-9ec674bc6022",
   "metadata": {},
   "source": [
    "<h4>Replace \"NaN\" with the mean value in the \"bore\" column</h4>\n"
   ]
  },
  {
   "cell_type": "code",
   "execution_count": null,
   "id": "d3cfb40d-a4ca-40a7-a4f8-6e04f4bf666b",
   "metadata": {},
   "outputs": [],
   "source": [
    "df[\"bore\"].replace(np.nan, avg_bore, inplace=True)"
   ]
  },
  {
   "cell_type": "markdown",
   "id": "63236777-52ec-4d01-9cea-0d458d1588e3",
   "metadata": {},
   "source": [
    "<div class=\"alert alert-danger alertdanger\" style=\"margin-top: 20px\">\n",
    "<h1> Question  #1: </h1>\n",
    "\n",
    "<b>Based on the example above, replace NaN in \"stroke\" column with the mean value.</b>\n",
    "</div>\n"
   ]
  },
  {
   "cell_type": "code",
   "execution_count": null,
   "id": "28c1faaa-0d64-455c-9126-899340fc2d05",
   "metadata": {},
   "outputs": [],
   "source": [
    "# Write your code below and press Shift+Enter to execute \n"
   ]
  },
  {
   "cell_type": "markdown",
   "id": "c093e9b2-cf6f-4303-9b27-0419fa75ed76",
   "metadata": {},
   "source": [
    "<details><summary>Click here for the solution</summary>\n",
    "\n",
    "```python\n",
    "#Calculate the mean vaule for \"stroke\" column\n",
    "avg_stroke = df[\"stroke\"].astype(\"float\").mean(axis = 0)\n",
    "print(\"Average of stroke:\", avg_stroke)\n",
    "\n",
    "# replace NaN by mean value in \"stroke\" column\n",
    "df[\"stroke\"].replace(np.nan, avg_stroke, inplace = True)\n",
    "```\n",
    "\n",
    "</details>\n",
    "\n"
   ]
  },
  {
   "cell_type": "markdown",
   "id": "cdc2686e-220f-44c3-b186-6a6cae40d917",
   "metadata": {},
   "source": [
    "<h4>Calculate the mean value for the \"horsepower\" column</h4>\n"
   ]
  },
  {
   "cell_type": "code",
   "execution_count": null,
   "id": "74e1a50f-e60e-46ba-add6-a31c07cd7cf0",
   "metadata": {},
   "outputs": [],
   "source": [
    "avg_horsepower = df['horsepower'].astype('float').mean(axis=0)\n",
    "print(\"Average horsepower:\", avg_horsepower)"
   ]
  },
  {
   "cell_type": "markdown",
   "id": "54f6f3eb-b53a-4213-ba62-b2a8a732c22e",
   "metadata": {},
   "source": [
    "<h4>Replace \"NaN\" with the mean value in the \"horsepower\" column</h4>\n"
   ]
  },
  {
   "cell_type": "code",
   "execution_count": null,
   "id": "6e586452-8f2e-4040-913e-be06a90d28c0",
   "metadata": {},
   "outputs": [],
   "source": [
    "df['horsepower'].replace(np.nan, avg_horsepower, inplace=True)"
   ]
  },
  {
   "cell_type": "markdown",
   "id": "bfab22fd-56ea-4653-8dbf-0ea96e6a7361",
   "metadata": {},
   "source": [
    "<h4>Calculate the mean value for \"peak-rpm\" column</h4>\n"
   ]
  },
  {
   "cell_type": "code",
   "execution_count": null,
   "id": "98375612-49b5-49a4-a36f-0651511c24a2",
   "metadata": {},
   "outputs": [],
   "source": [
    "avg_peakrpm=df['peak-rpm'].astype('float').mean(axis=0)\n",
    "print(\"Average peak rpm:\", avg_peakrpm)"
   ]
  },
  {
   "cell_type": "markdown",
   "id": "b7ae9ddc-abea-4e3b-bf10-860dd1052d7f",
   "metadata": {},
   "source": [
    "<h4>Replace \"NaN\" with the mean value in the \"peak-rpm\" column</h4>\n"
   ]
  },
  {
   "cell_type": "code",
   "execution_count": null,
   "id": "86216a5d-51b8-49d8-8fa7-b49858c445d4",
   "metadata": {},
   "outputs": [],
   "source": [
    "df['peak-rpm'].replace(np.nan, avg_peakrpm, inplace=True)"
   ]
  },
  {
   "cell_type": "markdown",
   "id": "da737fa9-181d-4c03-ade8-643fb84b872a",
   "metadata": {},
   "source": [
    "To see which values are present in a particular column, we can use the \".value_counts()\" method:\n"
   ]
  },
  {
   "cell_type": "code",
   "execution_count": null,
   "id": "4518c174-7d8e-423f-a80c-e46bbfb6376d",
   "metadata": {},
   "outputs": [],
   "source": [
    "df['num-of-doors'].value_counts()"
   ]
  },
  {
   "cell_type": "markdown",
   "id": "67d90995-283a-424a-8ce6-fb6d70325648",
   "metadata": {},
   "source": [
    "You can see that four doors is the most common type. We can also use the \".idxmax()\" method to calculate the most common type automatically:\n"
   ]
  },
  {
   "cell_type": "code",
   "execution_count": null,
   "id": "9e427743-aabd-4a4e-b9b9-8e345c257fa8",
   "metadata": {},
   "outputs": [],
   "source": [
    "df['num-of-doors'].value_counts().idxmax()"
   ]
  },
  {
   "cell_type": "markdown",
   "id": "8a4d9f5a-dc93-4bc0-bda4-095a8303c0ac",
   "metadata": {},
   "source": [
    "The replacement procedure is very similar to what you have seen previously:\n"
   ]
  },
  {
   "cell_type": "code",
   "execution_count": null,
   "id": "9cc762cb-96b3-4210-bf7c-71669ac7a41c",
   "metadata": {},
   "outputs": [],
   "source": [
    "#replace the missing 'num-of-doors' values by the most frequent \n",
    "df[\"num-of-doors\"].replace(np.nan, \"four\", inplace=True)"
   ]
  },
  {
   "cell_type": "markdown",
   "id": "4db4584d-c985-46bf-9f92-bb44404b0dda",
   "metadata": {},
   "source": [
    "Finally, drop all rows that do not have price data:\n"
   ]
  },
  {
   "cell_type": "code",
   "execution_count": null,
   "id": "9dc928cf-d322-4252-aa3a-0fff8761b0be",
   "metadata": {},
   "outputs": [],
   "source": [
    "# simply drop whole row with NaN in \"price\" column\n",
    "df.dropna(subset=[\"price\"], axis=0, inplace=True)\n",
    "\n",
    "# reset index, because we droped two rows\n",
    "df.reset_index(drop=True, inplace=True)"
   ]
  },
  {
   "cell_type": "code",
   "execution_count": null,
   "id": "00ca25bf-9e93-4c09-a4d3-2f0f2e1e4d26",
   "metadata": {},
   "outputs": [],
   "source": [
    "df.head()"
   ]
  },
  {
   "cell_type": "markdown",
   "id": "3d98e7fb-0704-470b-ba59-9e112b82db63",
   "metadata": {},
   "source": [
    "<b>Good!</b> Now, you have a data set with no missing values.\n"
   ]
  },
  {
   "cell_type": "markdown",
   "id": "abb1ba92-baba-4d40-a5f4-9db7336545b8",
   "metadata": {},
   "source": [
    "<h3 id=\"correct_data_format\">Correct data format</h3>\n",
    "<b>We are almost there!</b>\n",
    "<p>The last step in data cleaning is checking and making sure that all data is in the correct format (int, float, text or other).</p>\n",
    "\n",
    "In Pandas, you use:\n",
    "<p><b>.dtype()</b> to check the data type</p>\n",
    "<p><b>.astype()</b> to change the data type</p>\n"
   ]
  },
  {
   "cell_type": "markdown",
   "id": "2ad8ddbc-68ef-434f-82d9-96ef2c84d624",
   "metadata": {},
   "source": [
    "<h4>Let's list the data types for each column</h4>\n"
   ]
  },
  {
   "cell_type": "code",
   "execution_count": null,
   "id": "0868c77a-228f-4f5c-a1e1-2ce6fb3f782c",
   "metadata": {},
   "outputs": [],
   "source": [
    "df.dtypes"
   ]
  },
  {
   "cell_type": "markdown",
   "id": "0e1e9c82-98dc-4e60-a3da-8370255d917f",
   "metadata": {},
   "source": [
    "<p>As you can see above, some columns are not of the correct data type. Numerical variables should have type 'float' or 'int', and variables with strings such as categories should have type 'object'. For example, the numerical values 'bore' and 'stroke' describe the engines, so you should expect them to be of the type 'float' or 'int'; however, they are shown as type 'object'. You have to convert data types into a proper format for each column using the \"astype()\" method.</p> \n"
   ]
  },
  {
   "cell_type": "markdown",
   "id": "26fcb13c-0435-4472-9ef9-de3ccdeb7db2",
   "metadata": {},
   "source": [
    "<h4>Convert data types to proper format</h4>\n"
   ]
  },
  {
   "cell_type": "code",
   "execution_count": null,
   "id": "ac636a87-97d1-4bae-b1e5-6cfb6464e167",
   "metadata": {},
   "outputs": [],
   "source": [
    "df[[\"bore\", \"stroke\"]] = df[[\"bore\", \"stroke\"]].astype(\"float\")\n",
    "df[[\"normalized-losses\"]] = df[[\"normalized-losses\"]].astype(\"int\")\n",
    "df[[\"price\"]] = df[[\"price\"]].astype(\"float\")\n",
    "df[[\"peak-rpm\"]] = df[[\"peak-rpm\"]].astype(\"float\")"
   ]
  },
  {
   "cell_type": "markdown",
   "id": "0102bbbd-d407-45e3-b58a-60ddb6fbd632",
   "metadata": {},
   "source": [
    "<h4>Let us list the columns after the conversion</h4>\n"
   ]
  },
  {
   "cell_type": "code",
   "execution_count": null,
   "id": "f8a8d9b9-1207-4b94-bc33-04f910370d2d",
   "metadata": {},
   "outputs": [],
   "source": [
    "df.dtypes"
   ]
  },
  {
   "cell_type": "markdown",
   "id": "5757c6b7-4f68-4cde-bcda-1cdb615dde5b",
   "metadata": {},
   "source": [
    "<b>Wonderful!</b>\n",
    "\n",
    "Now you finally obtained the cleansed data set with no missing values and with all data in its proper format.\n"
   ]
  },
  {
   "cell_type": "markdown",
   "id": "d21a3476-7f9b-4357-b052-8b67833c93e0",
   "metadata": {},
   "source": [
    "<h2 id=\"data_standardization\">Data Standardization</h2>\n",
    "<p>\n",
    "You usually collect data from different agencies in different formats.\n",
    "(Data standardization is also a term for a particular type of data normalization where you subtract the mean and divide by the standard deviation.)\n",
    "</p>\n",
    "    \n",
    "<b>What is standardization?</b>\n",
    "<p>Standardization is the process of transforming data into a common format, allowing the researcher to make the meaningful comparison.\n",
    "</p>\n",
    "\n",
    "<b>Example</b>\n",
    "<p>Transform mpg to L/100km:</p>\n",
    "<p>In your data set, the fuel consumption columns \"city-mpg\" and \"highway-mpg\" are represented by mpg (miles per gallon) unit. Assume you are developing an application in a country that accepts the fuel consumption with L/100km standard.</p>\n",
    "<p>You will need to apply <b>data transformation</b> to transform mpg into L/100km.</p>\n"
   ]
  },
  {
   "cell_type": "markdown",
   "id": "7053fe7e-6fb6-42eb-a11b-bf5b708fefde",
   "metadata": {},
   "source": [
    "<p>Use this formula for unit conversion:<p>\n",
    "L/100km = 235 / mpg\n",
    "<p>You can do many mathematical operations directly using Pandas.</p>\n"
   ]
  },
  {
   "cell_type": "code",
   "execution_count": null,
   "id": "74f67323-04d9-41a0-a6fc-1e728a3bcb50",
   "metadata": {},
   "outputs": [],
   "source": [
    "df.head()"
   ]
  },
  {
   "cell_type": "code",
   "execution_count": null,
   "id": "83360f1e-f30a-48a1-8e0a-a853f237bffe",
   "metadata": {},
   "outputs": [],
   "source": [
    "# Convert mpg to L/100km by mathematical operation (235 divided by mpg)\n",
    "df['city-L/100km'] = 235/df[\"city-mpg\"]\n",
    "\n",
    "# check your transformed data \n",
    "df.head()"
   ]
  },
  {
   "cell_type": "markdown",
   "id": "dec3637a-41d6-4c41-a105-b7f2876cdda3",
   "metadata": {},
   "source": [
    "<div class=\"alert alert-danger alertdanger\" style=\"margin-top: 20px\">\n",
    "<h1> Question  #2: </h1>\n",
    "\n",
    "<b>According to the example above, transform mpg to L/100km in the column of \"highway-mpg\" and change the name of column to \"highway-L/100km\".</b>\n",
    "</div>\n"
   ]
  },
  {
   "cell_type": "code",
   "execution_count": null,
   "id": "ffe2d4b2-ed7d-4062-8b62-2787999790f8",
   "metadata": {},
   "outputs": [],
   "source": [
    "# Write your code below and press Shift+Enter to execute \n"
   ]
  },
  {
   "cell_type": "markdown",
   "id": "458dbdd1-0386-43ba-a1a6-8ff9382dfc26",
   "metadata": {},
   "source": [
    "<details><summary>Click here for the solution</summary>\n",
    "\n",
    "```python\n",
    "# transform mpg to L/100km by mathematical operation (235 divided by mpg)\n",
    "df[\"highway-mpg\"] = 235/df[\"highway-mpg\"]\n",
    "\n",
    "# rename column name from \"highway-mpg\" to \"highway-L/100km\"\n",
    "df.rename(columns={'\"highway-mpg\"':'highway-L/100km'}, inplace=True)\n",
    "\n",
    "# check your transformed data \n",
    "df.head()\n",
    "\n",
    "```\n",
    "</details>\n",
    "\n",
    "\n"
   ]
  },
  {
   "cell_type": "markdown",
   "id": "2fd8bb7a-37c7-44ba-87b6-fe00e8f1b6fa",
   "metadata": {},
   "source": [
    "<h2 id=\"data_normalization\">Data Normalization</h2>\n",
    "\n",
    "<b>Why normalization?</b>\n",
    "<p>Normalization is the process of transforming values of several variables into a similar range. Typical normalizations include \n",
    "<ol>\n",
    "    <li>scaling the variable so the variable average is 0</li>\n",
    "    <li>scaling the variable so the variance is 1</li> \n",
    "    <li>scaling the variable so the variable values range from 0 to 1</li>\n",
    "</ol>\n",
    "</p>\n",
    "\n",
    "<b>Example</b>\n",
    "<p>To demonstrate normalization, say you want to scale the columns \"length\", \"width\" and \"height\".</p>\n",
    "<p><b>Target:</b> normalize those variables so their value ranges from 0 to 1</p>\n",
    "<p><b>Approach:</b> replace the original value by (original value)/(maximum value)</p>\n"
   ]
  },
  {
   "cell_type": "code",
   "execution_count": null,
   "id": "e896be1d-2843-4e86-b527-8ea327385db9",
   "metadata": {},
   "outputs": [],
   "source": [
    "# replace (original value) by (original value)/(maximum value)\n",
    "df['length'] = df['length']/df['length'].max()\n",
    "df['width'] = df['width']/df['width'].max()"
   ]
  },
  {
   "cell_type": "markdown",
   "id": "be76ee9c-ca5f-4f13-b6eb-e1dc4097ea10",
   "metadata": {},
   "source": [
    "<div class=\"alert alert-danger alertdanger\" style=\"margin-top: 20px\">\n",
    "<h1> Question #3: </h1>\n",
    "\n",
    "<b>According to the example above, normalize the column \"height\".</b>\n",
    "</div>\n"
   ]
  },
  {
   "cell_type": "code",
   "execution_count": null,
   "id": "9d397cf6-1d71-4c1f-bce5-ead20c285118",
   "metadata": {},
   "outputs": [],
   "source": [
    "# Write your code below and press Shift+Enter to execute \n"
   ]
  },
  {
   "cell_type": "markdown",
   "id": "fe4ea79d-2ac7-4be9-ab0e-b86455af6c92",
   "metadata": {},
   "source": [
    "<details><summary>Click here for the solution</summary>\n",
    "\n",
    "```python\n",
    "df['height'] = df['height']/df['height'].max() \n",
    "\n",
    "# show the scaled columns\n",
    "df[[\"length\",\"width\",\"height\"]].head()\n",
    "\n",
    "\n",
    "```\n",
    "</details>\n",
    "\n",
    "\n"
   ]
  },
  {
   "cell_type": "markdown",
   "id": "b6aa2ee5-c76b-4566-a751-d7d8a886e36b",
   "metadata": {},
   "source": [
    "Here you've normalized \"length\", \"width\" and \"height\" to fall in the range of [0,1].\n"
   ]
  },
  {
   "cell_type": "markdown",
   "id": "5f743fda-92c7-4a16-9684-73ab5ceb734c",
   "metadata": {},
   "source": [
    "<h2 id=\"binning\">Binning</h2>\n",
    "<b>Why binning?</b>\n",
    "<p>\n",
    "    Binning is a process of transforming continuous numerical variables into discrete categorical 'bins' for grouped analysis.\n",
    "</p>\n",
    "\n",
    "<b>Example: </b>\n",
    "<p>In your data set, \"horsepower\" is a real valued variable ranging from 48 to 288 and it has 59 unique values. What if you only care about the price difference between cars with high horsepower, medium horsepower, and little horsepower (3 types)? You can rearrange them into three ‘bins' to simplify analysis.</p>\n",
    "\n",
    "<p>Use the Pandas method 'cut' to segment the 'horsepower' column into 3 bins.</p>\n"
   ]
  },
  {
   "cell_type": "markdown",
   "id": "26d4613b-b9c5-4eb5-baed-175b9256998c",
   "metadata": {},
   "source": [
    "<h3>Example of Binning Data In Pandas</h3>\n"
   ]
  },
  {
   "cell_type": "markdown",
   "id": "14a69e60-70e0-4511-8e30-a1324262ffb9",
   "metadata": {},
   "source": [
    " Convert data to correct format:\n"
   ]
  },
  {
   "cell_type": "code",
   "execution_count": null,
   "id": "df1440fe-5136-47a0-8f8b-36175a352a50",
   "metadata": {},
   "outputs": [],
   "source": [
    "df[\"horsepower\"]=df[\"horsepower\"].astype(int, copy=True)"
   ]
  },
  {
   "cell_type": "markdown",
   "id": "384d7c93-366c-4acf-8312-e27487d7da27",
   "metadata": {},
   "source": [
    "Plot the histogram of horsepower to see the distribution of horsepower.\n"
   ]
  },
  {
   "cell_type": "code",
   "execution_count": null,
   "id": "b30ec9f3-c3ca-4f7b-b569-050dd0141e8d",
   "metadata": {},
   "outputs": [],
   "source": [
    "%matplotlib inline\n",
    "import matplotlib as plt\n",
    "from matplotlib import pyplot\n",
    "plt.pyplot.hist(df[\"horsepower\"])\n",
    "\n",
    "# set x/y labels and plot title\n",
    "plt.pyplot.xlabel(\"horsepower\")\n",
    "plt.pyplot.ylabel(\"count\")\n",
    "plt.pyplot.title(\"horsepower bins\")"
   ]
  },
  {
   "cell_type": "markdown",
   "id": "6d0a00b2-e994-47d7-96a7-e6fa8b73d45c",
   "metadata": {},
   "source": [
    "<p>Find 3 bins of equal size bandwidth by using Numpy's <code>linspace(start_value, end_value, numbers_generated</code> function.</p>\n",
    "<p>Since you want to include the minimum value of horsepower, set start_value = min(df[\"horsepower\"]).</p>\n",
    "<p>Since you want to include the maximum value of horsepower, set end_value = max(df[\"horsepower\"]).</p>\n",
    "<p>Since you are building 3 bins of equal length, you need 4 dividers, so numbers_generated = 4.</p>\n"
   ]
  },
  {
   "cell_type": "markdown",
   "id": "8fa6b42a-9973-4bb2-bb85-ffe25066124e",
   "metadata": {},
   "source": [
    "Build a bin array with a minimum value to a maximum value by using the bandwidth calculated above. The values will determine when one bin ends and another begins.\n"
   ]
  },
  {
   "cell_type": "code",
   "execution_count": null,
   "id": "80dbdea9-3586-4edc-8730-41a0651a5d53",
   "metadata": {},
   "outputs": [],
   "source": [
    "bins = np.linspace(min(df[\"horsepower\"]), max(df[\"horsepower\"]), 4)\n",
    "bins"
   ]
  },
  {
   "cell_type": "markdown",
   "id": "e3d80a96-3e92-4ed5-88df-a850d5cf4ba0",
   "metadata": {},
   "source": [
    "Set group  names:\n"
   ]
  },
  {
   "cell_type": "code",
   "execution_count": null,
   "id": "9cc39257-84fa-4e99-8972-0e4bcc51b644",
   "metadata": {},
   "outputs": [],
   "source": [
    "group_names = ['Low', 'Medium', 'High']"
   ]
  },
  {
   "cell_type": "markdown",
   "id": "43d10aaa-8ca7-4a60-bffd-e54af24d8b69",
   "metadata": {},
   "source": [
    "Apply the function \"cut\" to determine what each value of `df['horsepower']` belongs to. \n"
   ]
  },
  {
   "cell_type": "code",
   "execution_count": null,
   "id": "d8990262-108d-410e-9eb0-09e824ea512b",
   "metadata": {},
   "outputs": [],
   "source": [
    "df['horsepower-binned'] = pd.cut(df['horsepower'], bins, labels=group_names, include_lowest=True )\n",
    "df[['horsepower','horsepower-binned']].head(20)"
   ]
  },
  {
   "cell_type": "markdown",
   "id": "7761c413-9adc-447f-84a6-85c229e164d0",
   "metadata": {},
   "source": [
    "See the number of vehicles in each bin:\n"
   ]
  },
  {
   "cell_type": "code",
   "execution_count": null,
   "id": "784dd021-707c-44d0-8a1a-4baef734e3d9",
   "metadata": {},
   "outputs": [],
   "source": [
    "df[\"horsepower-binned\"].value_counts()"
   ]
  },
  {
   "cell_type": "markdown",
   "id": "af9ccef3-6a67-4019-ad7b-575b20a402d1",
   "metadata": {},
   "source": [
    "Plot the distribution of each bin:\n"
   ]
  },
  {
   "cell_type": "code",
   "execution_count": null,
   "id": "397f8bb1-4a0c-4e1e-b315-8f20f8af5eae",
   "metadata": {},
   "outputs": [],
   "source": [
    "%matplotlib inline\n",
    "import matplotlib as plt\n",
    "from matplotlib import pyplot\n",
    "pyplot.bar(group_names, df[\"horsepower-binned\"].value_counts())\n",
    "\n",
    "# set x/y labels and plot title\n",
    "plt.pyplot.xlabel(\"horsepower\")\n",
    "plt.pyplot.ylabel(\"count\")\n",
    "plt.pyplot.title(\"horsepower bins\")"
   ]
  },
  {
   "cell_type": "markdown",
   "id": "203cc59e-c15e-44f2-a2a4-663c9520a57c",
   "metadata": {},
   "source": [
    "<p>\n",
    "    Look at the data frame above carefully. You will find that the last column provides the bins for \"horsepower\" based on 3 categories (\"Low\", \"Medium\" and \"High\"). \n",
    "</p>\n",
    "<p>\n",
    "    You successfully narrowed down the intervals from 59 to 3!\n",
    "</p>\n"
   ]
  },
  {
   "cell_type": "markdown",
   "id": "6cfed54d-6c7c-4326-8a21-681e82e18c73",
   "metadata": {},
   "source": [
    "<h3>Bins Visualization</h3>\n",
    "Normally, you use a histogram to visualize the distribution of bins we created above. \n"
   ]
  },
  {
   "cell_type": "code",
   "execution_count": null,
   "id": "d60acc4c-406d-458a-a59f-e68ae43e9b84",
   "metadata": {},
   "outputs": [],
   "source": [
    "%matplotlib inline\n",
    "import matplotlib as plt\n",
    "from matplotlib import pyplot\n",
    "\n",
    "\n",
    "# draw historgram of attribute \"horsepower\" with bins = 3\n",
    "plt.pyplot.hist(df[\"horsepower\"], bins = 3)\n",
    "\n",
    "# set x/y labels and plot title\n",
    "plt.pyplot.xlabel(\"horsepower\")\n",
    "plt.pyplot.ylabel(\"count\")\n",
    "plt.pyplot.title(\"horsepower bins\")"
   ]
  },
  {
   "cell_type": "markdown",
   "id": "ff66ab32-f153-4ec9-82b5-ce5334a76a80",
   "metadata": {},
   "source": [
    "The plot above shows the binning result for the attribute \"horsepower\". \n"
   ]
  },
  {
   "cell_type": "markdown",
   "id": "94f6abe1-4fb5-4b3b-835b-b7c7f44fcd8f",
   "metadata": {},
   "source": [
    "<h2 id=\"indicator\">Indicator Variable (or Dummy Variable)</h2>\n",
    "<b>What is an indicator variable?</b>\n",
    "<p>\n",
    "    An indicator variable (or dummy variable) is a numerical variable used to label categories. They are called 'dummies' because the numbers themselves don't have inherent meaning. \n",
    "</p>\n",
    "\n",
    "<b>Why use indicator variables?</b>\n",
    "<p>\n",
    "    You use indicator variables so you can use categorical variables for regression analysis in the later modules.\n",
    "</p>\n",
    "<b>Example</b>\n",
    "<p>\n",
    "    The column \"fuel-type\" has two unique values: \"gas\" or \"diesel\". Regression doesn't understand words, only numbers. To use this attribute in regression analysis, you can convert \"fuel-type\" to indicator variables.\n",
    "</p>\n",
    "\n",
    "<p>\n",
    "    Use the Panda method 'get_dummies' to assign numerical values to different categories of fuel type. \n",
    "</p>\n"
   ]
  },
  {
   "cell_type": "code",
   "execution_count": null,
   "id": "be09ce79-b546-466f-890c-ddbfa415e80d",
   "metadata": {},
   "outputs": [],
   "source": [
    "df.columns"
   ]
  },
  {
   "cell_type": "markdown",
   "id": "e7f82380-03cb-4f02-896a-3b4d6484b56e",
   "metadata": {},
   "source": [
    "Get the indicator variables and assign it to data frame \"dummy_variable_1\":\n"
   ]
  },
  {
   "cell_type": "code",
   "execution_count": null,
   "id": "217160b8-2c1d-4e27-95e5-a9fab170fefc",
   "metadata": {},
   "outputs": [],
   "source": [
    "dummy_variable_1 = pd.get_dummies(df[\"fuel-type\"])\n",
    "dummy_variable_1.head()"
   ]
  },
  {
   "cell_type": "markdown",
   "id": "ec8b35e9-ce48-48d6-8589-ce66a2f109c5",
   "metadata": {},
   "source": [
    "Change the column names for clarity:\n"
   ]
  },
  {
   "cell_type": "code",
   "execution_count": null,
   "id": "e06edb70-504c-4e65-943a-853fe884d7aa",
   "metadata": {},
   "outputs": [],
   "source": [
    "dummy_variable_1.rename(columns={'gas':'fuel-type-gas', 'diesel':'fuel-type-diesel'}, inplace=True)\n",
    "dummy_variable_1.head()"
   ]
  },
  {
   "cell_type": "markdown",
   "id": "18bedf4b-012f-439f-8fa1-cb7efa08bb66",
   "metadata": {},
   "source": [
    "In the data frame, column 'fuel-type' now has values for 'gas' and 'diesel' as 0s and 1s.\n"
   ]
  },
  {
   "cell_type": "code",
   "execution_count": null,
   "id": "502461cb-c9ea-466e-b724-1bea092ba902",
   "metadata": {},
   "outputs": [],
   "source": [
    "# merge data frame \"df\" and \"dummy_variable_1\" \n",
    "df = pd.concat([df, dummy_variable_1], axis=1)\n",
    "\n",
    "# drop original column \"fuel-type\" from \"df\"\n",
    "df.drop(\"fuel-type\", axis = 1, inplace=True)"
   ]
  },
  {
   "cell_type": "code",
   "execution_count": null,
   "id": "3c5c539e-10a7-4346-ae94-7653df765e94",
   "metadata": {},
   "outputs": [],
   "source": [
    "df.head()"
   ]
  },
  {
   "cell_type": "markdown",
   "id": "2129930a-78f4-43dc-94de-ae56ebccbe64",
   "metadata": {},
   "source": [
    "The last two columns are now the indicator variable representation of the fuel-type variable. They're all 0s and 1s now.\n"
   ]
  },
  {
   "cell_type": "markdown",
   "id": "69c9f5bc-2b30-45ae-a5ea-b6d4329806a7",
   "metadata": {},
   "source": [
    "<div class=\"alert alert-danger alertdanger\" style=\"margin-top: 20px\">\n",
    "<h1> Question  #4: </h1>\n",
    "\n",
    "<b>Similar to before, create an indicator variable for the column \"aspiration\"</b>\n",
    "</div>\n"
   ]
  },
  {
   "cell_type": "code",
   "execution_count": null,
   "id": "0918a6c2-d28a-4a4b-bdc9-a9c1b51a9227",
   "metadata": {},
   "outputs": [],
   "source": [
    "# Write your code below and press Shift+Enter to execute \n"
   ]
  },
  {
   "cell_type": "markdown",
   "id": "8417cf21-4b6b-401e-8114-a286779883c4",
   "metadata": {},
   "source": [
    "<details><summary>Click here for the solution</summary>\n",
    "\n",
    "```python\n",
    "# get indicator variables of aspiration and assign it to data frame \"dummy_variable_2\"\n",
    "dummy_variable_2 = pd.get_dummies(df['aspiration'])\n",
    "\n",
    "# change column names for clarity\n",
    "dummy_variable_2.rename(columns={'std':'aspiration-std', 'turbo': 'aspiration-turbo'}, inplace=True)\n",
    "\n",
    "# show first 5 instances of data frame \"dummy_variable_1\"\n",
    "dummy_variable_2.head()\n",
    "\n",
    "\n",
    "```\n",
    "</details>\n",
    "\n",
    "\n"
   ]
  },
  {
   "cell_type": "markdown",
   "id": "fff0163c-bed1-400a-802d-53d13c7e7a41",
   "metadata": {},
   "source": [
    " <div class=\"alert alert-danger alertdanger\" style=\"margin-top: 20px\">\n",
    "<h1> Question  #5: </h1>\n",
    "\n",
    "<b>Merge the new dataframe to the original dataframe, then drop the column 'aspiration'.</b>\n",
    "</div>\n"
   ]
  },
  {
   "cell_type": "code",
   "execution_count": null,
   "id": "2b8da8ec-d179-4dc2-9f9e-9664d3e42848",
   "metadata": {},
   "outputs": [],
   "source": [
    "# Write your code below and press Shift+Enter to execute \n"
   ]
  },
  {
   "cell_type": "markdown",
   "id": "afe88162-71b9-4bf1-9950-a614fb8105a8",
   "metadata": {},
   "source": [
    "<details><summary>Click here for the solution</summary>\n",
    "\n",
    "```python\n",
    "# merge the new dataframe to the original datafram\n",
    "df = pd.concat([df, dummy_variable_2], axis=1)\n",
    "\n",
    "# drop original column \"aspiration\" from \"df\"\n",
    "df.drop('aspiration', axis = 1, inplace=True)\n",
    "\n",
    "\n",
    "```\n",
    "</details>\n",
    "\n",
    "\n"
   ]
  },
  {
   "cell_type": "markdown",
   "id": "3510c384-12ee-47ec-b2b2-c4b1a603e9b7",
   "metadata": {},
   "source": [
    "Save the new csv:\n"
   ]
  },
  {
   "cell_type": "code",
   "execution_count": null,
   "id": "23e77e72-7e85-471f-a059-fed7759aa443",
   "metadata": {},
   "outputs": [],
   "source": [
    "df.to_csv('clean_df.csv')"
   ]
  },
  {
   "cell_type": "markdown",
   "id": "ffcbb3d6-aad5-4056-bb31-0dabb35d19df",
   "metadata": {},
   "source": [
    "### Thank you for completing this lab!\n",
    "\n",
    "\n",
    "## Author\n",
    "\n",
    "<a href=\"https://www.linkedin.com/in/joseph-s-50398b136/\" target=\"_blank\">Joseph Santarcangelo</a>\n",
    "\n",
    "\n",
    "### Other Contributors\n",
    "\n",
    "<a href=\"https://www.linkedin.com/in/mahdi-noorian-58219234/\" target=\"_blank\">Mahdi Noorian PhD</a>\n",
    "\n",
    "Bahare Talayian\n",
    "\n",
    "Eric Xiao\n",
    "\n",
    "Steven Dong\n",
    "\n",
    "Parizad\n",
    "\n",
    "Hima Vasudevan\n",
    "\n",
    "<a href=\"https://www.linkedin.com/in/fiorellawever/\" target=\"_blank\">Fiorella Wenver</a>\n",
    "\n",
    "<a href=\" https://www.linkedin.com/in/yi-leng-yao-84451275/ \" target=\"_blank\" >Yi Yao</a>.\n",
    "\n",
    "<a href=\" https://www.coursera.org/instructor/~129186572/\" target=\"_blank\" >Abhishek Gagneja </a>\n",
    "## Change Log\n",
    "\n",
    "\n",
    "|  Date (YYYY-MM-DD) |  Version | Changed By  |  Change Description |\n",
    "|---|---|---|---|\n",
    "| 2023-09-28 | 2.3| Abhishek Gagneja| Instructional Update |\n",
    "| 2020-10-30  | 2.2  | Lakshmi  |  Changed URL of csv  |\n",
    "| 2020-09-09  | 2.1  | Lakshmi  |  Updated Indicator Variables section  |\n",
    "| 2020-08-27  | 2.0  | Lavanya  |  Moved lab to course repo in GitLab  |\n",
    "\n",
    "\n",
    "\n",
    "\n",
    "<hr>\n",
    "\n",
    "## <h3 align=\"center\"> © IBM Corporation 2023. All rights reserved. <h3/>\n"
   ]
  },
  {
   "cell_type": "code",
   "execution_count": null,
   "id": "9a27126e-eacd-4662-a4b9-bfae8efa1087",
   "metadata": {},
   "outputs": [],
   "source": []
  }
 ],
 "metadata": {
  "kernelspec": {
   "display_name": "Python 3 (ipykernel)",
   "language": "python",
   "name": "python3"
  },
  "language_info": {
   "codemirror_mode": {
    "name": "ipython",
    "version": 3
   },
   "file_extension": ".py",
   "mimetype": "text/x-python",
   "name": "python",
   "nbconvert_exporter": "python",
   "pygments_lexer": "ipython3",
   "version": "3.10.12"
  }
 },
 "nbformat": 4,
 "nbformat_minor": 4
}
