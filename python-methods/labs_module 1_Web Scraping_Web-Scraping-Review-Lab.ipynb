{
 "cells": [
  {
   "cell_type": "markdown",
   "id": "d172de8e-787f-4af8-91f4-e73608ce7a63",
   "metadata": {},
   "source": [
    "<center>\n",
    "    <img src=\"https://cf-courses-data.s3.us.cloud-object-storage.appdomain.cloud/IBMDeveloperSkillsNetwork-PY0101EN-SkillsNetwork/IDSNlogo.png\" width=\"300\" alt=\"cognitiveclass.ai logo\">\n",
    "</center>\n"
   ]
  },
  {
   "cell_type": "markdown",
   "id": "29becd48-4e00-407b-b7f2-21a80d14b3b6",
   "metadata": {},
   "source": [
    "# **Web Scraping Lab**\n"
   ]
  },
  {
   "cell_type": "markdown",
   "id": "97d94674-ec88-4cf7-8949-3a5f6ee5c280",
   "metadata": {},
   "source": [
    "Estimated time needed: **30** minutes\n"
   ]
  },
  {
   "cell_type": "markdown",
   "id": "f75ebd49-03f8-4727-a623-0c5cf904f986",
   "metadata": {},
   "source": [
    "## Objectives\n"
   ]
  },
  {
   "cell_type": "markdown",
   "id": "6445a875-4e74-4f2b-ab4b-17c49a6a0a59",
   "metadata": {},
   "source": [
    "After completing this lab you will be:\n",
    "\n",
    "*   Familiar with the basics of the `BeautifulSoup` Python library\n",
    "*   Be able to scrape webpages for data and filter the data\n"
   ]
  },
  {
   "cell_type": "markdown",
   "id": "59be9969-bd1f-4b3c-8362-172682d79a5b",
   "metadata": {},
   "source": [
    "<h2>Table of Contents</h2>\n",
    "<div class=\"alert alert-block alert-info\" style=\"margin-top: 20px\">\n",
    "    <ul>\n",
    "        <li>\n",
    "            <a href=\"https://bso/?utm_medium=Exinfluencer&utm_source=Exinfluencer&utm_content=000026UJ&utm_term=10006555&utm_id=NA-SkillsNetwork-Channel-SkillsNetworkCoursesIBMDeveloperSkillsNetworkPY0101ENSkillsNetwork19487395-2021-01-01\">Beautiful Soup Object</a>\n",
    "            <ul>\n",
    "                <li>Tag</li>\n",
    "                <li>Children, Parents, and Siblings</li>\n",
    "                <li>HTML Attributes</li>\n",
    "                <li>Navigable String</li>\n",
    "            </ul>\n",
    "        </li>\n",
    "     </ul>\n",
    "    <ul>\n",
    "        <li>\n",
    "            <a href=\"https://filter/?utm_medium=Exinfluencer&utm_source=Exinfluencer&utm_content=000026UJ&utm_term=10006555&utm_id=NA-SkillsNetwork-Channel-SkillsNetworkCoursesIBMDeveloperSkillsNetworkPY0101ENSkillsNetwork19487395-2021-01-01\">Filter</a>\n",
    "            <ul>\n",
    "                <li>find All</li>\n",
    "                <li>find </li>\n",
    "                <li>HTML Attributes</li>\n",
    "                <li>Navigable String</li>\n",
    "            </ul>\n",
    "        </li>\n",
    "     </ul>\n",
    "     <ul>\n",
    "        <li>\n",
    "            <a href=\"https://dscw/?utm_medium=Exinfluencer&utm_source=Exinfluencer&utm_content=000026UJ&utm_term=10006555&utm_id=NA-SkillsNetwork-Channel-SkillsNetworkCoursesIBMDeveloperSkillsNetworkPY0101ENSkillsNetwork19487395-2021-01-01\">Downloading And Scraping The Contents Of A Web</a>\n",
    "    </p>\n",
    "\n",
    "</div>\n",
    "\n",
    "<hr>\n"
   ]
  },
  {
   "cell_type": "markdown",
   "id": "4aaf6e7e-d0dc-4cee-b922-afb14843b8c4",
   "metadata": {},
   "source": [
    "For this lab, we are going to be using Python and several Python libraries. Some of these libraries might be installed in your lab environment or in SN Labs. Others may need to be installed by you. The cells below will install these libraries when executed.\n"
   ]
  },
  {
   "cell_type": "code",
   "execution_count": 1,
   "id": "69fea79c-e2fe-493b-9ee4-76684bc241c1",
   "metadata": {},
   "outputs": [
    {
     "name": "stdout",
     "output_type": "stream",
     "text": [
      "Requirement already satisfied: html5lib in /home/leonardo/anaconda3/lib/python3.10/site-packages (1.1)\n",
      "Requirement already satisfied: six>=1.9 in /home/leonardo/anaconda3/lib/python3.10/site-packages (from html5lib) (1.16.0)\n",
      "Requirement already satisfied: webencodings in /home/leonardo/anaconda3/lib/python3.10/site-packages (from html5lib) (0.5.1)\n"
     ]
    }
   ],
   "source": [
    "!pip install html5lib"
   ]
  },
  {
   "cell_type": "markdown",
   "id": "22f77610-3472-4dd3-bf8f-0c147539f954",
   "metadata": {},
   "source": [
    "**Note:- After running the above code cell, restart the kernel and don't run the above code cell after restarting the kernel.**\n"
   ]
  },
  {
   "cell_type": "code",
   "execution_count": 2,
   "id": "2e55cb43-5b53-40f2-9ae2-b2c4210970a5",
   "metadata": {},
   "outputs": [
    {
     "name": "stdout",
     "output_type": "stream",
     "text": [
      "Requirement already satisfied: bs4 in /home/leonardo/anaconda3/lib/python3.10/site-packages (0.0.1)\r\n",
      "Requirement already satisfied: beautifulsoup4 in /home/leonardo/anaconda3/lib/python3.10/site-packages (from bs4) (4.12.2)\r\n",
      "Requirement already satisfied: soupsieve>1.2 in /home/leonardo/anaconda3/lib/python3.10/site-packages (from beautifulsoup4->bs4) (2.4)\r\n"
     ]
    }
   ],
   "source": [
    "!pip install bs4\n",
    "#!pip install requests"
   ]
  },
  {
   "cell_type": "markdown",
   "id": "86b3bacb-3723-4f8f-a054-aa332e572562",
   "metadata": {},
   "source": [
    "Import the required modules and functions\n"
   ]
  },
  {
   "cell_type": "code",
   "execution_count": 3,
   "id": "07aa45ec-8dc3-44a2-8d1b-3bc507184385",
   "metadata": {},
   "outputs": [],
   "source": [
    "from bs4 import BeautifulSoup # this module helps in web scrapping.\n",
    "import requests  # this module helps us to download a web page"
   ]
  },
  {
   "cell_type": "markdown",
   "id": "97ddb2e4-be09-4579-9093-ead66112d1dd",
   "metadata": {},
   "source": [
    "<h2 id=\"BSO\">Beautiful Soup Objects</h2>\n"
   ]
  },
  {
   "cell_type": "markdown",
   "id": "cbebd99e-d084-4818-b272-80615b188043",
   "metadata": {},
   "source": [
    "Beautiful Soup is a Python library for pulling data out of HTML and XML files, we will focus on HTML files. This is accomplished by representing the HTML as a set of objects with methods used to parse the HTML.  We can navigate the HTML as a tree, and/or filter out what we are looking for.\n",
    "\n",
    "Consider the following HTML:\n"
   ]
  },
  {
   "cell_type": "code",
   "execution_count": null,
   "id": "ff40156d-bc7f-482a-885d-434622371cb0",
   "metadata": {},
   "outputs": [],
   "source": [
    "%%html\n",
    "<!DOCTYPE html>\n",
    "<html>\n",
    "<head>\n",
    "<title>Page Title</title>\n",
    "</head>\n",
    "<body>\n",
    "<h3><b id='boldest'>Lebron James</b></h3>\n",
    "<p> Salary: $ 92,000,000 </p>\n",
    "<h3> Stephen Curry</h3>\n",
    "<p> Salary: $85,000, 000 </p>\n",
    "<h3> Kevin Durant </h3>\n",
    "<p> Salary: $73,200, 000</p>\n",
    "</body>\n",
    "</html>"
   ]
  },
  {
   "cell_type": "markdown",
   "id": "267e3844-6d86-46d0-b1cb-6be265940515",
   "metadata": {},
   "source": [
    "We can store it as a string in the variable HTML:\n"
   ]
  },
  {
   "cell_type": "code",
   "execution_count": 4,
   "id": "dbc00d39-fbe8-4463-b9a9-459b00b4b56f",
   "metadata": {},
   "outputs": [],
   "source": [
    "html=\"<!DOCTYPE html><html><head><title>Page Title</title></head><body><h3><b id='boldest'>Lebron James</b></h3><p> Salary: $ 92,000,000 </p><h3> Stephen Curry</h3><p> Salary: $85,000, 000 </p><h3> Kevin Durant </h3><p> Salary: $73,200, 000</p></body></html>\""
   ]
  },
  {
   "cell_type": "markdown",
   "id": "5574a4da-8340-44a5-826a-a4efb1695f26",
   "metadata": {},
   "source": [
    "To parse a document, pass it into the <code>BeautifulSoup</code> constructor. The <code>BeautifulSoup</code> object represents the document as a nested data structure:\n"
   ]
  },
  {
   "cell_type": "code",
   "execution_count": 5,
   "id": "80fbf11c-b487-4787-9775-a87f8ffaaed4",
   "metadata": {},
   "outputs": [],
   "source": [
    "soup = BeautifulSoup(html, 'html5lib')"
   ]
  },
  {
   "cell_type": "markdown",
   "id": "fd07a6da-2a8d-42c0-8cce-01b952bedba9",
   "metadata": {},
   "source": [
    "First, the document is converted to Unicode (similar to ASCII) and HTML entities are converted to Unicode characters. Beautiful Soup transforms a complex HTML document into a complex tree of Python objects. The <code>BeautifulSoup</code> object can create other types of objects. In this lab, we will cover <code>BeautifulSoup</code> and <code>Tag</code> objects, that for the purposes of this lab are identical. Finally, we will look at <code>NavigableString</code> objects.\n"
   ]
  },
  {
   "cell_type": "markdown",
   "id": "74dfe2c7-722b-485d-a8d9-8fa3779c63af",
   "metadata": {},
   "source": [
    "We can use the method <code>prettify()</code> to display the HTML in the nested structure:\n"
   ]
  },
  {
   "cell_type": "code",
   "execution_count": 6,
   "id": "050f2d38-e430-4f5f-86bf-017f0ad44f62",
   "metadata": {},
   "outputs": [
    {
     "name": "stdout",
     "output_type": "stream",
     "text": [
      "<!DOCTYPE html>\n",
      "<html>\n",
      " <head>\n",
      "  <title>\n",
      "   Page Title\n",
      "  </title>\n",
      " </head>\n",
      " <body>\n",
      "  <h3>\n",
      "   <b id=\"boldest\">\n",
      "    Lebron James\n",
      "   </b>\n",
      "  </h3>\n",
      "  <p>\n",
      "   Salary: $ 92,000,000\n",
      "  </p>\n",
      "  <h3>\n",
      "   Stephen Curry\n",
      "  </h3>\n",
      "  <p>\n",
      "   Salary: $85,000, 000\n",
      "  </p>\n",
      "  <h3>\n",
      "   Kevin Durant\n",
      "  </h3>\n",
      "  <p>\n",
      "   Salary: $73,200, 000\n",
      "  </p>\n",
      " </body>\n",
      "</html>\n",
      "\n"
     ]
    }
   ],
   "source": [
    "print(soup.prettify())"
   ]
  },
  {
   "cell_type": "markdown",
   "id": "9b58e616-103a-4b0a-95ca-8152bffc4c0e",
   "metadata": {},
   "source": [
    "## Tags\n"
   ]
  },
  {
   "cell_type": "markdown",
   "id": "af676ea0-4466-41b1-a480-963f32901581",
   "metadata": {},
   "source": [
    "Let's say we want the  title of the page and the name of the top paid player. We can use the <code>Tag</code>. The <code>Tag</code> object corresponds to an HTML tag in the original document, for example, the tag title.\n"
   ]
  },
  {
   "cell_type": "code",
   "execution_count": 7,
   "id": "a90e3bcf-b42d-4cf8-89d0-dfe5b0d1a230",
   "metadata": {},
   "outputs": [
    {
     "name": "stdout",
     "output_type": "stream",
     "text": [
      "tag object: <title>Page Title</title>\n"
     ]
    }
   ],
   "source": [
    "tag_object=soup.title\n",
    "print(\"tag object:\",tag_object)"
   ]
  },
  {
   "cell_type": "markdown",
   "id": "fb2801ec-43e1-48bb-a8f3-ccf754824c2a",
   "metadata": {},
   "source": [
    "we can see the tag type <code>bs4.element.Tag</code>\n"
   ]
  },
  {
   "cell_type": "code",
   "execution_count": 8,
   "id": "d1297b88-39fc-43b0-aaac-fb79e2fa1d12",
   "metadata": {},
   "outputs": [
    {
     "name": "stdout",
     "output_type": "stream",
     "text": [
      "tag object type: <class 'bs4.element.Tag'>\n"
     ]
    }
   ],
   "source": [
    "print(\"tag object type:\",type(tag_object))"
   ]
  },
  {
   "cell_type": "markdown",
   "id": "3c6b8a12-a2fd-447b-a503-be5607d0d685",
   "metadata": {},
   "source": [
    "If there is more than one <code>Tag</code> with the same name, the first element with that <code>Tag</code> name is called. This corresponds to the most paid player:\n"
   ]
  },
  {
   "cell_type": "code",
   "execution_count": 9,
   "id": "4790392d-df03-4ad4-8a38-dffe154413ed",
   "metadata": {},
   "outputs": [
    {
     "data": {
      "text/plain": [
       "<h3><b id=\"boldest\">Lebron James</b></h3>"
      ]
     },
     "execution_count": 9,
     "metadata": {},
     "output_type": "execute_result"
    }
   ],
   "source": [
    "tag_object=soup.h3\n",
    "tag_object"
   ]
  },
  {
   "cell_type": "markdown",
   "id": "46594e03-81ad-4109-bd4c-87649202a2ec",
   "metadata": {},
   "source": [
    "Enclosed in the bold attribute <code>b</code>, it helps to use the tree representation. We can navigate down the tree using the child attribute to get the name.\n"
   ]
  },
  {
   "cell_type": "markdown",
   "id": "4865f936-ef5a-4c5b-a9c3-a6d1753ad829",
   "metadata": {},
   "source": [
    "### Children, Parents, and Siblings\n"
   ]
  },
  {
   "cell_type": "markdown",
   "id": "cea84a77-c100-4d7b-ac1a-4907419090b8",
   "metadata": {},
   "source": [
    "As stated above, the <code>Tag</code> object is a tree of objects. We can access the child of the tag or navigate down the branch as follows:\n"
   ]
  },
  {
   "cell_type": "code",
   "execution_count": 10,
   "id": "fc7b59fa-5740-43d7-83f5-ea6b244d775d",
   "metadata": {},
   "outputs": [
    {
     "data": {
      "text/plain": [
       "<b id=\"boldest\">Lebron James</b>"
      ]
     },
     "execution_count": 10,
     "metadata": {},
     "output_type": "execute_result"
    }
   ],
   "source": [
    "tag_child =tag_object.b\n",
    "tag_child"
   ]
  },
  {
   "cell_type": "markdown",
   "id": "b9abe5f8-a3e6-4661-9d2f-e6b7a291098e",
   "metadata": {},
   "source": [
    "You can access the parent with the <code> parent</code>.\n"
   ]
  },
  {
   "cell_type": "code",
   "execution_count": 11,
   "id": "60ad9a6c-6b3d-403b-aec7-da669e20d899",
   "metadata": {},
   "outputs": [
    {
     "data": {
      "text/plain": [
       "<h3><b id=\"boldest\">Lebron James</b></h3>"
      ]
     },
     "execution_count": 11,
     "metadata": {},
     "output_type": "execute_result"
    }
   ],
   "source": [
    "parent_tag=tag_child.parent\n",
    "parent_tag"
   ]
  },
  {
   "cell_type": "markdown",
   "id": "e61aeaac-6c72-485a-a498-374288a4cf52",
   "metadata": {},
   "source": [
    "this is identical to:\n"
   ]
  },
  {
   "cell_type": "code",
   "execution_count": 12,
   "id": "3f0bb13e-ce4a-4d9d-8b3a-27d6d04a2393",
   "metadata": {},
   "outputs": [
    {
     "data": {
      "text/plain": [
       "<h3><b id=\"boldest\">Lebron James</b></h3>"
      ]
     },
     "execution_count": 12,
     "metadata": {},
     "output_type": "execute_result"
    }
   ],
   "source": [
    "tag_object"
   ]
  },
  {
   "cell_type": "markdown",
   "id": "fc89274a-98bc-4137-bb39-b0aad8296dd3",
   "metadata": {},
   "source": [
    "<code>tag_object</code> parent is the <code>body</code> element.\n"
   ]
  },
  {
   "cell_type": "code",
   "execution_count": 13,
   "id": "57f2dd7e-a81a-4a1a-9b5b-2dd1125517b0",
   "metadata": {},
   "outputs": [
    {
     "data": {
      "text/plain": [
       "<body><h3><b id=\"boldest\">Lebron James</b></h3><p> Salary: $ 92,000,000 </p><h3> Stephen Curry</h3><p> Salary: $85,000, 000 </p><h3> Kevin Durant </h3><p> Salary: $73,200, 000</p></body>"
      ]
     },
     "execution_count": 13,
     "metadata": {},
     "output_type": "execute_result"
    }
   ],
   "source": [
    "tag_object.parent"
   ]
  },
  {
   "cell_type": "markdown",
   "id": "bc81a82a-f55d-4b67-b822-31e62811c863",
   "metadata": {},
   "source": [
    "<code>tag_object</code> sibling is the <code>paragraph</code> element.\n"
   ]
  },
  {
   "cell_type": "code",
   "execution_count": 14,
   "id": "ed2b9599-d1cb-4dca-a206-6633b3ff91f7",
   "metadata": {},
   "outputs": [
    {
     "data": {
      "text/plain": [
       "<p> Salary: $ 92,000,000 </p>"
      ]
     },
     "execution_count": 14,
     "metadata": {},
     "output_type": "execute_result"
    }
   ],
   "source": [
    "sibling_1=tag_object.next_sibling\n",
    "\n",
    "sibling_1"
   ]
  },
  {
   "cell_type": "markdown",
   "id": "06f19df8-be41-4c53-88ed-b022d3a81859",
   "metadata": {},
   "source": [
    "`sibling_2` is the `header` element, which is also a sibling of both `sibling_1` and `tag_object`\n"
   ]
  },
  {
   "cell_type": "code",
   "execution_count": 15,
   "id": "2c36cc5e-ea3e-427b-9806-39727d28c5e7",
   "metadata": {},
   "outputs": [
    {
     "data": {
      "text/plain": [
       "<h3> Stephen Curry</h3>"
      ]
     },
     "execution_count": 15,
     "metadata": {},
     "output_type": "execute_result"
    }
   ],
   "source": [
    "sibling_2=sibling_1.next_sibling\n",
    "sibling_2"
   ]
  },
  {
   "cell_type": "markdown",
   "id": "a78427f6-d490-401b-8ed4-a86b1adb947a",
   "metadata": {},
   "source": [
    "<h3 id=\"first_question\">Exercise: <code>next_sibling</code></h3>\n"
   ]
  },
  {
   "cell_type": "markdown",
   "id": "9eb00342-1707-4218-abad-e01a2f664e6b",
   "metadata": {},
   "source": [
    "Use the object <code>sibling\\_2</code> and the method <code>next_sibling</code> to find the salary of Stephen Curry:\n"
   ]
  },
  {
   "cell_type": "code",
   "execution_count": 19,
   "id": "e0ab11b7-ec53-4e08-8a33-b6372964235a",
   "metadata": {},
   "outputs": [
    {
     "data": {
      "text/plain": [
       "<h3> Stephen Curry</h3>"
      ]
     },
     "execution_count": 19,
     "metadata": {},
     "output_type": "execute_result"
    }
   ],
   "source": [
    "sibling_3 = sibling_2.next_sibling\n",
    "sibling_3"
   ]
  },
  {
   "cell_type": "markdown",
   "id": "77cc9bde-925f-4a38-964f-71a271cea567",
   "metadata": {},
   "source": [
    "<details><summary>Click here for the solution</summary>\n",
    "\n",
    "```\n",
    "sibling_2.next_sibling\n",
    "\n",
    "```\n",
    "\n",
    "</details>\n"
   ]
  },
  {
   "cell_type": "markdown",
   "id": "20f3f03d-2c19-4250-a4dd-d1f9602f1836",
   "metadata": {},
   "source": [
    "### HTML Attributes\n"
   ]
  },
  {
   "cell_type": "markdown",
   "id": "8755461d-4fdb-442f-879f-82b02157ceba",
   "metadata": {},
   "source": [
    "If the tag has attributes, the tag <code>id=\"boldest\"</code> has an attribute <code>id</code> whose value is <code>boldest</code>. You can access a tag's attributes by treating the tag like a dictionary:\n"
   ]
  },
  {
   "cell_type": "code",
   "execution_count": 20,
   "id": "ebb89194-b262-4d30-88ca-be01f6925c38",
   "metadata": {},
   "outputs": [
    {
     "data": {
      "text/plain": [
       "'boldest'"
      ]
     },
     "execution_count": 20,
     "metadata": {},
     "output_type": "execute_result"
    }
   ],
   "source": [
    "tag_child['id']"
   ]
  },
  {
   "cell_type": "markdown",
   "id": "730f574e-689e-493e-aa49-1756deef9742",
   "metadata": {},
   "source": [
    "You can access that dictionary directly as <code>attrs</code>:\n"
   ]
  },
  {
   "cell_type": "code",
   "execution_count": 21,
   "id": "9c63863c-b996-487b-9895-43f772dc8d1f",
   "metadata": {},
   "outputs": [
    {
     "data": {
      "text/plain": [
       "{'id': 'boldest'}"
      ]
     },
     "execution_count": 21,
     "metadata": {},
     "output_type": "execute_result"
    }
   ],
   "source": [
    "tag_child.attrs"
   ]
  },
  {
   "cell_type": "markdown",
   "id": "7e2182aa-0787-42b3-9dd3-1c2831896523",
   "metadata": {},
   "source": [
    "You can also work with Multi-valued attributes. Check out <a href=\"https://www.crummy.com/software/BeautifulSoup/bs4/doc/?utm_medium=Exinfluencer&utm_source=Exinfluencer&utm_content=000026UJ&utm_term=10006555&utm_id=NA-SkillsNetwork-Channel-SkillsNetworkCoursesIBMDeveloperSkillsNetworkPY0101ENSkillsNetwork19487395-2021-01-01\">\\[1]</a> for more.\n"
   ]
  },
  {
   "cell_type": "markdown",
   "id": "73fa55e6-a111-455c-814f-83517dad3ec2",
   "metadata": {},
   "source": [
    "We can also obtain the content of the attribute of the <code>tag</code> using the Python <code>get()</code> method.\n"
   ]
  },
  {
   "cell_type": "code",
   "execution_count": 22,
   "id": "14d8b663-d3b9-4d19-bc57-bc643282d20a",
   "metadata": {},
   "outputs": [
    {
     "data": {
      "text/plain": [
       "'boldest'"
      ]
     },
     "execution_count": 22,
     "metadata": {},
     "output_type": "execute_result"
    }
   ],
   "source": [
    "tag_child.get('id')"
   ]
  },
  {
   "cell_type": "markdown",
   "id": "76d9a613-bcb8-4cbb-abef-39792dedc4bd",
   "metadata": {},
   "source": [
    "### Navigable String\n"
   ]
  },
  {
   "cell_type": "markdown",
   "id": "124a0650-7e25-46f8-99f8-2963351178ad",
   "metadata": {},
   "source": [
    "A string corresponds to a bit of text or content within a tag. Beautiful Soup uses the <code>NavigableString</code> class to contain this text. In our HTML we can obtain the name of the first player by extracting the string of the <code>Tag</code> object <code>tag_child</code> as follows:\n"
   ]
  },
  {
   "cell_type": "code",
   "execution_count": 23,
   "id": "287db3a7-4571-45e9-ad6e-1093e6c17e82",
   "metadata": {},
   "outputs": [
    {
     "data": {
      "text/plain": [
       "'Lebron James'"
      ]
     },
     "execution_count": 23,
     "metadata": {},
     "output_type": "execute_result"
    }
   ],
   "source": [
    "tag_string=tag_child.string\n",
    "tag_string"
   ]
  },
  {
   "cell_type": "markdown",
   "id": "a2600eb5-9f7f-486a-95d7-fe288cc70210",
   "metadata": {},
   "source": [
    "we can verify the type is Navigable String\n"
   ]
  },
  {
   "cell_type": "code",
   "execution_count": 24,
   "id": "45e979f4-01f7-409e-9150-96f0dd60a451",
   "metadata": {},
   "outputs": [
    {
     "data": {
      "text/plain": [
       "bs4.element.NavigableString"
      ]
     },
     "execution_count": 24,
     "metadata": {},
     "output_type": "execute_result"
    }
   ],
   "source": [
    "type(tag_string)"
   ]
  },
  {
   "cell_type": "markdown",
   "id": "93f7fd9c-005a-46ff-88fe-0461dbcdcbd2",
   "metadata": {},
   "source": [
    "A NavigableString is similar to a Python string or Unicode string. To be more precise, the main difference is that it also supports some <code>BeautifulSoup</code> features. We can convert it to string object in Python:\n"
   ]
  },
  {
   "cell_type": "code",
   "execution_count": 25,
   "id": "3fdf5d29-d2e0-417b-9f93-a29835e0a304",
   "metadata": {},
   "outputs": [
    {
     "data": {
      "text/plain": [
       "'Lebron James'"
      ]
     },
     "execution_count": 25,
     "metadata": {},
     "output_type": "execute_result"
    }
   ],
   "source": [
    "unicode_string = str(tag_string)\n",
    "unicode_string"
   ]
  },
  {
   "cell_type": "markdown",
   "id": "fb605155-a3e3-469b-8e5f-b8ae06774ec7",
   "metadata": {},
   "source": [
    "<h2 id=\"filter\">Filter</h2>\n"
   ]
  },
  {
   "cell_type": "markdown",
   "id": "12111d69-8e1d-4d19-8a34-af53b0c966fb",
   "metadata": {},
   "source": [
    "Filters allow you to find complex patterns, the simplest filter is a string. In this section we will pass a string to a different filter method and Beautiful Soup will perform a match against that exact string. Consider the following HTML of rocket launches:\n"
   ]
  },
  {
   "cell_type": "code",
   "execution_count": 26,
   "id": "a95fc178-0f46-4176-be9d-4839fb268c29",
   "metadata": {},
   "outputs": [
    {
     "data": {
      "text/html": [
       "<table>\n",
       "  <tr>\n",
       "    <td id='flight' >Flight No</td>\n",
       "    <td>Launch site</td> \n",
       "    <td>Payload mass</td>\n",
       "   </tr>\n",
       "  <tr> \n",
       "    <td>1</td>\n",
       "    <td><a href='https://en.wikipedia.org/wiki/Florida'>Florida</a></td>\n",
       "    <td>300 kg</td>\n",
       "  </tr>\n",
       "  <tr>\n",
       "    <td>2</td>\n",
       "    <td><a href='https://en.wikipedia.org/wiki/Texas'>Texas</a></td>\n",
       "    <td>94 kg</td>\n",
       "  </tr>\n",
       "  <tr>\n",
       "    <td>3</td>\n",
       "    <td><a href='https://en.wikipedia.org/wiki/Florida'>Florida<a> </td>\n",
       "    <td>80 kg</td>\n",
       "  </tr>\n",
       "</table>\n"
      ],
      "text/plain": [
       "<IPython.core.display.HTML object>"
      ]
     },
     "metadata": {},
     "output_type": "display_data"
    }
   ],
   "source": [
    "%%html\n",
    "<table>\n",
    "  <tr>\n",
    "    <td id='flight' >Flight No</td>\n",
    "    <td>Launch site</td> \n",
    "    <td>Payload mass</td>\n",
    "   </tr>\n",
    "  <tr> \n",
    "    <td>1</td>\n",
    "    <td><a href='https://en.wikipedia.org/wiki/Florida'>Florida</a></td>\n",
    "    <td>300 kg</td>\n",
    "  </tr>\n",
    "  <tr>\n",
    "    <td>2</td>\n",
    "    <td><a href='https://en.wikipedia.org/wiki/Texas'>Texas</a></td>\n",
    "    <td>94 kg</td>\n",
    "  </tr>\n",
    "  <tr>\n",
    "    <td>3</td>\n",
    "    <td><a href='https://en.wikipedia.org/wiki/Florida'>Florida<a> </td>\n",
    "    <td>80 kg</td>\n",
    "  </tr>\n",
    "</table>"
   ]
  },
  {
   "cell_type": "markdown",
   "id": "c8ac9fae-596b-4874-a34d-b300e0dd495a",
   "metadata": {},
   "source": [
    "We can store it as a string in the variable <code>table</code>:\n"
   ]
  },
  {
   "cell_type": "code",
   "execution_count": 27,
   "id": "902b4b89-007e-416a-83ec-191640545ab7",
   "metadata": {},
   "outputs": [],
   "source": [
    "table=\"<table><tr><td id='flight'>Flight No</td><td>Launch site</td> <td>Payload mass</td></tr><tr> <td>1</td><td><a href='https://en.wikipedia.org/wiki/Florida'>Florida<a></td><td>300 kg</td></tr><tr><td>2</td><td><a href='https://en.wikipedia.org/wiki/Texas'>Texas</a></td><td>94 kg</td></tr><tr><td>3</td><td><a href='https://en.wikipedia.org/wiki/Florida'>Florida<a> </td><td>80 kg</td></tr></table>\""
   ]
  },
  {
   "cell_type": "code",
   "execution_count": 28,
   "id": "e5191e9a-b3bb-4c31-ae97-abc49e80c084",
   "metadata": {},
   "outputs": [],
   "source": [
    "table_bs = BeautifulSoup(table, 'html5lib')"
   ]
  },
  {
   "cell_type": "markdown",
   "id": "c5c7b9d1-89b9-4bd7-82df-5df169756cf0",
   "metadata": {},
   "source": [
    "## find All\n"
   ]
  },
  {
   "cell_type": "markdown",
   "id": "c078ee17-5d84-4bf3-b789-debac2154be0",
   "metadata": {},
   "source": [
    "The <code>find_all()</code> method looks through a tag's descendants and retrieves all descendants that match your filters.\n",
    "\n",
    "<p>\n",
    "The Method signature for <code>find_all(name, attrs, recursive, string, limit, **kwargs)<c/ode>\n",
    "</p>\n"
   ]
  },
  {
   "cell_type": "markdown",
   "id": "9022435e-0735-437d-9bb3-c17db7d90730",
   "metadata": {},
   "source": [
    "### Name\n"
   ]
  },
  {
   "cell_type": "markdown",
   "id": "f31f53fd-69e8-47c8-9a40-25994d8ee35c",
   "metadata": {},
   "source": [
    "When we set the <code>name</code> parameter to a tag name, the method will extract all the tags with that name and its children.\n"
   ]
  },
  {
   "cell_type": "code",
   "execution_count": 29,
   "id": "79aa9887-9716-4f12-a698-0c1dc4a78a9c",
   "metadata": {},
   "outputs": [
    {
     "data": {
      "text/plain": [
       "[<tr><td id=\"flight\">Flight No</td><td>Launch site</td> <td>Payload mass</td></tr>,\n",
       " <tr> <td>1</td><td><a href=\"https://en.wikipedia.org/wiki/Florida\">Florida</a><a></a></td><td>300 kg</td></tr>,\n",
       " <tr><td>2</td><td><a href=\"https://en.wikipedia.org/wiki/Texas\">Texas</a></td><td>94 kg</td></tr>,\n",
       " <tr><td>3</td><td><a href=\"https://en.wikipedia.org/wiki/Florida\">Florida</a><a> </a></td><td>80 kg</td></tr>]"
      ]
     },
     "execution_count": 29,
     "metadata": {},
     "output_type": "execute_result"
    }
   ],
   "source": [
    "table_rows=table_bs.find_all('tr')\n",
    "table_rows"
   ]
  },
  {
   "cell_type": "markdown",
   "id": "35d00cff-23b4-4909-b8b5-1241255b128a",
   "metadata": {},
   "source": [
    "The result is a Python iterable just like a list, each element is a <code>tag</code> object:\n"
   ]
  },
  {
   "cell_type": "code",
   "execution_count": 30,
   "id": "59ab6f99-4a39-424d-8e47-a81d4e408a4d",
   "metadata": {},
   "outputs": [
    {
     "data": {
      "text/plain": [
       "<tr><td id=\"flight\">Flight No</td><td>Launch site</td> <td>Payload mass</td></tr>"
      ]
     },
     "execution_count": 30,
     "metadata": {},
     "output_type": "execute_result"
    }
   ],
   "source": [
    "first_row =table_rows[0]\n",
    "first_row"
   ]
  },
  {
   "cell_type": "markdown",
   "id": "a522e03e-0fa7-4cfb-90b5-e905c1fa21b0",
   "metadata": {},
   "source": [
    "The type is <code>tag</code>\n"
   ]
  },
  {
   "cell_type": "code",
   "execution_count": 31,
   "id": "a70f0810-845e-410b-8d7b-7f93ed1f0cbb",
   "metadata": {},
   "outputs": [
    {
     "name": "stdout",
     "output_type": "stream",
     "text": [
      "<class 'bs4.element.Tag'>\n"
     ]
    }
   ],
   "source": [
    "print(type(first_row))"
   ]
  },
  {
   "cell_type": "markdown",
   "id": "c3234c67-244e-43f3-ba83-ccd5ce544f36",
   "metadata": {},
   "source": [
    "we can obtain the child\n"
   ]
  },
  {
   "cell_type": "code",
   "execution_count": 32,
   "id": "67032b46-397d-45ef-acbf-db24292a618e",
   "metadata": {},
   "outputs": [
    {
     "data": {
      "text/plain": [
       "<td id=\"flight\">Flight No</td>"
      ]
     },
     "execution_count": 32,
     "metadata": {},
     "output_type": "execute_result"
    }
   ],
   "source": [
    "first_row.td"
   ]
  },
  {
   "cell_type": "markdown",
   "id": "9f2c7e07-6890-40e4-9983-9aa999be3024",
   "metadata": {},
   "source": [
    "If we iterate through the list, each element corresponds to a row in the table:\n"
   ]
  },
  {
   "cell_type": "code",
   "execution_count": 33,
   "id": "9b7f6b69-83f0-4957-89fb-d59d45f8e73d",
   "metadata": {},
   "outputs": [
    {
     "name": "stdout",
     "output_type": "stream",
     "text": [
      "row 0 is <tr><td id=\"flight\">Flight No</td><td>Launch site</td> <td>Payload mass</td></tr>\n",
      "row 1 is <tr> <td>1</td><td><a href=\"https://en.wikipedia.org/wiki/Florida\">Florida</a><a></a></td><td>300 kg</td></tr>\n",
      "row 2 is <tr><td>2</td><td><a href=\"https://en.wikipedia.org/wiki/Texas\">Texas</a></td><td>94 kg</td></tr>\n",
      "row 3 is <tr><td>3</td><td><a href=\"https://en.wikipedia.org/wiki/Florida\">Florida</a><a> </a></td><td>80 kg</td></tr>\n"
     ]
    }
   ],
   "source": [
    "for i,row in enumerate(table_rows):\n",
    "    print(\"row\",i,\"is\",row)\n",
    "    "
   ]
  },
  {
   "cell_type": "markdown",
   "id": "c831a4f8-e830-4d07-b585-5856fbc5e293",
   "metadata": {},
   "source": [
    "As <code>row</code> is a <code>cell</code> object, we can apply the method <code>find_all</code> to it and extract table cells in the object <code>cells</code> using the tag <code>td</code>, this is all the children with the name <code>td</code>. The result is a list, each element corresponds to a cell and is a <code>Tag</code> object, we can iterate through this list as well. We can extract the content using the <code>string</code> attribute.\n"
   ]
  },
  {
   "cell_type": "code",
   "execution_count": 34,
   "id": "ad25bd52-6942-43fe-be36-8f8ca8f00c1e",
   "metadata": {},
   "outputs": [
    {
     "name": "stdout",
     "output_type": "stream",
     "text": [
      "row 0\n",
      "colunm 0 cell <td id=\"flight\">Flight No</td>\n",
      "colunm 1 cell <td>Launch site</td>\n",
      "colunm 2 cell <td>Payload mass</td>\n",
      "row 1\n",
      "colunm 0 cell <td>1</td>\n",
      "colunm 1 cell <td><a href=\"https://en.wikipedia.org/wiki/Florida\">Florida</a><a></a></td>\n",
      "colunm 2 cell <td>300 kg</td>\n",
      "row 2\n",
      "colunm 0 cell <td>2</td>\n",
      "colunm 1 cell <td><a href=\"https://en.wikipedia.org/wiki/Texas\">Texas</a></td>\n",
      "colunm 2 cell <td>94 kg</td>\n",
      "row 3\n",
      "colunm 0 cell <td>3</td>\n",
      "colunm 1 cell <td><a href=\"https://en.wikipedia.org/wiki/Florida\">Florida</a><a> </a></td>\n",
      "colunm 2 cell <td>80 kg</td>\n"
     ]
    }
   ],
   "source": [
    "for i,row in enumerate(table_rows):\n",
    "    print(\"row\",i)\n",
    "    cells=row.find_all('td')\n",
    "    for j,cell in enumerate(cells):\n",
    "        print('colunm',j,\"cell\",cell)"
   ]
  },
  {
   "cell_type": "markdown",
   "id": "1e517291-6216-4c07-8f72-6dfd3151cd11",
   "metadata": {},
   "source": [
    "If we use a list we can match against any item in that list.\n"
   ]
  },
  {
   "cell_type": "code",
   "execution_count": 35,
   "id": "909519b1-747c-4edb-a439-d0a140d285cf",
   "metadata": {},
   "outputs": [
    {
     "data": {
      "text/plain": [
       "[<tr><td id=\"flight\">Flight No</td><td>Launch site</td> <td>Payload mass</td></tr>,\n",
       " <td id=\"flight\">Flight No</td>,\n",
       " <td>Launch site</td>,\n",
       " <td>Payload mass</td>,\n",
       " <tr> <td>1</td><td><a href=\"https://en.wikipedia.org/wiki/Florida\">Florida</a><a></a></td><td>300 kg</td></tr>,\n",
       " <td>1</td>,\n",
       " <td><a href=\"https://en.wikipedia.org/wiki/Florida\">Florida</a><a></a></td>,\n",
       " <td>300 kg</td>,\n",
       " <tr><td>2</td><td><a href=\"https://en.wikipedia.org/wiki/Texas\">Texas</a></td><td>94 kg</td></tr>,\n",
       " <td>2</td>,\n",
       " <td><a href=\"https://en.wikipedia.org/wiki/Texas\">Texas</a></td>,\n",
       " <td>94 kg</td>,\n",
       " <tr><td>3</td><td><a href=\"https://en.wikipedia.org/wiki/Florida\">Florida</a><a> </a></td><td>80 kg</td></tr>,\n",
       " <td>3</td>,\n",
       " <td><a href=\"https://en.wikipedia.org/wiki/Florida\">Florida</a><a> </a></td>,\n",
       " <td>80 kg</td>]"
      ]
     },
     "execution_count": 35,
     "metadata": {},
     "output_type": "execute_result"
    }
   ],
   "source": [
    "list_input=table_bs .find_all(name=[\"tr\", \"td\"])\n",
    "list_input"
   ]
  },
  {
   "cell_type": "markdown",
   "id": "bb20f027-24d1-46e2-acd9-9230e2cb1a98",
   "metadata": {},
   "source": [
    "## Attributes\n"
   ]
  },
  {
   "cell_type": "markdown",
   "id": "fc6bf343-9843-4a4c-bac1-4ae5f6d7c65a",
   "metadata": {},
   "source": [
    "If the argument is not recognized it will be turned into a filter on the tag's attributes. For example with the <code>id</code> argument, Beautiful Soup will filter against each tag's <code>id</code> attribute. For example, the first <code>td</code> elements have a value of <code>id</code> of <code>flight</code>, therefore we can filter based on that <code>id</code> value.\n"
   ]
  },
  {
   "cell_type": "code",
   "execution_count": 36,
   "id": "9c5ea194-a66b-41d2-8f51-7ab4385eeb8a",
   "metadata": {},
   "outputs": [
    {
     "data": {
      "text/plain": [
       "[<td id=\"flight\">Flight No</td>]"
      ]
     },
     "execution_count": 36,
     "metadata": {},
     "output_type": "execute_result"
    }
   ],
   "source": [
    "table_bs.find_all(id=\"flight\")"
   ]
  },
  {
   "cell_type": "markdown",
   "id": "56082368-f4ce-4521-bc46-2a0395fea341",
   "metadata": {},
   "source": [
    "We can find all the elements that have links to the Florida Wikipedia page:\n"
   ]
  },
  {
   "cell_type": "code",
   "execution_count": 37,
   "id": "9d24c9f3-b786-4992-9448-1aafcd9b5d79",
   "metadata": {},
   "outputs": [
    {
     "data": {
      "text/plain": [
       "[<a href=\"https://en.wikipedia.org/wiki/Florida\">Florida</a>,\n",
       " <a href=\"https://en.wikipedia.org/wiki/Florida\">Florida</a>]"
      ]
     },
     "execution_count": 37,
     "metadata": {},
     "output_type": "execute_result"
    }
   ],
   "source": [
    "list_input=table_bs.find_all(href=\"https://en.wikipedia.org/wiki/Florida\")\n",
    "list_input"
   ]
  },
  {
   "cell_type": "markdown",
   "id": "e1f2cd56-f42a-42ad-ae32-81f9178fb705",
   "metadata": {},
   "source": [
    "If we set the <code>href</code> attribute to True, regardless of what the value is, the code finds all tags with <code>href</code> value:\n"
   ]
  },
  {
   "cell_type": "code",
   "execution_count": 38,
   "id": "3f0830f6-f873-4a89-8f8c-6ab0305afb02",
   "metadata": {},
   "outputs": [
    {
     "data": {
      "text/plain": [
       "[<a href=\"https://en.wikipedia.org/wiki/Florida\">Florida</a>,\n",
       " <a href=\"https://en.wikipedia.org/wiki/Texas\">Texas</a>,\n",
       " <a href=\"https://en.wikipedia.org/wiki/Florida\">Florida</a>]"
      ]
     },
     "execution_count": 38,
     "metadata": {},
     "output_type": "execute_result"
    }
   ],
   "source": [
    "table_bs.find_all(href=True)"
   ]
  },
  {
   "cell_type": "markdown",
   "id": "d9d7e377-fd5c-4caf-9b60-3d8b9b61f96b",
   "metadata": {},
   "source": [
    "There are other methods for dealing with attributes and other related methods. Check out the following <a href='https://www.crummy.com/software/BeautifulSoup/bs4/doc/?utm_medium=Exinfluencer&utm_source=Exinfluencer&utm_content=000026UJ&utm_term=10006555&utm_id=NA-SkillsNetwork-Channel-SkillsNetworkCoursesIBMDeveloperSkillsNetworkPY0101ENSkillsNetwork19487395-2021-01-01#css-selectors'>link</a>\n"
   ]
  },
  {
   "cell_type": "markdown",
   "id": "d266821b-a905-43ba-ba7c-a18f15005d13",
   "metadata": {},
   "source": [
    "<h3 id=\"exer_type\">Exercise: <code>find_all</code></h3>\n"
   ]
  },
  {
   "cell_type": "markdown",
   "id": "d6055aca-6157-4714-ab71-2a15bf7ecd94",
   "metadata": {},
   "source": [
    "Using the logic above, find all the elements without <code>href</code> value\n"
   ]
  },
  {
   "cell_type": "code",
   "execution_count": 39,
   "id": "55ec1cfd-333d-40e8-a0a6-dc196adfd0ce",
   "metadata": {},
   "outputs": [
    {
     "data": {
      "text/plain": [
       "[<html><head></head><body><table><tbody><tr><td id=\"flight\">Flight No</td><td>Launch site</td> <td>Payload mass</td></tr><tr> <td>1</td><td><a href=\"https://en.wikipedia.org/wiki/Florida\">Florida</a><a></a></td><td>300 kg</td></tr><tr><td>2</td><td><a href=\"https://en.wikipedia.org/wiki/Texas\">Texas</a></td><td>94 kg</td></tr><tr><td>3</td><td><a href=\"https://en.wikipedia.org/wiki/Florida\">Florida</a><a> </a></td><td>80 kg</td></tr></tbody></table></body></html>,\n",
       " <head></head>,\n",
       " <body><table><tbody><tr><td id=\"flight\">Flight No</td><td>Launch site</td> <td>Payload mass</td></tr><tr> <td>1</td><td><a href=\"https://en.wikipedia.org/wiki/Florida\">Florida</a><a></a></td><td>300 kg</td></tr><tr><td>2</td><td><a href=\"https://en.wikipedia.org/wiki/Texas\">Texas</a></td><td>94 kg</td></tr><tr><td>3</td><td><a href=\"https://en.wikipedia.org/wiki/Florida\">Florida</a><a> </a></td><td>80 kg</td></tr></tbody></table></body>,\n",
       " <table><tbody><tr><td id=\"flight\">Flight No</td><td>Launch site</td> <td>Payload mass</td></tr><tr> <td>1</td><td><a href=\"https://en.wikipedia.org/wiki/Florida\">Florida</a><a></a></td><td>300 kg</td></tr><tr><td>2</td><td><a href=\"https://en.wikipedia.org/wiki/Texas\">Texas</a></td><td>94 kg</td></tr><tr><td>3</td><td><a href=\"https://en.wikipedia.org/wiki/Florida\">Florida</a><a> </a></td><td>80 kg</td></tr></tbody></table>,\n",
       " <tbody><tr><td id=\"flight\">Flight No</td><td>Launch site</td> <td>Payload mass</td></tr><tr> <td>1</td><td><a href=\"https://en.wikipedia.org/wiki/Florida\">Florida</a><a></a></td><td>300 kg</td></tr><tr><td>2</td><td><a href=\"https://en.wikipedia.org/wiki/Texas\">Texas</a></td><td>94 kg</td></tr><tr><td>3</td><td><a href=\"https://en.wikipedia.org/wiki/Florida\">Florida</a><a> </a></td><td>80 kg</td></tr></tbody>,\n",
       " <tr><td id=\"flight\">Flight No</td><td>Launch site</td> <td>Payload mass</td></tr>,\n",
       " <td id=\"flight\">Flight No</td>,\n",
       " <td>Launch site</td>,\n",
       " <td>Payload mass</td>,\n",
       " <tr> <td>1</td><td><a href=\"https://en.wikipedia.org/wiki/Florida\">Florida</a><a></a></td><td>300 kg</td></tr>,\n",
       " <td>1</td>,\n",
       " <td><a href=\"https://en.wikipedia.org/wiki/Florida\">Florida</a><a></a></td>,\n",
       " <a></a>,\n",
       " <td>300 kg</td>,\n",
       " <tr><td>2</td><td><a href=\"https://en.wikipedia.org/wiki/Texas\">Texas</a></td><td>94 kg</td></tr>,\n",
       " <td>2</td>,\n",
       " <td><a href=\"https://en.wikipedia.org/wiki/Texas\">Texas</a></td>,\n",
       " <td>94 kg</td>,\n",
       " <tr><td>3</td><td><a href=\"https://en.wikipedia.org/wiki/Florida\">Florida</a><a> </a></td><td>80 kg</td></tr>,\n",
       " <td>3</td>,\n",
       " <td><a href=\"https://en.wikipedia.org/wiki/Florida\">Florida</a><a> </a></td>,\n",
       " <a> </a>,\n",
       " <td>80 kg</td>]"
      ]
     },
     "execution_count": 39,
     "metadata": {},
     "output_type": "execute_result"
    }
   ],
   "source": [
    "table_bs.find_all(href=False)"
   ]
  },
  {
   "cell_type": "markdown",
   "id": "3bc49a47-6bdd-45aa-8fbd-e12f1098efc5",
   "metadata": {},
   "source": [
    "<details><summary>Click here for the solution</summary>\n",
    "\n",
    "```\n",
    "table_bs.find_all(href=False)\n",
    "\n",
    "```\n",
    "\n",
    "</details>\n"
   ]
  },
  {
   "cell_type": "markdown",
   "id": "909ffd92-80a4-45dd-b4c4-4f56959144d2",
   "metadata": {},
   "source": [
    "Using the soup object <code>soup</code>, find the element with the <code>id</code> attribute content set to <code>\"boldest\"</code>.\n"
   ]
  },
  {
   "cell_type": "code",
   "execution_count": 40,
   "id": "6bcb1c69-5589-4ed1-84ca-51e143966d28",
   "metadata": {},
   "outputs": [
    {
     "data": {
      "text/plain": [
       "[<b id=\"boldest\">Lebron James</b>]"
      ]
     },
     "execution_count": 40,
     "metadata": {},
     "output_type": "execute_result"
    }
   ],
   "source": [
    "soup.find_all(id='boldest')"
   ]
  },
  {
   "cell_type": "markdown",
   "id": "edbe2121-1bb0-4062-b575-c1fe5ab5f0bd",
   "metadata": {},
   "source": [
    "<details><summary>Click here for the solution</summary>\n",
    "\n",
    "```\n",
    "soup.find_all(id=\"boldest\")\n",
    "\n",
    "```\n",
    "\n",
    "</details>\n"
   ]
  },
  {
   "cell_type": "markdown",
   "id": "8fc2663f-d26d-4945-a63b-1cfbf71e3650",
   "metadata": {},
   "source": [
    "### string\n"
   ]
  },
  {
   "cell_type": "markdown",
   "id": "56996303-a7ac-4414-be80-bcfa06f9b3fd",
   "metadata": {},
   "source": [
    "With string you can search for strings instead of tags, where we find all the elments with Florida:\n"
   ]
  },
  {
   "cell_type": "code",
   "execution_count": 41,
   "id": "7109decd-d839-43b3-838c-b6e6c2a07be2",
   "metadata": {},
   "outputs": [
    {
     "data": {
      "text/plain": [
       "['Florida', 'Florida']"
      ]
     },
     "execution_count": 41,
     "metadata": {},
     "output_type": "execute_result"
    }
   ],
   "source": [
    "table_bs.find_all(string=\"Florida\")"
   ]
  },
  {
   "cell_type": "markdown",
   "id": "b8e8ff9d-5fab-4f99-8905-da118ccc850b",
   "metadata": {},
   "source": [
    "## find\n"
   ]
  },
  {
   "cell_type": "markdown",
   "id": "8a3ab777-5463-46ab-aa66-4e72c1b08f69",
   "metadata": {},
   "source": [
    "The <code>find_all()</code> method scans the entire document looking for results. It’s useful if you are looking for one element, as you can use the <code>find()</code> method to find the first element in the document. Consider the following two tables:\n"
   ]
  },
  {
   "cell_type": "code",
   "execution_count": 42,
   "id": "a680e1a6-493e-42f3-b5e8-1469b1678112",
   "metadata": {},
   "outputs": [
    {
     "data": {
      "text/html": [
       "<h3>Rocket Launch </h3>\n",
       "\n",
       "<p>\n",
       "<table class='rocket'>\n",
       "  <tr>\n",
       "    <td>Flight No</td>\n",
       "    <td>Launch site</td> \n",
       "    <td>Payload mass</td>\n",
       "  </tr>\n",
       "  <tr>\n",
       "    <td>1</td>\n",
       "    <td>Florida</td>\n",
       "    <td>300 kg</td>\n",
       "  </tr>\n",
       "  <tr>\n",
       "    <td>2</td>\n",
       "    <td>Texas</td>\n",
       "    <td>94 kg</td>\n",
       "  </tr>\n",
       "  <tr>\n",
       "    <td>3</td>\n",
       "    <td>Florida </td>\n",
       "    <td>80 kg</td>\n",
       "  </tr>\n",
       "</table>\n",
       "</p>\n",
       "<p>\n",
       "\n",
       "<h3>Pizza Party  </h3>\n",
       "  \n",
       "    \n",
       "<table class='pizza'>\n",
       "  <tr>\n",
       "    <td>Pizza Place</td>\n",
       "    <td>Orders</td> \n",
       "    <td>Slices </td>\n",
       "   </tr>\n",
       "  <tr>\n",
       "    <td>Domino's Pizza</td>\n",
       "    <td>10</td>\n",
       "    <td>100</td>\n",
       "  </tr>\n",
       "  <tr>\n",
       "    <td>Little Caesars</td>\n",
       "    <td>12</td>\n",
       "    <td >144 </td>\n",
       "  </tr>\n",
       "  <tr>\n",
       "    <td>Papa John's </td>\n",
       "    <td>15 </td>\n",
       "    <td>165</td>\n",
       "  </tr>\n"
      ],
      "text/plain": [
       "<IPython.core.display.HTML object>"
      ]
     },
     "metadata": {},
     "output_type": "display_data"
    }
   ],
   "source": [
    "%%html\n",
    "<h3>Rocket Launch </h3>\n",
    "\n",
    "<p>\n",
    "<table class='rocket'>\n",
    "  <tr>\n",
    "    <td>Flight No</td>\n",
    "    <td>Launch site</td> \n",
    "    <td>Payload mass</td>\n",
    "  </tr>\n",
    "  <tr>\n",
    "    <td>1</td>\n",
    "    <td>Florida</td>\n",
    "    <td>300 kg</td>\n",
    "  </tr>\n",
    "  <tr>\n",
    "    <td>2</td>\n",
    "    <td>Texas</td>\n",
    "    <td>94 kg</td>\n",
    "  </tr>\n",
    "  <tr>\n",
    "    <td>3</td>\n",
    "    <td>Florida </td>\n",
    "    <td>80 kg</td>\n",
    "  </tr>\n",
    "</table>\n",
    "</p>\n",
    "<p>\n",
    "\n",
    "<h3>Pizza Party  </h3>\n",
    "  \n",
    "    \n",
    "<table class='pizza'>\n",
    "  <tr>\n",
    "    <td>Pizza Place</td>\n",
    "    <td>Orders</td> \n",
    "    <td>Slices </td>\n",
    "   </tr>\n",
    "  <tr>\n",
    "    <td>Domino's Pizza</td>\n",
    "    <td>10</td>\n",
    "    <td>100</td>\n",
    "  </tr>\n",
    "  <tr>\n",
    "    <td>Little Caesars</td>\n",
    "    <td>12</td>\n",
    "    <td >144 </td>\n",
    "  </tr>\n",
    "  <tr>\n",
    "    <td>Papa John's </td>\n",
    "    <td>15 </td>\n",
    "    <td>165</td>\n",
    "  </tr>\n"
   ]
  },
  {
   "cell_type": "markdown",
   "id": "9176fc69-b5a9-4112-9278-5cc91b42d30e",
   "metadata": {},
   "source": [
    "We store the HTML as a Python string and assign <code>two_tables</code>:\n"
   ]
  },
  {
   "cell_type": "code",
   "execution_count": 43,
   "id": "7a53b596-5e6c-496e-8bf5-a86ab0a2fb7f",
   "metadata": {},
   "outputs": [],
   "source": [
    "two_tables=\"<h3>Rocket Launch </h3><p><table class='rocket'><tr><td>Flight No</td><td>Launch site</td> <td>Payload mass</td></tr><tr><td>1</td><td>Florida</td><td>300 kg</td></tr><tr><td>2</td><td>Texas</td><td>94 kg</td></tr><tr><td>3</td><td>Florida </td><td>80 kg</td></tr></table></p><p><h3>Pizza Party  </h3><table class='pizza'><tr><td>Pizza Place</td><td>Orders</td> <td>Slices </td></tr><tr><td>Domino's Pizza</td><td>10</td><td>100</td></tr><tr><td>Little Caesars</td><td>12</td><td >144 </td></tr><tr><td>Papa John's </td><td>15 </td><td>165</td></tr>\""
   ]
  },
  {
   "cell_type": "markdown",
   "id": "6fd5a31e-dc14-4ea3-8584-1bc33cf37bce",
   "metadata": {},
   "source": [
    "We create a <code>BeautifulSoup</code> object  <code>two_tables_bs</code>\n"
   ]
  },
  {
   "cell_type": "code",
   "execution_count": 44,
   "id": "f57a3381-8706-4a2e-84fb-c47e55928c0b",
   "metadata": {},
   "outputs": [],
   "source": [
    "two_tables_bs= BeautifulSoup(two_tables, 'html.parser')"
   ]
  },
  {
   "cell_type": "markdown",
   "id": "36cfcf86-331d-4254-a716-048695ce3811",
   "metadata": {},
   "source": [
    "We can find the first table using the tag name table\n"
   ]
  },
  {
   "cell_type": "code",
   "execution_count": 45,
   "id": "d97f91bd-c3e4-4d12-a249-934b4d6f4129",
   "metadata": {},
   "outputs": [
    {
     "data": {
      "text/plain": [
       "<table class=\"rocket\"><tr><td>Flight No</td><td>Launch site</td> <td>Payload mass</td></tr><tr><td>1</td><td>Florida</td><td>300 kg</td></tr><tr><td>2</td><td>Texas</td><td>94 kg</td></tr><tr><td>3</td><td>Florida </td><td>80 kg</td></tr></table>"
      ]
     },
     "execution_count": 45,
     "metadata": {},
     "output_type": "execute_result"
    }
   ],
   "source": [
    "two_tables_bs.find(\"table\")"
   ]
  },
  {
   "cell_type": "markdown",
   "id": "5f2eb5f3-8335-422b-acdf-92baefdd4b33",
   "metadata": {},
   "source": [
    "We can filter on the class attribute to find the second table, but because class is a keyword in Python, we add an underscore to differentiate them.\n"
   ]
  },
  {
   "cell_type": "code",
   "execution_count": 46,
   "id": "32f78e48-7dc6-41d9-afb6-a25a17bc37ea",
   "metadata": {},
   "outputs": [
    {
     "data": {
      "text/plain": [
       "<table class=\"pizza\"><tr><td>Pizza Place</td><td>Orders</td> <td>Slices </td></tr><tr><td>Domino's Pizza</td><td>10</td><td>100</td></tr><tr><td>Little Caesars</td><td>12</td><td>144 </td></tr><tr><td>Papa John's </td><td>15 </td><td>165</td></tr></table>"
      ]
     },
     "execution_count": 46,
     "metadata": {},
     "output_type": "execute_result"
    }
   ],
   "source": [
    "two_tables_bs.find(\"table\",class_='pizza')"
   ]
  },
  {
   "cell_type": "markdown",
   "id": "d0d6141e-1857-43f4-8f6d-f36cda0d3880",
   "metadata": {},
   "source": [
    "<h2 id=\"DSCW\">Downloading And Scraping The Contents Of A Web Page</h2> \n"
   ]
  },
  {
   "cell_type": "markdown",
   "id": "05c920a1-1cf5-4f12-aaba-776e44a44ae1",
   "metadata": {},
   "source": [
    "We Download the contents of the web page:\n"
   ]
  },
  {
   "cell_type": "code",
   "execution_count": 47,
   "id": "a4a3966f-83bd-44fb-8a34-47fd336450ef",
   "metadata": {},
   "outputs": [],
   "source": [
    "url = \"http://www.ibm.com\""
   ]
  },
  {
   "cell_type": "markdown",
   "id": "7f4cd19c-1251-4718-84e6-c4aa6f7da5b5",
   "metadata": {},
   "source": [
    "We use <code>get</code> to download the contents of the webpage in text format and store in a variable called <code>data</code>:\n"
   ]
  },
  {
   "cell_type": "code",
   "execution_count": 51,
   "id": "23d69a77-86a9-435d-b168-5f6f4440878b",
   "metadata": {},
   "outputs": [
    {
     "data": {
      "text/plain": [
       "'\\n<!DOCTYPE HTML>\\n<html lang=\"pt-br\">\\n<head>\\n    \\n    \\n    \\n    \\n    <meta charset=\"UTF-8\"/>\\n    <meta name=\"languageCode\" content=\"pt\"/>\\n    <meta name=\"countryCode\" content=\"br\"/>\\n    <meta name=\"focusArea\" content=\"No Contact Module\"/>\\n    <title>IBM - Brasil</title>\\n    <link rel=\"icon\" href=\"/content/dam/adobe-cms/default-images/favicon.svg\"/>\\n    \\n    <meta name=\"description\" content=\"Por mais de um século, a IBM tem sido uma inovadora mundial em tecnologia, liderando os avanços em soluções de IA, automação e nuvem híbrida que ajudam as empresas a crescer.\"/>\\n    <meta name=\"template\" content=\"full-width-layout\"/>\\n    <meta name=\"viewport\" content=\"width=device-width, initial-scale=1\"/>\\n    <meta name=\"robots\" content=\"index, follow\"/>\\n    <meta name=\"ibm.com.search.appid\" content=\"casestudies\"/>\\n    <meta name=\"ibm.com.search.scopes\" content=\"casestudies\"/>\\n    \\n        \\n            \\n                <meta name=\"ibm.search.facet.field_keyword_01\" content=\"Data AI,Security,Demo,Cloud - Public Cloud Platform,Watson Health,AI Apps Sustainability,Future Use,Systems Hardware,Consulting,Future Use 2,Future Use 3,Future Use 4,Miscellaneous,Ecosystem,Cloud - Automation,Blockchain,Red Hat,Kyndryl,Cross IBM\"/>\\n            \\n                <meta name=\"ibm.search.facet.field_keyword_02\" content=\"Quantum computing,Consulting services,Watson Health,Blockchain,IT Infrastructure,Cybersecurity,Operations,Cloud Computing,Automation,Analytics,Industries,Supply Chain,Services\"/>\\n            \\n        \\n    \\n    <link rel=\"canonical\" href=\"https://www.ibm.com/br-pt\"/>\\n    <style id=\"anti-flicker-style\">\\n        :not(:defined) {\\n          visibility: hidden;\\n        }\\n    </style>\\n    <script type=\"text/javascript\" id=\"anti-flicker-script\">\\n        (async () => {\\n          await customElements.whenDefined(\\'dds-masthead-container\\');\\n          document.getElementById(\\'anti-flicker-style\\').remove();\\n          document.getElementById(\\'anti-flicker-script\\').remove();\\n        })()\\n    </script>\\n    \\n\\n    <script type=\"text/javascript\">\\n    \\tvar templateName = \\'full\\\\u002Dwidth\\\\u002Dlayout\\';\\n\\n        if(templateName === \\'case-study\\'){\\n        \\t var taxonomylist = \\'\\';\\n             var keys_vals = taxonomylist.split(\",\");\\n            keys_vals.forEach(function (data,index) {\\n                keys_vals[index] = keys_vals[index].substring(keys_vals[index].indexOf(\":\") + 1);\\n            });\\n            keys_vals.forEach(function (data,index) {\\n                keys_vals[index] = keys_vals[index].substring((keys_vals[index].lastIndexOf(\\'/\\'))+1).trim();\\n            });\\n            var meta  = document.createElement(\\'meta\\');\\n            var head  = document.getElementsByTagName(\\'head\\')[0];\\n            var contentList = keys_vals.toString();\\n            var keywordIndex = \\'ibm.search.facet.field_keyword_01\\';\\n            if(contentList){\\n                meta.name   = keywordIndex;\\n                meta.content = contentList;\\n                head.appendChild(meta);\\n            }\\n        }\\n    </script>\\n\\n<!--    <script>\\n      (function(s,t,a,n){s[t]||(s[t]=a,n=s[a]=function(){n.q.push(arguments)},\\n      n.q=[],n.v=2,n.l=1*new Date)})(window,\"InstanaEumObject\",\"ineum\");\\n      ineum(\\'reportingUrl\\', \\'https://eum-orange-saas.instana.io\\');\\n      ineum(\\'key\\', \\'QSUr0uqUS0m37yyre8ntkQ\\');\\n      ineum(\\'trackSessions\\');\\n    </script>\\n    <script defer crossorigin=\"anonymous\" src=\"https://eum.instana.io/eum.min.js\"></script>-->\\n\\n    \\n        <link rel=\"alternate\" hreflang=\"de-de\" href=\"https://www.ibm.com/de-de\"/>\\n    \\n        <link rel=\"alternate\" hreflang=\"en-ca\" href=\"https://www.ibm.com/ca-en\"/>\\n    \\n        <link rel=\"alternate\" hreflang=\"ko-kr\" href=\"https://www.ibm.com/kr-ko\"/>\\n    \\n        <link rel=\"alternate\" hreflang=\"pt-br\" href=\"https://www.ibm.com/br-pt\"/>\\n    \\n        <link rel=\"alternate\" hreflang=\"en-in\" href=\"https://www.ibm.com/in-en\"/>\\n    \\n        <link rel=\"alternate\" hreflang=\"es-es\" href=\"https://www.ibm.com/es-es\"/>\\n    \\n        <link rel=\"alternate\" hreflang=\"zh-cn\" href=\"https://www.ibm.com/cn-zh\"/>\\n    \\n        <link rel=\"alternate\" hreflang=\"es-mx\" href=\"https://www.ibm.com/mx-es\"/>\\n    \\n        <link rel=\"alternate\" hreflang=\"it-it\" href=\"https://www.ibm.com/it-it\"/>\\n    \\n        <link rel=\"alternate\" hreflang=\"id-id\" href=\"https://www.ibm.com/id-id\"/>\\n    \\n        <link rel=\"alternate\" hreflang=\"en-au\" href=\"https://www.ibm.com/au-en\"/>\\n    \\n        <link rel=\"alternate\" hreflang=\"en-uk\" href=\"https://www.ibm.com/uk-en\"/>\\n    \\n        <link rel=\"alternate\" hreflang=\"fr-fr\" href=\"https://www.ibm.com/fr-fr\"/>\\n    \\n        <link rel=\"alternate\" hreflang=\"ja-jp\" href=\"https://www.ibm.com/jp-ja\"/>\\n    \\n    <script type=\"text/javascript\">\\n        window.antiFlicker = {\\n            active: true,\\n            timeout: 3000\\n        }\\n    </script>\\n    <script type=\"text/javascript\">\\n        var languageCode = document.getElementsByName(\\'languageCode\\')[0].content;\\n        var countryCode = document.getElementsByName(\\'countryCode\\')[0].content;\\n        var focusArea = document.getElementsByName(\\'focusArea\\')[0].content;\\n        /* Define digital data object based on _appInfo object */\\n        window.digitalData = {\\n            page: {\\n                category: {\\n                    primaryCategory: \\'\\',\\n                },\\n                pageInfo: {\\n                    language: languageCode + \\'-\\' + countryCode,\\n                    ibm: {\\n                        siteID: \\'MarketingAEM\\',\\n                        country: countryCode,\\n                        messaging: {\\n                            routing: {\\n                                focusArea: focusArea,\\n                                languageCode: languageCode,\\n                                regionCode: countryCode\\n                            },\\n                            translation: {\\n                                languageCode: languageCode,\\n                                regionCode: countryCode\\n                            }\\n                        },\\n                        sections: 0,\\n                        patterns: 0\\n                    }\\n                }\\n            }\\n        };\\n    </script>\\n    \\n    \\n        <meta property=\"og:url\" content=\"https://www.ibm.com/br-pt\"/>\\n    \\n        <meta property=\"og:type\" content=\"website\"/>\\n    \\n        <meta property=\"og:title\" content=\"IBM - Brasil\"/>\\n    \\n        <meta property=\"og:description\" content=\"Por mais de um século, a IBM tem sido uma inovadora mundial em tecnologia, liderando os avanços em soluções de IA, automação e nuvem híbrida que ajudam as empresas a crescer.\"/>\\n    \\n        <meta property=\"og:image\" content=\"https://www.ibm.com/content/dam/adobe-cms/default-images/home-rail-01.jpg/_jcr_content/renditions/cq5dam.web.1280.1280.jpeg\"/>\\n    \\n        \\n    \\n\\n    <script src=\"https://1.www.s81c.com/common/stats/ibm-common.js\" type=\"text/javascript\" async=\"async\"></script>\\n    <script src=\"https://s3.us.cloud-object-storage.appdomain.cloud/widget-registry/loader.js\" type=\"application/javascript\"></script>\\n    \\n    \\n    \\n<link rel=\"stylesheet\" href=\"/etc.clientlibs/adobe-cms/clientlibs/clientlib-idlStylesCarbon.min.ACSHASHd7a318481961867a09f465809b89e965.css\" type=\"text/css\">\\n<link rel=\"stylesheet\" href=\"/etc.clientlibs/adobe-cms/clientlibs/clientlib-idlStyles.min.ACSHASH397e40090c42250ddf162be2f0fd4f63.css\" type=\"text/css\">\\n\\n\\n\\n    \\n    <link rel=\"stylesheet\" href=\"https://1.www.s81c.com/common/carbon-for-ibm-dotcom/tag/v1/latest/plex.css\"/>\\n    <link rel=\"stylesheet\" href=\"https://1.www.s81c.com/common/carbon/plex/sans.css\"/>\\n    \\n    \\n\\n\\n    \\n    \\n    \\r\\n\\n    \\n\\n    \\n    \\n    \\n\\n\\n\\n    \\n\\n    \\n\\n\\n</head>\\n<body class=\"product-page content-page page basicpage publish\" id=\"product-page-870994de4c\">\\n\\n\\n\\n    \\n\\n\\n\\n\\n    \\n\\n\\n\\n    \\n<div class=\"root container responsivegrid\">\\n\\n    \\n    \\n    \\n    <div id=\"container-9225520bd9\" class=\"cmp-container\">\\n        \\n        <div class=\"masthead\">\\n\\n\\n\\n\\n\\n\\n\\n\\n<dds-masthead-container data-endpoint=\"/common/carbon-for-ibm-dotcom/translations/masthead-footer/v2\" auth-method=\"profile-api\" has-contact=\"false\"></dds-masthead-container>\\n\\n\\n\\n\\n<script src=\"https://1.www.s81c.com/common/carbon-for-ibm-dotcom/tag/v2/alpha/masthead.min.js\" type=\"module\"></script>\\n\\n\\n\\n\\n</div>\\n<div class=\"leadspace-container container responsivegrid\">\\n\\n    \\n    \\n    \\n    <div id=\"leadspace-container-362a128555\" class=\"cmp-container\">\\n        \\n        <div class=\"leadspace-expanded leadspace\">\\n<section class=\"theme-white\">\\n    <caem-container-leadspace size=\"super\">\\n        \\n\\n        <caem-heading slot=\"heading\" type=\"h2\" type-style=\"display-01\">\\n            \\n\\n\\n\\n  \\n    Multiplique o poder da IA com o watsonx\\n\\n\\n\\n\\n\\n\\n    \\n\\n\\n        </caem-heading>\\n\\n        <caem-paragraph size=\"lead-in\" data-autoid=\"caem--paragraph\">\\n            <p> \\n\\n\\n  \\n  \\n      A plataforma de dados e IA de última geração da IBM já está disponível para avaliação sem custo\\n  \\n\\n\\n\\n\\n    \\n\\n</p>\\n        </caem-paragraph>\\n\\n        \\n            <caem-button-group slot=\"action\">\\n                \\n                    \\n                    \\n\\n\\n\\n\\n    \\n    \\n    \\n    \\n    \\n    <caem-button-cta href=\"https://www.ibm.com/br-pt/watsonx\" target=\"_self\" kind=\"primary\" cta-type=\"local\">\\n        <span>Faça um tour</span>\\n        \\n        \\n    </caem-button-cta>\\n    \\n\\n\\n    \\n    \\n    \\n    \\n    \\n    <caem-button-cta href=\"https://dataplatform.cloud.ibm.com/registration/stepone?context=wx&adoper=209409_0_LS2\" target=\"_blank\" kind=\"tertiary\" cta-type=\"local\">\\n        <span>Comece a avaliação sem custo</span>\\n        \\n        \\n    </caem-button-cta>\\n    \\n\\n\\n\\n                \\n            </caem-button-group>\\n        \\n\\n        \\n\\n        \\n            \\n    \\n    \\n        \\n        \\n        \\n        \\n        <caem-image-with-caption id=\"image--285146211\" alt=\"Ilustração de círculos de papel concêntricos representando o poder da IA\" slot=\"media\" default-src=\"/content/dam/connectedassets-adobe-cms/worldwide-content/creative-assets/s-migr/ul/g/75/75/watsonx-overview-leadspace-super-hybrid-ui-homepage.component.xl.ts=1694804563966.png/content/adobe-cms/br/pt/homepage/jcr:content/root/leadspace_container/leadspace_expanded\" caption-alignment=\"left\">\\n            \\n            \\n                \\n                    \\n    <dds-image-item media=\"(min-width: 1312px) and (min-resolution: 192dpi)\" srcset=\"/content/dam/connectedassets-adobe-cms/worldwide-content/creative-assets/s-migr/ul/g/75/75/watsonx-overview-leadspace-super-hybrid-ui-homepage.component.xl-retina.ts=1694804563966.png/content/adobe-cms/br/pt/homepage/jcr:content/root/leadspace_container/leadspace_expanded\"></dds-image-item>\\n    <dds-image-item media=\"(min-width: 1312px)\" srcset=\"/content/dam/connectedassets-adobe-cms/worldwide-content/creative-assets/s-migr/ul/g/75/75/watsonx-overview-leadspace-super-hybrid-ui-homepage.component.xl.ts=1694804563966.png/content/adobe-cms/br/pt/homepage/jcr:content/root/leadspace_container/leadspace_expanded\"></dds-image-item>\\n    <dds-image-item media=\"(min-width: 1056px) and (min-resolution: 192dpi)\" srcset=\"/content/dam/connectedassets-adobe-cms/worldwide-content/creative-assets/s-migr/ul/g/75/75/watsonx-overview-leadspace-super-hybrid-ui-homepage.component.l-retina.ts=1694804563966.png/content/adobe-cms/br/pt/homepage/jcr:content/root/leadspace_container/leadspace_expanded\"></dds-image-item>\\n    <dds-image-item media=\"(min-width: 1056px)\" srcset=\"/content/dam/connectedassets-adobe-cms/worldwide-content/creative-assets/s-migr/ul/g/75/75/watsonx-overview-leadspace-super-hybrid-ui-homepage.component.l.ts=1694804563966.png/content/adobe-cms/br/pt/homepage/jcr:content/root/leadspace_container/leadspace_expanded\"></dds-image-item>\\n    <dds-image-item media=\"(min-width: 672px) and (min-resolution: 192dpi)\" srcset=\"/content/dam/connectedassets-adobe-cms/worldwide-content/creative-assets/s-migr/ul/g/75/75/watsonx-overview-leadspace-super-hybrid-ui-homepage.component.m-retina.ts=1694804563966.png/content/adobe-cms/br/pt/homepage/jcr:content/root/leadspace_container/leadspace_expanded\"></dds-image-item>\\n    <dds-image-item media=\"(min-width: 672px)\" srcset=\"/content/dam/connectedassets-adobe-cms/worldwide-content/creative-assets/s-migr/ul/g/75/75/watsonx-overview-leadspace-super-hybrid-ui-homepage.component.m.ts=1694804563966.png/content/adobe-cms/br/pt/homepage/jcr:content/root/leadspace_container/leadspace_expanded\"></dds-image-item>\\n    <dds-image-item media=\"(min-width: 481px) and (min-resolution: 192dpi)\" srcset=\"/content/dam/connectedassets-adobe-cms/worldwide-content/creative-assets/s-migr/ul/g/75/75/watsonx-overview-leadspace-super-hybrid-ui-homepage.component.s-retina.ts=1694804563966.png/content/adobe-cms/br/pt/homepage/jcr:content/root/leadspace_container/leadspace_expanded\"></dds-image-item>\\n    <dds-image-item media=\"(min-width: 481px)\" srcset=\"/content/dam/connectedassets-adobe-cms/worldwide-content/creative-assets/s-migr/ul/g/75/75/watsonx-overview-leadspace-super-hybrid-ui-homepage.component.s.ts=1694804563966.png/content/adobe-cms/br/pt/homepage/jcr:content/root/leadspace_container/leadspace_expanded\"></dds-image-item>\\n    <dds-image-item media=\"(max-width: 480px) and (min-resolution: 192dpi)\" srcset=\"/content/dam/connectedassets-adobe-cms/worldwide-content/creative-assets/s-migr/ul/g/75/75/watsonx-overview-leadspace-super-hybrid-ui-homepage.component.xs-retina.ts=1694804563966.png/content/adobe-cms/br/pt/homepage/jcr:content/root/leadspace_container/leadspace_expanded\"></dds-image-item>\\n    <dds-image-item media=\"(max-width: 480px)\" srcset=\"/content/dam/connectedassets-adobe-cms/worldwide-content/creative-assets/s-migr/ul/g/75/75/watsonx-overview-leadspace-super-hybrid-ui-homepage.component.xs.ts=1694804563966.png/content/adobe-cms/br/pt/homepage/jcr:content/root/leadspace_container/leadspace_expanded\"></dds-image-item>\\n\\n                    \\n                \\n            \\n        </caem-image-with-caption>\\n    \\n\\n    \\n\\n\\n        \\n        \\n         \\n\\t\\t\\t\\n            \\t<dds-link-list slot=\"aside\">\\n                \\t<dds-link-list-heading role=\"heading\" aria-level=\"4\" slot=\"heading\">\\n                    \\n\\n\\n  \\n  \\n\\n\\n\\n\\n    \\n\\n\\n                </dds-link-list-heading>\\n                \\n                 \\n                \\n    \\n        \\n         \\n        <caem-link-list-item cta-type=\"local\" href=\"https://www.ibm.com/thought-leadership/institute-business-value/report/ceo-generative-ai/application-modernization/\" label=\"Novidades\" target=\"_self\">\\n            \\n    \\n\\n\\n\\n    \\n\\n            <p>Guia do CEO sobre IA generativa </p>\\n            \\n            <dds-card-cta-footer href=\"https://www.ibm.com/thought-leadership/institute-business-value/report/ceo-generative-ai/application-modernization/\" target=\"_self\" cta-type=\"local\">\\n                \\n            </dds-card-cta-footer>\\n        </caem-link-list-item>\\n        \\n        \\n        \\n    \\n    \\n    \\n\\n\\n<script type=\"module\" src=\"https://1.www.s81c.com/common/carbon/carbon-for-aem/version/v0.7.2/link-list-item.min.js\"></script>\\n                 \\n                \\n                     \\n                \\n    \\n        \\n         \\n        <caem-link-list-item cta-type=\"local\" href=\"https://www.ibm.com/br-pt/products/cloud-pak-for-data\" label=\"IBM Cloud Pak for data\" target=\"_self\">\\n            \\n    \\n\\n\\n\\n    \\n\\n            <p>Use os dados ao seu favor e aumente sua produtividade.</p>\\n            \\n            <dds-card-cta-footer href=\"https://www.ibm.com/br-pt/products/cloud-pak-for-data\" target=\"_self\" cta-type=\"local\">\\n                \\n            </dds-card-cta-footer>\\n        </caem-link-list-item>\\n        \\n        \\n        \\n    \\n    \\n    \\n\\n\\n<script type=\"module\" src=\"https://1.www.s81c.com/common/carbon/carbon-for-aem/version/v0.7.2/link-list-item.min.js\"></script>\\n                     \\n            </dds-link-list>\\n            \\n        \\n    </caem-container-leadspace>\\n</section>\\n<script type=\"module\" src=\"https://1.www.s81c.com/common/carbon/carbon-for-aem/version/v0.7.2/paragraph.min.js\"></script>\\n<script type=\"module\" src=\"https://1.www.s81c.com/common/carbon/carbon-for-aem/version/v0.7.1-rc/heading.min.js\"></script>\\n<script src=\"https://1.www.s81c.com/common/carbon/carbon-for-aem/version/v0.7.2/leadspace.min.js\" type=\"module\"></script></div>\\n\\n        \\n    </div>\\n\\n</div>\\n<div class=\"container responsivegrid\">\\n\\n    \\n    \\n    \\n    <div id=\"container-263d2ff2ee\" class=\"cmp-container\">\\n        \\n        <div class=\"content-section-styled content-section container responsivegrid\">\\n\\n\\n\\n    \\n        <div class=\"bx--grid\">\\n            <div class=\"bx--row\">\\n                <div class=\"bx--col-lg-16 bx--no-gutter\">\\n                    <dds-video-container>\\n                        <div class=\"bx--content-section\" no-leading>\\n                            \\n                            \\n                                \\n\\n    \\n    \\n    \\n    <div id=\"container-b623675b5a\" class=\"cmp-container\">\\n        \\n        <div class=\"tile-group-container container responsivegrid\">\\n  <div class=\"bx--col\">\\n    <caem-tile-group>\\n      \\n\\n    \\n    \\n    <caem-tile label=\"watsonx.ai\" href=\"https://www.ibm.com/br-pt/products/watsonx-ai?lnk=cardT\" target=\"_self\">\\n    \\t\\n                \\n                        \\n\\n\\n\\n\\n    \\n    \\n        \\n        \\n        \\n        \\n        <dds-image id=\"image-1938900400\" alt=\"Visualização de um painel do watsonx\" slot=\"image\" default-src=\"/content/dam/adobe-cms/default-images/home-rail-01.component.tile-card-xl.ts=1694804564556.jpg/content/adobe-cms/br/pt/homepage/jcr:content/root/container/content_section_styl/content-section-body/tile_group_container/container/tile_card/image\">\\n            \\n            \\n                \\n                    \\n    <dds-image-item media=\"(min-width: 1312px) and (min-resolution: 192dpi)\" srcset=\"/content/dam/adobe-cms/default-images/home-rail-01.component.tile-card-xl-retina.ts=1694804564556.jpg/content/adobe-cms/br/pt/homepage/jcr:content/root/container/content_section_styl/content-section-body/tile_group_container/container/tile_card/image\"></dds-image-item>\\n    <dds-image-item media=\"(min-width: 1312px)\" srcset=\"/content/dam/adobe-cms/default-images/home-rail-01.component.tile-card-xl.ts=1694804564556.jpg/content/adobe-cms/br/pt/homepage/jcr:content/root/container/content_section_styl/content-section-body/tile_group_container/container/tile_card/image\"></dds-image-item>\\n    <dds-image-item media=\"(min-width: 1056px) and (min-resolution: 192dpi)\" srcset=\"/content/dam/adobe-cms/default-images/home-rail-01.component.tile-card-l-retina.ts=1694804564556.jpg/content/adobe-cms/br/pt/homepage/jcr:content/root/container/content_section_styl/content-section-body/tile_group_container/container/tile_card/image\"></dds-image-item>\\n    <dds-image-item media=\"(min-width: 1056px)\" srcset=\"/content/dam/adobe-cms/default-images/home-rail-01.component.tile-card-l.ts=1694804564556.jpg/content/adobe-cms/br/pt/homepage/jcr:content/root/container/content_section_styl/content-section-body/tile_group_container/container/tile_card/image\"></dds-image-item>\\n    <dds-image-item media=\"(min-width: 672px) and (min-resolution: 192dpi)\" srcset=\"/content/dam/adobe-cms/default-images/home-rail-01.component.tile-card-m-retina.ts=1694804564556.jpg/content/adobe-cms/br/pt/homepage/jcr:content/root/container/content_section_styl/content-section-body/tile_group_container/container/tile_card/image\"></dds-image-item>\\n    <dds-image-item media=\"(min-width: 672px)\" srcset=\"/content/dam/adobe-cms/default-images/home-rail-01.component.tile-card-m.ts=1694804564556.jpg/content/adobe-cms/br/pt/homepage/jcr:content/root/container/content_section_styl/content-section-body/tile_group_container/container/tile_card/image\"></dds-image-item>\\n    <dds-image-item media=\"(min-width: 481px) and (min-resolution: 192dpi)\" srcset=\"/content/dam/adobe-cms/default-images/home-rail-01.component.tile-card-s-retina.ts=1694804564556.jpg/content/adobe-cms/br/pt/homepage/jcr:content/root/container/content_section_styl/content-section-body/tile_group_container/container/tile_card/image\"></dds-image-item>\\n    <dds-image-item media=\"(min-width: 481px)\" srcset=\"/content/dam/adobe-cms/default-images/home-rail-01.component.tile-card-s.ts=1694804564556.jpg/content/adobe-cms/br/pt/homepage/jcr:content/root/container/content_section_styl/content-section-body/tile_group_container/container/tile_card/image\"></dds-image-item>\\n    <dds-image-item media=\"(max-width: 480px) and (min-resolution: 192dpi)\" srcset=\"/content/dam/adobe-cms/default-images/home-rail-01.component.tile-card-xs-retina.ts=1694804564556.jpg/content/adobe-cms/br/pt/homepage/jcr:content/root/container/content_section_styl/content-section-body/tile_group_container/container/tile_card/image\"></dds-image-item>\\n    <dds-image-item media=\"(max-width: 480px)\" srcset=\"/content/dam/adobe-cms/default-images/home-rail-01.component.tile-card-xs.ts=1694804564556.jpg/content/adobe-cms/br/pt/homepage/jcr:content/root/container/content_section_styl/content-section-body/tile_group_container/container/tile_card/image\"></dds-image-item>\\n\\n                    \\n                \\n            \\n        </dds-image>\\n    \\n\\n    \\n\\n\\n\\n                \\n                \\n    \\n\\n            \\n        Avaliação sem custo: crie modelos de IA de classificação corporativa\\n    </caem-tile> \\n    \\n    \\n\\n\\n\\n\\n\\n    \\n    \\n    <caem-tile label=\"watsonx.data\" href=\"https://www.ibm.com/br-pt/products/watsonx-data?lnk=cardT\" target=\"_self\">\\n    \\t\\n                \\n                        \\n\\n\\n\\n\\n    \\n    \\n        \\n        \\n        \\n        \\n        <dds-image id=\"image--832803317\" alt=\"Visualização do painel de um ambiente de simulação\" slot=\"image\" default-src=\"/content/dam/adobe-cms/default-images/home-rail-02.component.tile-card-xl.ts=1694804564675.jpg/content/adobe-cms/br/pt/homepage/jcr:content/root/container/content_section_styl/content-section-body/tile_group_container/container/tile_card_2105644765/image\">\\n            \\n            \\n                \\n                    \\n    <dds-image-item media=\"(min-width: 1312px) and (min-resolution: 192dpi)\" srcset=\"/content/dam/adobe-cms/default-images/home-rail-02.component.tile-card-xl-retina.ts=1694804564675.jpg/content/adobe-cms/br/pt/homepage/jcr:content/root/container/content_section_styl/content-section-body/tile_group_container/container/tile_card_2105644765/image\"></dds-image-item>\\n    <dds-image-item media=\"(min-width: 1312px)\" srcset=\"/content/dam/adobe-cms/default-images/home-rail-02.component.tile-card-xl.ts=1694804564675.jpg/content/adobe-cms/br/pt/homepage/jcr:content/root/container/content_section_styl/content-section-body/tile_group_container/container/tile_card_2105644765/image\"></dds-image-item>\\n    <dds-image-item media=\"(min-width: 1056px) and (min-resolution: 192dpi)\" srcset=\"/content/dam/adobe-cms/default-images/home-rail-02.component.tile-card-l-retina.ts=1694804564675.jpg/content/adobe-cms/br/pt/homepage/jcr:content/root/container/content_section_styl/content-section-body/tile_group_container/container/tile_card_2105644765/image\"></dds-image-item>\\n    <dds-image-item media=\"(min-width: 1056px)\" srcset=\"/content/dam/adobe-cms/default-images/home-rail-02.component.tile-card-l.ts=1694804564675.jpg/content/adobe-cms/br/pt/homepage/jcr:content/root/container/content_section_styl/content-section-body/tile_group_container/container/tile_card_2105644765/image\"></dds-image-item>\\n    <dds-image-item media=\"(min-width: 672px) and (min-resolution: 192dpi)\" srcset=\"/content/dam/adobe-cms/default-images/home-rail-02.component.tile-card-m-retina.ts=1694804564675.jpg/content/adobe-cms/br/pt/homepage/jcr:content/root/container/content_section_styl/content-section-body/tile_group_container/container/tile_card_2105644765/image\"></dds-image-item>\\n    <dds-image-item media=\"(min-width: 672px)\" srcset=\"/content/dam/adobe-cms/default-images/home-rail-02.component.tile-card-m.ts=1694804564675.jpg/content/adobe-cms/br/pt/homepage/jcr:content/root/container/content_section_styl/content-section-body/tile_group_container/container/tile_card_2105644765/image\"></dds-image-item>\\n    <dds-image-item media=\"(min-width: 481px) and (min-resolution: 192dpi)\" srcset=\"/content/dam/adobe-cms/default-images/home-rail-02.component.tile-card-s-retina.ts=1694804564675.jpg/content/adobe-cms/br/pt/homepage/jcr:content/root/container/content_section_styl/content-section-body/tile_group_container/container/tile_card_2105644765/image\"></dds-image-item>\\n    <dds-image-item media=\"(min-width: 481px)\" srcset=\"/content/dam/adobe-cms/default-images/home-rail-02.component.tile-card-s.ts=1694804564675.jpg/content/adobe-cms/br/pt/homepage/jcr:content/root/container/content_section_styl/content-section-body/tile_group_container/container/tile_card_2105644765/image\"></dds-image-item>\\n    <dds-image-item media=\"(max-width: 480px) and (min-resolution: 192dpi)\" srcset=\"/content/dam/adobe-cms/default-images/home-rail-02.component.tile-card-xs-retina.ts=1694804564675.jpg/content/adobe-cms/br/pt/homepage/jcr:content/root/container/content_section_styl/content-section-body/tile_group_container/container/tile_card_2105644765/image\"></dds-image-item>\\n    <dds-image-item media=\"(max-width: 480px)\" srcset=\"/content/dam/adobe-cms/default-images/home-rail-02.component.tile-card-xs.ts=1694804564675.jpg/content/adobe-cms/br/pt/homepage/jcr:content/root/container/content_section_styl/content-section-body/tile_group_container/container/tile_card_2105644765/image\"></dds-image-item>\\n\\n                    \\n                \\n            \\n        </dds-image>\\n    \\n\\n    \\n\\n\\n\\n                \\n                \\n    \\n\\n            \\n        Avaliação gratuita: escale cargas de trabalho de IA para todos os dados\\n    </caem-tile> \\n    \\n    \\n\\n\\n\\n\\n\\n    \\n    \\n    <caem-tile label=\"Compre agora\" href=\"https://www.ibm.com/br-pt/products/spss-statistics/pricing?lnk=cardT\" target=\"_self\">\\n    \\t\\n                \\n                        \\n\\n\\n\\n\\n    \\n    \\n        \\n        \\n        \\n        \\n        <dds-image id=\"image--789348545\" alt=\"Ilustração de colegas vendo um painel gigante\" slot=\"image\" default-src=\"/content/dam/connectedassets-adobe-cms/worldwide-content/homepage/ul/g/a7/33/ibm-SPSS-home-card.component.tile-card-xl.ts=1694804564800.png/content/adobe-cms/br/pt/homepage/jcr:content/root/container/content_section_styl/content-section-body/tile_group_container/container/tile_card_392377621/image\">\\n            \\n            \\n                \\n                    \\n    <dds-image-item media=\"(min-width: 1312px) and (min-resolution: 192dpi)\" srcset=\"/content/dam/connectedassets-adobe-cms/worldwide-content/homepage/ul/g/a7/33/ibm-SPSS-home-card.component.tile-card-xl-retina.ts=1694804564800.png/content/adobe-cms/br/pt/homepage/jcr:content/root/container/content_section_styl/content-section-body/tile_group_container/container/tile_card_392377621/image\"></dds-image-item>\\n    <dds-image-item media=\"(min-width: 1312px)\" srcset=\"/content/dam/connectedassets-adobe-cms/worldwide-content/homepage/ul/g/a7/33/ibm-SPSS-home-card.component.tile-card-xl.ts=1694804564800.png/content/adobe-cms/br/pt/homepage/jcr:content/root/container/content_section_styl/content-section-body/tile_group_container/container/tile_card_392377621/image\"></dds-image-item>\\n    <dds-image-item media=\"(min-width: 1056px) and (min-resolution: 192dpi)\" srcset=\"/content/dam/connectedassets-adobe-cms/worldwide-content/homepage/ul/g/a7/33/ibm-SPSS-home-card.component.tile-card-l-retina.ts=1694804564800.png/content/adobe-cms/br/pt/homepage/jcr:content/root/container/content_section_styl/content-section-body/tile_group_container/container/tile_card_392377621/image\"></dds-image-item>\\n    <dds-image-item media=\"(min-width: 1056px)\" srcset=\"/content/dam/connectedassets-adobe-cms/worldwide-content/homepage/ul/g/a7/33/ibm-SPSS-home-card.component.tile-card-l.ts=1694804564800.png/content/adobe-cms/br/pt/homepage/jcr:content/root/container/content_section_styl/content-section-body/tile_group_container/container/tile_card_392377621/image\"></dds-image-item>\\n    <dds-image-item media=\"(min-width: 672px) and (min-resolution: 192dpi)\" srcset=\"/content/dam/connectedassets-adobe-cms/worldwide-content/homepage/ul/g/a7/33/ibm-SPSS-home-card.component.tile-card-m-retina.ts=1694804564800.png/content/adobe-cms/br/pt/homepage/jcr:content/root/container/content_section_styl/content-section-body/tile_group_container/container/tile_card_392377621/image\"></dds-image-item>\\n    <dds-image-item media=\"(min-width: 672px)\" srcset=\"/content/dam/connectedassets-adobe-cms/worldwide-content/homepage/ul/g/a7/33/ibm-SPSS-home-card.component.tile-card-m.ts=1694804564800.png/content/adobe-cms/br/pt/homepage/jcr:content/root/container/content_section_styl/content-section-body/tile_group_container/container/tile_card_392377621/image\"></dds-image-item>\\n    <dds-image-item media=\"(min-width: 481px) and (min-resolution: 192dpi)\" srcset=\"/content/dam/connectedassets-adobe-cms/worldwide-content/homepage/ul/g/a7/33/ibm-SPSS-home-card.component.tile-card-s-retina.ts=1694804564800.png/content/adobe-cms/br/pt/homepage/jcr:content/root/container/content_section_styl/content-section-body/tile_group_container/container/tile_card_392377621/image\"></dds-image-item>\\n    <dds-image-item media=\"(min-width: 481px)\" srcset=\"/content/dam/connectedassets-adobe-cms/worldwide-content/homepage/ul/g/a7/33/ibm-SPSS-home-card.component.tile-card-s.ts=1694804564800.png/content/adobe-cms/br/pt/homepage/jcr:content/root/container/content_section_styl/content-section-body/tile_group_container/container/tile_card_392377621/image\"></dds-image-item>\\n    <dds-image-item media=\"(max-width: 480px) and (min-resolution: 192dpi)\" srcset=\"/content/dam/connectedassets-adobe-cms/worldwide-content/homepage/ul/g/a7/33/ibm-SPSS-home-card.component.tile-card-xs-retina.ts=1694804564800.png/content/adobe-cms/br/pt/homepage/jcr:content/root/container/content_section_styl/content-section-body/tile_group_container/container/tile_card_392377621/image\"></dds-image-item>\\n    <dds-image-item media=\"(max-width: 480px)\" srcset=\"/content/dam/connectedassets-adobe-cms/worldwide-content/homepage/ul/g/a7/33/ibm-SPSS-home-card.component.tile-card-xs.ts=1694804564800.png/content/adobe-cms/br/pt/homepage/jcr:content/root/container/content_section_styl/content-section-body/tile_group_container/container/tile_card_392377621/image\"></dds-image-item>\\n\\n                    \\n                \\n            \\n        </dds-image>\\n    \\n\\n    \\n\\n\\n\\n                \\n                \\n    \\n\\n            \\n        Economize 10% na assinatura do SPSS Statistics\\n    </caem-tile> \\n    \\n    \\n\\n\\n\\n\\n\\n    \\n    \\n    <caem-tile label=\"IBM Envizi\" href=\"https://www.ibm.com/products/envizi/resources/aws?lnk=cardT\" target=\"_self\">\\n    \\t\\n                \\n                        \\n\\n\\n\\n\\n    \\n    \\n        \\n        \\n        \\n        \\n        <dds-image id=\"image--1095058202\" alt=\"dashboard de um software esg\" slot=\"image\" default-src=\"/content/dam/connectedassets-adobe-cms/worldwide-content/creative-assets/s-migr/ul/g/e8/f7/Envizi-overview-ui-leadspace.component.tile-card-xl.ts=1695236122025.png/content/adobe-cms/br/pt/homepage/jcr:content/root/container/content_section_styl/content-section-body/tile_group_container/container/tile_card_1699798462/image\">\\n            \\n            \\n                \\n                    \\n    <dds-image-item media=\"(min-width: 1312px) and (min-resolution: 192dpi)\" srcset=\"/content/dam/connectedassets-adobe-cms/worldwide-content/creative-assets/s-migr/ul/g/e8/f7/Envizi-overview-ui-leadspace.component.tile-card-xl-retina.ts=1695236122025.png/content/adobe-cms/br/pt/homepage/jcr:content/root/container/content_section_styl/content-section-body/tile_group_container/container/tile_card_1699798462/image\"></dds-image-item>\\n    <dds-image-item media=\"(min-width: 1312px)\" srcset=\"/content/dam/connectedassets-adobe-cms/worldwide-content/creative-assets/s-migr/ul/g/e8/f7/Envizi-overview-ui-leadspace.component.tile-card-xl.ts=1695236122025.png/content/adobe-cms/br/pt/homepage/jcr:content/root/container/content_section_styl/content-section-body/tile_group_container/container/tile_card_1699798462/image\"></dds-image-item>\\n    <dds-image-item media=\"(min-width: 1056px) and (min-resolution: 192dpi)\" srcset=\"/content/dam/connectedassets-adobe-cms/worldwide-content/creative-assets/s-migr/ul/g/e8/f7/Envizi-overview-ui-leadspace.component.tile-card-l-retina.ts=1695236122025.png/content/adobe-cms/br/pt/homepage/jcr:content/root/container/content_section_styl/content-section-body/tile_group_container/container/tile_card_1699798462/image\"></dds-image-item>\\n    <dds-image-item media=\"(min-width: 1056px)\" srcset=\"/content/dam/connectedassets-adobe-cms/worldwide-content/creative-assets/s-migr/ul/g/e8/f7/Envizi-overview-ui-leadspace.component.tile-card-l.ts=1695236122025.png/content/adobe-cms/br/pt/homepage/jcr:content/root/container/content_section_styl/content-section-body/tile_group_container/container/tile_card_1699798462/image\"></dds-image-item>\\n    <dds-image-item media=\"(min-width: 672px) and (min-resolution: 192dpi)\" srcset=\"/content/dam/connectedassets-adobe-cms/worldwide-content/creative-assets/s-migr/ul/g/e8/f7/Envizi-overview-ui-leadspace.component.tile-card-m-retina.ts=1695236122025.png/content/adobe-cms/br/pt/homepage/jcr:content/root/container/content_section_styl/content-section-body/tile_group_container/container/tile_card_1699798462/image\"></dds-image-item>\\n    <dds-image-item media=\"(min-width: 672px)\" srcset=\"/content/dam/connectedassets-adobe-cms/worldwide-content/creative-assets/s-migr/ul/g/e8/f7/Envizi-overview-ui-leadspace.component.tile-card-m.ts=1695236122025.png/content/adobe-cms/br/pt/homepage/jcr:content/root/container/content_section_styl/content-section-body/tile_group_container/container/tile_card_1699798462/image\"></dds-image-item>\\n    <dds-image-item media=\"(min-width: 481px) and (min-resolution: 192dpi)\" srcset=\"/content/dam/connectedassets-adobe-cms/worldwide-content/creative-assets/s-migr/ul/g/e8/f7/Envizi-overview-ui-leadspace.component.tile-card-s-retina.ts=1695236122025.png/content/adobe-cms/br/pt/homepage/jcr:content/root/container/content_section_styl/content-section-body/tile_group_container/container/tile_card_1699798462/image\"></dds-image-item>\\n    <dds-image-item media=\"(min-width: 481px)\" srcset=\"/content/dam/connectedassets-adobe-cms/worldwide-content/creative-assets/s-migr/ul/g/e8/f7/Envizi-overview-ui-leadspace.component.tile-card-s.ts=1695236122025.png/content/adobe-cms/br/pt/homepage/jcr:content/root/container/content_section_styl/content-section-body/tile_group_container/container/tile_card_1699798462/image\"></dds-image-item>\\n    <dds-image-item media=\"(max-width: 480px) and (min-resolution: 192dpi)\" srcset=\"/content/dam/connectedassets-adobe-cms/worldwide-content/creative-assets/s-migr/ul/g/e8/f7/Envizi-overview-ui-leadspace.component.tile-card-xs-retina.ts=1695236122025.png/content/adobe-cms/br/pt/homepage/jcr:content/root/container/content_section_styl/content-section-body/tile_group_container/container/tile_card_1699798462/image\"></dds-image-item>\\n    <dds-image-item media=\"(max-width: 480px)\" srcset=\"/content/dam/connectedassets-adobe-cms/worldwide-content/creative-assets/s-migr/ul/g/e8/f7/Envizi-overview-ui-leadspace.component.tile-card-xs.ts=1695236122025.png/content/adobe-cms/br/pt/homepage/jcr:content/root/container/content_section_styl/content-section-body/tile_group_container/container/tile_card_1699798462/image\"></dds-image-item>\\n\\n                    \\n                \\n            \\n        </dds-image>\\n    \\n\\n    \\n\\n\\n\\n                \\n                \\n    \\n\\n            \\n        Simplifique e rastreie dados ESG na AWS\\n    </caem-tile> \\n    \\n    \\n\\n\\n\\n\\n\\n\\n\\n\\n    </caem-tile-group>\\n  </div>  \\n\\n\\n<script type=\"module\" src=\"https://1.www.s81c.com/common/carbon/carbon-for-aem/version/v0.7.2/tile.min.js\"></script></div>\\n<div class=\"intro-section\"><div class=\"bx--col\">\\n    <caem-intro-section>\\n\\n        <caem-heading slot=\"heading\" type=\"h2\" type-style=\"expressive-heading-05\" data-autoid=\"caem-heading\">\\n                \\n\\n\\n\\n  \\n    Navegue pelas nossas tecnologias\\n\\n\\n\\n\\n\\n\\n    \\n\\n\\n            </caem-heading>\\n\\n        <caem-paragraph size=\"lead-in\" data-autoid=\"caem--paragraph\">\\n            <div class=\"cms-richtext\" id=\"rich-text-cacd273942\" data-dynamic-inner-content=\"description\">\\n    <p>Desde os nossos principais produtos para\\xa0<a href=\"https://www.ibm.com/br-pt/cloud?lnk=intro\">infraestrutura de nuvem híbrida</a>\\xa0empresarial até soluções de IA, segurança e armazenamento de última geração, encontre a resposta para o seu desafio de negócios.</p>\\n \\n    \\n    \\n    \\n    \\n\\n</div>\\n        </caem-paragraph>\\n\\n        \\n            <dds-link-list type=\"vertical\">\\n                \\n                    \\n    \\n    \\n        \\n        <dds-video-cta-container>\\n            <dds-link-list-item-cta cta-type=\"local\" href=\"https://www.ibm.com/br-pt/products?lnk=intro\" icon-placement=\"right\" role=\"listitem\" target=\"_self\">\\n                Ver todos os produtos\\n                \\n            </dds-link-list-item-cta>\\n        </dds-video-cta-container>\\n    \\n    \\n    \\n\\n\\n\\n                \\n                \\n                    \\n    \\n    \\n    \\n    \\n\\n\\n\\n                \\n            </dds-link-list>\\n        \\n\\n        \\n\\n    </caem-intro-section>\\n</div>\\n<script type=\"module\" src=\"https://1.www.s81c.com/common/carbon/carbon-for-aem/version/v0.7.2/paragraph.min.js\"></script>\\n<script type=\"module\" src=\"https://1.www.s81c.com/common/carbon/carbon-for-aem/version/v0.7.2/heading.min.js\"></script>\\n<script type=\"module\" src=\"https://1.www.s81c.com/common/carbon/carbon-for-aem/version/v0.7.2/intro-section.min.js\"></script>\\n<script type=\"module\" src=\"https://1.www.s81c.com/common/carbon/carbon-for-aem/version/v0.7.2/brand-cta-section.min.js\"></script>\\n</div>\\n<div class=\"card-group-pictogram\">\\n    <div class=\"bx--content-block\">\\n        \\n\\n        \\n\\n        \\n            \\n                \\n                    \\n                        <caem-card-group grid-mode=\"border\" cards-per-row=\"4\" data-autoid=\"dds--card-group\" style=\"--dds--card-group--cards-in-row:4; --cds-ui-01: white;\">\\n                            \\n\\n    \\n    \\n    \\n    \\n    \\n        \\n            \\n            \\n                \\n                <caem-card color-scheme cta-type=\"local\" data-autoid=\"caem--card\" href=\"https://www.ibm.com/br-pt/artificial-intelligence?lnk=prodC\" target=\"_self\" pictogram-placement=\"top\" size>\\n                    <caem-card-heading aria-level=\"3\" data-autoid=\"caem--card-heading\" role=\"heading\" slot=\"heading\">\\n                        \\n                        IA e aprendizado de máquina</caem-card-heading>\\n                    <svg slot=\"pictogram\" class=\"bx--card__pictogram\" data-autoid=\"caem--card__pictogram\" focusable=\"false\" height=\"48\" width=\"48\" role=\"img\">\\n                        <use href=\"#ai\"></use>\\n                    </svg>\\n                    <p>Use a IA do IBM watsonx ou desenvolva seus próprios modelos de aprendizado de máquina</p>\\n                    <caem-card-cta-footer color-scheme cta-type=\"local\" data-autoid=\"caem--card-cta-footer\" href=\"https://www.ibm.com/br-pt/artificial-intelligence?lnk=prodC\" icon-placement=\"right\" parent-href=\"https://www.ibm.com/br-pt/artificial-intelligence?lnk=prodC\" slot=\"footer\">\\n                        \\n                    </caem-card-cta-footer>\\n                    <div class=\"caem-card-svg-source\">\\n                        <svg xmlns=\"http://www.w3.org/2000/svg\" id=\"ai\" viewBox=\"0 0 32 32\"><path d=\"M16.195,31.36c-6.421,0-12.169-4.007-14.399-10.002 C1.051,21.408,0.373,20.771,0.372,20c0-0.75,0.61-1.36,1.36-1.36s1.36,0.61,1.36,1.36c0,0.474-0.243,0.892-0.611,1.135 c2.133,5.698,7.604,9.505,13.714,9.505c6.446,0,11.919-4.301,13.773-10.22c-1.448,2.06-3.877,3.44-6.565,3.44 c-3.822,0-7.066-2.785-7.664-6.525C15.113,17.212,14.64,16.661,14.64,16c0-0.584,0.37-1.083,0.888-1.275 c-0.608-3.421-3.615-5.962-7.125-5.962c-3.947,0-7.04,3.176-7.042,7.231c0,0.002,0,0.004,0,0.006H0.64c0-0.002,0-0.004,0-0.007 C0.644,7.526,7.445,0.64,15.805,0.64c6.42,0,12.168,4.006,14.399,10.001c0.777-0.034,1.425,0.587,1.425,1.358 c0,0.75-0.61,1.36-1.36,1.36s-1.36-0.61-1.36-1.36c0-0.473,0.243-0.891,0.611-1.135C27.387,5.166,21.916,1.36,15.805,1.36 c-6.319,0-11.704,4.134-13.659,9.873c1.402-1.949,3.662-3.19,6.256-3.19c3.881,0,7.204,2.826,7.846,6.62 C16.88,14.779,17.36,15.335,17.36,16c0,0.589-0.376,1.092-0.901,1.28c0.567,3.363,3.496,5.859,6.943,5.859 c3.857,0,7.127-3.118,7.235-6.851c0.001-0.096,0.002-0.192,0.002-0.289h0.721c0,0.033,0,0.065-0.001,0.098h0.001 c0,0.069-0.001,0.138-0.003,0.207C31.196,24.634,24.456,31.36,16.195,31.36z M1.732,19.36c-0.353,0-0.64,0.287-0.64,0.64 s0.287,0.64,0.64,0.64s0.64-0.287,0.64-0.64S2.085,19.36,1.732,19.36z M16,15.36c-0.353,0-0.64,0.287-0.64,0.64 s0.287,0.64,0.64,0.64s0.64-0.287,0.64-0.64S16.353,15.36,16,15.36z M30.269,11.36c-0.353,0-0.64,0.287-0.64,0.64 s0.287,0.64,0.64,0.64s0.64-0.287,0.64-0.64S30.621,11.36,30.269,11.36z\"/></svg>\\n                    </div>\\n                </caem-card>\\n            \\n        \\n    \\n    \\n    \\n\\n\\n\\n    \\n        \\n            \\n            \\n                \\n                <caem-card color-scheme cta-type=\"local\" data-autoid=\"caem--card\" href=\"https://www.ibm.com/br-pt/analytics?lnk=ProdC\" target=\"_self\" pictogram-placement=\"top\" size>\\n                    <caem-card-heading aria-level=\"3\" data-autoid=\"caem--card-heading\" role=\"heading\" slot=\"heading\">\\n                        \\n                        Análise de dados</caem-card-heading>\\n                    <svg slot=\"pictogram\" class=\"bx--card__pictogram\" data-autoid=\"caem--card__pictogram\" focusable=\"false\" height=\"48\" width=\"48\" role=\"img\">\\n                        <use href=\"#predictive-analytics\"></use>\\n                    </svg>\\n                    <p>Agregue e analise grandes conjuntos de dados</p>\\n                    <caem-card-cta-footer color-scheme cta-type=\"local\" data-autoid=\"caem--card-cta-footer\" href=\"https://www.ibm.com/br-pt/analytics?lnk=ProdC\" icon-placement=\"right\" parent-href=\"https://www.ibm.com/br-pt/analytics?lnk=ProdC\" slot=\"footer\">\\n                        \\n                    </caem-card-cta-footer>\\n                    <div class=\"caem-card-svg-source\">\\n                        <svg xmlns=\"http://www.w3.org/2000/svg\" id=\"predictive-analytics\" viewBox=\"0 0 32 32\"><path d=\"M31,31.36H1c-0.199,0-0.36-0.161-0.36-0.36 V1h0.72v29.64h4.28v-7.328c-0.576-0.158-1-0.687-1-1.312c0-0.75,0.61-1.36,1.36-1.36c0.364,0,0.694,0.144,0.938,0.377l3.702-2.221 v-8.484c-0.576-0.158-1-0.686-1-1.312c0-0.75,0.61-1.36,1.36-1.36S12.36,8.25,12.36,9c0,0.625-0.424,1.153-1,1.312v8.053l3.33-1.998 c-0.032-0.116-0.05-0.239-0.05-0.366c0-0.75,0.61-1.36,1.36-1.36c0.364,0,0.695,0.144,0.939,0.377l3.701-2.221V6.312 c-0.575-0.158-1-0.686-1-1.312c0-0.75,0.61-1.36,1.36-1.36S22.36,4.25,22.36,5c0,0.625-0.425,1.153-1,1.312v6.053l3.33-1.998 c-0.033-0.117-0.05-0.24-0.05-0.367c0-0.75,0.61-1.36,1.36-1.36s1.36,0.61,1.36,1.36c0,0.625-0.425,1.153-1,1.312V30.64H31V31.36z M21.36,30.64h4.279V11.312c-0.22-0.061-0.418-0.175-0.578-0.328l-3.701,2.221V30.64z M16.36,30.64h4.28V13.636l-3.33,1.998 c0.033,0.116,0.05,0.239,0.05,0.366c0,0.625-0.425,1.153-1,1.312V30.64z M11.36,30.64h4.28V17.312 c-0.22-0.061-0.418-0.175-0.579-0.328l-3.702,2.221V30.64H11.36z M6.36,30.64h4.28V19.636l-3.33,1.998 C7.343,21.75,7.36,21.873,7.36,22c0,0.625-0.424,1.153-1,1.312V30.64z M6,21.36c-0.353,0-0.64,0.287-0.64,0.64S5.647,22.64,6,22.64 S6.64,22.353,6.64,22S6.353,21.36,6,21.36z M16,15.36c-0.353,0-0.64,0.287-0.64,0.64s0.287,0.64,0.64,0.64s0.64-0.287,0.64-0.64 S16.353,15.36,16,15.36z M26,9.36c-0.353,0-0.64,0.287-0.64,0.64s0.287,0.64,0.64,0.64s0.64-0.287,0.64-0.64S26.353,9.36,26,9.36z M11,8.36c-0.353,0-0.64,0.287-0.64,0.64S10.647,9.64,11,9.64S11.64,9.353,11.64,9S11.353,8.36,11,8.36z M21,4.36 c-0.353,0-0.64,0.287-0.64,0.64S20.647,5.64,21,5.64S21.64,5.353,21.64,5S21.353,4.36,21,4.36z\"/></svg>\\n                    </div>\\n                </caem-card>\\n            \\n        \\n    \\n    \\n    \\n\\n\\n\\n    \\n        \\n            \\n            \\n                \\n                <caem-card color-scheme cta-type=\"local\" data-autoid=\"caem--card\" href=\"https://www.ibm.com/br-pt/servers?lnk=ProdC\" target=\"_self\" pictogram-placement=\"top\" size>\\n                    <caem-card-heading aria-level=\"3\" data-autoid=\"caem--card-heading\" role=\"heading\" slot=\"heading\">\\n                        \\n                        Computação e servidores</caem-card-heading>\\n                    <svg slot=\"pictogram\" class=\"bx--card__pictogram\" data-autoid=\"caem--card__pictogram\" focusable=\"false\" height=\"48\" width=\"48\" role=\"img\">\\n                        <use href=\"#storage--product\"></use>\\n                    </svg>\\n                    <p>Execute cargas de trabalho em infraestrutura de nuvem híbrida</p>\\n                    <caem-card-cta-footer color-scheme cta-type=\"local\" data-autoid=\"caem--card-cta-footer\" href=\"https://www.ibm.com/br-pt/servers?lnk=ProdC\" icon-placement=\"right\" parent-href=\"https://www.ibm.com/br-pt/servers?lnk=ProdC\" slot=\"footer\">\\n                        \\n                    </caem-card-cta-footer>\\n                    <div class=\"caem-card-svg-source\">\\n                        <svg xmlns=\"http://www.w3.org/2000/svg\" id=\"storage--product\" viewBox=\"0 0 32 32\"><path d=\"M30,31.36H8c-0.199,0-0.36-0.161-0.36-0.36v-5c0-0.199,0.161-0.36,0.36-0.36h22 c0.199,0,0.36,0.161,0.36,0.36v5C30.36,31.199,30.199,31.36,30,31.36z M8.36,30.64h21.28v-4.28H8.36V30.64z M6,31.36H2 c-0.199,0-0.36-0.161-0.36-0.36V1c0-0.199,0.161-0.36,0.36-0.36h11c0.199,0,0.36,0.161,0.36,0.36v9h-0.72V1.36H2.36v29.28H6V31.36z M28.36,30h-0.72v-2h0.721L28.36,30L28.36,30z M26.36,30h-0.72v-2h0.721L26.36,30L26.36,30z M24.36,30h-0.72v-2h0.721L24.36,30 L24.36,30z M22.36,30h-0.72v-2h0.721L22.36,30L22.36,30z M30,24.36H8c-0.199,0-0.36-0.161-0.36-0.36v-5 c0-0.199,0.161-0.36,0.36-0.36h22c0.199,0,0.36,0.161,0.36,0.36v5C30.36,24.199,30.199,24.36,30,24.36z M8.36,23.64h21.28v-4.28 H8.36V23.64z M28.36,23h-0.72v-2h0.721L28.36,23L28.36,23z M26.36,23h-0.72v-2h0.721L26.36,23L26.36,23z M24.36,23h-0.72v-2h0.721 L24.36,23L24.36,23z M22.36,23h-0.72v-2h0.721L22.36,23L22.36,23z M30,17.36H8c-0.199,0-0.36-0.161-0.36-0.36v-5 c0-0.199,0.161-0.36,0.36-0.36h22c0.199,0,0.36,0.161,0.36,0.36v5C30.36,17.199,30.199,17.36,30,17.36z M8.36,16.64h21.28v-4.28 H8.36V16.64z M28.36,16h-0.72v-2h0.721L28.36,16L28.36,16z M26.36,16h-0.72v-2h0.721L26.36,16L26.36,16z M24.36,16h-0.72v-2h0.721 L24.36,16L24.36,16z M22.36,16h-0.72v-2h0.721L22.36,16L22.36,16z M6,4.36H4V3.64h2V4.36z\"/></svg>\\n                    </div>\\n                </caem-card>\\n            \\n        \\n    \\n    \\n    \\n\\n\\n\\n    \\n        \\n            \\n            \\n                \\n                <caem-card color-scheme cta-type=\"local\" data-autoid=\"caem--card\" href=\"https://www.ibm.com/br-pt/database?lnk=ProdC\" target=\"_self\" pictogram-placement=\"top\" size>\\n                    <caem-card-heading aria-level=\"3\" data-autoid=\"caem--card-heading\" role=\"heading\" slot=\"heading\">\\n                        \\n                        Bancos de dados</caem-card-heading>\\n                    <svg slot=\"pictogram\" class=\"bx--card__pictogram\" data-autoid=\"caem--card__pictogram\" focusable=\"false\" height=\"48\" width=\"48\" role=\"img\">\\n                        <use href=\"#hard--drive--network\"></use>\\n                    </svg>\\n                    <p>Armazene, consulte e analise dados estruturados</p>\\n                    <caem-card-cta-footer color-scheme cta-type=\"local\" data-autoid=\"caem--card-cta-footer\" href=\"https://www.ibm.com/br-pt/database?lnk=ProdC\" icon-placement=\"right\" parent-href=\"https://www.ibm.com/br-pt/database?lnk=ProdC\" slot=\"footer\">\\n                        \\n                    </caem-card-cta-footer>\\n                    <div class=\"caem-card-svg-source\">\\n                        <svg xmlns=\"http://www.w3.org/2000/svg\" id=\"hard--drive--network\" viewBox=\"0 0 32 32\"><path d=\"M20,6c-0.552,0-1-0.448-1-1s0.448-1,1-1s1,0.448,1,1S20.552,6,20,6z M21,16 c0-0.552-0.448-1-1-1s-1,0.448-1,1s0.448,1,1,1S21,16.552,21,16z M21,27c0-0.552-0.448-1-1-1s-1,0.448-1,1s0.448,1,1,1 S21,27.552,21,27z M24,31.36H1c-0.199,0-0.36-0.161-0.36-0.36v-8c0-0.199,0.161-0.36,0.36-0.36h23c0.199,0,0.36,0.161,0.36,0.36v8 C24.36,31.199,24.199,31.36,24,31.36z M1.36,30.64h22.28v-7.28H1.36V30.64z M31,27.36h-5v-0.72h4.64V16.36H26v-0.72h4.64V5.36H26 V4.64h5c0.199,0,0.36,0.161,0.36,0.36v22C31.36,27.199,31.199,27.36,31,27.36z M24,20.36H1c-0.199,0-0.36-0.161-0.36-0.36v-8 c0-0.199,0.161-0.36,0.36-0.36h23c0.199,0,0.36,0.161,0.36,0.36v8C24.36,20.199,24.199,20.36,24,20.36z M1.36,19.64h22.28v-7.28 H1.36V19.64z M24,9.36H1C0.801,9.36,0.64,9.199,0.64,9V1c0-0.199,0.161-0.36,0.36-0.36h23c0.199,0,0.36,0.161,0.36,0.36v8 C24.36,9.199,24.199,9.36,24,9.36z M1.36,8.64h22.28V1.36H1.36V8.64z\"/></svg>\\n                    </div>\\n                </caem-card>\\n            \\n        \\n    \\n    \\n    \\n\\n\\n\\n    \\n        \\n            \\n            \\n                \\n                <caem-card color-scheme cta-type=\"local\" data-autoid=\"caem--card\" href=\"https://www.ibm.com/br-pt/devops?lnk=ProdC\" target=\"_self\" pictogram-placement=\"top\" size>\\n                    <caem-card-heading aria-level=\"3\" data-autoid=\"caem--card-heading\" role=\"heading\" slot=\"heading\">\\n                        \\n                        DevOps</caem-card-heading>\\n                    <svg slot=\"pictogram\" class=\"bx--card__pictogram\" data-autoid=\"caem--card__pictogram\" focusable=\"false\" height=\"48\" width=\"48\" role=\"img\">\\n                        <use href=\"#devops\"></use>\\n                    </svg>\\n                    <p>Gerencie infraestrutura, ambientes e implementações</p>\\n                    <caem-card-cta-footer color-scheme cta-type=\"local\" data-autoid=\"caem--card-cta-footer\" href=\"https://www.ibm.com/br-pt/devops?lnk=ProdC\" icon-placement=\"right\" parent-href=\"https://www.ibm.com/br-pt/devops?lnk=ProdC\" slot=\"footer\">\\n                        \\n                    </caem-card-cta-footer>\\n                    <div class=\"caem-card-svg-source\">\\n                        <svg xmlns=\"http://www.w3.org/2000/svg\" id=\"devops\" viewBox=\"0 0 32 32\"><path d=\"M18,31.36h-4c-0.128,0-0.248-0.069-0.312-0.181l-2-3.464c-0.064-0.111-0.064-0.248,0-0.359l2-3.464 c0.064-0.111,0.183-0.181,0.312-0.181h3.792l2.896-5.016c0.1-0.174,0.32-0.231,0.491-0.132c0.173,0.1,0.231,0.319,0.132,0.491 l-2.896,5.017l1.896,3.284c0.064,0.111,0.064,0.248,0,0.359l-2,3.464C18.247,31.291,18.129,31.36,18,31.36z M14.208,30.64h3.584 l1.792-3.104l-1.792-3.104h-3.584l-1.792,3.104L14.208,30.64z M28,25.593h-4c-0.129,0-0.247-0.069-0.312-0.181l-2-3.465 c-0.064-0.111-0.064-0.248,0-0.359l1.896-3.284l-2.896-5.016c-0.1-0.172-0.041-0.393,0.132-0.492c0.171-0.1,0.392-0.041,0.491,0.131 l2.896,5.016H28c0.129,0,0.247,0.069,0.312,0.181l2,3.464c0.064,0.111,0.064,0.248,0,0.359l-2,3.465 C28.247,25.523,28.129,25.593,28,25.593z M24.208,24.872h3.584l1.792-3.104l-1.792-3.104h-3.584l-1.792,3.104L24.208,24.872z M8,25.593H4c-0.128,0-0.248-0.069-0.312-0.181l-2-3.465c-0.064-0.111-0.064-0.248,0-0.359l2-3.464 C3.752,18.013,3.872,17.943,4,17.943h4c0.128,0,0.248,0.069,0.312,0.181l1.896,3.283H16c0.199,0,0.36,0.161,0.36,0.36 s-0.161,0.36-0.36,0.36h-5.792l-1.896,3.284C8.248,25.523,8.128,25.593,8,25.593z M4.208,24.872h3.584l1.792-3.104l-1.792-3.104 H4.208l-1.792,3.104L4.208,24.872z M11,19.253c-0.125,0-0.246-0.064-0.312-0.181l-2.896-5.016H4c-0.128,0-0.248-0.068-0.312-0.18 l-2-3.464c-0.064-0.111-0.064-0.249,0-0.36l2-3.464C3.752,6.477,3.872,6.408,4,6.408h4c0.128,0,0.248,0.068,0.312,0.18l2,3.464 c0.064,0.111,0.064,0.249,0,0.36l-1.896,3.284l2.896,5.017c0.099,0.172,0.04,0.392-0.132,0.491 C11.124,19.237,11.062,19.253,11,19.253z M4.208,13.336h3.584l1.792-3.104L7.792,7.128H4.208l-1.792,3.104L4.208,13.336z M28,14.056 h-4c-0.129,0-0.247-0.068-0.312-0.18l-1.896-3.285H16c-0.199,0-0.36-0.161-0.36-0.36s0.161-0.36,0.36-0.36h5.792l1.896-3.284 c0.064-0.111,0.183-0.18,0.312-0.18h4c0.129,0,0.247,0.068,0.312,0.18l2,3.464c0.064,0.111,0.064,0.249,0,0.36l-2,3.464 C28.247,13.988,28.129,14.056,28,14.056z M24.208,13.336h3.584l1.792-3.104l-1.792-3.104h-3.584l-1.792,3.104L24.208,13.336z M11,13.484c-0.061,0-0.123-0.015-0.18-0.048c-0.172-0.1-0.231-0.32-0.132-0.492l2.896-5.016l-1.896-3.284 c-0.064-0.112-0.064-0.249,0-0.36l2-3.464C13.752,0.708,13.872,0.64,14,0.64h4c0.129,0,0.247,0.068,0.312,0.18l2,3.464 c0.064,0.111,0.064,0.249,0,0.36l-2,3.464C18.247,8.22,18.129,8.288,18,8.288h-3.792l-2.896,5.017 C11.245,13.42,11.124,13.484,11,13.484z M14.208,7.568h3.584l1.792-3.104L17.792,1.36h-3.584l-1.792,3.104L14.208,7.568z\"/></svg>\\n                    </div>\\n                </caem-card>\\n            \\n        \\n    \\n    \\n    \\n\\n\\n\\n    \\n        \\n            \\n            \\n                \\n                <caem-card color-scheme cta-type=\"local\" data-autoid=\"caem--card\" href=\"https://www.ibm.com/it-automation?lnk=ProdC\" target=\"_self\" pictogram-placement=\"top\" size>\\n                    <caem-card-heading aria-level=\"3\" data-autoid=\"caem--card-heading\" role=\"heading\" slot=\"heading\">\\n                        \\n                        Automação de TI</caem-card-heading>\\n                    <svg slot=\"pictogram\" class=\"bx--card__pictogram\" data-autoid=\"caem--card__pictogram\" focusable=\"false\" height=\"48\" width=\"48\" role=\"img\">\\n                        <use href=\"#automation--decision\"></use>\\n                    </svg>\\n                    <p>Automatize o gerenciamento da infraestrutura de TI</p>\\n                    <caem-card-cta-footer color-scheme cta-type=\"local\" data-autoid=\"caem--card-cta-footer\" href=\"https://www.ibm.com/it-automation?lnk=ProdC\" icon-placement=\"right\" parent-href=\"https://www.ibm.com/it-automation?lnk=ProdC\" slot=\"footer\">\\n                        \\n                    </caem-card-cta-footer>\\n                    <div class=\"caem-card-svg-source\">\\n                        <svg xmlns=\"http://www.w3.org/2000/svg\" id=\"automation--decision\" viewBox=\"0 0 32 32\"><path d=\"M27.255,19.255L30.509,16l-3.254-3.254l-0.51,0.509l2.386,2.386H16.149L9.36,8.85V5.36h19.771 l-2.386,2.386l0.51,0.509L30.509,5l-3.254-3.254l-0.51,0.509l2.386,2.386H9C8.801,4.64,8.64,4.801,8.64,5v3.85l-6.895,6.896 c-0.141,0.141-0.141,0.368,0,0.509L8.64,23.15V27c0,0.199,0.161,0.36,0.36,0.36h20.131l-2.386,2.385l0.51,0.51L30.509,27 l-3.254-3.255l-0.51,0.51l2.386,2.385H9.36v-3.49l6.789-6.79h12.982l-2.386,2.385L27.255,19.255z M9,22.491L2.509,16L9,9.508 L15.491,16L9,22.491z\"/></svg>\\n                    </div>\\n                </caem-card>\\n            \\n        \\n    \\n    \\n    \\n\\n\\n\\n    \\n        \\n            \\n            \\n                \\n                <caem-card color-scheme cta-type=\"local\" data-autoid=\"caem--card\" href=\"https://www.ibm.com/quantum?lnk=ProdC\" target=\"_self\" pictogram-placement=\"top\" size>\\n                    <caem-card-heading aria-level=\"3\" data-autoid=\"caem--card-heading\" role=\"heading\" slot=\"heading\">\\n                        \\n                        Quantum</caem-card-heading>\\n                    <svg slot=\"pictogram\" class=\"bx--card__pictogram\" data-autoid=\"caem--card__pictogram\" focusable=\"false\" height=\"48\" width=\"48\" role=\"img\">\\n                        <use href=\"#quantum--safe\"></use>\\n                    </svg>\\n                    <p>Execute código em sistemas quânticos reais usando um SDK full-stack</p>\\n                    <caem-card-cta-footer color-scheme cta-type=\"local\" data-autoid=\"caem--card-cta-footer\" href=\"https://www.ibm.com/quantum?lnk=ProdC\" icon-placement=\"right\" parent-href=\"https://www.ibm.com/quantum?lnk=ProdC\" slot=\"footer\">\\n                        \\n                    </caem-card-cta-footer>\\n                    <div class=\"caem-card-svg-source\">\\n                        <svg xmlns=\"http://www.w3.org/2000/svg\" id=\"quantum--safe\" viewBox=\"0 0 32 32\"><path d=\"M16,31.36C9.736,31.36,4.64,26.264,4.64,20V7 c0-0.132,0.072-0.253,0.188-0.316l11-6c0.107-0.059,0.237-0.059,0.345,0l11,6C27.288,6.747,27.36,6.868,27.36,7v13 C27.36,26.264,22.264,31.36,16,31.36z M5.36,7.214V20c0,5.867,4.773,10.64,10.64,10.64S26.64,25.868,26.64,20V7.214L16,1.41 L5.36,7.214z M16,23.36c-1.089,0-1.841-0.229-2.703-0.599l0.284-0.662c0.797,0.343,1.449,0.54,2.419,0.54 c3.421,0,6.16-2.355,6.583-5.502C21.287,17.971,18.572,18.36,16,18.36c-3.558,0-7.36-0.62-7.36-2.36c0-0.903,0.218-1.93,0.598-2.817 c0.752-1.794,2.166-3.197,3.978-3.947c1.815-0.751,3.803-0.751,5.598,0L18.535,9.9c-1.613-0.677-3.405-0.678-5.044,0.001 c-1.635,0.677-2.91,1.942-3.59,3.562c-0.173,0.403-0.308,0.835-0.4,1.269c1.301-0.894,3.878-1.467,6.317-1.541l0.021,0.72 C12.081,14.026,9.36,15.238,9.36,16c0,0.806,2.484,1.64,6.64,1.64c4.114,0,6.64-0.955,6.64-1.64c0-0.39-1.028-1.311-2.71-1.647 l0.141-0.706c1.814,0.363,3.29,1.418,3.29,2.353v0.285C23.36,20.252,20.127,23.36,16,23.36z M11,22.612 c-0.889,0-1.612-0.724-1.612-1.612s0.723-1.612,1.612-1.612s1.612,0.724,1.612,1.612S11.889,22.612,11,22.612z M11,20.108 c-0.492,0-0.892,0.399-0.892,0.892s0.4,0.892,0.892,0.892s0.892-0.399,0.892-0.892S11.492,20.108,11,20.108z M16.254,16.254 l-0.509-0.509l3.888-3.889c-0.39-0.623-0.314-1.456,0.226-1.997c0.629-0.629,1.652-0.628,2.281,0c0.628,0.629,0.628,1.651,0,2.28 l0,0c-0.541,0.541-1.375,0.616-1.997,0.226L16.254,16.254z M21,10.108c-0.229,0-0.457,0.087-0.631,0.261 c-0.348,0.348-0.348,0.914,0,1.262s0.914,0.348,1.262,0s0.348-0.914,0-1.262C21.457,10.195,21.229,10.108,21,10.108z\"/></svg>\\n                    </div>\\n                </caem-card>\\n            \\n        \\n    \\n    \\n    \\n\\n\\n\\n    \\n        \\n            \\n            \\n                \\n                <caem-card color-scheme cta-type=\"local\" data-autoid=\"caem--card\" href=\"https://www.ibm.com/br-pt/security?lnk=prodC\" target=\"_self\" pictogram-placement=\"top\" size>\\n                    <caem-card-heading aria-level=\"3\" data-autoid=\"caem--card-heading\" role=\"heading\" slot=\"heading\">\\n                        \\n                        Segurança e identidade</caem-card-heading>\\n                    <svg slot=\"pictogram\" class=\"bx--card__pictogram\" data-autoid=\"caem--card__pictogram\" focusable=\"false\" height=\"48\" width=\"48\" role=\"img\">\\n                        <use href=\"#secure--profile\"></use>\\n                    </svg>\\n                    <p>Software nativo da nuvem para proteger recursos e simplificar a conformidade</p>\\n                    <caem-card-cta-footer color-scheme cta-type=\"local\" data-autoid=\"caem--card-cta-footer\" href=\"https://www.ibm.com/br-pt/security?lnk=prodC\" icon-placement=\"right\" parent-href=\"https://www.ibm.com/br-pt/security?lnk=prodC\" slot=\"footer\">\\n                        \\n                    </caem-card-cta-footer>\\n                    <div class=\"caem-card-svg-source\">\\n                        <svg xmlns=\"http://www.w3.org/2000/svg\" id=\"secure--profile\" viewBox=\"0 0 32 32\"><path d=\"M23.14,25.415v-1.988c-0.373-0.145-0.64-0.503-0.64-0.927c0-0.552,0.448-1,1-1s1,0.448,1,1 c0,0.424-0.266,0.782-0.64,0.927v1.988c0,0.199-0.161,0.36-0.36,0.36S23.14,25.614,23.14,25.415z M31.36,16v15 c0,0.199-0.161,0.36-0.36,0.36H16c-0.199,0-0.36-0.161-0.36-0.36V19h0.72v11.64h14.28V16.36H1c-0.199,0-0.36-0.161-0.36-0.36V1 c0-0.199,0.161-0.36,0.36-0.36h15c0.199,0,0.36,0.161,0.36,0.36v12h-0.72V1.36H1.36v14.28h2.28v-2.639 c0-1.926,1.166-3.659,2.908-4.427C5.978,8.04,5.643,7.293,5.643,6.5c0-1.577,1.283-2.86,2.86-2.86s2.86,1.283,2.86,2.86 c0,0.794-0.335,1.542-0.907,2.075c1.74,0.77,2.904,2.502,2.904,4.426v2.639h6.28V11.5c0-2.128,1.731-3.86,3.859-3.86 c2.129,0,3.861,1.731,3.861,3.86l-0.001,4.14H31C31.199,15.64,31.36,15.801,31.36,16z M12.64,13.001c0-1.837-1.25-3.47-3.041-3.97 c-0.141-0.04-0.244-0.16-0.261-0.306C9.321,8.58,9.395,8.439,9.523,8.369c0.69-0.379,1.12-1.095,1.12-1.869 c0-1.18-0.96-2.14-2.14-2.14s-2.14,0.96-2.14,2.14c0,0.773,0.429,1.489,1.119,1.868c0.128,0.07,0.201,0.211,0.184,0.357 C7.648,8.87,7.545,8.991,7.404,9.03C5.612,9.529,4.36,11.162,4.36,13.001v2.639h8.28C12.64,15.64,12.64,13.001,12.64,13.001z M26.64,11.5c0-1.731-1.408-3.14-3.14-3.14s-3.14,1.409-3.14,3.14v4.14h6.278L26.64,11.5z\"/></svg>\\n                    </div>\\n                </caem-card>\\n            \\n        \\n    \\n    \\n    \\n\\n\\n\\n    \\n\\n\\n                        </caem-card-group>\\n                    \\n                \\n            \\n        \\n\\n        \\n    </div>\\n\\n    \\n\\n    <script type=\"module\" src=\"https://1.www.s81c.com/common/carbon/carbon-for-aem/version/v0.5.1/card.min.js\"></script>\\n    <script type=\"module\" src=\"https://1.www.s81c.com/common/carbon/carbon-for-aem/version/v0.5.1/card-group.min.js\"></script>\\n\\n</div>\\n<div class=\"feature-card-section\">\\n    \\n            \\n                <div class=\"feature-card-section__container theme-white\">\\n                    <dds-feature-section media-alignment=\"right\">\\n\\n                        \\n    \\n    \\n        \\n        \\n        \\n        \\n        <dds-image id=\"image--143553297\" alt=\"Ondas abstratas e uma fina linha azul\" slot=\"image\" default-src=\"/content/dam/connectedassets-adobe-cms/worldwide-content/homepage/ul/g/29/fa/sosf-ibm-homepage-feature-image.component.xl.ts=1695059657973.jpg/content/adobe-cms/br/pt/homepage/jcr:content/root/container/content_section_styl/content-section-body/feature_card_section\">\\n            \\n            \\n                \\n                    \\n    <dds-image-item media=\"(min-width: 1312px) and (min-resolution: 192dpi)\" srcset=\"/content/dam/connectedassets-adobe-cms/worldwide-content/homepage/ul/g/29/fa/sosf-ibm-homepage-feature-image.component.xl-retina.ts=1695059657973.jpg/content/adobe-cms/br/pt/homepage/jcr:content/root/container/content_section_styl/content-section-body/feature_card_section\"></dds-image-item>\\n    <dds-image-item media=\"(min-width: 1312px)\" srcset=\"/content/dam/connectedassets-adobe-cms/worldwide-content/homepage/ul/g/29/fa/sosf-ibm-homepage-feature-image.component.xl.ts=1695059657973.jpg/content/adobe-cms/br/pt/homepage/jcr:content/root/container/content_section_styl/content-section-body/feature_card_section\"></dds-image-item>\\n    <dds-image-item media=\"(min-width: 1056px) and (min-resolution: 192dpi)\" srcset=\"/content/dam/connectedassets-adobe-cms/worldwide-content/homepage/ul/g/29/fa/sosf-ibm-homepage-feature-image.component.l-retina.ts=1695059657973.jpg/content/adobe-cms/br/pt/homepage/jcr:content/root/container/content_section_styl/content-section-body/feature_card_section\"></dds-image-item>\\n    <dds-image-item media=\"(min-width: 1056px)\" srcset=\"/content/dam/connectedassets-adobe-cms/worldwide-content/homepage/ul/g/29/fa/sosf-ibm-homepage-feature-image.component.l.ts=1695059657973.jpg/content/adobe-cms/br/pt/homepage/jcr:content/root/container/content_section_styl/content-section-body/feature_card_section\"></dds-image-item>\\n    <dds-image-item media=\"(min-width: 672px) and (min-resolution: 192dpi)\" srcset=\"/content/dam/connectedassets-adobe-cms/worldwide-content/homepage/ul/g/29/fa/sosf-ibm-homepage-feature-image.component.m-retina.ts=1695059657973.jpg/content/adobe-cms/br/pt/homepage/jcr:content/root/container/content_section_styl/content-section-body/feature_card_section\"></dds-image-item>\\n    <dds-image-item media=\"(min-width: 672px)\" srcset=\"/content/dam/connectedassets-adobe-cms/worldwide-content/homepage/ul/g/29/fa/sosf-ibm-homepage-feature-image.component.m.ts=1695059657973.jpg/content/adobe-cms/br/pt/homepage/jcr:content/root/container/content_section_styl/content-section-body/feature_card_section\"></dds-image-item>\\n    <dds-image-item media=\"(min-width: 481px) and (min-resolution: 192dpi)\" srcset=\"/content/dam/connectedassets-adobe-cms/worldwide-content/homepage/ul/g/29/fa/sosf-ibm-homepage-feature-image.component.s-retina.ts=1695059657973.jpg/content/adobe-cms/br/pt/homepage/jcr:content/root/container/content_section_styl/content-section-body/feature_card_section\"></dds-image-item>\\n    <dds-image-item media=\"(min-width: 481px)\" srcset=\"/content/dam/connectedassets-adobe-cms/worldwide-content/homepage/ul/g/29/fa/sosf-ibm-homepage-feature-image.component.s.ts=1695059657973.jpg/content/adobe-cms/br/pt/homepage/jcr:content/root/container/content_section_styl/content-section-body/feature_card_section\"></dds-image-item>\\n    <dds-image-item media=\"(max-width: 480px) and (min-resolution: 192dpi)\" srcset=\"/content/dam/connectedassets-adobe-cms/worldwide-content/homepage/ul/g/29/fa/sosf-ibm-homepage-feature-image.component.xs-retina.ts=1695059657973.jpg/content/adobe-cms/br/pt/homepage/jcr:content/root/container/content_section_styl/content-section-body/feature_card_section\"></dds-image-item>\\n    <dds-image-item media=\"(max-width: 480px)\" srcset=\"/content/dam/connectedassets-adobe-cms/worldwide-content/homepage/ul/g/29/fa/sosf-ibm-homepage-feature-image.component.xs.ts=1695059657973.jpg/content/adobe-cms/br/pt/homepage/jcr:content/root/container/content_section_styl/content-section-body/feature_card_section\"></dds-image-item>\\n\\n                    \\n                \\n            \\n        </dds-image>\\n    \\n\\n    \\n\\n\\n\\n                        <dds-card-eyebrow slot=\"eyebrow\">\\n                            O que há de novo\\n                        </dds-card-eyebrow>\\n                        <dds-content-block-heading slot=\"heading\">\\n                            Relatório: The State of Salesforce 2023–24\\n                        </dds-content-block-heading>\\n                        <dds-content-item-paragraph slot=\"copy\">\\n                            Durante o último ano,\\xa0o Institute for Business Value da IBM fez uma pesquisa com 3.459 usuários do Salesforce para entender como as companhias podem obter o melhor valor dessa plataforma.\\n                        </dds-content-item-paragraph>\\n\\n                        <dds-feature-section-card-link slot=\"footer\" target=\"_self\" href=\"https://www.ibm.com/thought-leadership/institute-business-value/en-us/report/state-of-salesforce-2023\" cta-type=\"local\" color-scheme=\"inverse\">\\n                            <dds-card-link-heading>Leia os resultados</dds-card-link-heading>\\n                            <dds-card-cta-footer cta-type=\"local\" color-scheme=\"inverse\" href=\"https://www.ibm.com/thought-leadership/institute-business-value/en-us/report/state-of-salesforce-2023\" target=\"_self\"></dds-card-cta-footer>\\n                        </dds-feature-section-card-link>\\n                    </dds-feature-section>\\n                </div>\\n            \\n            \\n    \\n\\n    \\n</div>\\n<div class=\"intro-section\"><div class=\"bx--col\">\\n    <caem-intro-section>\\n\\n        <caem-heading slot=\"heading\" type=\"h2\" type-style=\"expressive-heading-05\" data-autoid=\"caem-heading\">\\n                \\n\\n\\n\\n  \\n    Conheça nossos consultores globais\\n\\n\\n\\n\\n\\n\\n    \\n\\n\\n            </caem-heading>\\n\\n        <caem-paragraph size=\"lead-in\" data-autoid=\"caem--paragraph\">\\n            <div class=\"cms-richtext\" id=\"rich-text-54d165d61c\" data-dynamic-inner-content=\"description\">\\n    <p>Reunindo um conjunto diversificado de vozes com novas tecnologias, colaboramos estreitamente, idealizamos livremente e aplicamos rapidamente inovações revolucionárias que promovem um grande impacto.</p>\\n \\n    \\n    \\n    \\n    \\n\\n</div>\\n        </caem-paragraph>\\n\\n        \\n            <dds-link-list type=\"vertical\">\\n                \\n                    \\n    \\n    \\n        \\n        <dds-video-cta-container>\\n            <dds-link-list-item-cta cta-type=\"local\" href=\"https://www.ibm.com/br-pt/consulting?lnk=intro\" icon-placement=\"right\" role=\"listitem\" target=\"_self\">\\n                Ver a IBM Consulting\\n                \\n            </dds-link-list-item-cta>\\n        </dds-video-cta-container>\\n    \\n    \\n    \\n\\n\\n\\n                \\n                \\n                    \\n    \\n    \\n    \\n    \\n\\n\\n\\n                \\n            </dds-link-list>\\n        \\n\\n        \\n\\n    </caem-intro-section>\\n</div>\\n<script type=\"module\" src=\"https://1.www.s81c.com/common/carbon/carbon-for-aem/version/v0.7.2/paragraph.min.js\"></script>\\n<script type=\"module\" src=\"https://1.www.s81c.com/common/carbon/carbon-for-aem/version/v0.7.2/heading.min.js\"></script>\\n<script type=\"module\" src=\"https://1.www.s81c.com/common/carbon/carbon-for-aem/version/v0.7.2/intro-section.min.js\"></script>\\n<script type=\"module\" src=\"https://1.www.s81c.com/common/carbon/carbon-for-aem/version/v0.7.2/brand-cta-section.min.js\"></script>\\n</div>\\n<div class=\"simple-image\">\\n    \\n    \\n    \\n    <div class=\"bx--image \">\\n        <picture>\\n            \\n            \\n            \\n                \\n                    \\n    <source media=\"(min-width: 1312px) and (min-resolution: 192dpi)\" srcset=\"/content/dam/adobe-cms/default-images/home-consultants.component.crop-16by9-xl-retina.ts=1695226557679.jpg/content/adobe-cms/br/pt/homepage/jcr:content/root/container/content_section_styl/content-section-body/simple_image\"/>\\n    <source media=\"(min-width: 1312px)\" srcset=\"/content/dam/adobe-cms/default-images/home-consultants.component.crop-16by9-xl.ts=1695226557679.jpg/content/adobe-cms/br/pt/homepage/jcr:content/root/container/content_section_styl/content-section-body/simple_image\"/>\\n    <source media=\"(min-width: 1056px) and (min-resolution: 192dpi)\" srcset=\"/content/dam/adobe-cms/default-images/home-consultants.component.crop-16by9-l-retina.ts=1695226557679.jpg/content/adobe-cms/br/pt/homepage/jcr:content/root/container/content_section_styl/content-section-body/simple_image\"/>\\n    <source media=\"(min-width: 1056px)\" srcset=\"/content/dam/adobe-cms/default-images/home-consultants.component.crop-16by9-l.ts=1695226557679.jpg/content/adobe-cms/br/pt/homepage/jcr:content/root/container/content_section_styl/content-section-body/simple_image\"/>\\n    <source media=\"(min-width: 672px) and (min-resolution: 192dpi)\" srcset=\"/content/dam/adobe-cms/default-images/home-consultants.component.crop-16by9-m-retina.ts=1695226557679.jpg/content/adobe-cms/br/pt/homepage/jcr:content/root/container/content_section_styl/content-section-body/simple_image\"/>\\n    <source media=\"(min-width: 672px)\" srcset=\"/content/dam/adobe-cms/default-images/home-consultants.component.crop-16by9-m.ts=1695226557679.jpg/content/adobe-cms/br/pt/homepage/jcr:content/root/container/content_section_styl/content-section-body/simple_image\"/>\\n    <source media=\"(min-width: 481px) and (min-resolution: 192dpi)\" srcset=\"/content/dam/adobe-cms/default-images/home-consultants.component.crop-16by9-s-retina.ts=1695226557679.jpg/content/adobe-cms/br/pt/homepage/jcr:content/root/container/content_section_styl/content-section-body/simple_image\"/>\\n    <source media=\"(min-width: 481px)\" srcset=\"/content/dam/adobe-cms/default-images/home-consultants.component.crop-16by9-s.ts=1695226557679.jpg/content/adobe-cms/br/pt/homepage/jcr:content/root/container/content_section_styl/content-section-body/simple_image\"/>\\n    <source media=\"(max-width: 480px) and (min-resolution: 192dpi)\" srcset=\"/content/dam/adobe-cms/default-images/home-consultants.component.crop-16by9-xs-retina.ts=1695226557679.jpg/content/adobe-cms/br/pt/homepage/jcr:content/root/container/content_section_styl/content-section-body/simple_image\"/>\\n    <source media=\"(max-width: 480px)\" srcset=\"/content/dam/adobe-cms/default-images/home-consultants.component.crop-16by9-xs.ts=1695226557679.jpg/content/adobe-cms/br/pt/homepage/jcr:content/root/container/content_section_styl/content-section-body/simple_image\"/>\\n\\n                    \\n                \\n            \\n            \\n            <img id=\"image-1650413086\" class=\"bx--image__img\" src=\"/content/dam/adobe-cms/default-images/home-consultants.component.crop-16by9-xl.ts=1695226557679.jpg/content/adobe-cms/br/pt/homepage/_jcr_content/root/container/content_section_styl/content-section-body/simple_image\" alt=\"Fotos de consultores da IBM\" loading=\"lazy\"/>\\n        </picture>\\n        \\n    </div>\\n\\n\\n</div>\\n<div class=\"intro-section\"><div class=\"bx--col\">\\n    <caem-intro-section>\\n\\n        <caem-heading slot=\"heading\" type=\"h2\" type-style=\"expressive-heading-05\" data-autoid=\"caem-heading\">\\n                \\n\\n\\n\\n  \\n    Por dentro da IBM\\n\\n\\n\\n\\n\\n\\n    \\n\\n\\n            </caem-heading>\\n\\n        <caem-paragraph size=\"lead-in\" data-autoid=\"caem--paragraph\">\\n            <div class=\"cms-richtext\" id=\"rich-text-c7919f6b05\" data-dynamic-inner-content=\"description\">\\n    <p>Resolver os problemas do planeta, por meio da tecnologia, não seria possível sem os nossos IBMistas. Confira as nossas equipes talentosas.</p>\\n \\n    \\n    \\n    \\n    \\n\\n</div>\\n        </caem-paragraph>\\n\\n        \\n            <dds-link-list type=\"vertical\">\\n                \\n                    \\n    \\n    \\n        \\n        <dds-video-cta-container>\\n            <dds-link-list-item-cta cta-type=\"local\" href=\"https://www.ibm.com/br-pt/about?lnk=intro\" icon-placement=\"right\" role=\"listitem\" target=\"_self\">\\n                Sobre a IBM\\n                \\n            </dds-link-list-item-cta>\\n        </dds-video-cta-container>\\n    \\n    \\n    \\n\\n\\n\\n                \\n                \\n                    \\n    \\n    \\n    \\n    \\n\\n\\n\\n                \\n            </dds-link-list>\\n        \\n\\n        \\n\\n    </caem-intro-section>\\n</div>\\n<script type=\"module\" src=\"https://1.www.s81c.com/common/carbon/carbon-for-aem/version/v0.7.2/paragraph.min.js\"></script>\\n<script type=\"module\" src=\"https://1.www.s81c.com/common/carbon/carbon-for-aem/version/v0.7.2/heading.min.js\"></script>\\n<script type=\"module\" src=\"https://1.www.s81c.com/common/carbon/carbon-for-aem/version/v0.7.2/intro-section.min.js\"></script>\\n<script type=\"module\" src=\"https://1.www.s81c.com/common/carbon/carbon-for-aem/version/v0.7.2/brand-cta-section.min.js\"></script>\\n</div>\\n<div class=\"block-card-container container responsivegrid\">\\n\\n    <dds-content-block-cards data-autoid=\"dds--content-block-cards\" content-section-body>\\n            \\n                \\n  \\n\\n                \\n            \\n\\n                        \\n\\n            <dds-card-group cards-per-row=\"4\">\\n                \\n\\n    \\n    \\n    \\n    \\n        \\n        \\n            <dds-card-group-item href=\"https://www.ibm.com/careers/br-pt/\" target=\"_self\" pictogram-placement=\"top\" cta-type=\"local\">\\n\\n                \\n                    \\n                            \\n\\n\\n\\n\\n    \\n    \\n        \\n        \\n        \\n        \\n        <dds-image id=\"image-1388688622\" alt=\"Engenheiro trabalha com dispositivo elétrico\" slot=\"image\" default-src=\"/content/dam/connectedassets-adobe-cms/worldwide-content/creative-assets/ibs/ul/g/00/00/0100129_Oppermann_PE.component.card-xl.ts=1694804566329.jpg/content/adobe-cms/br/pt/homepage/jcr:content/root/container/content_section_styl/content-section-body/block_card_container/container/card_1430209788/image\">\\n            \\n            \\n                \\n                    \\n    <dds-image-item media=\"(min-width: 1312px) and (min-resolution: 192dpi)\" srcset=\"/content/dam/connectedassets-adobe-cms/worldwide-content/creative-assets/ibs/ul/g/00/00/0100129_Oppermann_PE.component.card-xl-retina.ts=1694804566329.jpg/content/adobe-cms/br/pt/homepage/jcr:content/root/container/content_section_styl/content-section-body/block_card_container/container/card_1430209788/image\"></dds-image-item>\\n    <dds-image-item media=\"(min-width: 1312px)\" srcset=\"/content/dam/connectedassets-adobe-cms/worldwide-content/creative-assets/ibs/ul/g/00/00/0100129_Oppermann_PE.component.card-xl.ts=1694804566329.jpg/content/adobe-cms/br/pt/homepage/jcr:content/root/container/content_section_styl/content-section-body/block_card_container/container/card_1430209788/image\"></dds-image-item>\\n    <dds-image-item media=\"(min-width: 1056px) and (min-resolution: 192dpi)\" srcset=\"/content/dam/connectedassets-adobe-cms/worldwide-content/creative-assets/ibs/ul/g/00/00/0100129_Oppermann_PE.component.card-l-retina.ts=1694804566329.jpg/content/adobe-cms/br/pt/homepage/jcr:content/root/container/content_section_styl/content-section-body/block_card_container/container/card_1430209788/image\"></dds-image-item>\\n    <dds-image-item media=\"(min-width: 1056px)\" srcset=\"/content/dam/connectedassets-adobe-cms/worldwide-content/creative-assets/ibs/ul/g/00/00/0100129_Oppermann_PE.component.card-l.ts=1694804566329.jpg/content/adobe-cms/br/pt/homepage/jcr:content/root/container/content_section_styl/content-section-body/block_card_container/container/card_1430209788/image\"></dds-image-item>\\n    <dds-image-item media=\"(min-width: 672px) and (min-resolution: 192dpi)\" srcset=\"/content/dam/connectedassets-adobe-cms/worldwide-content/creative-assets/ibs/ul/g/00/00/0100129_Oppermann_PE.component.card-m-retina.ts=1694804566329.jpg/content/adobe-cms/br/pt/homepage/jcr:content/root/container/content_section_styl/content-section-body/block_card_container/container/card_1430209788/image\"></dds-image-item>\\n    <dds-image-item media=\"(min-width: 672px)\" srcset=\"/content/dam/connectedassets-adobe-cms/worldwide-content/creative-assets/ibs/ul/g/00/00/0100129_Oppermann_PE.component.card-m.ts=1694804566329.jpg/content/adobe-cms/br/pt/homepage/jcr:content/root/container/content_section_styl/content-section-body/block_card_container/container/card_1430209788/image\"></dds-image-item>\\n    <dds-image-item media=\"(min-width: 481px) and (min-resolution: 192dpi)\" srcset=\"/content/dam/connectedassets-adobe-cms/worldwide-content/creative-assets/ibs/ul/g/00/00/0100129_Oppermann_PE.component.card-s-retina.ts=1694804566329.jpg/content/adobe-cms/br/pt/homepage/jcr:content/root/container/content_section_styl/content-section-body/block_card_container/container/card_1430209788/image\"></dds-image-item>\\n    <dds-image-item media=\"(min-width: 481px)\" srcset=\"/content/dam/connectedassets-adobe-cms/worldwide-content/creative-assets/ibs/ul/g/00/00/0100129_Oppermann_PE.component.card-s.ts=1694804566329.jpg/content/adobe-cms/br/pt/homepage/jcr:content/root/container/content_section_styl/content-section-body/block_card_container/container/card_1430209788/image\"></dds-image-item>\\n    <dds-image-item media=\"(max-width: 480px) and (min-resolution: 192dpi)\" srcset=\"/content/dam/connectedassets-adobe-cms/worldwide-content/creative-assets/ibs/ul/g/00/00/0100129_Oppermann_PE.component.card-xs-retina.ts=1694804566329.jpg/content/adobe-cms/br/pt/homepage/jcr:content/root/container/content_section_styl/content-section-body/block_card_container/container/card_1430209788/image\"></dds-image-item>\\n    <dds-image-item media=\"(max-width: 480px)\" srcset=\"/content/dam/connectedassets-adobe-cms/worldwide-content/creative-assets/ibs/ul/g/00/00/0100129_Oppermann_PE.component.card-xs.ts=1694804566329.jpg/content/adobe-cms/br/pt/homepage/jcr:content/root/container/content_section_styl/content-section-body/block_card_container/container/card_1430209788/image\"></dds-image-item>\\n\\n                    \\n                \\n            \\n        </dds-image>\\n    \\n\\n    \\n\\n\\n\\n                    \\n                \\n                <dds-card-eyebrow slot=\"eyebrow\" aria-hidden=\"true\" class=\"bx--card__eyebrow\">\\n                    Carreiras na IBM\\n                </dds-card-eyebrow>\\n                <dds-card-heading role=\"heading\" aria-level=\"3\" slot=\"heading\" class=\"bx--card__heading\">\\n                    Do fornecimento de alimentos mais seguros até uma IA ética, enfrente os problemas mais difíceis do mundo\\n                </dds-card-heading>\\n                \\n                <dds-card-cta-footer icon-placement=\"right\" cta-type=\"local\" href=\"https://www.ibm.com/careers/br-pt/\" slot=\"footer\" aria-hidden=\"true\" target=\"_self\" class=\"bx--card__footer-icon-size\">\\n                    \\n                    \\n                </dds-card-cta-footer>\\n            </dds-card-group-item>\\n        \\n    \\n    \\n\\n\\n\\n\\n    \\n    \\n    \\n    \\n        \\n        \\n            <dds-card-group-item href=\"https://research.ibm.com/\" target=\"_self\" pictogram-placement=\"top\" cta-type=\"local\">\\n\\n                \\n                    \\n                            \\n\\n\\n\\n\\n    \\n    \\n        \\n        \\n        \\n        \\n        <dds-image id=\"image--807357051\" alt=\"Retrato de profissional da tecnologia na frente de servidor gigante\" slot=\"image\" default-src=\"/content/dam/connectedassets-adobe-cms/worldwide-content/other/ul/cms/0c/98/ibm-quantum-system-one.component.card-xl.ts=1694804566352.png/content/adobe-cms/br/pt/homepage/jcr:content/root/container/content_section_styl/content-section-body/block_card_container/container/card/image\">\\n            \\n            \\n                \\n                    \\n    <dds-image-item media=\"(min-width: 1312px) and (min-resolution: 192dpi)\" srcset=\"/content/dam/connectedassets-adobe-cms/worldwide-content/other/ul/cms/0c/98/ibm-quantum-system-one.component.card-xl-retina.ts=1694804566352.png/content/adobe-cms/br/pt/homepage/jcr:content/root/container/content_section_styl/content-section-body/block_card_container/container/card/image\"></dds-image-item>\\n    <dds-image-item media=\"(min-width: 1312px)\" srcset=\"/content/dam/connectedassets-adobe-cms/worldwide-content/other/ul/cms/0c/98/ibm-quantum-system-one.component.card-xl.ts=1694804566352.png/content/adobe-cms/br/pt/homepage/jcr:content/root/container/content_section_styl/content-section-body/block_card_container/container/card/image\"></dds-image-item>\\n    <dds-image-item media=\"(min-width: 1056px) and (min-resolution: 192dpi)\" srcset=\"/content/dam/connectedassets-adobe-cms/worldwide-content/other/ul/cms/0c/98/ibm-quantum-system-one.component.card-l-retina.ts=1694804566352.png/content/adobe-cms/br/pt/homepage/jcr:content/root/container/content_section_styl/content-section-body/block_card_container/container/card/image\"></dds-image-item>\\n    <dds-image-item media=\"(min-width: 1056px)\" srcset=\"/content/dam/connectedassets-adobe-cms/worldwide-content/other/ul/cms/0c/98/ibm-quantum-system-one.component.card-l.ts=1694804566352.png/content/adobe-cms/br/pt/homepage/jcr:content/root/container/content_section_styl/content-section-body/block_card_container/container/card/image\"></dds-image-item>\\n    <dds-image-item media=\"(min-width: 672px) and (min-resolution: 192dpi)\" srcset=\"/content/dam/connectedassets-adobe-cms/worldwide-content/other/ul/cms/0c/98/ibm-quantum-system-one.component.card-m-retina.ts=1694804566352.png/content/adobe-cms/br/pt/homepage/jcr:content/root/container/content_section_styl/content-section-body/block_card_container/container/card/image\"></dds-image-item>\\n    <dds-image-item media=\"(min-width: 672px)\" srcset=\"/content/dam/connectedassets-adobe-cms/worldwide-content/other/ul/cms/0c/98/ibm-quantum-system-one.component.card-m.ts=1694804566352.png/content/adobe-cms/br/pt/homepage/jcr:content/root/container/content_section_styl/content-section-body/block_card_container/container/card/image\"></dds-image-item>\\n    <dds-image-item media=\"(min-width: 481px) and (min-resolution: 192dpi)\" srcset=\"/content/dam/connectedassets-adobe-cms/worldwide-content/other/ul/cms/0c/98/ibm-quantum-system-one.component.card-s-retina.ts=1694804566352.png/content/adobe-cms/br/pt/homepage/jcr:content/root/container/content_section_styl/content-section-body/block_card_container/container/card/image\"></dds-image-item>\\n    <dds-image-item media=\"(min-width: 481px)\" srcset=\"/content/dam/connectedassets-adobe-cms/worldwide-content/other/ul/cms/0c/98/ibm-quantum-system-one.component.card-s.ts=1694804566352.png/content/adobe-cms/br/pt/homepage/jcr:content/root/container/content_section_styl/content-section-body/block_card_container/container/card/image\"></dds-image-item>\\n    <dds-image-item media=\"(max-width: 480px) and (min-resolution: 192dpi)\" srcset=\"/content/dam/connectedassets-adobe-cms/worldwide-content/other/ul/cms/0c/98/ibm-quantum-system-one.component.card-xs-retina.ts=1694804566352.png/content/adobe-cms/br/pt/homepage/jcr:content/root/container/content_section_styl/content-section-body/block_card_container/container/card/image\"></dds-image-item>\\n    <dds-image-item media=\"(max-width: 480px)\" srcset=\"/content/dam/connectedassets-adobe-cms/worldwide-content/other/ul/cms/0c/98/ibm-quantum-system-one.component.card-xs.ts=1694804566352.png/content/adobe-cms/br/pt/homepage/jcr:content/root/container/content_section_styl/content-section-body/block_card_container/container/card/image\"></dds-image-item>\\n\\n                    \\n                \\n            \\n        </dds-image>\\n    \\n\\n    \\n\\n\\n\\n                    \\n                \\n                <dds-card-eyebrow slot=\"eyebrow\" aria-hidden=\"true\" class=\"bx--card__eyebrow\">\\n                    IBM Research\\n                </dds-card-eyebrow>\\n                <dds-card-heading role=\"heading\" aria-level=\"3\" slot=\"heading\" class=\"bx--card__heading\">\\n                    Veja as tecnologias mais recentes desenvolvidas por cientistas e pensadores de design da IBM\\n                </dds-card-heading>\\n                \\n                <dds-card-cta-footer icon-placement=\"right\" cta-type=\"local\" href=\"https://research.ibm.com/\" slot=\"footer\" aria-hidden=\"true\" target=\"_self\" class=\"bx--card__footer-icon-size\">\\n                    \\n                    \\n                </dds-card-cta-footer>\\n            </dds-card-group-item>\\n        \\n    \\n    \\n\\n\\n\\n\\n    \\n    \\n    \\n    \\n        \\n        \\n            <dds-card-group-item href=\"https://skillsbuild.org/pt-br\" target=\"_blank\" pictogram-placement=\"top\" cta-type=\"external\">\\n\\n                \\n                    \\n                            \\n\\n\\n\\n\\n    \\n    \\n        \\n        \\n        \\n        \\n        <dds-image id=\"image--1562539797\" alt=\"Grande servidor quântico na IBM Research\" slot=\"image\" default-src=\"/content/dam/connectedassets-adobe-cms/worldwide-content/stock-assets/getty/image/photography/fe/64/universitychile0013846.component.card-xl.ts=1694804566402.jpg/content/adobe-cms/br/pt/homepage/jcr:content/root/container/content_section_styl/content-section-body/block_card_container/container/card_1937905391/image\">\\n            \\n            \\n                \\n                    \\n    <dds-image-item media=\"(min-width: 1312px) and (min-resolution: 192dpi)\" srcset=\"/content/dam/connectedassets-adobe-cms/worldwide-content/stock-assets/getty/image/photography/fe/64/universitychile0013846.component.card-xl-retina.ts=1694804566402.jpg/content/adobe-cms/br/pt/homepage/jcr:content/root/container/content_section_styl/content-section-body/block_card_container/container/card_1937905391/image\"></dds-image-item>\\n    <dds-image-item media=\"(min-width: 1312px)\" srcset=\"/content/dam/connectedassets-adobe-cms/worldwide-content/stock-assets/getty/image/photography/fe/64/universitychile0013846.component.card-xl.ts=1694804566402.jpg/content/adobe-cms/br/pt/homepage/jcr:content/root/container/content_section_styl/content-section-body/block_card_container/container/card_1937905391/image\"></dds-image-item>\\n    <dds-image-item media=\"(min-width: 1056px) and (min-resolution: 192dpi)\" srcset=\"/content/dam/connectedassets-adobe-cms/worldwide-content/stock-assets/getty/image/photography/fe/64/universitychile0013846.component.card-l-retina.ts=1694804566402.jpg/content/adobe-cms/br/pt/homepage/jcr:content/root/container/content_section_styl/content-section-body/block_card_container/container/card_1937905391/image\"></dds-image-item>\\n    <dds-image-item media=\"(min-width: 1056px)\" srcset=\"/content/dam/connectedassets-adobe-cms/worldwide-content/stock-assets/getty/image/photography/fe/64/universitychile0013846.component.card-l.ts=1694804566402.jpg/content/adobe-cms/br/pt/homepage/jcr:content/root/container/content_section_styl/content-section-body/block_card_container/container/card_1937905391/image\"></dds-image-item>\\n    <dds-image-item media=\"(min-width: 672px) and (min-resolution: 192dpi)\" srcset=\"/content/dam/connectedassets-adobe-cms/worldwide-content/stock-assets/getty/image/photography/fe/64/universitychile0013846.component.card-m-retina.ts=1694804566402.jpg/content/adobe-cms/br/pt/homepage/jcr:content/root/container/content_section_styl/content-section-body/block_card_container/container/card_1937905391/image\"></dds-image-item>\\n    <dds-image-item media=\"(min-width: 672px)\" srcset=\"/content/dam/connectedassets-adobe-cms/worldwide-content/stock-assets/getty/image/photography/fe/64/universitychile0013846.component.card-m.ts=1694804566402.jpg/content/adobe-cms/br/pt/homepage/jcr:content/root/container/content_section_styl/content-section-body/block_card_container/container/card_1937905391/image\"></dds-image-item>\\n    <dds-image-item media=\"(min-width: 481px) and (min-resolution: 192dpi)\" srcset=\"/content/dam/connectedassets-adobe-cms/worldwide-content/stock-assets/getty/image/photography/fe/64/universitychile0013846.component.card-s-retina.ts=1694804566402.jpg/content/adobe-cms/br/pt/homepage/jcr:content/root/container/content_section_styl/content-section-body/block_card_container/container/card_1937905391/image\"></dds-image-item>\\n    <dds-image-item media=\"(min-width: 481px)\" srcset=\"/content/dam/connectedassets-adobe-cms/worldwide-content/stock-assets/getty/image/photography/fe/64/universitychile0013846.component.card-s.ts=1694804566402.jpg/content/adobe-cms/br/pt/homepage/jcr:content/root/container/content_section_styl/content-section-body/block_card_container/container/card_1937905391/image\"></dds-image-item>\\n    <dds-image-item media=\"(max-width: 480px) and (min-resolution: 192dpi)\" srcset=\"/content/dam/connectedassets-adobe-cms/worldwide-content/stock-assets/getty/image/photography/fe/64/universitychile0013846.component.card-xs-retina.ts=1694804566402.jpg/content/adobe-cms/br/pt/homepage/jcr:content/root/container/content_section_styl/content-section-body/block_card_container/container/card_1937905391/image\"></dds-image-item>\\n    <dds-image-item media=\"(max-width: 480px)\" srcset=\"/content/dam/connectedassets-adobe-cms/worldwide-content/stock-assets/getty/image/photography/fe/64/universitychile0013846.component.card-xs.ts=1694804566402.jpg/content/adobe-cms/br/pt/homepage/jcr:content/root/container/content_section_styl/content-section-body/block_card_container/container/card_1937905391/image\"></dds-image-item>\\n\\n                    \\n                \\n            \\n        </dds-image>\\n    \\n\\n    \\n\\n\\n\\n                    \\n                \\n                <dds-card-eyebrow slot=\"eyebrow\" aria-hidden=\"true\" class=\"bx--card__eyebrow\">\\n                    Treinamentos e qualificações\\n                </dds-card-eyebrow>\\n                <dds-card-heading role=\"heading\" aria-level=\"3\" slot=\"heading\" class=\"bx--card__heading\">\\n                    Impulsione seu futuro na tecnologia com o desenvolvimento de habilidades profissionais, cursos e credenciais gratuitamente.\\n                </dds-card-heading>\\n                \\n                <dds-card-cta-footer icon-placement=\"right\" cta-type=\"external\" href=\"https://skillsbuild.org/pt-br\" slot=\"footer\" aria-hidden=\"true\" target=\"_blank\" class=\"bx--card__footer-icon-size\">\\n                    \\n                    \\n                </dds-card-cta-footer>\\n            </dds-card-group-item>\\n        \\n    \\n    \\n\\n\\n\\n\\n    \\n    \\n    \\n    \\n        \\n        \\n            <dds-card-group-item href=\"https://www.ibm.com/impact\" target=\"_self\" pictogram-placement=\"top\" cta-type=\"local\">\\n\\n                \\n                    \\n                            \\n\\n\\n\\n\\n    \\n    \\n        \\n        \\n        \\n        \\n        <dds-image id=\"image-468421047\" alt=\"vista aérea de painéis solares alinhados em um campo\" slot=\"image\" default-src=\"/content/dam/connectedassets-adobe-cms/worldwide-content/stock-assets/getty/image/photography/54/74/dji_0758.component.card-xl.ts=1695236133573.jpg/content/adobe-cms/br/pt/homepage/jcr:content/root/container/content_section_styl/content-section-body/block_card_container/container/block_card/image\">\\n            \\n            \\n                \\n                    \\n    <dds-image-item media=\"(min-width: 1312px) and (min-resolution: 192dpi)\" srcset=\"/content/dam/connectedassets-adobe-cms/worldwide-content/stock-assets/getty/image/photography/54/74/dji_0758.component.card-xl-retina.ts=1695236133573.jpg/content/adobe-cms/br/pt/homepage/jcr:content/root/container/content_section_styl/content-section-body/block_card_container/container/block_card/image\"></dds-image-item>\\n    <dds-image-item media=\"(min-width: 1312px)\" srcset=\"/content/dam/connectedassets-adobe-cms/worldwide-content/stock-assets/getty/image/photography/54/74/dji_0758.component.card-xl.ts=1695236133573.jpg/content/adobe-cms/br/pt/homepage/jcr:content/root/container/content_section_styl/content-section-body/block_card_container/container/block_card/image\"></dds-image-item>\\n    <dds-image-item media=\"(min-width: 1056px) and (min-resolution: 192dpi)\" srcset=\"/content/dam/connectedassets-adobe-cms/worldwide-content/stock-assets/getty/image/photography/54/74/dji_0758.component.card-l-retina.ts=1695236133573.jpg/content/adobe-cms/br/pt/homepage/jcr:content/root/container/content_section_styl/content-section-body/block_card_container/container/block_card/image\"></dds-image-item>\\n    <dds-image-item media=\"(min-width: 1056px)\" srcset=\"/content/dam/connectedassets-adobe-cms/worldwide-content/stock-assets/getty/image/photography/54/74/dji_0758.component.card-l.ts=1695236133573.jpg/content/adobe-cms/br/pt/homepage/jcr:content/root/container/content_section_styl/content-section-body/block_card_container/container/block_card/image\"></dds-image-item>\\n    <dds-image-item media=\"(min-width: 672px) and (min-resolution: 192dpi)\" srcset=\"/content/dam/connectedassets-adobe-cms/worldwide-content/stock-assets/getty/image/photography/54/74/dji_0758.component.card-m-retina.ts=1695236133573.jpg/content/adobe-cms/br/pt/homepage/jcr:content/root/container/content_section_styl/content-section-body/block_card_container/container/block_card/image\"></dds-image-item>\\n    <dds-image-item media=\"(min-width: 672px)\" srcset=\"/content/dam/connectedassets-adobe-cms/worldwide-content/stock-assets/getty/image/photography/54/74/dji_0758.component.card-m.ts=1695236133573.jpg/content/adobe-cms/br/pt/homepage/jcr:content/root/container/content_section_styl/content-section-body/block_card_container/container/block_card/image\"></dds-image-item>\\n    <dds-image-item media=\"(min-width: 481px) and (min-resolution: 192dpi)\" srcset=\"/content/dam/connectedassets-adobe-cms/worldwide-content/stock-assets/getty/image/photography/54/74/dji_0758.component.card-s-retina.ts=1695236133573.jpg/content/adobe-cms/br/pt/homepage/jcr:content/root/container/content_section_styl/content-section-body/block_card_container/container/block_card/image\"></dds-image-item>\\n    <dds-image-item media=\"(min-width: 481px)\" srcset=\"/content/dam/connectedassets-adobe-cms/worldwide-content/stock-assets/getty/image/photography/54/74/dji_0758.component.card-s.ts=1695236133573.jpg/content/adobe-cms/br/pt/homepage/jcr:content/root/container/content_section_styl/content-section-body/block_card_container/container/block_card/image\"></dds-image-item>\\n    <dds-image-item media=\"(max-width: 480px) and (min-resolution: 192dpi)\" srcset=\"/content/dam/connectedassets-adobe-cms/worldwide-content/stock-assets/getty/image/photography/54/74/dji_0758.component.card-xs-retina.ts=1695236133573.jpg/content/adobe-cms/br/pt/homepage/jcr:content/root/container/content_section_styl/content-section-body/block_card_container/container/block_card/image\"></dds-image-item>\\n    <dds-image-item media=\"(max-width: 480px)\" srcset=\"/content/dam/connectedassets-adobe-cms/worldwide-content/stock-assets/getty/image/photography/54/74/dji_0758.component.card-xs.ts=1695236133573.jpg/content/adobe-cms/br/pt/homepage/jcr:content/root/container/content_section_styl/content-section-body/block_card_container/container/block_card/image\"></dds-image-item>\\n\\n                    \\n                \\n            \\n        </dds-image>\\n    \\n\\n    \\n\\n\\n\\n                    \\n                \\n                <dds-card-eyebrow slot=\"eyebrow\" aria-hidden=\"true\" class=\"bx--card__eyebrow\">\\n                    Responsabilidade social corporativa \\n                </dds-card-eyebrow>\\n                <dds-card-heading role=\"heading\" aria-level=\"3\" slot=\"heading\" class=\"bx--card__heading\">\\n                    A IBM aspira criar um impacto positivo no mundo e nos lugares onde nós trabalhamos e vivemos\\n                </dds-card-heading>\\n                \\n                <dds-card-cta-footer icon-placement=\"right\" cta-type=\"local\" href=\"https://www.ibm.com/impact\" slot=\"footer\" aria-hidden=\"true\" target=\"_self\" class=\"bx--card__footer-icon-size\">\\n                    \\n                    \\n                </dds-card-cta-footer>\\n            </dds-card-group-item>\\n        \\n    \\n    \\n\\n\\n\\n\\n\\n\\n\\n            </dds-card-group>            \\n\\n            \\n    \\n    \\n    \\n    \\n\\n\\n\\n\\n\\n            \\n    </dds-content-block-cards>\\n    \\n\\n</div>\\n\\n        \\n    </div>\\n\\n\\n                            \\n                        </div>\\n                    </dds-video-container>\\n                    \\n                </div>\\n            </div>\\n        </div>\\n    \\n</div>\\n\\n        \\n    </div>\\n\\n</div>\\n<div class=\"container responsivegrid\">\\n\\n    \\n    \\n    \\n    <div id=\"container-61cefbf143\" class=\"cmp-container\">\\n        \\n        \\n        \\n    </div>\\n\\n</div>\\n<div class=\"footer\">\\n\\n\\n\\n\\n    <dds-footer-container data-cmp-is=\"footer\" data-autoid=\"dds--footer\" class=\"cmp-footer\" data-children-count=\"0\" size=\"tall\"></dds-footer-container>\\n\\n\\n</div>\\n\\n        \\n    </div>\\n\\n</div>\\n\\n\\n<dds-lightbox-video-player-container></dds-lightbox-video-player-container>\\n    \\n    \\n    \\n<script src=\"/etc.clientlibs/adobe-cms/clientlibs/clientlib-idlBundle.min.ACSHASHc2af6e6bb32e23adb0343926119b2e53.js\"></script>\\n\\n\\n\\n    \\n\\n    \\n    \\n<script src=\"/etc.clientlibs/adobe-cms/clientlibs/clientlib-target-antiflicker.min.ACSHASH36a1efb28e947b5873f4a28c2cf9d5eb.js\"></script>\\n<script src=\"/etc.clientlibs/adobe-cms/clientlibs/clientlib-idlWebComponents.min.ACSHASH25963942b4300c81d16a2bb033eb232b.js\"></script>\\n<script src=\"/etc.clientlibs/adobe-cms/clientlibs/clientlib-idlStyles.min.ACSHASHf3290158ae05752cc5e32eec78d7b36b.js\"></script>\\n\\n\\n\\n    <script src=\"https://www.ibm.com/common/digitaladvisor/cm-app/latest/cm-app.min.js\" defer></script>\\n    \\n    \\n\\n\\n    \\r\\n\\n    \\n\\n    \\n\\n    \\n\\n\\n<script type=\"text/javascript\"  src=\"/rFIsGi4tsm/Y4nd/s_2a8_/uiuzVwVk4S/fhE3IRYeBQ/AGNzPU/d8YG4B\"></script><link rel=\"stylesheet\" type=\"text/css\"  href=\"/_sec/cp_challenge/sec-4-0.css\">\\n                                        <script  src=\"/_sec/cp_challenge/sec-cpt-4-0.js\" async defer></script>\\n                                        <div id=\"sec-overlay\" style=\"display:none;\">\\n                                        <div id=\"sec-container\">\\n                                        </div>\\n                                      </div></body>\\n</html>'"
      ]
     },
     "execution_count": 51,
     "metadata": {},
     "output_type": "execute_result"
    }
   ],
   "source": [
    "data  = requests.get(url).text \n",
    "data"
   ]
  },
  {
   "cell_type": "markdown",
   "id": "d0cfe971-c682-47bd-a585-e063ca414d93",
   "metadata": {},
   "source": [
    "We create a <code>BeautifulSoup</code> object using the <code>BeautifulSoup</code> constructor\n"
   ]
  },
  {
   "cell_type": "code",
   "execution_count": 52,
   "id": "807d5ab6-82c7-419a-8170-a1b2d07224b5",
   "metadata": {},
   "outputs": [
    {
     "data": {
      "text/plain": [
       "<!DOCTYPE html>\n",
       "<html lang=\"pt-br\"><head>\n",
       "    \n",
       "    \n",
       "    \n",
       "    \n",
       "    <meta charset=\"utf-8\"/>\n",
       "    <meta content=\"pt\" name=\"languageCode\"/>\n",
       "    <meta content=\"br\" name=\"countryCode\"/>\n",
       "    <meta content=\"No Contact Module\" name=\"focusArea\"/>\n",
       "    <title>IBM - Brasil</title>\n",
       "    <link href=\"/content/dam/adobe-cms/default-images/favicon.svg\" rel=\"icon\"/>\n",
       "    \n",
       "    <meta content=\"Por mais de um século, a IBM tem sido uma inovadora mundial em tecnologia, liderando os avanços em soluções de IA, automação e nuvem híbrida que ajudam as empresas a crescer.\" name=\"description\"/>\n",
       "    <meta content=\"full-width-layout\" name=\"template\"/>\n",
       "    <meta content=\"width=device-width, initial-scale=1\" name=\"viewport\"/>\n",
       "    <meta content=\"index, follow\" name=\"robots\"/>\n",
       "    <meta content=\"casestudies\" name=\"ibm.com.search.appid\"/>\n",
       "    <meta content=\"casestudies\" name=\"ibm.com.search.scopes\"/>\n",
       "    \n",
       "        \n",
       "            \n",
       "                <meta content=\"Data AI,Security,Demo,Cloud - Public Cloud Platform,Watson Health,AI Apps Sustainability,Future Use,Systems Hardware,Consulting,Future Use 2,Future Use 3,Future Use 4,Miscellaneous,Ecosystem,Cloud - Automation,Blockchain,Red Hat,Kyndryl,Cross IBM\" name=\"ibm.search.facet.field_keyword_01\"/>\n",
       "            \n",
       "                <meta content=\"Quantum computing,Consulting services,Watson Health,Blockchain,IT Infrastructure,Cybersecurity,Operations,Cloud Computing,Automation,Analytics,Industries,Supply Chain,Services\" name=\"ibm.search.facet.field_keyword_02\"/>\n",
       "            \n",
       "        \n",
       "    \n",
       "    <link href=\"https://www.ibm.com/br-pt\" rel=\"canonical\"/>\n",
       "    <style id=\"anti-flicker-style\">\n",
       "        :not(:defined) {\n",
       "          visibility: hidden;\n",
       "        }\n",
       "    </style>\n",
       "    <script id=\"anti-flicker-script\" type=\"text/javascript\">\n",
       "        (async () => {\n",
       "          await customElements.whenDefined('dds-masthead-container');\n",
       "          document.getElementById('anti-flicker-style').remove();\n",
       "          document.getElementById('anti-flicker-script').remove();\n",
       "        })()\n",
       "    </script>\n",
       "    \n",
       "\n",
       "    <script type=\"text/javascript\">\n",
       "    \tvar templateName = 'full\\u002Dwidth\\u002Dlayout';\n",
       "\n",
       "        if(templateName === 'case-study'){\n",
       "        \t var taxonomylist = '';\n",
       "             var keys_vals = taxonomylist.split(\",\");\n",
       "            keys_vals.forEach(function (data,index) {\n",
       "                keys_vals[index] = keys_vals[index].substring(keys_vals[index].indexOf(\":\") + 1);\n",
       "            });\n",
       "            keys_vals.forEach(function (data,index) {\n",
       "                keys_vals[index] = keys_vals[index].substring((keys_vals[index].lastIndexOf('/'))+1).trim();\n",
       "            });\n",
       "            var meta  = document.createElement('meta');\n",
       "            var head  = document.getElementsByTagName('head')[0];\n",
       "            var contentList = keys_vals.toString();\n",
       "            var keywordIndex = 'ibm.search.facet.field_keyword_01';\n",
       "            if(contentList){\n",
       "                meta.name   = keywordIndex;\n",
       "                meta.content = contentList;\n",
       "                head.appendChild(meta);\n",
       "            }\n",
       "        }\n",
       "    </script>\n",
       "\n",
       "<!--    <script>\n",
       "      (function(s,t,a,n){s[t]||(s[t]=a,n=s[a]=function(){n.q.push(arguments)},\n",
       "      n.q=[],n.v=2,n.l=1*new Date)})(window,\"InstanaEumObject\",\"ineum\");\n",
       "      ineum('reportingUrl', 'https://eum-orange-saas.instana.io');\n",
       "      ineum('key', 'QSUr0uqUS0m37yyre8ntkQ');\n",
       "      ineum('trackSessions');\n",
       "    </script>\n",
       "    <script defer crossorigin=\"anonymous\" src=\"https://eum.instana.io/eum.min.js\"></script>-->\n",
       "\n",
       "    \n",
       "        <link href=\"https://www.ibm.com/de-de\" hreflang=\"de-de\" rel=\"alternate\"/>\n",
       "    \n",
       "        <link href=\"https://www.ibm.com/ca-en\" hreflang=\"en-ca\" rel=\"alternate\"/>\n",
       "    \n",
       "        <link href=\"https://www.ibm.com/kr-ko\" hreflang=\"ko-kr\" rel=\"alternate\"/>\n",
       "    \n",
       "        <link href=\"https://www.ibm.com/br-pt\" hreflang=\"pt-br\" rel=\"alternate\"/>\n",
       "    \n",
       "        <link href=\"https://www.ibm.com/in-en\" hreflang=\"en-in\" rel=\"alternate\"/>\n",
       "    \n",
       "        <link href=\"https://www.ibm.com/es-es\" hreflang=\"es-es\" rel=\"alternate\"/>\n",
       "    \n",
       "        <link href=\"https://www.ibm.com/cn-zh\" hreflang=\"zh-cn\" rel=\"alternate\"/>\n",
       "    \n",
       "        <link href=\"https://www.ibm.com/mx-es\" hreflang=\"es-mx\" rel=\"alternate\"/>\n",
       "    \n",
       "        <link href=\"https://www.ibm.com/it-it\" hreflang=\"it-it\" rel=\"alternate\"/>\n",
       "    \n",
       "        <link href=\"https://www.ibm.com/id-id\" hreflang=\"id-id\" rel=\"alternate\"/>\n",
       "    \n",
       "        <link href=\"https://www.ibm.com/au-en\" hreflang=\"en-au\" rel=\"alternate\"/>\n",
       "    \n",
       "        <link href=\"https://www.ibm.com/uk-en\" hreflang=\"en-uk\" rel=\"alternate\"/>\n",
       "    \n",
       "        <link href=\"https://www.ibm.com/fr-fr\" hreflang=\"fr-fr\" rel=\"alternate\"/>\n",
       "    \n",
       "        <link href=\"https://www.ibm.com/jp-ja\" hreflang=\"ja-jp\" rel=\"alternate\"/>\n",
       "    \n",
       "    <script type=\"text/javascript\">\n",
       "        window.antiFlicker = {\n",
       "            active: true,\n",
       "            timeout: 3000\n",
       "        }\n",
       "    </script>\n",
       "    <script type=\"text/javascript\">\n",
       "        var languageCode = document.getElementsByName('languageCode')[0].content;\n",
       "        var countryCode = document.getElementsByName('countryCode')[0].content;\n",
       "        var focusArea = document.getElementsByName('focusArea')[0].content;\n",
       "        /* Define digital data object based on _appInfo object */\n",
       "        window.digitalData = {\n",
       "            page: {\n",
       "                category: {\n",
       "                    primaryCategory: '',\n",
       "                },\n",
       "                pageInfo: {\n",
       "                    language: languageCode + '-' + countryCode,\n",
       "                    ibm: {\n",
       "                        siteID: 'MarketingAEM',\n",
       "                        country: countryCode,\n",
       "                        messaging: {\n",
       "                            routing: {\n",
       "                                focusArea: focusArea,\n",
       "                                languageCode: languageCode,\n",
       "                                regionCode: countryCode\n",
       "                            },\n",
       "                            translation: {\n",
       "                                languageCode: languageCode,\n",
       "                                regionCode: countryCode\n",
       "                            }\n",
       "                        },\n",
       "                        sections: 0,\n",
       "                        patterns: 0\n",
       "                    }\n",
       "                }\n",
       "            }\n",
       "        };\n",
       "    </script>\n",
       "    \n",
       "    \n",
       "        <meta content=\"https://www.ibm.com/br-pt\" property=\"og:url\"/>\n",
       "    \n",
       "        <meta content=\"website\" property=\"og:type\"/>\n",
       "    \n",
       "        <meta content=\"IBM - Brasil\" property=\"og:title\"/>\n",
       "    \n",
       "        <meta content=\"Por mais de um século, a IBM tem sido uma inovadora mundial em tecnologia, liderando os avanços em soluções de IA, automação e nuvem híbrida que ajudam as empresas a crescer.\" property=\"og:description\"/>\n",
       "    \n",
       "        <meta content=\"https://www.ibm.com/content/dam/adobe-cms/default-images/home-rail-01.jpg/_jcr_content/renditions/cq5dam.web.1280.1280.jpeg\" property=\"og:image\"/>\n",
       "    \n",
       "        \n",
       "    \n",
       "\n",
       "    <script async=\"async\" src=\"https://1.www.s81c.com/common/stats/ibm-common.js\" type=\"text/javascript\"></script>\n",
       "    <script src=\"https://s3.us.cloud-object-storage.appdomain.cloud/widget-registry/loader.js\" type=\"application/javascript\"></script>\n",
       "    \n",
       "    \n",
       "    \n",
       "<link href=\"/etc.clientlibs/adobe-cms/clientlibs/clientlib-idlStylesCarbon.min.ACSHASHd7a318481961867a09f465809b89e965.css\" rel=\"stylesheet\" type=\"text/css\"/>\n",
       "<link href=\"/etc.clientlibs/adobe-cms/clientlibs/clientlib-idlStyles.min.ACSHASH397e40090c42250ddf162be2f0fd4f63.css\" rel=\"stylesheet\" type=\"text/css\"/>\n",
       "\n",
       "\n",
       "\n",
       "    \n",
       "    <link href=\"https://1.www.s81c.com/common/carbon-for-ibm-dotcom/tag/v1/latest/plex.css\" rel=\"stylesheet\"/>\n",
       "    <link href=\"https://1.www.s81c.com/common/carbon/plex/sans.css\" rel=\"stylesheet\"/>\n",
       "    \n",
       "    \n",
       "\n",
       "\n",
       "    \n",
       "    \n",
       "    \n",
       "\n",
       "    \n",
       "\n",
       "    \n",
       "    \n",
       "    \n",
       "\n",
       "\n",
       "\n",
       "    \n",
       "\n",
       "    \n",
       "\n",
       "\n",
       "</head>\n",
       "<body class=\"product-page content-page page basicpage publish\" id=\"product-page-870994de4c\">\n",
       "\n",
       "\n",
       "\n",
       "    \n",
       "\n",
       "\n",
       "\n",
       "\n",
       "    \n",
       "\n",
       "\n",
       "\n",
       "    \n",
       "<div class=\"root container responsivegrid\">\n",
       "\n",
       "    \n",
       "    \n",
       "    \n",
       "    <div class=\"cmp-container\" id=\"container-9225520bd9\">\n",
       "        \n",
       "        <div class=\"masthead\">\n",
       "\n",
       "\n",
       "\n",
       "\n",
       "\n",
       "\n",
       "\n",
       "\n",
       "<dds-masthead-container auth-method=\"profile-api\" data-endpoint=\"/common/carbon-for-ibm-dotcom/translations/masthead-footer/v2\" has-contact=\"false\"></dds-masthead-container>\n",
       "\n",
       "\n",
       "\n",
       "\n",
       "<script src=\"https://1.www.s81c.com/common/carbon-for-ibm-dotcom/tag/v2/alpha/masthead.min.js\" type=\"module\"></script>\n",
       "\n",
       "\n",
       "\n",
       "\n",
       "</div>\n",
       "<div class=\"leadspace-container container responsivegrid\">\n",
       "\n",
       "    \n",
       "    \n",
       "    \n",
       "    <div class=\"cmp-container\" id=\"leadspace-container-362a128555\">\n",
       "        \n",
       "        <div class=\"leadspace-expanded leadspace\">\n",
       "<section class=\"theme-white\">\n",
       "    <caem-container-leadspace size=\"super\">\n",
       "        \n",
       "\n",
       "        <caem-heading slot=\"heading\" type=\"h2\" type-style=\"display-01\">\n",
       "            \n",
       "\n",
       "\n",
       "\n",
       "  \n",
       "    Multiplique o poder da IA com o watsonx\n",
       "\n",
       "\n",
       "\n",
       "\n",
       "\n",
       "\n",
       "    \n",
       "\n",
       "\n",
       "        </caem-heading>\n",
       "\n",
       "        <caem-paragraph data-autoid=\"caem--paragraph\" size=\"lead-in\">\n",
       "            <p> \n",
       "\n",
       "\n",
       "  \n",
       "  \n",
       "      A plataforma de dados e IA de última geração da IBM já está disponível para avaliação sem custo\n",
       "  \n",
       "\n",
       "\n",
       "\n",
       "\n",
       "    \n",
       "\n",
       "</p>\n",
       "        </caem-paragraph>\n",
       "\n",
       "        \n",
       "            <caem-button-group slot=\"action\">\n",
       "                \n",
       "                    \n",
       "                    \n",
       "\n",
       "\n",
       "\n",
       "\n",
       "    \n",
       "    \n",
       "    \n",
       "    \n",
       "    \n",
       "    <caem-button-cta cta-type=\"local\" href=\"https://www.ibm.com/br-pt/watsonx\" kind=\"primary\" target=\"_self\">\n",
       "        <span>Faça um tour</span>\n",
       "        \n",
       "        \n",
       "    </caem-button-cta>\n",
       "    \n",
       "\n",
       "\n",
       "    \n",
       "    \n",
       "    \n",
       "    \n",
       "    \n",
       "    <caem-button-cta cta-type=\"local\" href=\"https://dataplatform.cloud.ibm.com/registration/stepone?context=wx&amp;adoper=209409_0_LS2\" kind=\"tertiary\" target=\"_blank\">\n",
       "        <span>Comece a avaliação sem custo</span>\n",
       "        \n",
       "        \n",
       "    </caem-button-cta>\n",
       "    \n",
       "\n",
       "\n",
       "\n",
       "                \n",
       "            </caem-button-group>\n",
       "        \n",
       "\n",
       "        \n",
       "\n",
       "        \n",
       "            \n",
       "    \n",
       "    \n",
       "        \n",
       "        \n",
       "        \n",
       "        \n",
       "        <caem-image-with-caption alt=\"Ilustração de círculos de papel concêntricos representando o poder da IA\" caption-alignment=\"left\" default-src=\"/content/dam/connectedassets-adobe-cms/worldwide-content/creative-assets/s-migr/ul/g/75/75/watsonx-overview-leadspace-super-hybrid-ui-homepage.component.xl.ts=1694804563966.png/content/adobe-cms/br/pt/homepage/jcr:content/root/leadspace_container/leadspace_expanded\" id=\"image--285146211\" slot=\"media\">\n",
       "            \n",
       "            \n",
       "                \n",
       "                    \n",
       "    <dds-image-item media=\"(min-width: 1312px) and (min-resolution: 192dpi)\" srcset=\"/content/dam/connectedassets-adobe-cms/worldwide-content/creative-assets/s-migr/ul/g/75/75/watsonx-overview-leadspace-super-hybrid-ui-homepage.component.xl-retina.ts=1694804563966.png/content/adobe-cms/br/pt/homepage/jcr:content/root/leadspace_container/leadspace_expanded\"></dds-image-item>\n",
       "    <dds-image-item media=\"(min-width: 1312px)\" srcset=\"/content/dam/connectedassets-adobe-cms/worldwide-content/creative-assets/s-migr/ul/g/75/75/watsonx-overview-leadspace-super-hybrid-ui-homepage.component.xl.ts=1694804563966.png/content/adobe-cms/br/pt/homepage/jcr:content/root/leadspace_container/leadspace_expanded\"></dds-image-item>\n",
       "    <dds-image-item media=\"(min-width: 1056px) and (min-resolution: 192dpi)\" srcset=\"/content/dam/connectedassets-adobe-cms/worldwide-content/creative-assets/s-migr/ul/g/75/75/watsonx-overview-leadspace-super-hybrid-ui-homepage.component.l-retina.ts=1694804563966.png/content/adobe-cms/br/pt/homepage/jcr:content/root/leadspace_container/leadspace_expanded\"></dds-image-item>\n",
       "    <dds-image-item media=\"(min-width: 1056px)\" srcset=\"/content/dam/connectedassets-adobe-cms/worldwide-content/creative-assets/s-migr/ul/g/75/75/watsonx-overview-leadspace-super-hybrid-ui-homepage.component.l.ts=1694804563966.png/content/adobe-cms/br/pt/homepage/jcr:content/root/leadspace_container/leadspace_expanded\"></dds-image-item>\n",
       "    <dds-image-item media=\"(min-width: 672px) and (min-resolution: 192dpi)\" srcset=\"/content/dam/connectedassets-adobe-cms/worldwide-content/creative-assets/s-migr/ul/g/75/75/watsonx-overview-leadspace-super-hybrid-ui-homepage.component.m-retina.ts=1694804563966.png/content/adobe-cms/br/pt/homepage/jcr:content/root/leadspace_container/leadspace_expanded\"></dds-image-item>\n",
       "    <dds-image-item media=\"(min-width: 672px)\" srcset=\"/content/dam/connectedassets-adobe-cms/worldwide-content/creative-assets/s-migr/ul/g/75/75/watsonx-overview-leadspace-super-hybrid-ui-homepage.component.m.ts=1694804563966.png/content/adobe-cms/br/pt/homepage/jcr:content/root/leadspace_container/leadspace_expanded\"></dds-image-item>\n",
       "    <dds-image-item media=\"(min-width: 481px) and (min-resolution: 192dpi)\" srcset=\"/content/dam/connectedassets-adobe-cms/worldwide-content/creative-assets/s-migr/ul/g/75/75/watsonx-overview-leadspace-super-hybrid-ui-homepage.component.s-retina.ts=1694804563966.png/content/adobe-cms/br/pt/homepage/jcr:content/root/leadspace_container/leadspace_expanded\"></dds-image-item>\n",
       "    <dds-image-item media=\"(min-width: 481px)\" srcset=\"/content/dam/connectedassets-adobe-cms/worldwide-content/creative-assets/s-migr/ul/g/75/75/watsonx-overview-leadspace-super-hybrid-ui-homepage.component.s.ts=1694804563966.png/content/adobe-cms/br/pt/homepage/jcr:content/root/leadspace_container/leadspace_expanded\"></dds-image-item>\n",
       "    <dds-image-item media=\"(max-width: 480px) and (min-resolution: 192dpi)\" srcset=\"/content/dam/connectedassets-adobe-cms/worldwide-content/creative-assets/s-migr/ul/g/75/75/watsonx-overview-leadspace-super-hybrid-ui-homepage.component.xs-retina.ts=1694804563966.png/content/adobe-cms/br/pt/homepage/jcr:content/root/leadspace_container/leadspace_expanded\"></dds-image-item>\n",
       "    <dds-image-item media=\"(max-width: 480px)\" srcset=\"/content/dam/connectedassets-adobe-cms/worldwide-content/creative-assets/s-migr/ul/g/75/75/watsonx-overview-leadspace-super-hybrid-ui-homepage.component.xs.ts=1694804563966.png/content/adobe-cms/br/pt/homepage/jcr:content/root/leadspace_container/leadspace_expanded\"></dds-image-item>\n",
       "\n",
       "                    \n",
       "                \n",
       "            \n",
       "        </caem-image-with-caption>\n",
       "    \n",
       "\n",
       "    \n",
       "\n",
       "\n",
       "        \n",
       "        \n",
       "         \n",
       "\t\t\t\n",
       "            \t<dds-link-list slot=\"aside\">\n",
       "                \t<dds-link-list-heading aria-level=\"4\" role=\"heading\" slot=\"heading\">\n",
       "                    \n",
       "\n",
       "\n",
       "  \n",
       "  \n",
       "\n",
       "\n",
       "\n",
       "\n",
       "    \n",
       "\n",
       "\n",
       "                </dds-link-list-heading>\n",
       "                \n",
       "                 \n",
       "                \n",
       "    \n",
       "        \n",
       "         \n",
       "        <caem-link-list-item cta-type=\"local\" href=\"https://www.ibm.com/thought-leadership/institute-business-value/report/ceo-generative-ai/application-modernization/\" label=\"Novidades\" target=\"_self\">\n",
       "            \n",
       "    \n",
       "\n",
       "\n",
       "\n",
       "    \n",
       "\n",
       "            <p>Guia do CEO sobre IA generativa </p>\n",
       "            \n",
       "            <dds-card-cta-footer cta-type=\"local\" href=\"https://www.ibm.com/thought-leadership/institute-business-value/report/ceo-generative-ai/application-modernization/\" target=\"_self\">\n",
       "                \n",
       "            </dds-card-cta-footer>\n",
       "        </caem-link-list-item>\n",
       "        \n",
       "        \n",
       "        \n",
       "    \n",
       "    \n",
       "    \n",
       "\n",
       "\n",
       "<script src=\"https://1.www.s81c.com/common/carbon/carbon-for-aem/version/v0.7.2/link-list-item.min.js\" type=\"module\"></script>\n",
       "                 \n",
       "                \n",
       "                     \n",
       "                \n",
       "    \n",
       "        \n",
       "         \n",
       "        <caem-link-list-item cta-type=\"local\" href=\"https://www.ibm.com/br-pt/products/cloud-pak-for-data\" label=\"IBM Cloud Pak for data\" target=\"_self\">\n",
       "            \n",
       "    \n",
       "\n",
       "\n",
       "\n",
       "    \n",
       "\n",
       "            <p>Use os dados ao seu favor e aumente sua produtividade.</p>\n",
       "            \n",
       "            <dds-card-cta-footer cta-type=\"local\" href=\"https://www.ibm.com/br-pt/products/cloud-pak-for-data\" target=\"_self\">\n",
       "                \n",
       "            </dds-card-cta-footer>\n",
       "        </caem-link-list-item>\n",
       "        \n",
       "        \n",
       "        \n",
       "    \n",
       "    \n",
       "    \n",
       "\n",
       "\n",
       "<script src=\"https://1.www.s81c.com/common/carbon/carbon-for-aem/version/v0.7.2/link-list-item.min.js\" type=\"module\"></script>\n",
       "                     \n",
       "            </dds-link-list>\n",
       "            \n",
       "        \n",
       "    </caem-container-leadspace>\n",
       "</section>\n",
       "<script src=\"https://1.www.s81c.com/common/carbon/carbon-for-aem/version/v0.7.2/paragraph.min.js\" type=\"module\"></script>\n",
       "<script src=\"https://1.www.s81c.com/common/carbon/carbon-for-aem/version/v0.7.1-rc/heading.min.js\" type=\"module\"></script>\n",
       "<script src=\"https://1.www.s81c.com/common/carbon/carbon-for-aem/version/v0.7.2/leadspace.min.js\" type=\"module\"></script></div>\n",
       "\n",
       "        \n",
       "    </div>\n",
       "\n",
       "</div>\n",
       "<div class=\"container responsivegrid\">\n",
       "\n",
       "    \n",
       "    \n",
       "    \n",
       "    <div class=\"cmp-container\" id=\"container-263d2ff2ee\">\n",
       "        \n",
       "        <div class=\"content-section-styled content-section container responsivegrid\">\n",
       "\n",
       "\n",
       "\n",
       "    \n",
       "        <div class=\"bx--grid\">\n",
       "            <div class=\"bx--row\">\n",
       "                <div class=\"bx--col-lg-16 bx--no-gutter\">\n",
       "                    <dds-video-container>\n",
       "                        <div class=\"bx--content-section\" no-leading=\"\">\n",
       "                            \n",
       "                            \n",
       "                                \n",
       "\n",
       "    \n",
       "    \n",
       "    \n",
       "    <div class=\"cmp-container\" id=\"container-b623675b5a\">\n",
       "        \n",
       "        <div class=\"tile-group-container container responsivegrid\">\n",
       "  <div class=\"bx--col\">\n",
       "    <caem-tile-group>\n",
       "      \n",
       "\n",
       "    \n",
       "    \n",
       "    <caem-tile href=\"https://www.ibm.com/br-pt/products/watsonx-ai?lnk=cardT\" label=\"watsonx.ai\" target=\"_self\">\n",
       "    \t\n",
       "                \n",
       "                        \n",
       "\n",
       "\n",
       "\n",
       "\n",
       "    \n",
       "    \n",
       "        \n",
       "        \n",
       "        \n",
       "        \n",
       "        <dds-image alt=\"Visualização de um painel do watsonx\" default-src=\"/content/dam/adobe-cms/default-images/home-rail-01.component.tile-card-xl.ts=1694804564556.jpg/content/adobe-cms/br/pt/homepage/jcr:content/root/container/content_section_styl/content-section-body/tile_group_container/container/tile_card/image\" id=\"image-1938900400\" slot=\"image\">\n",
       "            \n",
       "            \n",
       "                \n",
       "                    \n",
       "    <dds-image-item media=\"(min-width: 1312px) and (min-resolution: 192dpi)\" srcset=\"/content/dam/adobe-cms/default-images/home-rail-01.component.tile-card-xl-retina.ts=1694804564556.jpg/content/adobe-cms/br/pt/homepage/jcr:content/root/container/content_section_styl/content-section-body/tile_group_container/container/tile_card/image\"></dds-image-item>\n",
       "    <dds-image-item media=\"(min-width: 1312px)\" srcset=\"/content/dam/adobe-cms/default-images/home-rail-01.component.tile-card-xl.ts=1694804564556.jpg/content/adobe-cms/br/pt/homepage/jcr:content/root/container/content_section_styl/content-section-body/tile_group_container/container/tile_card/image\"></dds-image-item>\n",
       "    <dds-image-item media=\"(min-width: 1056px) and (min-resolution: 192dpi)\" srcset=\"/content/dam/adobe-cms/default-images/home-rail-01.component.tile-card-l-retina.ts=1694804564556.jpg/content/adobe-cms/br/pt/homepage/jcr:content/root/container/content_section_styl/content-section-body/tile_group_container/container/tile_card/image\"></dds-image-item>\n",
       "    <dds-image-item media=\"(min-width: 1056px)\" srcset=\"/content/dam/adobe-cms/default-images/home-rail-01.component.tile-card-l.ts=1694804564556.jpg/content/adobe-cms/br/pt/homepage/jcr:content/root/container/content_section_styl/content-section-body/tile_group_container/container/tile_card/image\"></dds-image-item>\n",
       "    <dds-image-item media=\"(min-width: 672px) and (min-resolution: 192dpi)\" srcset=\"/content/dam/adobe-cms/default-images/home-rail-01.component.tile-card-m-retina.ts=1694804564556.jpg/content/adobe-cms/br/pt/homepage/jcr:content/root/container/content_section_styl/content-section-body/tile_group_container/container/tile_card/image\"></dds-image-item>\n",
       "    <dds-image-item media=\"(min-width: 672px)\" srcset=\"/content/dam/adobe-cms/default-images/home-rail-01.component.tile-card-m.ts=1694804564556.jpg/content/adobe-cms/br/pt/homepage/jcr:content/root/container/content_section_styl/content-section-body/tile_group_container/container/tile_card/image\"></dds-image-item>\n",
       "    <dds-image-item media=\"(min-width: 481px) and (min-resolution: 192dpi)\" srcset=\"/content/dam/adobe-cms/default-images/home-rail-01.component.tile-card-s-retina.ts=1694804564556.jpg/content/adobe-cms/br/pt/homepage/jcr:content/root/container/content_section_styl/content-section-body/tile_group_container/container/tile_card/image\"></dds-image-item>\n",
       "    <dds-image-item media=\"(min-width: 481px)\" srcset=\"/content/dam/adobe-cms/default-images/home-rail-01.component.tile-card-s.ts=1694804564556.jpg/content/adobe-cms/br/pt/homepage/jcr:content/root/container/content_section_styl/content-section-body/tile_group_container/container/tile_card/image\"></dds-image-item>\n",
       "    <dds-image-item media=\"(max-width: 480px) and (min-resolution: 192dpi)\" srcset=\"/content/dam/adobe-cms/default-images/home-rail-01.component.tile-card-xs-retina.ts=1694804564556.jpg/content/adobe-cms/br/pt/homepage/jcr:content/root/container/content_section_styl/content-section-body/tile_group_container/container/tile_card/image\"></dds-image-item>\n",
       "    <dds-image-item media=\"(max-width: 480px)\" srcset=\"/content/dam/adobe-cms/default-images/home-rail-01.component.tile-card-xs.ts=1694804564556.jpg/content/adobe-cms/br/pt/homepage/jcr:content/root/container/content_section_styl/content-section-body/tile_group_container/container/tile_card/image\"></dds-image-item>\n",
       "\n",
       "                    \n",
       "                \n",
       "            \n",
       "        </dds-image>\n",
       "    \n",
       "\n",
       "    \n",
       "\n",
       "\n",
       "\n",
       "                \n",
       "                \n",
       "    \n",
       "\n",
       "            \n",
       "        Avaliação sem custo: crie modelos de IA de classificação corporativa\n",
       "    </caem-tile> \n",
       "    \n",
       "    \n",
       "\n",
       "\n",
       "\n",
       "\n",
       "\n",
       "    \n",
       "    \n",
       "    <caem-tile href=\"https://www.ibm.com/br-pt/products/watsonx-data?lnk=cardT\" label=\"watsonx.data\" target=\"_self\">\n",
       "    \t\n",
       "                \n",
       "                        \n",
       "\n",
       "\n",
       "\n",
       "\n",
       "    \n",
       "    \n",
       "        \n",
       "        \n",
       "        \n",
       "        \n",
       "        <dds-image alt=\"Visualização do painel de um ambiente de simulação\" default-src=\"/content/dam/adobe-cms/default-images/home-rail-02.component.tile-card-xl.ts=1694804564675.jpg/content/adobe-cms/br/pt/homepage/jcr:content/root/container/content_section_styl/content-section-body/tile_group_container/container/tile_card_2105644765/image\" id=\"image--832803317\" slot=\"image\">\n",
       "            \n",
       "            \n",
       "                \n",
       "                    \n",
       "    <dds-image-item media=\"(min-width: 1312px) and (min-resolution: 192dpi)\" srcset=\"/content/dam/adobe-cms/default-images/home-rail-02.component.tile-card-xl-retina.ts=1694804564675.jpg/content/adobe-cms/br/pt/homepage/jcr:content/root/container/content_section_styl/content-section-body/tile_group_container/container/tile_card_2105644765/image\"></dds-image-item>\n",
       "    <dds-image-item media=\"(min-width: 1312px)\" srcset=\"/content/dam/adobe-cms/default-images/home-rail-02.component.tile-card-xl.ts=1694804564675.jpg/content/adobe-cms/br/pt/homepage/jcr:content/root/container/content_section_styl/content-section-body/tile_group_container/container/tile_card_2105644765/image\"></dds-image-item>\n",
       "    <dds-image-item media=\"(min-width: 1056px) and (min-resolution: 192dpi)\" srcset=\"/content/dam/adobe-cms/default-images/home-rail-02.component.tile-card-l-retina.ts=1694804564675.jpg/content/adobe-cms/br/pt/homepage/jcr:content/root/container/content_section_styl/content-section-body/tile_group_container/container/tile_card_2105644765/image\"></dds-image-item>\n",
       "    <dds-image-item media=\"(min-width: 1056px)\" srcset=\"/content/dam/adobe-cms/default-images/home-rail-02.component.tile-card-l.ts=1694804564675.jpg/content/adobe-cms/br/pt/homepage/jcr:content/root/container/content_section_styl/content-section-body/tile_group_container/container/tile_card_2105644765/image\"></dds-image-item>\n",
       "    <dds-image-item media=\"(min-width: 672px) and (min-resolution: 192dpi)\" srcset=\"/content/dam/adobe-cms/default-images/home-rail-02.component.tile-card-m-retina.ts=1694804564675.jpg/content/adobe-cms/br/pt/homepage/jcr:content/root/container/content_section_styl/content-section-body/tile_group_container/container/tile_card_2105644765/image\"></dds-image-item>\n",
       "    <dds-image-item media=\"(min-width: 672px)\" srcset=\"/content/dam/adobe-cms/default-images/home-rail-02.component.tile-card-m.ts=1694804564675.jpg/content/adobe-cms/br/pt/homepage/jcr:content/root/container/content_section_styl/content-section-body/tile_group_container/container/tile_card_2105644765/image\"></dds-image-item>\n",
       "    <dds-image-item media=\"(min-width: 481px) and (min-resolution: 192dpi)\" srcset=\"/content/dam/adobe-cms/default-images/home-rail-02.component.tile-card-s-retina.ts=1694804564675.jpg/content/adobe-cms/br/pt/homepage/jcr:content/root/container/content_section_styl/content-section-body/tile_group_container/container/tile_card_2105644765/image\"></dds-image-item>\n",
       "    <dds-image-item media=\"(min-width: 481px)\" srcset=\"/content/dam/adobe-cms/default-images/home-rail-02.component.tile-card-s.ts=1694804564675.jpg/content/adobe-cms/br/pt/homepage/jcr:content/root/container/content_section_styl/content-section-body/tile_group_container/container/tile_card_2105644765/image\"></dds-image-item>\n",
       "    <dds-image-item media=\"(max-width: 480px) and (min-resolution: 192dpi)\" srcset=\"/content/dam/adobe-cms/default-images/home-rail-02.component.tile-card-xs-retina.ts=1694804564675.jpg/content/adobe-cms/br/pt/homepage/jcr:content/root/container/content_section_styl/content-section-body/tile_group_container/container/tile_card_2105644765/image\"></dds-image-item>\n",
       "    <dds-image-item media=\"(max-width: 480px)\" srcset=\"/content/dam/adobe-cms/default-images/home-rail-02.component.tile-card-xs.ts=1694804564675.jpg/content/adobe-cms/br/pt/homepage/jcr:content/root/container/content_section_styl/content-section-body/tile_group_container/container/tile_card_2105644765/image\"></dds-image-item>\n",
       "\n",
       "                    \n",
       "                \n",
       "            \n",
       "        </dds-image>\n",
       "    \n",
       "\n",
       "    \n",
       "\n",
       "\n",
       "\n",
       "                \n",
       "                \n",
       "    \n",
       "\n",
       "            \n",
       "        Avaliação gratuita: escale cargas de trabalho de IA para todos os dados\n",
       "    </caem-tile> \n",
       "    \n",
       "    \n",
       "\n",
       "\n",
       "\n",
       "\n",
       "\n",
       "    \n",
       "    \n",
       "    <caem-tile href=\"https://www.ibm.com/br-pt/products/spss-statistics/pricing?lnk=cardT\" label=\"Compre agora\" target=\"_self\">\n",
       "    \t\n",
       "                \n",
       "                        \n",
       "\n",
       "\n",
       "\n",
       "\n",
       "    \n",
       "    \n",
       "        \n",
       "        \n",
       "        \n",
       "        \n",
       "        <dds-image alt=\"Ilustração de colegas vendo um painel gigante\" default-src=\"/content/dam/connectedassets-adobe-cms/worldwide-content/homepage/ul/g/a7/33/ibm-SPSS-home-card.component.tile-card-xl.ts=1694804564800.png/content/adobe-cms/br/pt/homepage/jcr:content/root/container/content_section_styl/content-section-body/tile_group_container/container/tile_card_392377621/image\" id=\"image--789348545\" slot=\"image\">\n",
       "            \n",
       "            \n",
       "                \n",
       "                    \n",
       "    <dds-image-item media=\"(min-width: 1312px) and (min-resolution: 192dpi)\" srcset=\"/content/dam/connectedassets-adobe-cms/worldwide-content/homepage/ul/g/a7/33/ibm-SPSS-home-card.component.tile-card-xl-retina.ts=1694804564800.png/content/adobe-cms/br/pt/homepage/jcr:content/root/container/content_section_styl/content-section-body/tile_group_container/container/tile_card_392377621/image\"></dds-image-item>\n",
       "    <dds-image-item media=\"(min-width: 1312px)\" srcset=\"/content/dam/connectedassets-adobe-cms/worldwide-content/homepage/ul/g/a7/33/ibm-SPSS-home-card.component.tile-card-xl.ts=1694804564800.png/content/adobe-cms/br/pt/homepage/jcr:content/root/container/content_section_styl/content-section-body/tile_group_container/container/tile_card_392377621/image\"></dds-image-item>\n",
       "    <dds-image-item media=\"(min-width: 1056px) and (min-resolution: 192dpi)\" srcset=\"/content/dam/connectedassets-adobe-cms/worldwide-content/homepage/ul/g/a7/33/ibm-SPSS-home-card.component.tile-card-l-retina.ts=1694804564800.png/content/adobe-cms/br/pt/homepage/jcr:content/root/container/content_section_styl/content-section-body/tile_group_container/container/tile_card_392377621/image\"></dds-image-item>\n",
       "    <dds-image-item media=\"(min-width: 1056px)\" srcset=\"/content/dam/connectedassets-adobe-cms/worldwide-content/homepage/ul/g/a7/33/ibm-SPSS-home-card.component.tile-card-l.ts=1694804564800.png/content/adobe-cms/br/pt/homepage/jcr:content/root/container/content_section_styl/content-section-body/tile_group_container/container/tile_card_392377621/image\"></dds-image-item>\n",
       "    <dds-image-item media=\"(min-width: 672px) and (min-resolution: 192dpi)\" srcset=\"/content/dam/connectedassets-adobe-cms/worldwide-content/homepage/ul/g/a7/33/ibm-SPSS-home-card.component.tile-card-m-retina.ts=1694804564800.png/content/adobe-cms/br/pt/homepage/jcr:content/root/container/content_section_styl/content-section-body/tile_group_container/container/tile_card_392377621/image\"></dds-image-item>\n",
       "    <dds-image-item media=\"(min-width: 672px)\" srcset=\"/content/dam/connectedassets-adobe-cms/worldwide-content/homepage/ul/g/a7/33/ibm-SPSS-home-card.component.tile-card-m.ts=1694804564800.png/content/adobe-cms/br/pt/homepage/jcr:content/root/container/content_section_styl/content-section-body/tile_group_container/container/tile_card_392377621/image\"></dds-image-item>\n",
       "    <dds-image-item media=\"(min-width: 481px) and (min-resolution: 192dpi)\" srcset=\"/content/dam/connectedassets-adobe-cms/worldwide-content/homepage/ul/g/a7/33/ibm-SPSS-home-card.component.tile-card-s-retina.ts=1694804564800.png/content/adobe-cms/br/pt/homepage/jcr:content/root/container/content_section_styl/content-section-body/tile_group_container/container/tile_card_392377621/image\"></dds-image-item>\n",
       "    <dds-image-item media=\"(min-width: 481px)\" srcset=\"/content/dam/connectedassets-adobe-cms/worldwide-content/homepage/ul/g/a7/33/ibm-SPSS-home-card.component.tile-card-s.ts=1694804564800.png/content/adobe-cms/br/pt/homepage/jcr:content/root/container/content_section_styl/content-section-body/tile_group_container/container/tile_card_392377621/image\"></dds-image-item>\n",
       "    <dds-image-item media=\"(max-width: 480px) and (min-resolution: 192dpi)\" srcset=\"/content/dam/connectedassets-adobe-cms/worldwide-content/homepage/ul/g/a7/33/ibm-SPSS-home-card.component.tile-card-xs-retina.ts=1694804564800.png/content/adobe-cms/br/pt/homepage/jcr:content/root/container/content_section_styl/content-section-body/tile_group_container/container/tile_card_392377621/image\"></dds-image-item>\n",
       "    <dds-image-item media=\"(max-width: 480px)\" srcset=\"/content/dam/connectedassets-adobe-cms/worldwide-content/homepage/ul/g/a7/33/ibm-SPSS-home-card.component.tile-card-xs.ts=1694804564800.png/content/adobe-cms/br/pt/homepage/jcr:content/root/container/content_section_styl/content-section-body/tile_group_container/container/tile_card_392377621/image\"></dds-image-item>\n",
       "\n",
       "                    \n",
       "                \n",
       "            \n",
       "        </dds-image>\n",
       "    \n",
       "\n",
       "    \n",
       "\n",
       "\n",
       "\n",
       "                \n",
       "                \n",
       "    \n",
       "\n",
       "            \n",
       "        Economize 10% na assinatura do SPSS Statistics\n",
       "    </caem-tile> \n",
       "    \n",
       "    \n",
       "\n",
       "\n",
       "\n",
       "\n",
       "\n",
       "    \n",
       "    \n",
       "    <caem-tile href=\"https://www.ibm.com/products/envizi/resources/aws?lnk=cardT\" label=\"IBM Envizi\" target=\"_self\">\n",
       "    \t\n",
       "                \n",
       "                        \n",
       "\n",
       "\n",
       "\n",
       "\n",
       "    \n",
       "    \n",
       "        \n",
       "        \n",
       "        \n",
       "        \n",
       "        <dds-image alt=\"dashboard de um software esg\" default-src=\"/content/dam/connectedassets-adobe-cms/worldwide-content/creative-assets/s-migr/ul/g/e8/f7/Envizi-overview-ui-leadspace.component.tile-card-xl.ts=1695236122025.png/content/adobe-cms/br/pt/homepage/jcr:content/root/container/content_section_styl/content-section-body/tile_group_container/container/tile_card_1699798462/image\" id=\"image--1095058202\" slot=\"image\">\n",
       "            \n",
       "            \n",
       "                \n",
       "                    \n",
       "    <dds-image-item media=\"(min-width: 1312px) and (min-resolution: 192dpi)\" srcset=\"/content/dam/connectedassets-adobe-cms/worldwide-content/creative-assets/s-migr/ul/g/e8/f7/Envizi-overview-ui-leadspace.component.tile-card-xl-retina.ts=1695236122025.png/content/adobe-cms/br/pt/homepage/jcr:content/root/container/content_section_styl/content-section-body/tile_group_container/container/tile_card_1699798462/image\"></dds-image-item>\n",
       "    <dds-image-item media=\"(min-width: 1312px)\" srcset=\"/content/dam/connectedassets-adobe-cms/worldwide-content/creative-assets/s-migr/ul/g/e8/f7/Envizi-overview-ui-leadspace.component.tile-card-xl.ts=1695236122025.png/content/adobe-cms/br/pt/homepage/jcr:content/root/container/content_section_styl/content-section-body/tile_group_container/container/tile_card_1699798462/image\"></dds-image-item>\n",
       "    <dds-image-item media=\"(min-width: 1056px) and (min-resolution: 192dpi)\" srcset=\"/content/dam/connectedassets-adobe-cms/worldwide-content/creative-assets/s-migr/ul/g/e8/f7/Envizi-overview-ui-leadspace.component.tile-card-l-retina.ts=1695236122025.png/content/adobe-cms/br/pt/homepage/jcr:content/root/container/content_section_styl/content-section-body/tile_group_container/container/tile_card_1699798462/image\"></dds-image-item>\n",
       "    <dds-image-item media=\"(min-width: 1056px)\" srcset=\"/content/dam/connectedassets-adobe-cms/worldwide-content/creative-assets/s-migr/ul/g/e8/f7/Envizi-overview-ui-leadspace.component.tile-card-l.ts=1695236122025.png/content/adobe-cms/br/pt/homepage/jcr:content/root/container/content_section_styl/content-section-body/tile_group_container/container/tile_card_1699798462/image\"></dds-image-item>\n",
       "    <dds-image-item media=\"(min-width: 672px) and (min-resolution: 192dpi)\" srcset=\"/content/dam/connectedassets-adobe-cms/worldwide-content/creative-assets/s-migr/ul/g/e8/f7/Envizi-overview-ui-leadspace.component.tile-card-m-retina.ts=1695236122025.png/content/adobe-cms/br/pt/homepage/jcr:content/root/container/content_section_styl/content-section-body/tile_group_container/container/tile_card_1699798462/image\"></dds-image-item>\n",
       "    <dds-image-item media=\"(min-width: 672px)\" srcset=\"/content/dam/connectedassets-adobe-cms/worldwide-content/creative-assets/s-migr/ul/g/e8/f7/Envizi-overview-ui-leadspace.component.tile-card-m.ts=1695236122025.png/content/adobe-cms/br/pt/homepage/jcr:content/root/container/content_section_styl/content-section-body/tile_group_container/container/tile_card_1699798462/image\"></dds-image-item>\n",
       "    <dds-image-item media=\"(min-width: 481px) and (min-resolution: 192dpi)\" srcset=\"/content/dam/connectedassets-adobe-cms/worldwide-content/creative-assets/s-migr/ul/g/e8/f7/Envizi-overview-ui-leadspace.component.tile-card-s-retina.ts=1695236122025.png/content/adobe-cms/br/pt/homepage/jcr:content/root/container/content_section_styl/content-section-body/tile_group_container/container/tile_card_1699798462/image\"></dds-image-item>\n",
       "    <dds-image-item media=\"(min-width: 481px)\" srcset=\"/content/dam/connectedassets-adobe-cms/worldwide-content/creative-assets/s-migr/ul/g/e8/f7/Envizi-overview-ui-leadspace.component.tile-card-s.ts=1695236122025.png/content/adobe-cms/br/pt/homepage/jcr:content/root/container/content_section_styl/content-section-body/tile_group_container/container/tile_card_1699798462/image\"></dds-image-item>\n",
       "    <dds-image-item media=\"(max-width: 480px) and (min-resolution: 192dpi)\" srcset=\"/content/dam/connectedassets-adobe-cms/worldwide-content/creative-assets/s-migr/ul/g/e8/f7/Envizi-overview-ui-leadspace.component.tile-card-xs-retina.ts=1695236122025.png/content/adobe-cms/br/pt/homepage/jcr:content/root/container/content_section_styl/content-section-body/tile_group_container/container/tile_card_1699798462/image\"></dds-image-item>\n",
       "    <dds-image-item media=\"(max-width: 480px)\" srcset=\"/content/dam/connectedassets-adobe-cms/worldwide-content/creative-assets/s-migr/ul/g/e8/f7/Envizi-overview-ui-leadspace.component.tile-card-xs.ts=1695236122025.png/content/adobe-cms/br/pt/homepage/jcr:content/root/container/content_section_styl/content-section-body/tile_group_container/container/tile_card_1699798462/image\"></dds-image-item>\n",
       "\n",
       "                    \n",
       "                \n",
       "            \n",
       "        </dds-image>\n",
       "    \n",
       "\n",
       "    \n",
       "\n",
       "\n",
       "\n",
       "                \n",
       "                \n",
       "    \n",
       "\n",
       "            \n",
       "        Simplifique e rastreie dados ESG na AWS\n",
       "    </caem-tile> \n",
       "    \n",
       "    \n",
       "\n",
       "\n",
       "\n",
       "\n",
       "\n",
       "\n",
       "\n",
       "\n",
       "    </caem-tile-group>\n",
       "  </div>  \n",
       "\n",
       "\n",
       "<script src=\"https://1.www.s81c.com/common/carbon/carbon-for-aem/version/v0.7.2/tile.min.js\" type=\"module\"></script></div>\n",
       "<div class=\"intro-section\"><div class=\"bx--col\">\n",
       "    <caem-intro-section>\n",
       "\n",
       "        <caem-heading data-autoid=\"caem-heading\" slot=\"heading\" type=\"h2\" type-style=\"expressive-heading-05\">\n",
       "                \n",
       "\n",
       "\n",
       "\n",
       "  \n",
       "    Navegue pelas nossas tecnologias\n",
       "\n",
       "\n",
       "\n",
       "\n",
       "\n",
       "\n",
       "    \n",
       "\n",
       "\n",
       "            </caem-heading>\n",
       "\n",
       "        <caem-paragraph data-autoid=\"caem--paragraph\" size=\"lead-in\">\n",
       "            <div class=\"cms-richtext\" data-dynamic-inner-content=\"description\" id=\"rich-text-cacd273942\">\n",
       "    <p>Desde os nossos principais produtos para <a href=\"https://www.ibm.com/br-pt/cloud?lnk=intro\">infraestrutura de nuvem híbrida</a> empresarial até soluções de IA, segurança e armazenamento de última geração, encontre a resposta para o seu desafio de negócios.</p>\n",
       " \n",
       "    \n",
       "    \n",
       "    \n",
       "    \n",
       "\n",
       "</div>\n",
       "        </caem-paragraph>\n",
       "\n",
       "        \n",
       "            <dds-link-list type=\"vertical\">\n",
       "                \n",
       "                    \n",
       "    \n",
       "    \n",
       "        \n",
       "        <dds-video-cta-container>\n",
       "            <dds-link-list-item-cta cta-type=\"local\" href=\"https://www.ibm.com/br-pt/products?lnk=intro\" icon-placement=\"right\" role=\"listitem\" target=\"_self\">\n",
       "                Ver todos os produtos\n",
       "                \n",
       "            </dds-link-list-item-cta>\n",
       "        </dds-video-cta-container>\n",
       "    \n",
       "    \n",
       "    \n",
       "\n",
       "\n",
       "\n",
       "                \n",
       "                \n",
       "                    \n",
       "    \n",
       "    \n",
       "    \n",
       "    \n",
       "\n",
       "\n",
       "\n",
       "                \n",
       "            </dds-link-list>\n",
       "        \n",
       "\n",
       "        \n",
       "\n",
       "    </caem-intro-section>\n",
       "</div>\n",
       "<script src=\"https://1.www.s81c.com/common/carbon/carbon-for-aem/version/v0.7.2/paragraph.min.js\" type=\"module\"></script>\n",
       "<script src=\"https://1.www.s81c.com/common/carbon/carbon-for-aem/version/v0.7.2/heading.min.js\" type=\"module\"></script>\n",
       "<script src=\"https://1.www.s81c.com/common/carbon/carbon-for-aem/version/v0.7.2/intro-section.min.js\" type=\"module\"></script>\n",
       "<script src=\"https://1.www.s81c.com/common/carbon/carbon-for-aem/version/v0.7.2/brand-cta-section.min.js\" type=\"module\"></script>\n",
       "</div>\n",
       "<div class=\"card-group-pictogram\">\n",
       "    <div class=\"bx--content-block\">\n",
       "        \n",
       "\n",
       "        \n",
       "\n",
       "        \n",
       "            \n",
       "                \n",
       "                    \n",
       "                        <caem-card-group cards-per-row=\"4\" data-autoid=\"dds--card-group\" grid-mode=\"border\" style=\"--dds--card-group--cards-in-row:4; --cds-ui-01: white;\">\n",
       "                            \n",
       "\n",
       "    \n",
       "    \n",
       "    \n",
       "    \n",
       "    \n",
       "        \n",
       "            \n",
       "            \n",
       "                \n",
       "                <caem-card color-scheme=\"\" cta-type=\"local\" data-autoid=\"caem--card\" href=\"https://www.ibm.com/br-pt/artificial-intelligence?lnk=prodC\" pictogram-placement=\"top\" size=\"\" target=\"_self\">\n",
       "                    <caem-card-heading aria-level=\"3\" data-autoid=\"caem--card-heading\" role=\"heading\" slot=\"heading\">\n",
       "                        \n",
       "                        IA e aprendizado de máquina</caem-card-heading>\n",
       "                    <svg class=\"bx--card__pictogram\" data-autoid=\"caem--card__pictogram\" focusable=\"false\" height=\"48\" role=\"img\" slot=\"pictogram\" width=\"48\">\n",
       "                        <use href=\"#ai\"></use>\n",
       "                    </svg>\n",
       "                    <p>Use a IA do IBM watsonx ou desenvolva seus próprios modelos de aprendizado de máquina</p>\n",
       "                    <caem-card-cta-footer color-scheme=\"\" cta-type=\"local\" data-autoid=\"caem--card-cta-footer\" href=\"https://www.ibm.com/br-pt/artificial-intelligence?lnk=prodC\" icon-placement=\"right\" parent-href=\"https://www.ibm.com/br-pt/artificial-intelligence?lnk=prodC\" slot=\"footer\">\n",
       "                        \n",
       "                    </caem-card-cta-footer>\n",
       "                    <div class=\"caem-card-svg-source\">\n",
       "                        <svg id=\"ai\" viewBox=\"0 0 32 32\" xmlns=\"http://www.w3.org/2000/svg\"><path d=\"M16.195,31.36c-6.421,0-12.169-4.007-14.399-10.002 C1.051,21.408,0.373,20.771,0.372,20c0-0.75,0.61-1.36,1.36-1.36s1.36,0.61,1.36,1.36c0,0.474-0.243,0.892-0.611,1.135 c2.133,5.698,7.604,9.505,13.714,9.505c6.446,0,11.919-4.301,13.773-10.22c-1.448,2.06-3.877,3.44-6.565,3.44 c-3.822,0-7.066-2.785-7.664-6.525C15.113,17.212,14.64,16.661,14.64,16c0-0.584,0.37-1.083,0.888-1.275 c-0.608-3.421-3.615-5.962-7.125-5.962c-3.947,0-7.04,3.176-7.042,7.231c0,0.002,0,0.004,0,0.006H0.64c0-0.002,0-0.004,0-0.007 C0.644,7.526,7.445,0.64,15.805,0.64c6.42,0,12.168,4.006,14.399,10.001c0.777-0.034,1.425,0.587,1.425,1.358 c0,0.75-0.61,1.36-1.36,1.36s-1.36-0.61-1.36-1.36c0-0.473,0.243-0.891,0.611-1.135C27.387,5.166,21.916,1.36,15.805,1.36 c-6.319,0-11.704,4.134-13.659,9.873c1.402-1.949,3.662-3.19,6.256-3.19c3.881,0,7.204,2.826,7.846,6.62 C16.88,14.779,17.36,15.335,17.36,16c0,0.589-0.376,1.092-0.901,1.28c0.567,3.363,3.496,5.859,6.943,5.859 c3.857,0,7.127-3.118,7.235-6.851c0.001-0.096,0.002-0.192,0.002-0.289h0.721c0,0.033,0,0.065-0.001,0.098h0.001 c0,0.069-0.001,0.138-0.003,0.207C31.196,24.634,24.456,31.36,16.195,31.36z M1.732,19.36c-0.353,0-0.64,0.287-0.64,0.64 s0.287,0.64,0.64,0.64s0.64-0.287,0.64-0.64S2.085,19.36,1.732,19.36z M16,15.36c-0.353,0-0.64,0.287-0.64,0.64 s0.287,0.64,0.64,0.64s0.64-0.287,0.64-0.64S16.353,15.36,16,15.36z M30.269,11.36c-0.353,0-0.64,0.287-0.64,0.64 s0.287,0.64,0.64,0.64s0.64-0.287,0.64-0.64S30.621,11.36,30.269,11.36z\"></path></svg>\n",
       "                    </div>\n",
       "                </caem-card>\n",
       "            \n",
       "        \n",
       "    \n",
       "    \n",
       "    \n",
       "\n",
       "\n",
       "\n",
       "    \n",
       "        \n",
       "            \n",
       "            \n",
       "                \n",
       "                <caem-card color-scheme=\"\" cta-type=\"local\" data-autoid=\"caem--card\" href=\"https://www.ibm.com/br-pt/analytics?lnk=ProdC\" pictogram-placement=\"top\" size=\"\" target=\"_self\">\n",
       "                    <caem-card-heading aria-level=\"3\" data-autoid=\"caem--card-heading\" role=\"heading\" slot=\"heading\">\n",
       "                        \n",
       "                        Análise de dados</caem-card-heading>\n",
       "                    <svg class=\"bx--card__pictogram\" data-autoid=\"caem--card__pictogram\" focusable=\"false\" height=\"48\" role=\"img\" slot=\"pictogram\" width=\"48\">\n",
       "                        <use href=\"#predictive-analytics\"></use>\n",
       "                    </svg>\n",
       "                    <p>Agregue e analise grandes conjuntos de dados</p>\n",
       "                    <caem-card-cta-footer color-scheme=\"\" cta-type=\"local\" data-autoid=\"caem--card-cta-footer\" href=\"https://www.ibm.com/br-pt/analytics?lnk=ProdC\" icon-placement=\"right\" parent-href=\"https://www.ibm.com/br-pt/analytics?lnk=ProdC\" slot=\"footer\">\n",
       "                        \n",
       "                    </caem-card-cta-footer>\n",
       "                    <div class=\"caem-card-svg-source\">\n",
       "                        <svg id=\"predictive-analytics\" viewBox=\"0 0 32 32\" xmlns=\"http://www.w3.org/2000/svg\"><path d=\"M31,31.36H1c-0.199,0-0.36-0.161-0.36-0.36 V1h0.72v29.64h4.28v-7.328c-0.576-0.158-1-0.687-1-1.312c0-0.75,0.61-1.36,1.36-1.36c0.364,0,0.694,0.144,0.938,0.377l3.702-2.221 v-8.484c-0.576-0.158-1-0.686-1-1.312c0-0.75,0.61-1.36,1.36-1.36S12.36,8.25,12.36,9c0,0.625-0.424,1.153-1,1.312v8.053l3.33-1.998 c-0.032-0.116-0.05-0.239-0.05-0.366c0-0.75,0.61-1.36,1.36-1.36c0.364,0,0.695,0.144,0.939,0.377l3.701-2.221V6.312 c-0.575-0.158-1-0.686-1-1.312c0-0.75,0.61-1.36,1.36-1.36S22.36,4.25,22.36,5c0,0.625-0.425,1.153-1,1.312v6.053l3.33-1.998 c-0.033-0.117-0.05-0.24-0.05-0.367c0-0.75,0.61-1.36,1.36-1.36s1.36,0.61,1.36,1.36c0,0.625-0.425,1.153-1,1.312V30.64H31V31.36z M21.36,30.64h4.279V11.312c-0.22-0.061-0.418-0.175-0.578-0.328l-3.701,2.221V30.64z M16.36,30.64h4.28V13.636l-3.33,1.998 c0.033,0.116,0.05,0.239,0.05,0.366c0,0.625-0.425,1.153-1,1.312V30.64z M11.36,30.64h4.28V17.312 c-0.22-0.061-0.418-0.175-0.579-0.328l-3.702,2.221V30.64H11.36z M6.36,30.64h4.28V19.636l-3.33,1.998 C7.343,21.75,7.36,21.873,7.36,22c0,0.625-0.424,1.153-1,1.312V30.64z M6,21.36c-0.353,0-0.64,0.287-0.64,0.64S5.647,22.64,6,22.64 S6.64,22.353,6.64,22S6.353,21.36,6,21.36z M16,15.36c-0.353,0-0.64,0.287-0.64,0.64s0.287,0.64,0.64,0.64s0.64-0.287,0.64-0.64 S16.353,15.36,16,15.36z M26,9.36c-0.353,0-0.64,0.287-0.64,0.64s0.287,0.64,0.64,0.64s0.64-0.287,0.64-0.64S26.353,9.36,26,9.36z M11,8.36c-0.353,0-0.64,0.287-0.64,0.64S10.647,9.64,11,9.64S11.64,9.353,11.64,9S11.353,8.36,11,8.36z M21,4.36 c-0.353,0-0.64,0.287-0.64,0.64S20.647,5.64,21,5.64S21.64,5.353,21.64,5S21.353,4.36,21,4.36z\"></path></svg>\n",
       "                    </div>\n",
       "                </caem-card>\n",
       "            \n",
       "        \n",
       "    \n",
       "    \n",
       "    \n",
       "\n",
       "\n",
       "\n",
       "    \n",
       "        \n",
       "            \n",
       "            \n",
       "                \n",
       "                <caem-card color-scheme=\"\" cta-type=\"local\" data-autoid=\"caem--card\" href=\"https://www.ibm.com/br-pt/servers?lnk=ProdC\" pictogram-placement=\"top\" size=\"\" target=\"_self\">\n",
       "                    <caem-card-heading aria-level=\"3\" data-autoid=\"caem--card-heading\" role=\"heading\" slot=\"heading\">\n",
       "                        \n",
       "                        Computação e servidores</caem-card-heading>\n",
       "                    <svg class=\"bx--card__pictogram\" data-autoid=\"caem--card__pictogram\" focusable=\"false\" height=\"48\" role=\"img\" slot=\"pictogram\" width=\"48\">\n",
       "                        <use href=\"#storage--product\"></use>\n",
       "                    </svg>\n",
       "                    <p>Execute cargas de trabalho em infraestrutura de nuvem híbrida</p>\n",
       "                    <caem-card-cta-footer color-scheme=\"\" cta-type=\"local\" data-autoid=\"caem--card-cta-footer\" href=\"https://www.ibm.com/br-pt/servers?lnk=ProdC\" icon-placement=\"right\" parent-href=\"https://www.ibm.com/br-pt/servers?lnk=ProdC\" slot=\"footer\">\n",
       "                        \n",
       "                    </caem-card-cta-footer>\n",
       "                    <div class=\"caem-card-svg-source\">\n",
       "                        <svg id=\"storage--product\" viewBox=\"0 0 32 32\" xmlns=\"http://www.w3.org/2000/svg\"><path d=\"M30,31.36H8c-0.199,0-0.36-0.161-0.36-0.36v-5c0-0.199,0.161-0.36,0.36-0.36h22 c0.199,0,0.36,0.161,0.36,0.36v5C30.36,31.199,30.199,31.36,30,31.36z M8.36,30.64h21.28v-4.28H8.36V30.64z M6,31.36H2 c-0.199,0-0.36-0.161-0.36-0.36V1c0-0.199,0.161-0.36,0.36-0.36h11c0.199,0,0.36,0.161,0.36,0.36v9h-0.72V1.36H2.36v29.28H6V31.36z M28.36,30h-0.72v-2h0.721L28.36,30L28.36,30z M26.36,30h-0.72v-2h0.721L26.36,30L26.36,30z M24.36,30h-0.72v-2h0.721L24.36,30 L24.36,30z M22.36,30h-0.72v-2h0.721L22.36,30L22.36,30z M30,24.36H8c-0.199,0-0.36-0.161-0.36-0.36v-5 c0-0.199,0.161-0.36,0.36-0.36h22c0.199,0,0.36,0.161,0.36,0.36v5C30.36,24.199,30.199,24.36,30,24.36z M8.36,23.64h21.28v-4.28 H8.36V23.64z M28.36,23h-0.72v-2h0.721L28.36,23L28.36,23z M26.36,23h-0.72v-2h0.721L26.36,23L26.36,23z M24.36,23h-0.72v-2h0.721 L24.36,23L24.36,23z M22.36,23h-0.72v-2h0.721L22.36,23L22.36,23z M30,17.36H8c-0.199,0-0.36-0.161-0.36-0.36v-5 c0-0.199,0.161-0.36,0.36-0.36h22c0.199,0,0.36,0.161,0.36,0.36v5C30.36,17.199,30.199,17.36,30,17.36z M8.36,16.64h21.28v-4.28 H8.36V16.64z M28.36,16h-0.72v-2h0.721L28.36,16L28.36,16z M26.36,16h-0.72v-2h0.721L26.36,16L26.36,16z M24.36,16h-0.72v-2h0.721 L24.36,16L24.36,16z M22.36,16h-0.72v-2h0.721L22.36,16L22.36,16z M6,4.36H4V3.64h2V4.36z\"></path></svg>\n",
       "                    </div>\n",
       "                </caem-card>\n",
       "            \n",
       "        \n",
       "    \n",
       "    \n",
       "    \n",
       "\n",
       "\n",
       "\n",
       "    \n",
       "        \n",
       "            \n",
       "            \n",
       "                \n",
       "                <caem-card color-scheme=\"\" cta-type=\"local\" data-autoid=\"caem--card\" href=\"https://www.ibm.com/br-pt/database?lnk=ProdC\" pictogram-placement=\"top\" size=\"\" target=\"_self\">\n",
       "                    <caem-card-heading aria-level=\"3\" data-autoid=\"caem--card-heading\" role=\"heading\" slot=\"heading\">\n",
       "                        \n",
       "                        Bancos de dados</caem-card-heading>\n",
       "                    <svg class=\"bx--card__pictogram\" data-autoid=\"caem--card__pictogram\" focusable=\"false\" height=\"48\" role=\"img\" slot=\"pictogram\" width=\"48\">\n",
       "                        <use href=\"#hard--drive--network\"></use>\n",
       "                    </svg>\n",
       "                    <p>Armazene, consulte e analise dados estruturados</p>\n",
       "                    <caem-card-cta-footer color-scheme=\"\" cta-type=\"local\" data-autoid=\"caem--card-cta-footer\" href=\"https://www.ibm.com/br-pt/database?lnk=ProdC\" icon-placement=\"right\" parent-href=\"https://www.ibm.com/br-pt/database?lnk=ProdC\" slot=\"footer\">\n",
       "                        \n",
       "                    </caem-card-cta-footer>\n",
       "                    <div class=\"caem-card-svg-source\">\n",
       "                        <svg id=\"hard--drive--network\" viewBox=\"0 0 32 32\" xmlns=\"http://www.w3.org/2000/svg\"><path d=\"M20,6c-0.552,0-1-0.448-1-1s0.448-1,1-1s1,0.448,1,1S20.552,6,20,6z M21,16 c0-0.552-0.448-1-1-1s-1,0.448-1,1s0.448,1,1,1S21,16.552,21,16z M21,27c0-0.552-0.448-1-1-1s-1,0.448-1,1s0.448,1,1,1 S21,27.552,21,27z M24,31.36H1c-0.199,0-0.36-0.161-0.36-0.36v-8c0-0.199,0.161-0.36,0.36-0.36h23c0.199,0,0.36,0.161,0.36,0.36v8 C24.36,31.199,24.199,31.36,24,31.36z M1.36,30.64h22.28v-7.28H1.36V30.64z M31,27.36h-5v-0.72h4.64V16.36H26v-0.72h4.64V5.36H26 V4.64h5c0.199,0,0.36,0.161,0.36,0.36v22C31.36,27.199,31.199,27.36,31,27.36z M24,20.36H1c-0.199,0-0.36-0.161-0.36-0.36v-8 c0-0.199,0.161-0.36,0.36-0.36h23c0.199,0,0.36,0.161,0.36,0.36v8C24.36,20.199,24.199,20.36,24,20.36z M1.36,19.64h22.28v-7.28 H1.36V19.64z M24,9.36H1C0.801,9.36,0.64,9.199,0.64,9V1c0-0.199,0.161-0.36,0.36-0.36h23c0.199,0,0.36,0.161,0.36,0.36v8 C24.36,9.199,24.199,9.36,24,9.36z M1.36,8.64h22.28V1.36H1.36V8.64z\"></path></svg>\n",
       "                    </div>\n",
       "                </caem-card>\n",
       "            \n",
       "        \n",
       "    \n",
       "    \n",
       "    \n",
       "\n",
       "\n",
       "\n",
       "    \n",
       "        \n",
       "            \n",
       "            \n",
       "                \n",
       "                <caem-card color-scheme=\"\" cta-type=\"local\" data-autoid=\"caem--card\" href=\"https://www.ibm.com/br-pt/devops?lnk=ProdC\" pictogram-placement=\"top\" size=\"\" target=\"_self\">\n",
       "                    <caem-card-heading aria-level=\"3\" data-autoid=\"caem--card-heading\" role=\"heading\" slot=\"heading\">\n",
       "                        \n",
       "                        DevOps</caem-card-heading>\n",
       "                    <svg class=\"bx--card__pictogram\" data-autoid=\"caem--card__pictogram\" focusable=\"false\" height=\"48\" role=\"img\" slot=\"pictogram\" width=\"48\">\n",
       "                        <use href=\"#devops\"></use>\n",
       "                    </svg>\n",
       "                    <p>Gerencie infraestrutura, ambientes e implementações</p>\n",
       "                    <caem-card-cta-footer color-scheme=\"\" cta-type=\"local\" data-autoid=\"caem--card-cta-footer\" href=\"https://www.ibm.com/br-pt/devops?lnk=ProdC\" icon-placement=\"right\" parent-href=\"https://www.ibm.com/br-pt/devops?lnk=ProdC\" slot=\"footer\">\n",
       "                        \n",
       "                    </caem-card-cta-footer>\n",
       "                    <div class=\"caem-card-svg-source\">\n",
       "                        <svg id=\"devops\" viewBox=\"0 0 32 32\" xmlns=\"http://www.w3.org/2000/svg\"><path d=\"M18,31.36h-4c-0.128,0-0.248-0.069-0.312-0.181l-2-3.464c-0.064-0.111-0.064-0.248,0-0.359l2-3.464 c0.064-0.111,0.183-0.181,0.312-0.181h3.792l2.896-5.016c0.1-0.174,0.32-0.231,0.491-0.132c0.173,0.1,0.231,0.319,0.132,0.491 l-2.896,5.017l1.896,3.284c0.064,0.111,0.064,0.248,0,0.359l-2,3.464C18.247,31.291,18.129,31.36,18,31.36z M14.208,30.64h3.584 l1.792-3.104l-1.792-3.104h-3.584l-1.792,3.104L14.208,30.64z M28,25.593h-4c-0.129,0-0.247-0.069-0.312-0.181l-2-3.465 c-0.064-0.111-0.064-0.248,0-0.359l1.896-3.284l-2.896-5.016c-0.1-0.172-0.041-0.393,0.132-0.492c0.171-0.1,0.392-0.041,0.491,0.131 l2.896,5.016H28c0.129,0,0.247,0.069,0.312,0.181l2,3.464c0.064,0.111,0.064,0.248,0,0.359l-2,3.465 C28.247,25.523,28.129,25.593,28,25.593z M24.208,24.872h3.584l1.792-3.104l-1.792-3.104h-3.584l-1.792,3.104L24.208,24.872z M8,25.593H4c-0.128,0-0.248-0.069-0.312-0.181l-2-3.465c-0.064-0.111-0.064-0.248,0-0.359l2-3.464 C3.752,18.013,3.872,17.943,4,17.943h4c0.128,0,0.248,0.069,0.312,0.181l1.896,3.283H16c0.199,0,0.36,0.161,0.36,0.36 s-0.161,0.36-0.36,0.36h-5.792l-1.896,3.284C8.248,25.523,8.128,25.593,8,25.593z M4.208,24.872h3.584l1.792-3.104l-1.792-3.104 H4.208l-1.792,3.104L4.208,24.872z M11,19.253c-0.125,0-0.246-0.064-0.312-0.181l-2.896-5.016H4c-0.128,0-0.248-0.068-0.312-0.18 l-2-3.464c-0.064-0.111-0.064-0.249,0-0.36l2-3.464C3.752,6.477,3.872,6.408,4,6.408h4c0.128,0,0.248,0.068,0.312,0.18l2,3.464 c0.064,0.111,0.064,0.249,0,0.36l-1.896,3.284l2.896,5.017c0.099,0.172,0.04,0.392-0.132,0.491 C11.124,19.237,11.062,19.253,11,19.253z M4.208,13.336h3.584l1.792-3.104L7.792,7.128H4.208l-1.792,3.104L4.208,13.336z M28,14.056 h-4c-0.129,0-0.247-0.068-0.312-0.18l-1.896-3.285H16c-0.199,0-0.36-0.161-0.36-0.36s0.161-0.36,0.36-0.36h5.792l1.896-3.284 c0.064-0.111,0.183-0.18,0.312-0.18h4c0.129,0,0.247,0.068,0.312,0.18l2,3.464c0.064,0.111,0.064,0.249,0,0.36l-2,3.464 C28.247,13.988,28.129,14.056,28,14.056z M24.208,13.336h3.584l1.792-3.104l-1.792-3.104h-3.584l-1.792,3.104L24.208,13.336z M11,13.484c-0.061,0-0.123-0.015-0.18-0.048c-0.172-0.1-0.231-0.32-0.132-0.492l2.896-5.016l-1.896-3.284 c-0.064-0.112-0.064-0.249,0-0.36l2-3.464C13.752,0.708,13.872,0.64,14,0.64h4c0.129,0,0.247,0.068,0.312,0.18l2,3.464 c0.064,0.111,0.064,0.249,0,0.36l-2,3.464C18.247,8.22,18.129,8.288,18,8.288h-3.792l-2.896,5.017 C11.245,13.42,11.124,13.484,11,13.484z M14.208,7.568h3.584l1.792-3.104L17.792,1.36h-3.584l-1.792,3.104L14.208,7.568z\"></path></svg>\n",
       "                    </div>\n",
       "                </caem-card>\n",
       "            \n",
       "        \n",
       "    \n",
       "    \n",
       "    \n",
       "\n",
       "\n",
       "\n",
       "    \n",
       "        \n",
       "            \n",
       "            \n",
       "                \n",
       "                <caem-card color-scheme=\"\" cta-type=\"local\" data-autoid=\"caem--card\" href=\"https://www.ibm.com/it-automation?lnk=ProdC\" pictogram-placement=\"top\" size=\"\" target=\"_self\">\n",
       "                    <caem-card-heading aria-level=\"3\" data-autoid=\"caem--card-heading\" role=\"heading\" slot=\"heading\">\n",
       "                        \n",
       "                        Automação de TI</caem-card-heading>\n",
       "                    <svg class=\"bx--card__pictogram\" data-autoid=\"caem--card__pictogram\" focusable=\"false\" height=\"48\" role=\"img\" slot=\"pictogram\" width=\"48\">\n",
       "                        <use href=\"#automation--decision\"></use>\n",
       "                    </svg>\n",
       "                    <p>Automatize o gerenciamento da infraestrutura de TI</p>\n",
       "                    <caem-card-cta-footer color-scheme=\"\" cta-type=\"local\" data-autoid=\"caem--card-cta-footer\" href=\"https://www.ibm.com/it-automation?lnk=ProdC\" icon-placement=\"right\" parent-href=\"https://www.ibm.com/it-automation?lnk=ProdC\" slot=\"footer\">\n",
       "                        \n",
       "                    </caem-card-cta-footer>\n",
       "                    <div class=\"caem-card-svg-source\">\n",
       "                        <svg id=\"automation--decision\" viewBox=\"0 0 32 32\" xmlns=\"http://www.w3.org/2000/svg\"><path d=\"M27.255,19.255L30.509,16l-3.254-3.254l-0.51,0.509l2.386,2.386H16.149L9.36,8.85V5.36h19.771 l-2.386,2.386l0.51,0.509L30.509,5l-3.254-3.254l-0.51,0.509l2.386,2.386H9C8.801,4.64,8.64,4.801,8.64,5v3.85l-6.895,6.896 c-0.141,0.141-0.141,0.368,0,0.509L8.64,23.15V27c0,0.199,0.161,0.36,0.36,0.36h20.131l-2.386,2.385l0.51,0.51L30.509,27 l-3.254-3.255l-0.51,0.51l2.386,2.385H9.36v-3.49l6.789-6.79h12.982l-2.386,2.385L27.255,19.255z M9,22.491L2.509,16L9,9.508 L15.491,16L9,22.491z\"></path></svg>\n",
       "                    </div>\n",
       "                </caem-card>\n",
       "            \n",
       "        \n",
       "    \n",
       "    \n",
       "    \n",
       "\n",
       "\n",
       "\n",
       "    \n",
       "        \n",
       "            \n",
       "            \n",
       "                \n",
       "                <caem-card color-scheme=\"\" cta-type=\"local\" data-autoid=\"caem--card\" href=\"https://www.ibm.com/quantum?lnk=ProdC\" pictogram-placement=\"top\" size=\"\" target=\"_self\">\n",
       "                    <caem-card-heading aria-level=\"3\" data-autoid=\"caem--card-heading\" role=\"heading\" slot=\"heading\">\n",
       "                        \n",
       "                        Quantum</caem-card-heading>\n",
       "                    <svg class=\"bx--card__pictogram\" data-autoid=\"caem--card__pictogram\" focusable=\"false\" height=\"48\" role=\"img\" slot=\"pictogram\" width=\"48\">\n",
       "                        <use href=\"#quantum--safe\"></use>\n",
       "                    </svg>\n",
       "                    <p>Execute código em sistemas quânticos reais usando um SDK full-stack</p>\n",
       "                    <caem-card-cta-footer color-scheme=\"\" cta-type=\"local\" data-autoid=\"caem--card-cta-footer\" href=\"https://www.ibm.com/quantum?lnk=ProdC\" icon-placement=\"right\" parent-href=\"https://www.ibm.com/quantum?lnk=ProdC\" slot=\"footer\">\n",
       "                        \n",
       "                    </caem-card-cta-footer>\n",
       "                    <div class=\"caem-card-svg-source\">\n",
       "                        <svg id=\"quantum--safe\" viewBox=\"0 0 32 32\" xmlns=\"http://www.w3.org/2000/svg\"><path d=\"M16,31.36C9.736,31.36,4.64,26.264,4.64,20V7 c0-0.132,0.072-0.253,0.188-0.316l11-6c0.107-0.059,0.237-0.059,0.345,0l11,6C27.288,6.747,27.36,6.868,27.36,7v13 C27.36,26.264,22.264,31.36,16,31.36z M5.36,7.214V20c0,5.867,4.773,10.64,10.64,10.64S26.64,25.868,26.64,20V7.214L16,1.41 L5.36,7.214z M16,23.36c-1.089,0-1.841-0.229-2.703-0.599l0.284-0.662c0.797,0.343,1.449,0.54,2.419,0.54 c3.421,0,6.16-2.355,6.583-5.502C21.287,17.971,18.572,18.36,16,18.36c-3.558,0-7.36-0.62-7.36-2.36c0-0.903,0.218-1.93,0.598-2.817 c0.752-1.794,2.166-3.197,3.978-3.947c1.815-0.751,3.803-0.751,5.598,0L18.535,9.9c-1.613-0.677-3.405-0.678-5.044,0.001 c-1.635,0.677-2.91,1.942-3.59,3.562c-0.173,0.403-0.308,0.835-0.4,1.269c1.301-0.894,3.878-1.467,6.317-1.541l0.021,0.72 C12.081,14.026,9.36,15.238,9.36,16c0,0.806,2.484,1.64,6.64,1.64c4.114,0,6.64-0.955,6.64-1.64c0-0.39-1.028-1.311-2.71-1.647 l0.141-0.706c1.814,0.363,3.29,1.418,3.29,2.353v0.285C23.36,20.252,20.127,23.36,16,23.36z M11,22.612 c-0.889,0-1.612-0.724-1.612-1.612s0.723-1.612,1.612-1.612s1.612,0.724,1.612,1.612S11.889,22.612,11,22.612z M11,20.108 c-0.492,0-0.892,0.399-0.892,0.892s0.4,0.892,0.892,0.892s0.892-0.399,0.892-0.892S11.492,20.108,11,20.108z M16.254,16.254 l-0.509-0.509l3.888-3.889c-0.39-0.623-0.314-1.456,0.226-1.997c0.629-0.629,1.652-0.628,2.281,0c0.628,0.629,0.628,1.651,0,2.28 l0,0c-0.541,0.541-1.375,0.616-1.997,0.226L16.254,16.254z M21,10.108c-0.229,0-0.457,0.087-0.631,0.261 c-0.348,0.348-0.348,0.914,0,1.262s0.914,0.348,1.262,0s0.348-0.914,0-1.262C21.457,10.195,21.229,10.108,21,10.108z\"></path></svg>\n",
       "                    </div>\n",
       "                </caem-card>\n",
       "            \n",
       "        \n",
       "    \n",
       "    \n",
       "    \n",
       "\n",
       "\n",
       "\n",
       "    \n",
       "        \n",
       "            \n",
       "            \n",
       "                \n",
       "                <caem-card color-scheme=\"\" cta-type=\"local\" data-autoid=\"caem--card\" href=\"https://www.ibm.com/br-pt/security?lnk=prodC\" pictogram-placement=\"top\" size=\"\" target=\"_self\">\n",
       "                    <caem-card-heading aria-level=\"3\" data-autoid=\"caem--card-heading\" role=\"heading\" slot=\"heading\">\n",
       "                        \n",
       "                        Segurança e identidade</caem-card-heading>\n",
       "                    <svg class=\"bx--card__pictogram\" data-autoid=\"caem--card__pictogram\" focusable=\"false\" height=\"48\" role=\"img\" slot=\"pictogram\" width=\"48\">\n",
       "                        <use href=\"#secure--profile\"></use>\n",
       "                    </svg>\n",
       "                    <p>Software nativo da nuvem para proteger recursos e simplificar a conformidade</p>\n",
       "                    <caem-card-cta-footer color-scheme=\"\" cta-type=\"local\" data-autoid=\"caem--card-cta-footer\" href=\"https://www.ibm.com/br-pt/security?lnk=prodC\" icon-placement=\"right\" parent-href=\"https://www.ibm.com/br-pt/security?lnk=prodC\" slot=\"footer\">\n",
       "                        \n",
       "                    </caem-card-cta-footer>\n",
       "                    <div class=\"caem-card-svg-source\">\n",
       "                        <svg id=\"secure--profile\" viewBox=\"0 0 32 32\" xmlns=\"http://www.w3.org/2000/svg\"><path d=\"M23.14,25.415v-1.988c-0.373-0.145-0.64-0.503-0.64-0.927c0-0.552,0.448-1,1-1s1,0.448,1,1 c0,0.424-0.266,0.782-0.64,0.927v1.988c0,0.199-0.161,0.36-0.36,0.36S23.14,25.614,23.14,25.415z M31.36,16v15 c0,0.199-0.161,0.36-0.36,0.36H16c-0.199,0-0.36-0.161-0.36-0.36V19h0.72v11.64h14.28V16.36H1c-0.199,0-0.36-0.161-0.36-0.36V1 c0-0.199,0.161-0.36,0.36-0.36h15c0.199,0,0.36,0.161,0.36,0.36v12h-0.72V1.36H1.36v14.28h2.28v-2.639 c0-1.926,1.166-3.659,2.908-4.427C5.978,8.04,5.643,7.293,5.643,6.5c0-1.577,1.283-2.86,2.86-2.86s2.86,1.283,2.86,2.86 c0,0.794-0.335,1.542-0.907,2.075c1.74,0.77,2.904,2.502,2.904,4.426v2.639h6.28V11.5c0-2.128,1.731-3.86,3.859-3.86 c2.129,0,3.861,1.731,3.861,3.86l-0.001,4.14H31C31.199,15.64,31.36,15.801,31.36,16z M12.64,13.001c0-1.837-1.25-3.47-3.041-3.97 c-0.141-0.04-0.244-0.16-0.261-0.306C9.321,8.58,9.395,8.439,9.523,8.369c0.69-0.379,1.12-1.095,1.12-1.869 c0-1.18-0.96-2.14-2.14-2.14s-2.14,0.96-2.14,2.14c0,0.773,0.429,1.489,1.119,1.868c0.128,0.07,0.201,0.211,0.184,0.357 C7.648,8.87,7.545,8.991,7.404,9.03C5.612,9.529,4.36,11.162,4.36,13.001v2.639h8.28C12.64,15.64,12.64,13.001,12.64,13.001z M26.64,11.5c0-1.731-1.408-3.14-3.14-3.14s-3.14,1.409-3.14,3.14v4.14h6.278L26.64,11.5z\"></path></svg>\n",
       "                    </div>\n",
       "                </caem-card>\n",
       "            \n",
       "        \n",
       "    \n",
       "    \n",
       "    \n",
       "\n",
       "\n",
       "\n",
       "    \n",
       "\n",
       "\n",
       "                        </caem-card-group>\n",
       "                    \n",
       "                \n",
       "            \n",
       "        \n",
       "\n",
       "        \n",
       "    </div>\n",
       "\n",
       "    \n",
       "\n",
       "    <script src=\"https://1.www.s81c.com/common/carbon/carbon-for-aem/version/v0.5.1/card.min.js\" type=\"module\"></script>\n",
       "    <script src=\"https://1.www.s81c.com/common/carbon/carbon-for-aem/version/v0.5.1/card-group.min.js\" type=\"module\"></script>\n",
       "\n",
       "</div>\n",
       "<div class=\"feature-card-section\">\n",
       "    \n",
       "            \n",
       "                <div class=\"feature-card-section__container theme-white\">\n",
       "                    <dds-feature-section media-alignment=\"right\">\n",
       "\n",
       "                        \n",
       "    \n",
       "    \n",
       "        \n",
       "        \n",
       "        \n",
       "        \n",
       "        <dds-image alt=\"Ondas abstratas e uma fina linha azul\" default-src=\"/content/dam/connectedassets-adobe-cms/worldwide-content/homepage/ul/g/29/fa/sosf-ibm-homepage-feature-image.component.xl.ts=1695059657973.jpg/content/adobe-cms/br/pt/homepage/jcr:content/root/container/content_section_styl/content-section-body/feature_card_section\" id=\"image--143553297\" slot=\"image\">\n",
       "            \n",
       "            \n",
       "                \n",
       "                    \n",
       "    <dds-image-item media=\"(min-width: 1312px) and (min-resolution: 192dpi)\" srcset=\"/content/dam/connectedassets-adobe-cms/worldwide-content/homepage/ul/g/29/fa/sosf-ibm-homepage-feature-image.component.xl-retina.ts=1695059657973.jpg/content/adobe-cms/br/pt/homepage/jcr:content/root/container/content_section_styl/content-section-body/feature_card_section\"></dds-image-item>\n",
       "    <dds-image-item media=\"(min-width: 1312px)\" srcset=\"/content/dam/connectedassets-adobe-cms/worldwide-content/homepage/ul/g/29/fa/sosf-ibm-homepage-feature-image.component.xl.ts=1695059657973.jpg/content/adobe-cms/br/pt/homepage/jcr:content/root/container/content_section_styl/content-section-body/feature_card_section\"></dds-image-item>\n",
       "    <dds-image-item media=\"(min-width: 1056px) and (min-resolution: 192dpi)\" srcset=\"/content/dam/connectedassets-adobe-cms/worldwide-content/homepage/ul/g/29/fa/sosf-ibm-homepage-feature-image.component.l-retina.ts=1695059657973.jpg/content/adobe-cms/br/pt/homepage/jcr:content/root/container/content_section_styl/content-section-body/feature_card_section\"></dds-image-item>\n",
       "    <dds-image-item media=\"(min-width: 1056px)\" srcset=\"/content/dam/connectedassets-adobe-cms/worldwide-content/homepage/ul/g/29/fa/sosf-ibm-homepage-feature-image.component.l.ts=1695059657973.jpg/content/adobe-cms/br/pt/homepage/jcr:content/root/container/content_section_styl/content-section-body/feature_card_section\"></dds-image-item>\n",
       "    <dds-image-item media=\"(min-width: 672px) and (min-resolution: 192dpi)\" srcset=\"/content/dam/connectedassets-adobe-cms/worldwide-content/homepage/ul/g/29/fa/sosf-ibm-homepage-feature-image.component.m-retina.ts=1695059657973.jpg/content/adobe-cms/br/pt/homepage/jcr:content/root/container/content_section_styl/content-section-body/feature_card_section\"></dds-image-item>\n",
       "    <dds-image-item media=\"(min-width: 672px)\" srcset=\"/content/dam/connectedassets-adobe-cms/worldwide-content/homepage/ul/g/29/fa/sosf-ibm-homepage-feature-image.component.m.ts=1695059657973.jpg/content/adobe-cms/br/pt/homepage/jcr:content/root/container/content_section_styl/content-section-body/feature_card_section\"></dds-image-item>\n",
       "    <dds-image-item media=\"(min-width: 481px) and (min-resolution: 192dpi)\" srcset=\"/content/dam/connectedassets-adobe-cms/worldwide-content/homepage/ul/g/29/fa/sosf-ibm-homepage-feature-image.component.s-retina.ts=1695059657973.jpg/content/adobe-cms/br/pt/homepage/jcr:content/root/container/content_section_styl/content-section-body/feature_card_section\"></dds-image-item>\n",
       "    <dds-image-item media=\"(min-width: 481px)\" srcset=\"/content/dam/connectedassets-adobe-cms/worldwide-content/homepage/ul/g/29/fa/sosf-ibm-homepage-feature-image.component.s.ts=1695059657973.jpg/content/adobe-cms/br/pt/homepage/jcr:content/root/container/content_section_styl/content-section-body/feature_card_section\"></dds-image-item>\n",
       "    <dds-image-item media=\"(max-width: 480px) and (min-resolution: 192dpi)\" srcset=\"/content/dam/connectedassets-adobe-cms/worldwide-content/homepage/ul/g/29/fa/sosf-ibm-homepage-feature-image.component.xs-retina.ts=1695059657973.jpg/content/adobe-cms/br/pt/homepage/jcr:content/root/container/content_section_styl/content-section-body/feature_card_section\"></dds-image-item>\n",
       "    <dds-image-item media=\"(max-width: 480px)\" srcset=\"/content/dam/connectedassets-adobe-cms/worldwide-content/homepage/ul/g/29/fa/sosf-ibm-homepage-feature-image.component.xs.ts=1695059657973.jpg/content/adobe-cms/br/pt/homepage/jcr:content/root/container/content_section_styl/content-section-body/feature_card_section\"></dds-image-item>\n",
       "\n",
       "                    \n",
       "                \n",
       "            \n",
       "        </dds-image>\n",
       "    \n",
       "\n",
       "    \n",
       "\n",
       "\n",
       "\n",
       "                        <dds-card-eyebrow slot=\"eyebrow\">\n",
       "                            O que há de novo\n",
       "                        </dds-card-eyebrow>\n",
       "                        <dds-content-block-heading slot=\"heading\">\n",
       "                            Relatório: The State of Salesforce 2023–24\n",
       "                        </dds-content-block-heading>\n",
       "                        <dds-content-item-paragraph slot=\"copy\">\n",
       "                            Durante o último ano, o Institute for Business Value da IBM fez uma pesquisa com 3.459 usuários do Salesforce para entender como as companhias podem obter o melhor valor dessa plataforma.\n",
       "                        </dds-content-item-paragraph>\n",
       "\n",
       "                        <dds-feature-section-card-link color-scheme=\"inverse\" cta-type=\"local\" href=\"https://www.ibm.com/thought-leadership/institute-business-value/en-us/report/state-of-salesforce-2023\" slot=\"footer\" target=\"_self\">\n",
       "                            <dds-card-link-heading>Leia os resultados</dds-card-link-heading>\n",
       "                            <dds-card-cta-footer color-scheme=\"inverse\" cta-type=\"local\" href=\"https://www.ibm.com/thought-leadership/institute-business-value/en-us/report/state-of-salesforce-2023\" target=\"_self\"></dds-card-cta-footer>\n",
       "                        </dds-feature-section-card-link>\n",
       "                    </dds-feature-section>\n",
       "                </div>\n",
       "            \n",
       "            \n",
       "    \n",
       "\n",
       "    \n",
       "</div>\n",
       "<div class=\"intro-section\"><div class=\"bx--col\">\n",
       "    <caem-intro-section>\n",
       "\n",
       "        <caem-heading data-autoid=\"caem-heading\" slot=\"heading\" type=\"h2\" type-style=\"expressive-heading-05\">\n",
       "                \n",
       "\n",
       "\n",
       "\n",
       "  \n",
       "    Conheça nossos consultores globais\n",
       "\n",
       "\n",
       "\n",
       "\n",
       "\n",
       "\n",
       "    \n",
       "\n",
       "\n",
       "            </caem-heading>\n",
       "\n",
       "        <caem-paragraph data-autoid=\"caem--paragraph\" size=\"lead-in\">\n",
       "            <div class=\"cms-richtext\" data-dynamic-inner-content=\"description\" id=\"rich-text-54d165d61c\">\n",
       "    <p>Reunindo um conjunto diversificado de vozes com novas tecnologias, colaboramos estreitamente, idealizamos livremente e aplicamos rapidamente inovações revolucionárias que promovem um grande impacto.</p>\n",
       " \n",
       "    \n",
       "    \n",
       "    \n",
       "    \n",
       "\n",
       "</div>\n",
       "        </caem-paragraph>\n",
       "\n",
       "        \n",
       "            <dds-link-list type=\"vertical\">\n",
       "                \n",
       "                    \n",
       "    \n",
       "    \n",
       "        \n",
       "        <dds-video-cta-container>\n",
       "            <dds-link-list-item-cta cta-type=\"local\" href=\"https://www.ibm.com/br-pt/consulting?lnk=intro\" icon-placement=\"right\" role=\"listitem\" target=\"_self\">\n",
       "                Ver a IBM Consulting\n",
       "                \n",
       "            </dds-link-list-item-cta>\n",
       "        </dds-video-cta-container>\n",
       "    \n",
       "    \n",
       "    \n",
       "\n",
       "\n",
       "\n",
       "                \n",
       "                \n",
       "                    \n",
       "    \n",
       "    \n",
       "    \n",
       "    \n",
       "\n",
       "\n",
       "\n",
       "                \n",
       "            </dds-link-list>\n",
       "        \n",
       "\n",
       "        \n",
       "\n",
       "    </caem-intro-section>\n",
       "</div>\n",
       "<script src=\"https://1.www.s81c.com/common/carbon/carbon-for-aem/version/v0.7.2/paragraph.min.js\" type=\"module\"></script>\n",
       "<script src=\"https://1.www.s81c.com/common/carbon/carbon-for-aem/version/v0.7.2/heading.min.js\" type=\"module\"></script>\n",
       "<script src=\"https://1.www.s81c.com/common/carbon/carbon-for-aem/version/v0.7.2/intro-section.min.js\" type=\"module\"></script>\n",
       "<script src=\"https://1.www.s81c.com/common/carbon/carbon-for-aem/version/v0.7.2/brand-cta-section.min.js\" type=\"module\"></script>\n",
       "</div>\n",
       "<div class=\"simple-image\">\n",
       "    \n",
       "    \n",
       "    \n",
       "    <div class=\"bx--image\">\n",
       "        <picture>\n",
       "            \n",
       "            \n",
       "            \n",
       "                \n",
       "                    \n",
       "    <source media=\"(min-width: 1312px) and (min-resolution: 192dpi)\" srcset=\"/content/dam/adobe-cms/default-images/home-consultants.component.crop-16by9-xl-retina.ts=1695226557679.jpg/content/adobe-cms/br/pt/homepage/jcr:content/root/container/content_section_styl/content-section-body/simple_image\"/>\n",
       "    <source media=\"(min-width: 1312px)\" srcset=\"/content/dam/adobe-cms/default-images/home-consultants.component.crop-16by9-xl.ts=1695226557679.jpg/content/adobe-cms/br/pt/homepage/jcr:content/root/container/content_section_styl/content-section-body/simple_image\"/>\n",
       "    <source media=\"(min-width: 1056px) and (min-resolution: 192dpi)\" srcset=\"/content/dam/adobe-cms/default-images/home-consultants.component.crop-16by9-l-retina.ts=1695226557679.jpg/content/adobe-cms/br/pt/homepage/jcr:content/root/container/content_section_styl/content-section-body/simple_image\"/>\n",
       "    <source media=\"(min-width: 1056px)\" srcset=\"/content/dam/adobe-cms/default-images/home-consultants.component.crop-16by9-l.ts=1695226557679.jpg/content/adobe-cms/br/pt/homepage/jcr:content/root/container/content_section_styl/content-section-body/simple_image\"/>\n",
       "    <source media=\"(min-width: 672px) and (min-resolution: 192dpi)\" srcset=\"/content/dam/adobe-cms/default-images/home-consultants.component.crop-16by9-m-retina.ts=1695226557679.jpg/content/adobe-cms/br/pt/homepage/jcr:content/root/container/content_section_styl/content-section-body/simple_image\"/>\n",
       "    <source media=\"(min-width: 672px)\" srcset=\"/content/dam/adobe-cms/default-images/home-consultants.component.crop-16by9-m.ts=1695226557679.jpg/content/adobe-cms/br/pt/homepage/jcr:content/root/container/content_section_styl/content-section-body/simple_image\"/>\n",
       "    <source media=\"(min-width: 481px) and (min-resolution: 192dpi)\" srcset=\"/content/dam/adobe-cms/default-images/home-consultants.component.crop-16by9-s-retina.ts=1695226557679.jpg/content/adobe-cms/br/pt/homepage/jcr:content/root/container/content_section_styl/content-section-body/simple_image\"/>\n",
       "    <source media=\"(min-width: 481px)\" srcset=\"/content/dam/adobe-cms/default-images/home-consultants.component.crop-16by9-s.ts=1695226557679.jpg/content/adobe-cms/br/pt/homepage/jcr:content/root/container/content_section_styl/content-section-body/simple_image\"/>\n",
       "    <source media=\"(max-width: 480px) and (min-resolution: 192dpi)\" srcset=\"/content/dam/adobe-cms/default-images/home-consultants.component.crop-16by9-xs-retina.ts=1695226557679.jpg/content/adobe-cms/br/pt/homepage/jcr:content/root/container/content_section_styl/content-section-body/simple_image\"/>\n",
       "    <source media=\"(max-width: 480px)\" srcset=\"/content/dam/adobe-cms/default-images/home-consultants.component.crop-16by9-xs.ts=1695226557679.jpg/content/adobe-cms/br/pt/homepage/jcr:content/root/container/content_section_styl/content-section-body/simple_image\"/>\n",
       "\n",
       "                    \n",
       "                \n",
       "            \n",
       "            \n",
       "            <img alt=\"Fotos de consultores da IBM\" class=\"bx--image__img\" id=\"image-1650413086\" loading=\"lazy\" src=\"/content/dam/adobe-cms/default-images/home-consultants.component.crop-16by9-xl.ts=1695226557679.jpg/content/adobe-cms/br/pt/homepage/_jcr_content/root/container/content_section_styl/content-section-body/simple_image\"/>\n",
       "        </picture>\n",
       "        \n",
       "    </div>\n",
       "\n",
       "\n",
       "</div>\n",
       "<div class=\"intro-section\"><div class=\"bx--col\">\n",
       "    <caem-intro-section>\n",
       "\n",
       "        <caem-heading data-autoid=\"caem-heading\" slot=\"heading\" type=\"h2\" type-style=\"expressive-heading-05\">\n",
       "                \n",
       "\n",
       "\n",
       "\n",
       "  \n",
       "    Por dentro da IBM\n",
       "\n",
       "\n",
       "\n",
       "\n",
       "\n",
       "\n",
       "    \n",
       "\n",
       "\n",
       "            </caem-heading>\n",
       "\n",
       "        <caem-paragraph data-autoid=\"caem--paragraph\" size=\"lead-in\">\n",
       "            <div class=\"cms-richtext\" data-dynamic-inner-content=\"description\" id=\"rich-text-c7919f6b05\">\n",
       "    <p>Resolver os problemas do planeta, por meio da tecnologia, não seria possível sem os nossos IBMistas. Confira as nossas equipes talentosas.</p>\n",
       " \n",
       "    \n",
       "    \n",
       "    \n",
       "    \n",
       "\n",
       "</div>\n",
       "        </caem-paragraph>\n",
       "\n",
       "        \n",
       "            <dds-link-list type=\"vertical\">\n",
       "                \n",
       "                    \n",
       "    \n",
       "    \n",
       "        \n",
       "        <dds-video-cta-container>\n",
       "            <dds-link-list-item-cta cta-type=\"local\" href=\"https://www.ibm.com/br-pt/about?lnk=intro\" icon-placement=\"right\" role=\"listitem\" target=\"_self\">\n",
       "                Sobre a IBM\n",
       "                \n",
       "            </dds-link-list-item-cta>\n",
       "        </dds-video-cta-container>\n",
       "    \n",
       "    \n",
       "    \n",
       "\n",
       "\n",
       "\n",
       "                \n",
       "                \n",
       "                    \n",
       "    \n",
       "    \n",
       "    \n",
       "    \n",
       "\n",
       "\n",
       "\n",
       "                \n",
       "            </dds-link-list>\n",
       "        \n",
       "\n",
       "        \n",
       "\n",
       "    </caem-intro-section>\n",
       "</div>\n",
       "<script src=\"https://1.www.s81c.com/common/carbon/carbon-for-aem/version/v0.7.2/paragraph.min.js\" type=\"module\"></script>\n",
       "<script src=\"https://1.www.s81c.com/common/carbon/carbon-for-aem/version/v0.7.2/heading.min.js\" type=\"module\"></script>\n",
       "<script src=\"https://1.www.s81c.com/common/carbon/carbon-for-aem/version/v0.7.2/intro-section.min.js\" type=\"module\"></script>\n",
       "<script src=\"https://1.www.s81c.com/common/carbon/carbon-for-aem/version/v0.7.2/brand-cta-section.min.js\" type=\"module\"></script>\n",
       "</div>\n",
       "<div class=\"block-card-container container responsivegrid\">\n",
       "\n",
       "    <dds-content-block-cards content-section-body=\"\" data-autoid=\"dds--content-block-cards\">\n",
       "            \n",
       "                \n",
       "  \n",
       "\n",
       "                \n",
       "            \n",
       "\n",
       "                        \n",
       "\n",
       "            <dds-card-group cards-per-row=\"4\">\n",
       "                \n",
       "\n",
       "    \n",
       "    \n",
       "    \n",
       "    \n",
       "        \n",
       "        \n",
       "            <dds-card-group-item cta-type=\"local\" href=\"https://www.ibm.com/careers/br-pt/\" pictogram-placement=\"top\" target=\"_self\">\n",
       "\n",
       "                \n",
       "                    \n",
       "                            \n",
       "\n",
       "\n",
       "\n",
       "\n",
       "    \n",
       "    \n",
       "        \n",
       "        \n",
       "        \n",
       "        \n",
       "        <dds-image alt=\"Engenheiro trabalha com dispositivo elétrico\" default-src=\"/content/dam/connectedassets-adobe-cms/worldwide-content/creative-assets/ibs/ul/g/00/00/0100129_Oppermann_PE.component.card-xl.ts=1694804566329.jpg/content/adobe-cms/br/pt/homepage/jcr:content/root/container/content_section_styl/content-section-body/block_card_container/container/card_1430209788/image\" id=\"image-1388688622\" slot=\"image\">\n",
       "            \n",
       "            \n",
       "                \n",
       "                    \n",
       "    <dds-image-item media=\"(min-width: 1312px) and (min-resolution: 192dpi)\" srcset=\"/content/dam/connectedassets-adobe-cms/worldwide-content/creative-assets/ibs/ul/g/00/00/0100129_Oppermann_PE.component.card-xl-retina.ts=1694804566329.jpg/content/adobe-cms/br/pt/homepage/jcr:content/root/container/content_section_styl/content-section-body/block_card_container/container/card_1430209788/image\"></dds-image-item>\n",
       "    <dds-image-item media=\"(min-width: 1312px)\" srcset=\"/content/dam/connectedassets-adobe-cms/worldwide-content/creative-assets/ibs/ul/g/00/00/0100129_Oppermann_PE.component.card-xl.ts=1694804566329.jpg/content/adobe-cms/br/pt/homepage/jcr:content/root/container/content_section_styl/content-section-body/block_card_container/container/card_1430209788/image\"></dds-image-item>\n",
       "    <dds-image-item media=\"(min-width: 1056px) and (min-resolution: 192dpi)\" srcset=\"/content/dam/connectedassets-adobe-cms/worldwide-content/creative-assets/ibs/ul/g/00/00/0100129_Oppermann_PE.component.card-l-retina.ts=1694804566329.jpg/content/adobe-cms/br/pt/homepage/jcr:content/root/container/content_section_styl/content-section-body/block_card_container/container/card_1430209788/image\"></dds-image-item>\n",
       "    <dds-image-item media=\"(min-width: 1056px)\" srcset=\"/content/dam/connectedassets-adobe-cms/worldwide-content/creative-assets/ibs/ul/g/00/00/0100129_Oppermann_PE.component.card-l.ts=1694804566329.jpg/content/adobe-cms/br/pt/homepage/jcr:content/root/container/content_section_styl/content-section-body/block_card_container/container/card_1430209788/image\"></dds-image-item>\n",
       "    <dds-image-item media=\"(min-width: 672px) and (min-resolution: 192dpi)\" srcset=\"/content/dam/connectedassets-adobe-cms/worldwide-content/creative-assets/ibs/ul/g/00/00/0100129_Oppermann_PE.component.card-m-retina.ts=1694804566329.jpg/content/adobe-cms/br/pt/homepage/jcr:content/root/container/content_section_styl/content-section-body/block_card_container/container/card_1430209788/image\"></dds-image-item>\n",
       "    <dds-image-item media=\"(min-width: 672px)\" srcset=\"/content/dam/connectedassets-adobe-cms/worldwide-content/creative-assets/ibs/ul/g/00/00/0100129_Oppermann_PE.component.card-m.ts=1694804566329.jpg/content/adobe-cms/br/pt/homepage/jcr:content/root/container/content_section_styl/content-section-body/block_card_container/container/card_1430209788/image\"></dds-image-item>\n",
       "    <dds-image-item media=\"(min-width: 481px) and (min-resolution: 192dpi)\" srcset=\"/content/dam/connectedassets-adobe-cms/worldwide-content/creative-assets/ibs/ul/g/00/00/0100129_Oppermann_PE.component.card-s-retina.ts=1694804566329.jpg/content/adobe-cms/br/pt/homepage/jcr:content/root/container/content_section_styl/content-section-body/block_card_container/container/card_1430209788/image\"></dds-image-item>\n",
       "    <dds-image-item media=\"(min-width: 481px)\" srcset=\"/content/dam/connectedassets-adobe-cms/worldwide-content/creative-assets/ibs/ul/g/00/00/0100129_Oppermann_PE.component.card-s.ts=1694804566329.jpg/content/adobe-cms/br/pt/homepage/jcr:content/root/container/content_section_styl/content-section-body/block_card_container/container/card_1430209788/image\"></dds-image-item>\n",
       "    <dds-image-item media=\"(max-width: 480px) and (min-resolution: 192dpi)\" srcset=\"/content/dam/connectedassets-adobe-cms/worldwide-content/creative-assets/ibs/ul/g/00/00/0100129_Oppermann_PE.component.card-xs-retina.ts=1694804566329.jpg/content/adobe-cms/br/pt/homepage/jcr:content/root/container/content_section_styl/content-section-body/block_card_container/container/card_1430209788/image\"></dds-image-item>\n",
       "    <dds-image-item media=\"(max-width: 480px)\" srcset=\"/content/dam/connectedassets-adobe-cms/worldwide-content/creative-assets/ibs/ul/g/00/00/0100129_Oppermann_PE.component.card-xs.ts=1694804566329.jpg/content/adobe-cms/br/pt/homepage/jcr:content/root/container/content_section_styl/content-section-body/block_card_container/container/card_1430209788/image\"></dds-image-item>\n",
       "\n",
       "                    \n",
       "                \n",
       "            \n",
       "        </dds-image>\n",
       "    \n",
       "\n",
       "    \n",
       "\n",
       "\n",
       "\n",
       "                    \n",
       "                \n",
       "                <dds-card-eyebrow aria-hidden=\"true\" class=\"bx--card__eyebrow\" slot=\"eyebrow\">\n",
       "                    Carreiras na IBM\n",
       "                </dds-card-eyebrow>\n",
       "                <dds-card-heading aria-level=\"3\" class=\"bx--card__heading\" role=\"heading\" slot=\"heading\">\n",
       "                    Do fornecimento de alimentos mais seguros até uma IA ética, enfrente os problemas mais difíceis do mundo\n",
       "                </dds-card-heading>\n",
       "                \n",
       "                <dds-card-cta-footer aria-hidden=\"true\" class=\"bx--card__footer-icon-size\" cta-type=\"local\" href=\"https://www.ibm.com/careers/br-pt/\" icon-placement=\"right\" slot=\"footer\" target=\"_self\">\n",
       "                    \n",
       "                    \n",
       "                </dds-card-cta-footer>\n",
       "            </dds-card-group-item>\n",
       "        \n",
       "    \n",
       "    \n",
       "\n",
       "\n",
       "\n",
       "\n",
       "    \n",
       "    \n",
       "    \n",
       "    \n",
       "        \n",
       "        \n",
       "            <dds-card-group-item cta-type=\"local\" href=\"https://research.ibm.com/\" pictogram-placement=\"top\" target=\"_self\">\n",
       "\n",
       "                \n",
       "                    \n",
       "                            \n",
       "\n",
       "\n",
       "\n",
       "\n",
       "    \n",
       "    \n",
       "        \n",
       "        \n",
       "        \n",
       "        \n",
       "        <dds-image alt=\"Retrato de profissional da tecnologia na frente de servidor gigante\" default-src=\"/content/dam/connectedassets-adobe-cms/worldwide-content/other/ul/cms/0c/98/ibm-quantum-system-one.component.card-xl.ts=1694804566352.png/content/adobe-cms/br/pt/homepage/jcr:content/root/container/content_section_styl/content-section-body/block_card_container/container/card/image\" id=\"image--807357051\" slot=\"image\">\n",
       "            \n",
       "            \n",
       "                \n",
       "                    \n",
       "    <dds-image-item media=\"(min-width: 1312px) and (min-resolution: 192dpi)\" srcset=\"/content/dam/connectedassets-adobe-cms/worldwide-content/other/ul/cms/0c/98/ibm-quantum-system-one.component.card-xl-retina.ts=1694804566352.png/content/adobe-cms/br/pt/homepage/jcr:content/root/container/content_section_styl/content-section-body/block_card_container/container/card/image\"></dds-image-item>\n",
       "    <dds-image-item media=\"(min-width: 1312px)\" srcset=\"/content/dam/connectedassets-adobe-cms/worldwide-content/other/ul/cms/0c/98/ibm-quantum-system-one.component.card-xl.ts=1694804566352.png/content/adobe-cms/br/pt/homepage/jcr:content/root/container/content_section_styl/content-section-body/block_card_container/container/card/image\"></dds-image-item>\n",
       "    <dds-image-item media=\"(min-width: 1056px) and (min-resolution: 192dpi)\" srcset=\"/content/dam/connectedassets-adobe-cms/worldwide-content/other/ul/cms/0c/98/ibm-quantum-system-one.component.card-l-retina.ts=1694804566352.png/content/adobe-cms/br/pt/homepage/jcr:content/root/container/content_section_styl/content-section-body/block_card_container/container/card/image\"></dds-image-item>\n",
       "    <dds-image-item media=\"(min-width: 1056px)\" srcset=\"/content/dam/connectedassets-adobe-cms/worldwide-content/other/ul/cms/0c/98/ibm-quantum-system-one.component.card-l.ts=1694804566352.png/content/adobe-cms/br/pt/homepage/jcr:content/root/container/content_section_styl/content-section-body/block_card_container/container/card/image\"></dds-image-item>\n",
       "    <dds-image-item media=\"(min-width: 672px) and (min-resolution: 192dpi)\" srcset=\"/content/dam/connectedassets-adobe-cms/worldwide-content/other/ul/cms/0c/98/ibm-quantum-system-one.component.card-m-retina.ts=1694804566352.png/content/adobe-cms/br/pt/homepage/jcr:content/root/container/content_section_styl/content-section-body/block_card_container/container/card/image\"></dds-image-item>\n",
       "    <dds-image-item media=\"(min-width: 672px)\" srcset=\"/content/dam/connectedassets-adobe-cms/worldwide-content/other/ul/cms/0c/98/ibm-quantum-system-one.component.card-m.ts=1694804566352.png/content/adobe-cms/br/pt/homepage/jcr:content/root/container/content_section_styl/content-section-body/block_card_container/container/card/image\"></dds-image-item>\n",
       "    <dds-image-item media=\"(min-width: 481px) and (min-resolution: 192dpi)\" srcset=\"/content/dam/connectedassets-adobe-cms/worldwide-content/other/ul/cms/0c/98/ibm-quantum-system-one.component.card-s-retina.ts=1694804566352.png/content/adobe-cms/br/pt/homepage/jcr:content/root/container/content_section_styl/content-section-body/block_card_container/container/card/image\"></dds-image-item>\n",
       "    <dds-image-item media=\"(min-width: 481px)\" srcset=\"/content/dam/connectedassets-adobe-cms/worldwide-content/other/ul/cms/0c/98/ibm-quantum-system-one.component.card-s.ts=1694804566352.png/content/adobe-cms/br/pt/homepage/jcr:content/root/container/content_section_styl/content-section-body/block_card_container/container/card/image\"></dds-image-item>\n",
       "    <dds-image-item media=\"(max-width: 480px) and (min-resolution: 192dpi)\" srcset=\"/content/dam/connectedassets-adobe-cms/worldwide-content/other/ul/cms/0c/98/ibm-quantum-system-one.component.card-xs-retina.ts=1694804566352.png/content/adobe-cms/br/pt/homepage/jcr:content/root/container/content_section_styl/content-section-body/block_card_container/container/card/image\"></dds-image-item>\n",
       "    <dds-image-item media=\"(max-width: 480px)\" srcset=\"/content/dam/connectedassets-adobe-cms/worldwide-content/other/ul/cms/0c/98/ibm-quantum-system-one.component.card-xs.ts=1694804566352.png/content/adobe-cms/br/pt/homepage/jcr:content/root/container/content_section_styl/content-section-body/block_card_container/container/card/image\"></dds-image-item>\n",
       "\n",
       "                    \n",
       "                \n",
       "            \n",
       "        </dds-image>\n",
       "    \n",
       "\n",
       "    \n",
       "\n",
       "\n",
       "\n",
       "                    \n",
       "                \n",
       "                <dds-card-eyebrow aria-hidden=\"true\" class=\"bx--card__eyebrow\" slot=\"eyebrow\">\n",
       "                    IBM Research\n",
       "                </dds-card-eyebrow>\n",
       "                <dds-card-heading aria-level=\"3\" class=\"bx--card__heading\" role=\"heading\" slot=\"heading\">\n",
       "                    Veja as tecnologias mais recentes desenvolvidas por cientistas e pensadores de design da IBM\n",
       "                </dds-card-heading>\n",
       "                \n",
       "                <dds-card-cta-footer aria-hidden=\"true\" class=\"bx--card__footer-icon-size\" cta-type=\"local\" href=\"https://research.ibm.com/\" icon-placement=\"right\" slot=\"footer\" target=\"_self\">\n",
       "                    \n",
       "                    \n",
       "                </dds-card-cta-footer>\n",
       "            </dds-card-group-item>\n",
       "        \n",
       "    \n",
       "    \n",
       "\n",
       "\n",
       "\n",
       "\n",
       "    \n",
       "    \n",
       "    \n",
       "    \n",
       "        \n",
       "        \n",
       "            <dds-card-group-item cta-type=\"external\" href=\"https://skillsbuild.org/pt-br\" pictogram-placement=\"top\" target=\"_blank\">\n",
       "\n",
       "                \n",
       "                    \n",
       "                            \n",
       "\n",
       "\n",
       "\n",
       "\n",
       "    \n",
       "    \n",
       "        \n",
       "        \n",
       "        \n",
       "        \n",
       "        <dds-image alt=\"Grande servidor quântico na IBM Research\" default-src=\"/content/dam/connectedassets-adobe-cms/worldwide-content/stock-assets/getty/image/photography/fe/64/universitychile0013846.component.card-xl.ts=1694804566402.jpg/content/adobe-cms/br/pt/homepage/jcr:content/root/container/content_section_styl/content-section-body/block_card_container/container/card_1937905391/image\" id=\"image--1562539797\" slot=\"image\">\n",
       "            \n",
       "            \n",
       "                \n",
       "                    \n",
       "    <dds-image-item media=\"(min-width: 1312px) and (min-resolution: 192dpi)\" srcset=\"/content/dam/connectedassets-adobe-cms/worldwide-content/stock-assets/getty/image/photography/fe/64/universitychile0013846.component.card-xl-retina.ts=1694804566402.jpg/content/adobe-cms/br/pt/homepage/jcr:content/root/container/content_section_styl/content-section-body/block_card_container/container/card_1937905391/image\"></dds-image-item>\n",
       "    <dds-image-item media=\"(min-width: 1312px)\" srcset=\"/content/dam/connectedassets-adobe-cms/worldwide-content/stock-assets/getty/image/photography/fe/64/universitychile0013846.component.card-xl.ts=1694804566402.jpg/content/adobe-cms/br/pt/homepage/jcr:content/root/container/content_section_styl/content-section-body/block_card_container/container/card_1937905391/image\"></dds-image-item>\n",
       "    <dds-image-item media=\"(min-width: 1056px) and (min-resolution: 192dpi)\" srcset=\"/content/dam/connectedassets-adobe-cms/worldwide-content/stock-assets/getty/image/photography/fe/64/universitychile0013846.component.card-l-retina.ts=1694804566402.jpg/content/adobe-cms/br/pt/homepage/jcr:content/root/container/content_section_styl/content-section-body/block_card_container/container/card_1937905391/image\"></dds-image-item>\n",
       "    <dds-image-item media=\"(min-width: 1056px)\" srcset=\"/content/dam/connectedassets-adobe-cms/worldwide-content/stock-assets/getty/image/photography/fe/64/universitychile0013846.component.card-l.ts=1694804566402.jpg/content/adobe-cms/br/pt/homepage/jcr:content/root/container/content_section_styl/content-section-body/block_card_container/container/card_1937905391/image\"></dds-image-item>\n",
       "    <dds-image-item media=\"(min-width: 672px) and (min-resolution: 192dpi)\" srcset=\"/content/dam/connectedassets-adobe-cms/worldwide-content/stock-assets/getty/image/photography/fe/64/universitychile0013846.component.card-m-retina.ts=1694804566402.jpg/content/adobe-cms/br/pt/homepage/jcr:content/root/container/content_section_styl/content-section-body/block_card_container/container/card_1937905391/image\"></dds-image-item>\n",
       "    <dds-image-item media=\"(min-width: 672px)\" srcset=\"/content/dam/connectedassets-adobe-cms/worldwide-content/stock-assets/getty/image/photography/fe/64/universitychile0013846.component.card-m.ts=1694804566402.jpg/content/adobe-cms/br/pt/homepage/jcr:content/root/container/content_section_styl/content-section-body/block_card_container/container/card_1937905391/image\"></dds-image-item>\n",
       "    <dds-image-item media=\"(min-width: 481px) and (min-resolution: 192dpi)\" srcset=\"/content/dam/connectedassets-adobe-cms/worldwide-content/stock-assets/getty/image/photography/fe/64/universitychile0013846.component.card-s-retina.ts=1694804566402.jpg/content/adobe-cms/br/pt/homepage/jcr:content/root/container/content_section_styl/content-section-body/block_card_container/container/card_1937905391/image\"></dds-image-item>\n",
       "    <dds-image-item media=\"(min-width: 481px)\" srcset=\"/content/dam/connectedassets-adobe-cms/worldwide-content/stock-assets/getty/image/photography/fe/64/universitychile0013846.component.card-s.ts=1694804566402.jpg/content/adobe-cms/br/pt/homepage/jcr:content/root/container/content_section_styl/content-section-body/block_card_container/container/card_1937905391/image\"></dds-image-item>\n",
       "    <dds-image-item media=\"(max-width: 480px) and (min-resolution: 192dpi)\" srcset=\"/content/dam/connectedassets-adobe-cms/worldwide-content/stock-assets/getty/image/photography/fe/64/universitychile0013846.component.card-xs-retina.ts=1694804566402.jpg/content/adobe-cms/br/pt/homepage/jcr:content/root/container/content_section_styl/content-section-body/block_card_container/container/card_1937905391/image\"></dds-image-item>\n",
       "    <dds-image-item media=\"(max-width: 480px)\" srcset=\"/content/dam/connectedassets-adobe-cms/worldwide-content/stock-assets/getty/image/photography/fe/64/universitychile0013846.component.card-xs.ts=1694804566402.jpg/content/adobe-cms/br/pt/homepage/jcr:content/root/container/content_section_styl/content-section-body/block_card_container/container/card_1937905391/image\"></dds-image-item>\n",
       "\n",
       "                    \n",
       "                \n",
       "            \n",
       "        </dds-image>\n",
       "    \n",
       "\n",
       "    \n",
       "\n",
       "\n",
       "\n",
       "                    \n",
       "                \n",
       "                <dds-card-eyebrow aria-hidden=\"true\" class=\"bx--card__eyebrow\" slot=\"eyebrow\">\n",
       "                    Treinamentos e qualificações\n",
       "                </dds-card-eyebrow>\n",
       "                <dds-card-heading aria-level=\"3\" class=\"bx--card__heading\" role=\"heading\" slot=\"heading\">\n",
       "                    Impulsione seu futuro na tecnologia com o desenvolvimento de habilidades profissionais, cursos e credenciais gratuitamente.\n",
       "                </dds-card-heading>\n",
       "                \n",
       "                <dds-card-cta-footer aria-hidden=\"true\" class=\"bx--card__footer-icon-size\" cta-type=\"external\" href=\"https://skillsbuild.org/pt-br\" icon-placement=\"right\" slot=\"footer\" target=\"_blank\">\n",
       "                    \n",
       "                    \n",
       "                </dds-card-cta-footer>\n",
       "            </dds-card-group-item>\n",
       "        \n",
       "    \n",
       "    \n",
       "\n",
       "\n",
       "\n",
       "\n",
       "    \n",
       "    \n",
       "    \n",
       "    \n",
       "        \n",
       "        \n",
       "            <dds-card-group-item cta-type=\"local\" href=\"https://www.ibm.com/impact\" pictogram-placement=\"top\" target=\"_self\">\n",
       "\n",
       "                \n",
       "                    \n",
       "                            \n",
       "\n",
       "\n",
       "\n",
       "\n",
       "    \n",
       "    \n",
       "        \n",
       "        \n",
       "        \n",
       "        \n",
       "        <dds-image alt=\"vista aérea de painéis solares alinhados em um campo\" default-src=\"/content/dam/connectedassets-adobe-cms/worldwide-content/stock-assets/getty/image/photography/54/74/dji_0758.component.card-xl.ts=1695236133573.jpg/content/adobe-cms/br/pt/homepage/jcr:content/root/container/content_section_styl/content-section-body/block_card_container/container/block_card/image\" id=\"image-468421047\" slot=\"image\">\n",
       "            \n",
       "            \n",
       "                \n",
       "                    \n",
       "    <dds-image-item media=\"(min-width: 1312px) and (min-resolution: 192dpi)\" srcset=\"/content/dam/connectedassets-adobe-cms/worldwide-content/stock-assets/getty/image/photography/54/74/dji_0758.component.card-xl-retina.ts=1695236133573.jpg/content/adobe-cms/br/pt/homepage/jcr:content/root/container/content_section_styl/content-section-body/block_card_container/container/block_card/image\"></dds-image-item>\n",
       "    <dds-image-item media=\"(min-width: 1312px)\" srcset=\"/content/dam/connectedassets-adobe-cms/worldwide-content/stock-assets/getty/image/photography/54/74/dji_0758.component.card-xl.ts=1695236133573.jpg/content/adobe-cms/br/pt/homepage/jcr:content/root/container/content_section_styl/content-section-body/block_card_container/container/block_card/image\"></dds-image-item>\n",
       "    <dds-image-item media=\"(min-width: 1056px) and (min-resolution: 192dpi)\" srcset=\"/content/dam/connectedassets-adobe-cms/worldwide-content/stock-assets/getty/image/photography/54/74/dji_0758.component.card-l-retina.ts=1695236133573.jpg/content/adobe-cms/br/pt/homepage/jcr:content/root/container/content_section_styl/content-section-body/block_card_container/container/block_card/image\"></dds-image-item>\n",
       "    <dds-image-item media=\"(min-width: 1056px)\" srcset=\"/content/dam/connectedassets-adobe-cms/worldwide-content/stock-assets/getty/image/photography/54/74/dji_0758.component.card-l.ts=1695236133573.jpg/content/adobe-cms/br/pt/homepage/jcr:content/root/container/content_section_styl/content-section-body/block_card_container/container/block_card/image\"></dds-image-item>\n",
       "    <dds-image-item media=\"(min-width: 672px) and (min-resolution: 192dpi)\" srcset=\"/content/dam/connectedassets-adobe-cms/worldwide-content/stock-assets/getty/image/photography/54/74/dji_0758.component.card-m-retina.ts=1695236133573.jpg/content/adobe-cms/br/pt/homepage/jcr:content/root/container/content_section_styl/content-section-body/block_card_container/container/block_card/image\"></dds-image-item>\n",
       "    <dds-image-item media=\"(min-width: 672px)\" srcset=\"/content/dam/connectedassets-adobe-cms/worldwide-content/stock-assets/getty/image/photography/54/74/dji_0758.component.card-m.ts=1695236133573.jpg/content/adobe-cms/br/pt/homepage/jcr:content/root/container/content_section_styl/content-section-body/block_card_container/container/block_card/image\"></dds-image-item>\n",
       "    <dds-image-item media=\"(min-width: 481px) and (min-resolution: 192dpi)\" srcset=\"/content/dam/connectedassets-adobe-cms/worldwide-content/stock-assets/getty/image/photography/54/74/dji_0758.component.card-s-retina.ts=1695236133573.jpg/content/adobe-cms/br/pt/homepage/jcr:content/root/container/content_section_styl/content-section-body/block_card_container/container/block_card/image\"></dds-image-item>\n",
       "    <dds-image-item media=\"(min-width: 481px)\" srcset=\"/content/dam/connectedassets-adobe-cms/worldwide-content/stock-assets/getty/image/photography/54/74/dji_0758.component.card-s.ts=1695236133573.jpg/content/adobe-cms/br/pt/homepage/jcr:content/root/container/content_section_styl/content-section-body/block_card_container/container/block_card/image\"></dds-image-item>\n",
       "    <dds-image-item media=\"(max-width: 480px) and (min-resolution: 192dpi)\" srcset=\"/content/dam/connectedassets-adobe-cms/worldwide-content/stock-assets/getty/image/photography/54/74/dji_0758.component.card-xs-retina.ts=1695236133573.jpg/content/adobe-cms/br/pt/homepage/jcr:content/root/container/content_section_styl/content-section-body/block_card_container/container/block_card/image\"></dds-image-item>\n",
       "    <dds-image-item media=\"(max-width: 480px)\" srcset=\"/content/dam/connectedassets-adobe-cms/worldwide-content/stock-assets/getty/image/photography/54/74/dji_0758.component.card-xs.ts=1695236133573.jpg/content/adobe-cms/br/pt/homepage/jcr:content/root/container/content_section_styl/content-section-body/block_card_container/container/block_card/image\"></dds-image-item>\n",
       "\n",
       "                    \n",
       "                \n",
       "            \n",
       "        </dds-image>\n",
       "    \n",
       "\n",
       "    \n",
       "\n",
       "\n",
       "\n",
       "                    \n",
       "                \n",
       "                <dds-card-eyebrow aria-hidden=\"true\" class=\"bx--card__eyebrow\" slot=\"eyebrow\">\n",
       "                    Responsabilidade social corporativa \n",
       "                </dds-card-eyebrow>\n",
       "                <dds-card-heading aria-level=\"3\" class=\"bx--card__heading\" role=\"heading\" slot=\"heading\">\n",
       "                    A IBM aspira criar um impacto positivo no mundo e nos lugares onde nós trabalhamos e vivemos\n",
       "                </dds-card-heading>\n",
       "                \n",
       "                <dds-card-cta-footer aria-hidden=\"true\" class=\"bx--card__footer-icon-size\" cta-type=\"local\" href=\"https://www.ibm.com/impact\" icon-placement=\"right\" slot=\"footer\" target=\"_self\">\n",
       "                    \n",
       "                    \n",
       "                </dds-card-cta-footer>\n",
       "            </dds-card-group-item>\n",
       "        \n",
       "    \n",
       "    \n",
       "\n",
       "\n",
       "\n",
       "\n",
       "\n",
       "\n",
       "\n",
       "            </dds-card-group>            \n",
       "\n",
       "            \n",
       "    \n",
       "    \n",
       "    \n",
       "    \n",
       "\n",
       "\n",
       "\n",
       "\n",
       "\n",
       "            \n",
       "    </dds-content-block-cards>\n",
       "    \n",
       "\n",
       "</div>\n",
       "\n",
       "        \n",
       "    </div>\n",
       "\n",
       "\n",
       "                            \n",
       "                        </div>\n",
       "                    </dds-video-container>\n",
       "                    \n",
       "                </div>\n",
       "            </div>\n",
       "        </div>\n",
       "    \n",
       "</div>\n",
       "\n",
       "        \n",
       "    </div>\n",
       "\n",
       "</div>\n",
       "<div class=\"container responsivegrid\">\n",
       "\n",
       "    \n",
       "    \n",
       "    \n",
       "    <div class=\"cmp-container\" id=\"container-61cefbf143\">\n",
       "        \n",
       "        \n",
       "        \n",
       "    </div>\n",
       "\n",
       "</div>\n",
       "<div class=\"footer\">\n",
       "\n",
       "\n",
       "\n",
       "\n",
       "    <dds-footer-container class=\"cmp-footer\" data-autoid=\"dds--footer\" data-children-count=\"0\" data-cmp-is=\"footer\" size=\"tall\"></dds-footer-container>\n",
       "\n",
       "\n",
       "</div>\n",
       "\n",
       "        \n",
       "    </div>\n",
       "\n",
       "</div>\n",
       "\n",
       "\n",
       "<dds-lightbox-video-player-container></dds-lightbox-video-player-container>\n",
       "    \n",
       "    \n",
       "    \n",
       "<script src=\"/etc.clientlibs/adobe-cms/clientlibs/clientlib-idlBundle.min.ACSHASHc2af6e6bb32e23adb0343926119b2e53.js\"></script>\n",
       "\n",
       "\n",
       "\n",
       "    \n",
       "\n",
       "    \n",
       "    \n",
       "<script src=\"/etc.clientlibs/adobe-cms/clientlibs/clientlib-target-antiflicker.min.ACSHASH36a1efb28e947b5873f4a28c2cf9d5eb.js\"></script>\n",
       "<script src=\"/etc.clientlibs/adobe-cms/clientlibs/clientlib-idlWebComponents.min.ACSHASH25963942b4300c81d16a2bb033eb232b.js\"></script>\n",
       "<script src=\"/etc.clientlibs/adobe-cms/clientlibs/clientlib-idlStyles.min.ACSHASHf3290158ae05752cc5e32eec78d7b36b.js\"></script>\n",
       "\n",
       "\n",
       "\n",
       "    <script defer=\"\" src=\"https://www.ibm.com/common/digitaladvisor/cm-app/latest/cm-app.min.js\"></script>\n",
       "    \n",
       "    \n",
       "\n",
       "\n",
       "    \n",
       "\n",
       "    \n",
       "\n",
       "    \n",
       "\n",
       "    \n",
       "\n",
       "\n",
       "<script src=\"/rFIsGi4tsm/Y4nd/s_2a8_/uiuzVwVk4S/fhE3IRYeBQ/AGNzPU/d8YG4B\" type=\"text/javascript\"></script><link href=\"/_sec/cp_challenge/sec-4-0.css\" rel=\"stylesheet\" type=\"text/css\"/>\n",
       "                                        <script async=\"\" defer=\"\" src=\"/_sec/cp_challenge/sec-cpt-4-0.js\"></script>\n",
       "                                        <div id=\"sec-overlay\" style=\"display:none;\">\n",
       "                                        <div id=\"sec-container\">\n",
       "                                        </div>\n",
       "                                      </div>\n",
       "</body></html>"
      ]
     },
     "execution_count": 52,
     "metadata": {},
     "output_type": "execute_result"
    }
   ],
   "source": [
    "soup = BeautifulSoup(data,\"html5lib\")  # create a soup object using the variable 'data'\n",
    "soup"
   ]
  },
  {
   "cell_type": "markdown",
   "id": "add38a60-3a59-4c97-9fc6-c6eacc0367ee",
   "metadata": {},
   "source": [
    "Scrape all links\n"
   ]
  },
  {
   "cell_type": "code",
   "execution_count": 53,
   "id": "f9846895-e50d-45e4-b88a-092864241378",
   "metadata": {},
   "outputs": [
    {
     "name": "stdout",
     "output_type": "stream",
     "text": [
      "https://www.ibm.com/br-pt/cloud?lnk=intro\n"
     ]
    }
   ],
   "source": [
    "for link in soup.find_all('a',href=True):  # in html anchor/link is represented by the tag <a>\n",
    "\n",
    "    print(link.get('href'))\n"
   ]
  },
  {
   "cell_type": "markdown",
   "id": "69f70bfc-f12f-4d39-a4bf-c910452515de",
   "metadata": {},
   "source": [
    "## Scrape  all images  Tags\n"
   ]
  },
  {
   "cell_type": "code",
   "execution_count": 54,
   "id": "6a19a6f1-60e8-4cf6-a3ae-5244039d405e",
   "metadata": {},
   "outputs": [
    {
     "name": "stdout",
     "output_type": "stream",
     "text": [
      "<img alt=\"Fotos de consultores da IBM\" class=\"bx--image__img\" id=\"image-1650413086\" loading=\"lazy\" src=\"/content/dam/adobe-cms/default-images/home-consultants.component.crop-16by9-xl.ts=1695226557679.jpg/content/adobe-cms/br/pt/homepage/_jcr_content/root/container/content_section_styl/content-section-body/simple_image\"/>\n",
      "/content/dam/adobe-cms/default-images/home-consultants.component.crop-16by9-xl.ts=1695226557679.jpg/content/adobe-cms/br/pt/homepage/_jcr_content/root/container/content_section_styl/content-section-body/simple_image\n"
     ]
    }
   ],
   "source": [
    "for link in soup.find_all('img'):# in html image is represented by the tag <img>\n",
    "    print(link)\n",
    "    print(link.get('src'))"
   ]
  },
  {
   "cell_type": "markdown",
   "id": "26d6240b-41bb-4622-8c8a-7d12c7ef5ec8",
   "metadata": {},
   "source": [
    "### Scrape data from HTML tables\n"
   ]
  },
  {
   "cell_type": "code",
   "execution_count": 55,
   "id": "1f025de2-77e6-498d-ba53-9200fdb87c07",
   "metadata": {},
   "outputs": [],
   "source": [
    "#The below url contains an html table with data about colors and color codes.\n",
    "url = \"https://cf-courses-data.s3.us.cloud-object-storage.appdomain.cloud/IBM-DA0321EN-SkillsNetwork/labs/datasets/HTMLColorCodes.html\""
   ]
  },
  {
   "cell_type": "markdown",
   "id": "e29b1358-ba06-40ad-87f8-da535a6e7e5f",
   "metadata": {},
   "source": [
    "Before proceeding to scrape a web site, you need to examine the contents and the way data is organized on the website. Open the above url in your browser and check how many rows and columns there are in the color table.\n"
   ]
  },
  {
   "cell_type": "code",
   "execution_count": 56,
   "id": "8fb9549d-17ba-4d00-91c1-1d217d0cf479",
   "metadata": {},
   "outputs": [],
   "source": [
    "# get the contents of the webpage in text format and store in a variable called data\n",
    "data  = requests.get(url).text"
   ]
  },
  {
   "cell_type": "code",
   "execution_count": 57,
   "id": "1a513a87-6a75-4419-a710-dea72269725e",
   "metadata": {},
   "outputs": [],
   "source": [
    "soup = BeautifulSoup(data,\"html5lib\")"
   ]
  },
  {
   "cell_type": "code",
   "execution_count": 58,
   "id": "4913f435-7352-4cc7-96bf-ad6f1ba1bc0e",
   "metadata": {},
   "outputs": [],
   "source": [
    "#find a html table in the web page\n",
    "table = soup.find('table') # in html table is represented by the tag <table>"
   ]
  },
  {
   "cell_type": "code",
   "execution_count": 59,
   "id": "381b085d-7642-44cb-8be4-f1a5fa6aedad",
   "metadata": {},
   "outputs": [
    {
     "name": "stdout",
     "output_type": "stream",
     "text": [
      "Color Name--->Hex Code#RRGGBB\n",
      "lightsalmon--->#FFA07A\n",
      "salmon--->#FA8072\n",
      "darksalmon--->#E9967A\n",
      "lightcoral--->#F08080\n",
      "coral--->#FF7F50\n",
      "tomato--->#FF6347\n",
      "orangered--->#FF4500\n",
      "gold--->#FFD700\n",
      "orange--->#FFA500\n",
      "darkorange--->#FF8C00\n",
      "lightyellow--->#FFFFE0\n",
      "lemonchiffon--->#FFFACD\n",
      "papayawhip--->#FFEFD5\n",
      "moccasin--->#FFE4B5\n",
      "peachpuff--->#FFDAB9\n",
      "palegoldenrod--->#EEE8AA\n",
      "khaki--->#F0E68C\n",
      "darkkhaki--->#BDB76B\n",
      "yellow--->#FFFF00\n",
      "lawngreen--->#7CFC00\n",
      "chartreuse--->#7FFF00\n",
      "limegreen--->#32CD32\n",
      "lime--->#00FF00\n",
      "forestgreen--->#228B22\n",
      "green--->#008000\n",
      "powderblue--->#B0E0E6\n",
      "lightblue--->#ADD8E6\n",
      "lightskyblue--->#87CEFA\n",
      "skyblue--->#87CEEB\n",
      "deepskyblue--->#00BFFF\n",
      "lightsteelblue--->#B0C4DE\n",
      "dodgerblue--->#1E90FF\n"
     ]
    }
   ],
   "source": [
    "#Get all rows from the table\n",
    "for row in table.find_all('tr'): # in html table row is represented by the tag <tr>\n",
    "    # Get all columns in each row.\n",
    "    cols = row.find_all('td') # in html a column is represented by the tag <td>\n",
    "    color_name = cols[2].string # store the value in column 3 as color_name\n",
    "    color_code = cols[3].text # store the value in column 4 as color_code\n",
    "    print(\"{}--->{}\".format(color_name,color_code))"
   ]
  },
  {
   "cell_type": "markdown",
   "id": "2cebce67-9842-4893-920e-11ae2846cfe4",
   "metadata": {},
   "source": [
    "## Authors\n"
   ]
  },
  {
   "cell_type": "markdown",
   "id": "0d5e0340-b356-4ca9-bdaf-a24de8d98c54",
   "metadata": {},
   "source": [
    "Ramesh Sannareddy\n"
   ]
  },
  {
   "cell_type": "markdown",
   "id": "3ab4eb5a-09ba-4f38-ab41-9c4b8a07b8cc",
   "metadata": {},
   "source": [
    "### Other Contributors\n"
   ]
  },
  {
   "cell_type": "markdown",
   "id": "b473f637-c10e-4f38-9de4-cdb6cdac694f",
   "metadata": {},
   "source": [
    "Rav Ahuja\n"
   ]
  },
  {
   "cell_type": "markdown",
   "id": "563810b9-65c8-4263-9cee-15d33ad99269",
   "metadata": {},
   "source": [
    "## Change Log\n"
   ]
  },
  {
   "cell_type": "markdown",
   "id": "8c849df3-b0b8-4fad-842b-a54da2ff8d77",
   "metadata": {},
   "source": [
    "| Date (YYYY-MM-DD) | Version | Changed By            |          Change Description         |\n",
    "| ----------------- | ------- | ----------------------| ----------------------------------- |\n",
    "| 2023-06-11        | 1.0     | Akansha Yadav         |   Spell check                       |\n",
    "| 2020-10-17        | 0.1     | Joseph Santarcangelo  |  Created initial version of the lab |\n"
   ]
  },
  {
   "cell_type": "markdown",
   "id": "6d01d509-bd6a-4a89-b8e5-eadf2860d3f7",
   "metadata": {},
   "source": [
    "Copyright © 2020 IBM Corporation. This notebook and its source code are released under the terms of the [MIT License](https://cognitiveclass.ai/mit-license/?utm_medium=Exinfluencer&utm_source=Exinfluencer&utm_content=000026UJ&utm_term=10006555&utm_id=NA-SkillsNetwork-Channel-SkillsNetworkCoursesIBMDeveloperSkillsNetworkPY0101ENSkillsNetwork19487395-2021-01-01).\n"
   ]
  }
 ],
 "metadata": {
  "kernelspec": {
   "display_name": "Python 3 (ipykernel)",
   "language": "python",
   "name": "python3"
  },
  "language_info": {
   "codemirror_mode": {
    "name": "ipython",
    "version": 3
   },
   "file_extension": ".py",
   "mimetype": "text/x-python",
   "name": "python",
   "nbconvert_exporter": "python",
   "pygments_lexer": "ipython3",
   "version": "3.10.12"
  }
 },
 "nbformat": 4,
 "nbformat_minor": 4
}
