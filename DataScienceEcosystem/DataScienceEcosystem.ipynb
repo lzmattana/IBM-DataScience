{
 "cells": [
  {
   "cell_type": "markdown",
   "id": "757b6bd0",
   "metadata": {},
   "source": [
    "# Data Science Tools and Ecosystem"
   ]
  },
  {
   "cell_type": "markdown",
   "id": "d4ef6a74",
   "metadata": {},
   "source": [
    "#### In this notebook, Data Science Tools and Ecosystem are summarized."
   ]
  },
  {
   "cell_type": "markdown",
   "id": "028b4094",
   "metadata": {},
   "source": [
    "**Objectives:**\n",
    "\n",
    "- List popular languages for Data Science.\n",
    "- Mention commonly used libraries in Data Science.\n",
    "- Introduce Data Science tools.\n",
    "- Provide examples of arithmetic expressions in Python.\n",
    "- Demonstrate unit conversion in Python.\n"
   ]
  },
  {
   "cell_type": "markdown",
   "id": "543ad074",
   "metadata": {},
   "source": [
    "#### Some of the popular languages that Data Scientists use are:\n",
    "    - Python\n",
    "    - R\n",
    "    - Julia"
   ]
  },
  {
   "cell_type": "markdown",
   "id": "3b108e08",
   "metadata": {},
   "source": [
    "### Some of the commonly used libraries used by Data Scientists include:\n",
    "    - Pandas\n",
    "    - NumPy\n",
    "    - Matplotlib"
   ]
  },
  {
   "cell_type": "markdown",
   "id": "40a11a24",
   "metadata": {},
   "source": [
    "### Data Science Tools\n",
    "\n",
    "| Tool              | Description                                     |\n",
    "|-------------------|-------------------------------------------------|\n",
    "| Jupyter Notebook  | An interactive computing environment for Python |\n",
    "| RStudio           | An integrated development environment for R     |\n",
    "| VS Code           | A popular code editor with Python support       |\n"
   ]
  },
  {
   "cell_type": "markdown",
   "id": "3d993daf",
   "metadata": {},
   "source": [
    "### Below are a few examples of evaluating arithmetic expressions in Python"
   ]
  },
  {
   "cell_type": "code",
   "execution_count": 2,
   "id": "cb932b75",
   "metadata": {},
   "outputs": [
    {
     "name": "stdout",
     "output_type": "stream",
     "text": [
      "17\n"
     ]
    }
   ],
   "source": [
    "# This a simple arithmetic expression to mutiply then add integers\n",
    "x = (3*4)+5\n",
    "print(x)"
   ]
  },
  {
   "cell_type": "code",
   "execution_count": 3,
   "id": "e7ede354",
   "metadata": {},
   "outputs": [
    {
     "name": "stdout",
     "output_type": "stream",
     "text": [
      "3.3333333333333335\n"
     ]
    }
   ],
   "source": [
    "# This will convert 200 minutes to hours by dividing by 60.\n",
    "hours = 200 / 60\n",
    "print(hours)"
   ]
  },
  {
   "cell_type": "markdown",
   "id": "e9c1c7c1",
   "metadata": {},
   "source": [
    "## Author:\n",
    "Leonardo Mattana"
   ]
  },
  {
   "cell_type": "code",
   "execution_count": null,
   "id": "c82a7b3d",
   "metadata": {},
   "outputs": [],
   "source": []
  }
 ],
 "metadata": {
  "kernelspec": {
   "display_name": "Python 3 (ipykernel)",
   "language": "python",
   "name": "python3"
  },
  "language_info": {
   "codemirror_mode": {
    "name": "ipython",
    "version": 3
   },
   "file_extension": ".py",
   "mimetype": "text/x-python",
   "name": "python",
   "nbconvert_exporter": "python",
   "pygments_lexer": "ipython3",
   "version": "3.10.12"
  }
 },
 "nbformat": 4,
 "nbformat_minor": 5
}
